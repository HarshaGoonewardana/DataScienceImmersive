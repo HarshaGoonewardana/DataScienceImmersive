{
 "cells": [
  {
   "cell_type": "code",
   "execution_count": 1,
   "metadata": {
    "scrolled": false
   },
   "outputs": [
    {
     "name": "stdout",
     "output_type": "stream",
     "text": [
      "Requirement already satisfied: pyLDAvis in /Users/admin/anaconda3/envs/dsi/lib/python3.6/site-packages (2.1.2)\n",
      "Requirement already satisfied: scipy>=0.18.0 in /Users/admin/anaconda3/envs/dsi/lib/python3.6/site-packages (from pyLDAvis) (1.1.0)\n",
      "Requirement already satisfied: jinja2>=2.7.2 in /Users/admin/anaconda3/envs/dsi/lib/python3.6/site-packages (from pyLDAvis) (2.10)\n",
      "Requirement already satisfied: numexpr in /Users/admin/anaconda3/envs/dsi/lib/python3.6/site-packages (from pyLDAvis) (2.6.5)\n",
      "Requirement already satisfied: pandas>=0.17.0 in /Users/admin/anaconda3/envs/dsi/lib/python3.6/site-packages (from pyLDAvis) (0.23.0)\n",
      "Requirement already satisfied: joblib>=0.8.4 in /Users/admin/anaconda3/envs/dsi/lib/python3.6/site-packages (from pyLDAvis) (0.11)\n",
      "Requirement already satisfied: numpy>=1.9.2 in /Users/admin/anaconda3/envs/dsi/lib/python3.6/site-packages (from pyLDAvis) (1.14.3)\n",
      "Requirement already satisfied: funcy in /Users/admin/anaconda3/envs/dsi/lib/python3.6/site-packages (from pyLDAvis) (1.10.2)\n",
      "Requirement already satisfied: future in /Users/admin/anaconda3/envs/dsi/lib/python3.6/site-packages (from pyLDAvis) (0.16.0)\n",
      "Requirement already satisfied: pytest in /Users/admin/anaconda3/envs/dsi/lib/python3.6/site-packages (from pyLDAvis) (3.6.1)\n",
      "Requirement already satisfied: wheel>=0.23.0 in /Users/admin/anaconda3/envs/dsi/lib/python3.6/site-packages (from pyLDAvis) (0.31.0)\n",
      "Requirement already satisfied: MarkupSafe>=0.23 in /Users/admin/anaconda3/envs/dsi/lib/python3.6/site-packages (from jinja2>=2.7.2->pyLDAvis) (1.0)\n",
      "Requirement already satisfied: python-dateutil>=2.5.0 in /Users/admin/anaconda3/envs/dsi/lib/python3.6/site-packages (from pandas>=0.17.0->pyLDAvis) (2.7.2)\n",
      "Requirement already satisfied: pytz>=2011k in /Users/admin/anaconda3/envs/dsi/lib/python3.6/site-packages (from pandas>=0.17.0->pyLDAvis) (2018.4)\n",
      "Requirement already satisfied: py>=1.5.0 in /Users/admin/anaconda3/envs/dsi/lib/python3.6/site-packages (from pytest->pyLDAvis) (1.5.3)\n",
      "Requirement already satisfied: six>=1.10.0 in /Users/admin/anaconda3/envs/dsi/lib/python3.6/site-packages (from pytest->pyLDAvis) (1.11.0)\n",
      "Requirement already satisfied: pluggy<0.7,>=0.5 in /Users/admin/anaconda3/envs/dsi/lib/python3.6/site-packages (from pytest->pyLDAvis) (0.6.0)\n",
      "Requirement already satisfied: setuptools in /Users/admin/anaconda3/envs/dsi/lib/python3.6/site-packages (from pytest->pyLDAvis) (39.0.1)\n",
      "Requirement already satisfied: attrs>=17.4.0 in /Users/admin/anaconda3/envs/dsi/lib/python3.6/site-packages (from pytest->pyLDAvis) (18.1.0)\n",
      "Requirement already satisfied: atomicwrites>=1.0 in /Users/admin/anaconda3/envs/dsi/lib/python3.6/site-packages (from pytest->pyLDAvis) (1.1.5)\n",
      "Requirement already satisfied: more-itertools>=4.0.0 in /Users/admin/anaconda3/envs/dsi/lib/python3.6/site-packages (from pytest->pyLDAvis) (4.2.0)\n"
     ]
    }
   ],
   "source": [
    "!pip install pyLDAvis"
   ]
  },
  {
   "cell_type": "code",
   "execution_count": 2,
   "metadata": {},
   "outputs": [],
   "source": [
    "\n",
    "import numpy as np\n",
    "\n",
    "# NLTK\n",
    "from nltk.tokenize import RegexpTokenizer\n",
    "from nltk.stem import PorterStemmer\n",
    "from nltk.corpus import stopwords\n",
    "import re\n",
    "\n",
    "# Visualization\n",
    "import matplotlib.pyplot as plt\n",
    "import matplotlib.patches as mpatches\n",
    "import matplotlib\n",
    "%matplotlib inline\n",
    "import seaborn as sns"
   ]
  },
  {
   "cell_type": "markdown",
   "metadata": {},
   "source": [
    "# Model 1: Food and Animals"
   ]
  },
  {
   "cell_type": "code",
   "execution_count": 3,
   "metadata": {},
   "outputs": [],
   "source": [
    "doc_1 = 'I like to eat broccoli and bananas.'\n",
    "doc_2 = 'I ate a banana and spinach smoothie for breakfast.'\n",
    "doc_3 = 'Chinchillas and kittens are cute.'\n",
    "doc_4 = 'My sister adopted a kitten yesterday.'\n",
    "doc_5 = 'Look at this cute hamster munching on a piece of broccoli.'"
   ]
  },
  {
   "cell_type": "markdown",
   "metadata": {},
   "source": [
    "## Step 1: Preprocess our text."
   ]
  },
  {
   "cell_type": "code",
   "execution_count": 4,
   "metadata": {},
   "outputs": [],
   "source": [
    "def text_process(text):\n",
    "    '''\n",
    "    Takes in a string of text, then performs the following:\n",
    "        1. Tokenizes and removes punctuation\n",
    "        2. Removes stopwords\n",
    "        3. Stems\n",
    "        4. Returns a list of the cleaned text\n",
    "    '''\n",
    "    if pd.isnull(text):\n",
    "        return []\n",
    "    # tokenizing and removing punctuation\n",
    "    tokenizer = RegexpTokenizer(r'\\w+')\n",
    "    text_processed=tokenizer.tokenize(text)\n",
    "    \n",
    "    # removing any stopwords\n",
    "    text_processed = [word.lower() for word in text_processed if word.lower() not in stopwords.words('english')]\n",
    "    \n",
    "    # stemming\n",
    "    porter_stemmer = PorterStemmer()\n",
    "    \n",
    "    text_processed = [porter_stemmer.stem(word) for word in text_processed]\n",
    "    \n",
    "    try:\n",
    "        text_processed.remove('b')\n",
    "    except: \n",
    "        pass\n",
    "\n",
    "    return text_processed ## <-- we're keeping our words distinct"
   ]
  },
  {
   "cell_type": "code",
   "execution_count": 5,
   "metadata": {},
   "outputs": [
    {
     "data": {
      "text/plain": [
       "['like', 'eat', 'broccoli', 'banana']"
      ]
     },
     "execution_count": 5,
     "metadata": {},
     "output_type": "execute_result"
    }
   ],
   "source": [
    "text_process(doc_1)"
   ]
  },
  {
   "cell_type": "code",
   "execution_count": 6,
   "metadata": {},
   "outputs": [],
   "source": [
    "texts = [text_process(doc_1),\n",
    "         text_process(doc_2),\n",
    "         text_process(doc_3),\n",
    "         text_process(doc_4),\n",
    "         text_process(doc_5)]"
   ]
  },
  {
   "cell_type": "code",
   "execution_count": 7,
   "metadata": {},
   "outputs": [
    {
     "data": {
      "text/plain": [
       "[['like', 'eat', 'broccoli', 'banana'],\n",
       " ['ate', 'banana', 'spinach', 'smoothi', 'breakfast'],\n",
       " ['chinchilla', 'kitten', 'cute'],\n",
       " ['sister', 'adopt', 'kitten', 'yesterday'],\n",
       " ['look', 'cute', 'hamster', 'munch', 'piec', 'broccoli']]"
      ]
     },
     "execution_count": 7,
     "metadata": {},
     "output_type": "execute_result"
    }
   ],
   "source": [
    "texts"
   ]
  },
  {
   "cell_type": "markdown",
   "metadata": {},
   "source": [
    "## Step 2: Fit LDA Model."
   ]
  },
  {
   "cell_type": "code",
   "execution_count": 8,
   "metadata": {},
   "outputs": [],
   "source": [
    "from gensim import corpora, models\n",
    "import pyLDAvis.gensim\n",
    "\n",
    "pyLDAvis.enable_notebook()\n",
    "\n",
    "np.random.seed(42)"
   ]
  },
  {
   "cell_type": "code",
   "execution_count": 9,
   "metadata": {},
   "outputs": [],
   "source": [
    "dictionary = corpora.Dictionary(texts)\n",
    "\n",
    "corpus = [dictionary.doc2bow(text) for text in texts]\n",
    "\n",
    "ldamodel = models.ldamodel.LdaModel(corpus,                     # pass in our corpus\n",
    "                                    id2word = dictionary,       # matches each word to its \"number\" or \"spot\" in the dictionary\n",
    "                                    num_topics = 2,             # number of topics T to find\n",
    "                                    passes = 5,                 # number of passes through corpus; similar to number of epochs\n",
    "                                    minimum_probability = 0.01) # only include topics above this probability threshold"
   ]
  },
  {
   "cell_type": "code",
   "execution_count": 10,
   "metadata": {},
   "outputs": [
    {
     "name": "stdout",
     "output_type": "stream",
     "text": [
      "[(0, 1), (1, 1), (2, 1), (3, 1)]\n",
      "[(0, 1), (4, 1), (5, 1), (6, 1), (7, 1)]\n",
      "[(8, 1), (9, 1), (10, 1)]\n",
      "[(10, 1), (11, 1), (12, 1), (13, 1)]\n",
      "[(1, 1), (9, 1), (14, 1), (15, 1), (16, 1), (17, 1)]\n"
     ]
    }
   ],
   "source": [
    "for text in texts:\n",
    "    print(dictionary.doc2bow(text))"
   ]
  },
  {
   "cell_type": "markdown",
   "metadata": {},
   "source": [
    "## Step 3: Visualize LDA model."
   ]
  },
  {
   "cell_type": "code",
   "execution_count": 11,
   "metadata": {},
   "outputs": [
    {
     "name": "stderr",
     "output_type": "stream",
     "text": [
      "/Users/admin/anaconda3/envs/dsi/lib/python3.6/site-packages/pyLDAvis/_prepare.py:257: FutureWarning: Sorting because non-concatenation axis is not aligned. A future version\n",
      "of pandas will change to not sort by default.\n",
      "\n",
      "To accept the future behavior, pass 'sort=True'.\n",
      "\n",
      "To retain the current behavior and silence the warning, pass sort=False\n",
      "\n",
      "  return pd.concat([default_term_info] + list(topic_dfs))\n"
     ]
    },
    {
     "data": {
      "text/html": [
       "\n",
       "<link rel=\"stylesheet\" type=\"text/css\" href=\"https://cdn.rawgit.com/bmabey/pyLDAvis/files/ldavis.v1.0.0.css\">\n",
       "\n",
       "\n",
       "<div id=\"ldavis_el112461121028921924985887800\"></div>\n",
       "<script type=\"text/javascript\">\n",
       "\n",
       "var ldavis_el112461121028921924985887800_data = {\"mdsDat\": {\"x\": [0.06405700743198393, -0.06405700743198393], \"y\": [0.0, 0.0], \"topics\": [1, 2], \"cluster\": [1, 1], \"Freq\": [57.160194396972656, 42.839805603027344]}, \"tinfo\": {\"Category\": [\"Default\", \"Default\", \"Default\", \"Default\", \"Default\", \"Default\", \"Default\", \"Default\", \"Default\", \"Default\", \"Default\", \"Default\", \"Default\", \"Default\", \"Default\", \"Default\", \"Default\", \"Default\", \"Topic1\", \"Topic1\", \"Topic1\", \"Topic1\", \"Topic1\", \"Topic1\", \"Topic1\", \"Topic1\", \"Topic1\", \"Topic1\", \"Topic1\", \"Topic1\", \"Topic1\", \"Topic1\", \"Topic1\", \"Topic1\", \"Topic1\", \"Topic1\", \"Topic2\", \"Topic2\", \"Topic2\", \"Topic2\", \"Topic2\", \"Topic2\", \"Topic2\", \"Topic2\", \"Topic2\", \"Topic2\", \"Topic2\", \"Topic2\", \"Topic2\", \"Topic2\", \"Topic2\", \"Topic2\", \"Topic2\", \"Topic2\"], \"Freq\": [1.0, 1.0, 1.0, 1.0, 1.0, 1.0, 1.0, 1.0, 1.0, 1.0, 1.0, 1.0, 1.0, 1.0, 1.0, 1.0, 1.0, 1.0, 1.4304518699645996, 1.4019286632537842, 0.8607455492019653, 0.8605117797851562, 0.8600791096687317, 0.8596594333648682, 0.8522782325744629, 0.8300655484199524, 0.8271540403366089, 0.8240121603012085, 0.8747377991676331, 0.3028775751590729, 0.30021870136260986, 0.297720342874527, 0.29636964201927185, 0.2962232232093811, 0.2946793735027313, 0.30553001165390015, 1.2768449783325195, 0.7698880434036255, 0.7685078978538513, 0.7683769464492798, 0.7671695351600647, 0.7649362087249756, 0.7625592350959778, 0.7680070996284485, 0.2966960370540619, 0.29388731718063354, 0.2912845313549042, 0.271427720785141, 0.2648293673992157, 0.2644542157649994, 0.26406750082969666, 0.26385846734046936, 0.29672980308532715, 0.27123191952705383], \"Term\": [\"banana\", \"ate\", \"breakfast\", \"spinach\", \"smoothi\", \"like\", \"eat\", \"cute\", \"kitten\", \"munch\", \"piec\", \"look\", \"hamster\", \"broccoli\", \"chinchilla\", \"adopt\", \"yesterday\", \"sister\", \"cute\", \"kitten\", \"munch\", \"piec\", \"look\", \"hamster\", \"chinchilla\", \"adopt\", \"yesterday\", \"sister\", \"broccoli\", \"eat\", \"like\", \"smoothi\", \"spinach\", \"breakfast\", \"ate\", \"banana\", \"banana\", \"ate\", \"breakfast\", \"spinach\", \"smoothi\", \"like\", \"eat\", \"broccoli\", \"sister\", \"yesterday\", \"adopt\", \"chinchilla\", \"hamster\", \"look\", \"piec\", \"munch\", \"kitten\", \"cute\"], \"Total\": [1.0, 1.0, 1.0, 1.0, 1.0, 1.0, 1.0, 1.0, 1.0, 1.0, 1.0, 1.0, 1.0, 1.0, 1.0, 1.0, 1.0, 1.0, 1.701683759689331, 1.6986584663391113, 1.1246039867401123, 1.1245793104171753, 1.1245332956314087, 1.1244888305664062, 1.1237059831619263, 1.1213500499725342, 1.1210412979125977, 1.1207082271575928, 1.6427448987960815, 1.065436840057373, 1.0651549100875854, 1.064889907836914, 1.064746618270874, 1.0647311210632324, 1.0645674467086792, 1.5823750495910645, 1.5823750495910645, 1.0645674467086792, 1.0647311210632324, 1.064746618270874, 1.064889907836914, 1.0651549100875854, 1.065436840057373, 1.6427448987960815, 1.1207082271575928, 1.1210412979125977, 1.1213500499725342, 1.1237059831619263, 1.1244888305664062, 1.1245332956314087, 1.1245793104171753, 1.1246039867401123, 1.6986584663391113, 1.701683759689331], \"loglift\": [18.0, 17.0, 16.0, 15.0, 14.0, 13.0, 12.0, 11.0, 10.0, 9.0, 8.0, 7.0, 6.0, 5.0, 4.0, 3.0, 2.0, 1.0, 0.385699987411499, 0.36730000376701355, 0.29190000891685486, 0.29170000553131104, 0.29120001196861267, 0.290800005197525, 0.28279998898506165, 0.25850000977516174, 0.25529998540878296, 0.251800000667572, -0.07090000063180923, -0.6984999775886536, -0.707099974155426, -0.7152000069618225, -0.7196000218391418, -0.7200999855995178, -0.7250999808311462, -1.0852999687194824, 0.6331999897956848, 0.5235999822616577, 0.5217000246047974, 0.5214999914169312, 0.5198000073432922, 0.5166000127792358, 0.5131999850273132, 0.08739999681711197, -0.4812999963760376, -0.491100013256073, -0.5002999901771545, -0.5730000138282776, -0.5982999801635742, -0.5997999906539917, -0.6013000011444092, -0.6021000146865845, -0.8970999717712402, -0.9886999726295471], \"logprob\": [18.0, 17.0, 16.0, 15.0, 14.0, 13.0, 12.0, 11.0, 10.0, 9.0, 8.0, 7.0, 6.0, 5.0, 4.0, 3.0, 2.0, 1.0, -2.1737000942230225, -2.1939001083374023, -2.6816999912261963, -2.681999921798706, -2.682499885559082, -2.6828999519348145, -2.6916000843048096, -2.7179999351501465, -2.7214999198913574, -2.7253000736236572, -2.665600061416626, -3.7262001037597656, -3.734999895095825, -3.743299961090088, -3.7479000091552734, -3.7483999729156494, -3.7535998821258545, -3.717400074005127, -1.998900055885315, -2.5048999786376953, -2.5065999031066895, -2.5067999362945557, -2.5083999633789062, -2.5113000869750977, -2.514400005340576, -2.5072999000549316, -3.458400011062622, -3.467900037765503, -3.476799964904785, -3.5473999977111816, -3.572000026702881, -3.5734000205993652, -3.574899911880493, -3.575700044631958, -3.4583001136779785, -3.548099994659424]}, \"token.table\": {\"Topic\": [1, 2, 2, 2, 1, 2, 1, 1, 2, 1, 1, 2, 1, 1, 1, 1, 2, 2, 1], \"Freq\": [0.8917821645736694, 0.9393486380577087, 0.6319614052772522, 0.9392042756080627, 0.6087372303009033, 0.6087372303009033, 0.889912486076355, 0.5876532793045044, 0.9385821223258972, 0.8892929553985596, 0.5886998772621155, 0.938830554485321, 0.8892577886581421, 0.8892018795013428, 0.8892214298248291, 0.8922929167747498, 0.9390642046928406, 0.9391905665397644, 0.8920277953147888], \"Term\": [\"adopt\", \"ate\", \"banana\", \"breakfast\", \"broccoli\", \"broccoli\", \"chinchilla\", \"cute\", \"eat\", \"hamster\", \"kitten\", \"like\", \"look\", \"munch\", \"piec\", \"sister\", \"smoothi\", \"spinach\", \"yesterday\"]}, \"R\": 18, \"lambda.step\": 0.01, \"plot.opts\": {\"xlab\": \"PC1\", \"ylab\": \"PC2\"}, \"topic.order\": [2, 1]};\n",
       "\n",
       "function LDAvis_load_lib(url, callback){\n",
       "  var s = document.createElement('script');\n",
       "  s.src = url;\n",
       "  s.async = true;\n",
       "  s.onreadystatechange = s.onload = callback;\n",
       "  s.onerror = function(){console.warn(\"failed to load library \" + url);};\n",
       "  document.getElementsByTagName(\"head\")[0].appendChild(s);\n",
       "}\n",
       "\n",
       "if(typeof(LDAvis) !== \"undefined\"){\n",
       "   // already loaded: just create the visualization\n",
       "   !function(LDAvis){\n",
       "       new LDAvis(\"#\" + \"ldavis_el112461121028921924985887800\", ldavis_el112461121028921924985887800_data);\n",
       "   }(LDAvis);\n",
       "}else if(typeof define === \"function\" && define.amd){\n",
       "   // require.js is available: use it to load d3/LDAvis\n",
       "   require.config({paths: {d3: \"https://cdnjs.cloudflare.com/ajax/libs/d3/3.5.5/d3.min\"}});\n",
       "   require([\"d3\"], function(d3){\n",
       "      window.d3 = d3;\n",
       "      LDAvis_load_lib(\"https://cdn.rawgit.com/bmabey/pyLDAvis/files/ldavis.v1.0.0.js\", function(){\n",
       "        new LDAvis(\"#\" + \"ldavis_el112461121028921924985887800\", ldavis_el112461121028921924985887800_data);\n",
       "      });\n",
       "    });\n",
       "}else{\n",
       "    // require.js not available: dynamically load d3 & LDAvis\n",
       "    LDAvis_load_lib(\"https://cdnjs.cloudflare.com/ajax/libs/d3/3.5.5/d3.min.js\", function(){\n",
       "         LDAvis_load_lib(\"https://cdn.rawgit.com/bmabey/pyLDAvis/files/ldavis.v1.0.0.js\", function(){\n",
       "                 new LDAvis(\"#\" + \"ldavis_el112461121028921924985887800\", ldavis_el112461121028921924985887800_data);\n",
       "            })\n",
       "         });\n",
       "}\n",
       "</script>"
      ],
      "text/plain": [
       "PreparedData(topic_coordinates=              x    y  topics  cluster       Freq\n",
       "topic                                           \n",
       "1      0.064057  0.0       1        1  57.160194\n",
       "0     -0.064057  0.0       2        1  42.839806, topic_info=     Category      Freq        Term     Total  loglift  logprob\n",
       "term                                                           \n",
       "0     Default  1.000000      banana  1.000000  18.0000  18.0000\n",
       "4     Default  1.000000         ate  1.000000  17.0000  17.0000\n",
       "5     Default  1.000000   breakfast  1.000000  16.0000  16.0000\n",
       "7     Default  1.000000     spinach  1.000000  15.0000  15.0000\n",
       "6     Default  1.000000     smoothi  1.000000  14.0000  14.0000\n",
       "3     Default  1.000000        like  1.000000  13.0000  13.0000\n",
       "2     Default  1.000000         eat  1.000000  12.0000  12.0000\n",
       "9     Default  1.000000        cute  1.000000  11.0000  11.0000\n",
       "10    Default  1.000000      kitten  1.000000  10.0000  10.0000\n",
       "16    Default  1.000000       munch  1.000000   9.0000   9.0000\n",
       "17    Default  1.000000        piec  1.000000   8.0000   8.0000\n",
       "15    Default  1.000000        look  1.000000   7.0000   7.0000\n",
       "14    Default  1.000000     hamster  1.000000   6.0000   6.0000\n",
       "1     Default  1.000000    broccoli  1.000000   5.0000   5.0000\n",
       "8     Default  1.000000  chinchilla  1.000000   4.0000   4.0000\n",
       "11    Default  1.000000       adopt  1.000000   3.0000   3.0000\n",
       "13    Default  1.000000   yesterday  1.000000   2.0000   2.0000\n",
       "12    Default  1.000000      sister  1.000000   1.0000   1.0000\n",
       "9      Topic1  1.430452        cute  1.701684   0.3857  -2.1737\n",
       "10     Topic1  1.401929      kitten  1.698658   0.3673  -2.1939\n",
       "16     Topic1  0.860746       munch  1.124604   0.2919  -2.6817\n",
       "17     Topic1  0.860512        piec  1.124579   0.2917  -2.6820\n",
       "15     Topic1  0.860079        look  1.124533   0.2912  -2.6825\n",
       "14     Topic1  0.859659     hamster  1.124489   0.2908  -2.6829\n",
       "8      Topic1  0.852278  chinchilla  1.123706   0.2828  -2.6916\n",
       "11     Topic1  0.830066       adopt  1.121350   0.2585  -2.7180\n",
       "13     Topic1  0.827154   yesterday  1.121041   0.2553  -2.7215\n",
       "12     Topic1  0.824012      sister  1.120708   0.2518  -2.7253\n",
       "1      Topic1  0.874738    broccoli  1.642745  -0.0709  -2.6656\n",
       "2      Topic1  0.302878         eat  1.065437  -0.6985  -3.7262\n",
       "3      Topic1  0.300219        like  1.065155  -0.7071  -3.7350\n",
       "6      Topic1  0.297720     smoothi  1.064890  -0.7152  -3.7433\n",
       "7      Topic1  0.296370     spinach  1.064747  -0.7196  -3.7479\n",
       "5      Topic1  0.296223   breakfast  1.064731  -0.7201  -3.7484\n",
       "4      Topic1  0.294679         ate  1.064567  -0.7251  -3.7536\n",
       "0      Topic1  0.305530      banana  1.582375  -1.0853  -3.7174\n",
       "0      Topic2  1.276845      banana  1.582375   0.6332  -1.9989\n",
       "4      Topic2  0.769888         ate  1.064567   0.5236  -2.5049\n",
       "5      Topic2  0.768508   breakfast  1.064731   0.5217  -2.5066\n",
       "7      Topic2  0.768377     spinach  1.064747   0.5215  -2.5068\n",
       "6      Topic2  0.767170     smoothi  1.064890   0.5198  -2.5084\n",
       "3      Topic2  0.764936        like  1.065155   0.5166  -2.5113\n",
       "2      Topic2  0.762559         eat  1.065437   0.5132  -2.5144\n",
       "1      Topic2  0.768007    broccoli  1.642745   0.0874  -2.5073\n",
       "12     Topic2  0.296696      sister  1.120708  -0.4813  -3.4584\n",
       "13     Topic2  0.293887   yesterday  1.121041  -0.4911  -3.4679\n",
       "11     Topic2  0.291285       adopt  1.121350  -0.5003  -3.4768\n",
       "8      Topic2  0.271428  chinchilla  1.123706  -0.5730  -3.5474\n",
       "14     Topic2  0.264829     hamster  1.124489  -0.5983  -3.5720\n",
       "15     Topic2  0.264454        look  1.124533  -0.5998  -3.5734\n",
       "17     Topic2  0.264068        piec  1.124579  -0.6013  -3.5749\n",
       "16     Topic2  0.263858       munch  1.124604  -0.6021  -3.5757\n",
       "10     Topic2  0.296730      kitten  1.698658  -0.8971  -3.4583\n",
       "9      Topic2  0.271232        cute  1.701684  -0.9887  -3.5481, token_table=      Topic      Freq        Term\n",
       "term                             \n",
       "11        1  0.891782       adopt\n",
       "4         2  0.939349         ate\n",
       "0         2  0.631961      banana\n",
       "5         2  0.939204   breakfast\n",
       "1         1  0.608737    broccoli\n",
       "1         2  0.608737    broccoli\n",
       "8         1  0.889912  chinchilla\n",
       "9         1  0.587653        cute\n",
       "2         2  0.938582         eat\n",
       "14        1  0.889293     hamster\n",
       "10        1  0.588700      kitten\n",
       "3         2  0.938831        like\n",
       "15        1  0.889258        look\n",
       "16        1  0.889202       munch\n",
       "17        1  0.889221        piec\n",
       "12        1  0.892293      sister\n",
       "6         2  0.939064     smoothi\n",
       "7         2  0.939191     spinach\n",
       "13        1  0.892028   yesterday, R=18, lambda_step=0.01, plot_opts={'xlab': 'PC1', 'ylab': 'PC2'}, topic_order=[2, 1])"
      ]
     },
     "execution_count": 11,
     "metadata": {},
     "output_type": "execute_result"
    }
   ],
   "source": [
    "pyLDAvis.gensim.prepare(ldamodel, corpus, dictionary)"
   ]
  },
  {
   "cell_type": "markdown",
   "metadata": {},
   "source": [
    "## Step 4: Update model with new data!"
   ]
  },
  {
   "cell_type": "code",
   "execution_count": 12,
   "metadata": {},
   "outputs": [],
   "source": [
    "doc_6 = 'That cat is so cute! It looks good enough to eat.'"
   ]
  },
  {
   "cell_type": "code",
   "execution_count": 13,
   "metadata": {},
   "outputs": [],
   "source": [
    "new_doc = text_process(doc_6)"
   ]
  },
  {
   "cell_type": "code",
   "execution_count": 14,
   "metadata": {},
   "outputs": [],
   "source": [
    "ldamodel.update([dictionary.doc2bow(new_doc)])"
   ]
  },
  {
   "cell_type": "code",
   "execution_count": 15,
   "metadata": {},
   "outputs": [
    {
     "name": "stderr",
     "output_type": "stream",
     "text": [
      "/Users/admin/anaconda3/envs/dsi/lib/python3.6/site-packages/pyLDAvis/_prepare.py:257: FutureWarning: Sorting because non-concatenation axis is not aligned. A future version\n",
      "of pandas will change to not sort by default.\n",
      "\n",
      "To accept the future behavior, pass 'sort=True'.\n",
      "\n",
      "To retain the current behavior and silence the warning, pass sort=False\n",
      "\n",
      "  return pd.concat([default_term_info] + list(topic_dfs))\n"
     ]
    },
    {
     "data": {
      "text/html": [
       "\n",
       "<link rel=\"stylesheet\" type=\"text/css\" href=\"https://cdn.rawgit.com/bmabey/pyLDAvis/files/ldavis.v1.0.0.css\">\n",
       "\n",
       "\n",
       "<div id=\"ldavis_el112461121028918321425920339\"></div>\n",
       "<script type=\"text/javascript\">\n",
       "\n",
       "var ldavis_el112461121028918321425920339_data = {\"mdsDat\": {\"x\": [0.05076118558645248, -0.05076118558645248], \"y\": [0.0, 0.0], \"topics\": [1, 2], \"cluster\": [1, 1], \"Freq\": [59.344154357910156, 40.65584182739258]}, \"tinfo\": {\"Category\": [\"Default\", \"Default\", \"Default\", \"Default\", \"Default\", \"Default\", \"Default\", \"Default\", \"Default\", \"Default\", \"Default\", \"Default\", \"Default\", \"Default\", \"Default\", \"Default\", \"Default\", \"Default\", \"Topic1\", \"Topic1\", \"Topic1\", \"Topic1\", \"Topic1\", \"Topic1\", \"Topic1\", \"Topic1\", \"Topic1\", \"Topic1\", \"Topic1\", \"Topic1\", \"Topic1\", \"Topic1\", \"Topic1\", \"Topic1\", \"Topic1\", \"Topic1\", \"Topic2\", \"Topic2\", \"Topic2\", \"Topic2\", \"Topic2\", \"Topic2\", \"Topic2\", \"Topic2\", \"Topic2\", \"Topic2\", \"Topic2\", \"Topic2\", \"Topic2\", \"Topic2\", \"Topic2\", \"Topic2\", \"Topic2\", \"Topic2\"], \"Freq\": [2.0, 2.0, 0.0, 3.0, 0.0, 0.0, 0.0, 0.0, 0.0, 0.0, 0.0, 0.0, 0.0, 0.0, 0.0, 0.0, 0.0, 0.0, 0.808617889881134, 0.6780412793159485, 0.6776858568191528, 0.67765212059021, 0.677341103553772, 0.6767658591270447, 0.6775568723678589, 0.5561615824699402, 0.5554381608963013, 0.5547677278518677, 0.549653172492981, 0.5479536652565002, 0.5477574467658997, 0.5477036237716675, 0.5561702847480774, 2.4715564250946045, 0.6655516028404236, 0.6293401718139648, 2.16403865814209, 2.1075589656829834, 1.5050146579742432, 0.26775386929512024, 0.22618034482002258, 0.2261623591184616, 0.22609688341617584, 0.22552984952926636, 0.22382348775863647, 0.22359982132911682, 0.22335846722126007, 0.2272551953792572, 0.18312080204486847, 0.18292886018753052, 0.18282510340213776, 0.1828138679265976, 0.18269525468349457, 0.1835288107395172], \"Term\": [\"cute\", \"look\", \"banana\", \"eat\", \"ate\", \"breakfast\", \"spinach\", \"smoothi\", \"like\", \"broccoli\", \"sister\", \"yesterday\", \"adopt\", \"chinchilla\", \"hamster\", \"piec\", \"munch\", \"kitten\", \"banana\", \"ate\", \"breakfast\", \"spinach\", \"smoothi\", \"like\", \"broccoli\", \"sister\", \"yesterday\", \"adopt\", \"chinchilla\", \"hamster\", \"piec\", \"munch\", \"kitten\", \"eat\", \"look\", \"cute\", \"cute\", \"look\", \"eat\", \"kitten\", \"munch\", \"piec\", \"hamster\", \"chinchilla\", \"adopt\", \"yesterday\", \"sister\", \"broccoli\", \"like\", \"smoothi\", \"spinach\", \"breakfast\", \"ate\", \"banana\"], \"Total\": [2.0, 2.0, 0.0, 3.0, 0.0, 0.0, 0.0, 0.0, 0.0, 0.0, 0.0, 0.0, 0.0, 0.0, 0.0, 0.0, 0.0, 0.0, 0.9921467304229736, 0.8607365489006042, 0.8604997396469116, 0.8604772090911865, 0.8602699637413025, 0.859886646270752, 0.9048120975494385, 0.7795200347900391, 0.7790379524230957, 0.7785912156105042, 0.7751830220222473, 0.7740505337715149, 0.7739198207855225, 0.7738839387893677, 0.82392418384552, 3.9765710830688477, 2.7731106281280518, 2.7933788299560547, 2.7933788299560547, 2.7731106281280518, 3.9765710830688477, 0.82392418384552, 0.7738839387893677, 0.7739198207855225, 0.7740505337715149, 0.7751830220222473, 0.7785912156105042, 0.7790379524230957, 0.7795200347900391, 0.9048120975494385, 0.859886646270752, 0.8602699637413025, 0.8604772090911865, 0.8604997396469116, 0.8607365489006042, 0.9921467304229736], \"loglift\": [18.0, 17.0, 16.0, 15.0, 14.0, 13.0, 12.0, 11.0, 10.0, 9.0, 8.0, 7.0, 6.0, 5.0, 4.0, 3.0, 2.0, 1.0, 0.3172999918460846, 0.2831999957561493, 0.28299999237060547, 0.28299999237060547, 0.2827000021934509, 0.2822999954223633, 0.23260000348091125, 0.1842000037431717, 0.1835000067949295, 0.18289999663829803, 0.17800000309944153, 0.17640000581741333, 0.1762000024318695, 0.1761000007390976, 0.12880000472068787, 0.04619999974966049, -0.9053000211715698, -0.968500018119812, 0.6448000073432922, 0.6255999803543091, -0.07159999758005142, -0.2240000069141388, -0.33009999990463257, -0.3301999866962433, -0.33059999346733093, -0.3346000015735626, -0.3465999960899353, -0.3481999933719635, -0.3499000072479248, -0.48159998655319214, -0.6466000080108643, -0.6481000185012817, -0.6488999724388123, -0.6489999890327454, -0.6499000191688538, -0.7875000238418579], \"logprob\": [18.0, 17.0, 16.0, 15.0, 14.0, 13.0, 12.0, 11.0, 10.0, 9.0, 8.0, 7.0, 6.0, 5.0, 4.0, 3.0, 2.0, 1.0, -2.7816998958587646, -2.9577999114990234, -2.9583001136779785, -2.9583001136779785, -2.9588000774383545, -2.959700107574463, -2.9584999084472656, -3.155900001525879, -3.1572000980377197, -3.158400058746338, -3.1677000522613525, -3.170799970626831, -3.171099901199341, -3.1712000370025635, -3.155900001525879, -1.6643999814987183, -2.9763998985290527, -3.0322999954223633, -1.4190000295639038, -1.4455000162124634, -1.7821999788284302, -3.508699893951416, -3.6774001121520996, -3.677500009536743, -3.677799940109253, -3.680299997329712, -3.6879000663757324, -3.6888999938964844, -3.690000057220459, -3.6726999282836914, -3.8886001110076904, -3.889699935913086, -3.890199899673462, -3.8903000354766846, -3.8910000324249268, -3.886399984359741]}, \"token.table\": {\"Topic\": [1, 1, 1, 1, 1, 1, 1, 2, 1, 2, 1, 1, 1, 1, 2, 1, 1, 1, 1, 1, 1], \"Freq\": [1.284371018409729, 1.1617956161499023, 1.0079153776168823, 1.162115454673767, 1.1052018404006958, 1.2900179624557495, 0.3579894006252289, 0.7159788012504578, 0.5029458403587341, 0.5029458403587341, 1.2919052839279175, 1.2137038707733154, 1.162943959236145, 0.3606058657169342, 0.7212117314338684, 1.2921833992004395, 1.292123556137085, 1.282840609550476, 1.1624257564544678, 1.1621458530426025, 1.2836345434188843], \"Term\": [\"adopt\", \"ate\", \"banana\", \"breakfast\", \"broccoli\", \"chinchilla\", \"cute\", \"cute\", \"eat\", \"eat\", \"hamster\", \"kitten\", \"like\", \"look\", \"look\", \"munch\", \"piec\", \"sister\", \"smoothi\", \"spinach\", \"yesterday\"]}, \"R\": 18, \"lambda.step\": 0.01, \"plot.opts\": {\"xlab\": \"PC1\", \"ylab\": \"PC2\"}, \"topic.order\": [1, 2]};\n",
       "\n",
       "function LDAvis_load_lib(url, callback){\n",
       "  var s = document.createElement('script');\n",
       "  s.src = url;\n",
       "  s.async = true;\n",
       "  s.onreadystatechange = s.onload = callback;\n",
       "  s.onerror = function(){console.warn(\"failed to load library \" + url);};\n",
       "  document.getElementsByTagName(\"head\")[0].appendChild(s);\n",
       "}\n",
       "\n",
       "if(typeof(LDAvis) !== \"undefined\"){\n",
       "   // already loaded: just create the visualization\n",
       "   !function(LDAvis){\n",
       "       new LDAvis(\"#\" + \"ldavis_el112461121028918321425920339\", ldavis_el112461121028918321425920339_data);\n",
       "   }(LDAvis);\n",
       "}else if(typeof define === \"function\" && define.amd){\n",
       "   // require.js is available: use it to load d3/LDAvis\n",
       "   require.config({paths: {d3: \"https://cdnjs.cloudflare.com/ajax/libs/d3/3.5.5/d3.min\"}});\n",
       "   require([\"d3\"], function(d3){\n",
       "      window.d3 = d3;\n",
       "      LDAvis_load_lib(\"https://cdn.rawgit.com/bmabey/pyLDAvis/files/ldavis.v1.0.0.js\", function(){\n",
       "        new LDAvis(\"#\" + \"ldavis_el112461121028918321425920339\", ldavis_el112461121028918321425920339_data);\n",
       "      });\n",
       "    });\n",
       "}else{\n",
       "    // require.js not available: dynamically load d3 & LDAvis\n",
       "    LDAvis_load_lib(\"https://cdnjs.cloudflare.com/ajax/libs/d3/3.5.5/d3.min.js\", function(){\n",
       "         LDAvis_load_lib(\"https://cdn.rawgit.com/bmabey/pyLDAvis/files/ldavis.v1.0.0.js\", function(){\n",
       "                 new LDAvis(\"#\" + \"ldavis_el112461121028918321425920339\", ldavis_el112461121028918321425920339_data);\n",
       "            })\n",
       "         });\n",
       "}\n",
       "</script>"
      ],
      "text/plain": [
       "PreparedData(topic_coordinates=              x    y  topics  cluster       Freq\n",
       "topic                                           \n",
       "0      0.050761  0.0       1        1  59.344154\n",
       "1     -0.050761  0.0       2        1  40.655842, topic_info=     Category      Freq        Term     Total  loglift  logprob\n",
       "term                                                           \n",
       "9     Default  2.000000        cute  2.000000  18.0000  18.0000\n",
       "15    Default  2.000000        look  2.000000  17.0000  17.0000\n",
       "0     Default  0.000000      banana  0.000000  16.0000  16.0000\n",
       "2     Default  3.000000         eat  3.000000  15.0000  15.0000\n",
       "4     Default  0.000000         ate  0.000000  14.0000  14.0000\n",
       "5     Default  0.000000   breakfast  0.000000  13.0000  13.0000\n",
       "7     Default  0.000000     spinach  0.000000  12.0000  12.0000\n",
       "6     Default  0.000000     smoothi  0.000000  11.0000  11.0000\n",
       "3     Default  0.000000        like  0.000000  10.0000  10.0000\n",
       "1     Default  0.000000    broccoli  0.000000   9.0000   9.0000\n",
       "12    Default  0.000000      sister  0.000000   8.0000   8.0000\n",
       "13    Default  0.000000   yesterday  0.000000   7.0000   7.0000\n",
       "11    Default  0.000000       adopt  0.000000   6.0000   6.0000\n",
       "8     Default  0.000000  chinchilla  0.000000   5.0000   5.0000\n",
       "14    Default  0.000000     hamster  0.000000   4.0000   4.0000\n",
       "17    Default  0.000000        piec  0.000000   3.0000   3.0000\n",
       "16    Default  0.000000       munch  0.000000   2.0000   2.0000\n",
       "10    Default  0.000000      kitten  0.000000   1.0000   1.0000\n",
       "0      Topic1  0.808618      banana  0.992147   0.3173  -2.7817\n",
       "4      Topic1  0.678041         ate  0.860737   0.2832  -2.9578\n",
       "5      Topic1  0.677686   breakfast  0.860500   0.2830  -2.9583\n",
       "7      Topic1  0.677652     spinach  0.860477   0.2830  -2.9583\n",
       "6      Topic1  0.677341     smoothi  0.860270   0.2827  -2.9588\n",
       "3      Topic1  0.676766        like  0.859887   0.2823  -2.9597\n",
       "1      Topic1  0.677557    broccoli  0.904812   0.2326  -2.9585\n",
       "12     Topic1  0.556162      sister  0.779520   0.1842  -3.1559\n",
       "13     Topic1  0.555438   yesterday  0.779038   0.1835  -3.1572\n",
       "11     Topic1  0.554768       adopt  0.778591   0.1829  -3.1584\n",
       "8      Topic1  0.549653  chinchilla  0.775183   0.1780  -3.1677\n",
       "14     Topic1  0.547954     hamster  0.774051   0.1764  -3.1708\n",
       "17     Topic1  0.547757        piec  0.773920   0.1762  -3.1711\n",
       "16     Topic1  0.547704       munch  0.773884   0.1761  -3.1712\n",
       "10     Topic1  0.556170      kitten  0.823924   0.1288  -3.1559\n",
       "2      Topic1  2.471556         eat  3.976571   0.0462  -1.6644\n",
       "15     Topic1  0.665552        look  2.773111  -0.9053  -2.9764\n",
       "9      Topic1  0.629340        cute  2.793379  -0.9685  -3.0323\n",
       "9      Topic2  2.164039        cute  2.793379   0.6448  -1.4190\n",
       "15     Topic2  2.107559        look  2.773111   0.6256  -1.4455\n",
       "2      Topic2  1.505015         eat  3.976571  -0.0716  -1.7822\n",
       "10     Topic2  0.267754      kitten  0.823924  -0.2240  -3.5087\n",
       "16     Topic2  0.226180       munch  0.773884  -0.3301  -3.6774\n",
       "17     Topic2  0.226162        piec  0.773920  -0.3302  -3.6775\n",
       "14     Topic2  0.226097     hamster  0.774051  -0.3306  -3.6778\n",
       "8      Topic2  0.225530  chinchilla  0.775183  -0.3346  -3.6803\n",
       "11     Topic2  0.223823       adopt  0.778591  -0.3466  -3.6879\n",
       "13     Topic2  0.223600   yesterday  0.779038  -0.3482  -3.6889\n",
       "12     Topic2  0.223358      sister  0.779520  -0.3499  -3.6900\n",
       "1      Topic2  0.227255    broccoli  0.904812  -0.4816  -3.6727\n",
       "3      Topic2  0.183121        like  0.859887  -0.6466  -3.8886\n",
       "6      Topic2  0.182929     smoothi  0.860270  -0.6481  -3.8897\n",
       "7      Topic2  0.182825     spinach  0.860477  -0.6489  -3.8902\n",
       "5      Topic2  0.182814   breakfast  0.860500  -0.6490  -3.8903\n",
       "4      Topic2  0.182695         ate  0.860737  -0.6499  -3.8910\n",
       "0      Topic2  0.183529      banana  0.992147  -0.7875  -3.8864, token_table=      Topic      Freq        Term\n",
       "term                             \n",
       "11        1  1.284371       adopt\n",
       "4         1  1.161796         ate\n",
       "0         1  1.007915      banana\n",
       "5         1  1.162115   breakfast\n",
       "1         1  1.105202    broccoli\n",
       "8         1  1.290018  chinchilla\n",
       "9         1  0.357989        cute\n",
       "9         2  0.715979        cute\n",
       "2         1  0.502946         eat\n",
       "2         2  0.502946         eat\n",
       "14        1  1.291905     hamster\n",
       "10        1  1.213704      kitten\n",
       "3         1  1.162944        like\n",
       "15        1  0.360606        look\n",
       "15        2  0.721212        look\n",
       "16        1  1.292183       munch\n",
       "17        1  1.292124        piec\n",
       "12        1  1.282841      sister\n",
       "6         1  1.162426     smoothi\n",
       "7         1  1.162146     spinach\n",
       "13        1  1.283635   yesterday, R=18, lambda_step=0.01, plot_opts={'xlab': 'PC1', 'ylab': 'PC2'}, topic_order=[1, 2])"
      ]
     },
     "execution_count": 15,
     "metadata": {},
     "output_type": "execute_result"
    }
   ],
   "source": [
    "pyLDAvis.gensim.prepare(ldamodel, corpus, dictionary)"
   ]
  },
  {
   "cell_type": "markdown",
   "metadata": {},
   "source": [
    "# Model 2: Yelp Reviews"
   ]
  },
  {
   "cell_type": "code",
   "execution_count": 16,
   "metadata": {},
   "outputs": [],
   "source": [
    "review = pd.read_json(\"../yelp_academic_dataset_review.json\")"
   ]
  },
  {
   "cell_type": "code",
   "execution_count": 17,
   "metadata": {},
   "outputs": [
    {
     "data": {
      "text/html": [
       "<div>\n",
       "<style scoped>\n",
       "    .dataframe tbody tr th:only-of-type {\n",
       "        vertical-align: middle;\n",
       "    }\n",
       "\n",
       "    .dataframe tbody tr th {\n",
       "        vertical-align: top;\n",
       "    }\n",
       "\n",
       "    .dataframe thead th {\n",
       "        text-align: right;\n",
       "    }\n",
       "</style>\n",
       "<table border=\"1\" class=\"dataframe\">\n",
       "  <thead>\n",
       "    <tr style=\"text-align: right;\">\n",
       "      <th></th>\n",
       "      <th>business_id</th>\n",
       "      <th>date</th>\n",
       "      <th>review_id</th>\n",
       "      <th>stars</th>\n",
       "      <th>text</th>\n",
       "      <th>type</th>\n",
       "      <th>user_id</th>\n",
       "      <th>votes</th>\n",
       "    </tr>\n",
       "  </thead>\n",
       "  <tbody>\n",
       "    <tr>\n",
       "      <th>0</th>\n",
       "      <td>9yKzy9PApeiPPOUJEtnvkg</td>\n",
       "      <td>2011-01-26</td>\n",
       "      <td>fWKvX83p0-ka4JS3dc6E5A</td>\n",
       "      <td>5</td>\n",
       "      <td>My wife took me here on my birthday for breakf...</td>\n",
       "      <td>review</td>\n",
       "      <td>rLtl8ZkDX5vH5nAx9C3q5Q</td>\n",
       "      <td>{'funny': 0, 'useful': 5, 'cool': 2}</td>\n",
       "    </tr>\n",
       "    <tr>\n",
       "      <th>1</th>\n",
       "      <td>ZRJwVLyzEJq1VAihDhYiow</td>\n",
       "      <td>2011-07-27</td>\n",
       "      <td>IjZ33sJrzXqU-0X6U8NwyA</td>\n",
       "      <td>5</td>\n",
       "      <td>I have no idea why some people give bad review...</td>\n",
       "      <td>review</td>\n",
       "      <td>0a2KyEL0d3Yb1V6aivbIuQ</td>\n",
       "      <td>{'funny': 0, 'useful': 0, 'cool': 0}</td>\n",
       "    </tr>\n",
       "    <tr>\n",
       "      <th>10</th>\n",
       "      <td>AsSCv0q_BWqIe3mX2JqsOQ</td>\n",
       "      <td>2010-06-16</td>\n",
       "      <td>E11jzpKz9Kw5K7fuARWfRw</td>\n",
       "      <td>5</td>\n",
       "      <td>The oldish man who owns the store is as sweet ...</td>\n",
       "      <td>review</td>\n",
       "      <td>-OMlS6yWkYjVldNhC31wYg</td>\n",
       "      <td>{'funny': 1, 'useful': 3, 'cool': 1}</td>\n",
       "    </tr>\n",
       "    <tr>\n",
       "      <th>100</th>\n",
       "      <td>CrBsdxqOjPdnfsDxV89GJQ</td>\n",
       "      <td>2010-02-17</td>\n",
       "      <td>SmUMyCUNrT9HEo_DXdgUuQ</td>\n",
       "      <td>4</td>\n",
       "      <td>I have to admit that I find myself thinking th...</td>\n",
       "      <td>review</td>\n",
       "      <td>bZFRqP7s0Vszxeu8_IwYow</td>\n",
       "      <td>{'funny': 0, 'useful': 1, 'cool': 0}</td>\n",
       "    </tr>\n",
       "    <tr>\n",
       "      <th>1000</th>\n",
       "      <td>vfLog2bLJGl6hAFtGtr0GQ</td>\n",
       "      <td>2012-10-30</td>\n",
       "      <td>bmsk5foqmcBgQ_pylNDpCw</td>\n",
       "      <td>4</td>\n",
       "      <td>Great atmosphere with interesting lights (look...</td>\n",
       "      <td>review</td>\n",
       "      <td>3ltazFFclBfchSYlctX6iA</td>\n",
       "      <td>{'funny': 0, 'useful': 0, 'cool': 0}</td>\n",
       "    </tr>\n",
       "  </tbody>\n",
       "</table>\n",
       "</div>"
      ],
      "text/plain": [
       "                 business_id       date               review_id  stars  \\\n",
       "0     9yKzy9PApeiPPOUJEtnvkg 2011-01-26  fWKvX83p0-ka4JS3dc6E5A      5   \n",
       "1     ZRJwVLyzEJq1VAihDhYiow 2011-07-27  IjZ33sJrzXqU-0X6U8NwyA      5   \n",
       "10    AsSCv0q_BWqIe3mX2JqsOQ 2010-06-16  E11jzpKz9Kw5K7fuARWfRw      5   \n",
       "100   CrBsdxqOjPdnfsDxV89GJQ 2010-02-17  SmUMyCUNrT9HEo_DXdgUuQ      4   \n",
       "1000  vfLog2bLJGl6hAFtGtr0GQ 2012-10-30  bmsk5foqmcBgQ_pylNDpCw      4   \n",
       "\n",
       "                                                   text    type  \\\n",
       "0     My wife took me here on my birthday for breakf...  review   \n",
       "1     I have no idea why some people give bad review...  review   \n",
       "10    The oldish man who owns the store is as sweet ...  review   \n",
       "100   I have to admit that I find myself thinking th...  review   \n",
       "1000  Great atmosphere with interesting lights (look...  review   \n",
       "\n",
       "                     user_id                                 votes  \n",
       "0     rLtl8ZkDX5vH5nAx9C3q5Q  {'funny': 0, 'useful': 5, 'cool': 2}  \n",
       "1     0a2KyEL0d3Yb1V6aivbIuQ  {'funny': 0, 'useful': 0, 'cool': 0}  \n",
       "10    -OMlS6yWkYjVldNhC31wYg  {'funny': 1, 'useful': 3, 'cool': 1}  \n",
       "100   bZFRqP7s0Vszxeu8_IwYow  {'funny': 0, 'useful': 1, 'cool': 0}  \n",
       "1000  3ltazFFclBfchSYlctX6iA  {'funny': 0, 'useful': 0, 'cool': 0}  "
      ]
     },
     "execution_count": 17,
     "metadata": {},
     "output_type": "execute_result"
    }
   ],
   "source": [
    "review.head()"
   ]
  },
  {
   "cell_type": "code",
   "execution_count": 18,
   "metadata": {},
   "outputs": [
    {
     "data": {
      "text/plain": [
       "(229907, 8)"
      ]
     },
     "execution_count": 18,
     "metadata": {},
     "output_type": "execute_result"
    }
   ],
   "source": [
    "review.shape"
   ]
  },
  {
   "cell_type": "code",
   "execution_count": 19,
   "metadata": {},
   "outputs": [],
   "source": [
    "texts = []"
   ]
  },
  {
   "cell_type": "code",
   "execution_count": 20,
   "metadata": {},
   "outputs": [],
   "source": [
    "import time"
   ]
  },
  {
   "cell_type": "code",
   "execution_count": 21,
   "metadata": {},
   "outputs": [
    {
     "name": "stdout",
     "output_type": "stream",
     "text": [
      "Iteration 0\n",
      "0.000324249267578125 seconds elapsed.\n",
      "Iteration 1000\n",
      "25.63820219039917 seconds elapsed.\n",
      "Iteration 2000\n",
      "52.177359104156494 seconds elapsed.\n",
      "Iteration 3000\n",
      "79.06812024116516 seconds elapsed.\n",
      "Iteration 4000\n",
      "105.75904703140259 seconds elapsed.\n",
      "Iteration 5000\n",
      "131.3081660270691 seconds elapsed.\n",
      "Iteration 6000\n",
      "159.84377312660217 seconds elapsed.\n",
      "Iteration 7000\n",
      "188.4672031402588 seconds elapsed.\n",
      "Iteration 8000\n",
      "216.40954208374023 seconds elapsed.\n",
      "Iteration 9000\n",
      "245.6086630821228 seconds elapsed.\n"
     ]
    }
   ],
   "source": [
    "t0 = time.time()\n",
    "\n",
    "for i in range(10000):\n",
    "    if i % 1000 == 0:\n",
    "        print(\"Iteration {}\".format(i))\n",
    "        print(str(time.time() - t0) + \" seconds elapsed.\")\n",
    "    texts.append(text_process(review.loc[i, 'text']))"
   ]
  },
  {
   "cell_type": "code",
   "execution_count": 22,
   "metadata": {},
   "outputs": [
    {
     "data": {
      "text/plain": [
       "['wife',\n",
       " 'took',\n",
       " 'birthday',\n",
       " 'breakfast',\n",
       " 'excel',\n",
       " 'weather',\n",
       " 'perfect',\n",
       " 'made',\n",
       " 'sit',\n",
       " 'outsid',\n",
       " 'overlook',\n",
       " 'ground',\n",
       " 'absolut',\n",
       " 'pleasur',\n",
       " 'waitress',\n",
       " 'excel',\n",
       " 'food',\n",
       " 'arriv',\n",
       " 'quickli',\n",
       " 'semi',\n",
       " 'busi',\n",
       " 'saturday',\n",
       " 'morn',\n",
       " 'look',\n",
       " 'like',\n",
       " 'place',\n",
       " 'fill',\n",
       " 'pretti',\n",
       " 'quickli',\n",
       " 'earlier',\n",
       " 'get',\n",
       " 'better',\n",
       " 'favor',\n",
       " 'get',\n",
       " 'bloodi',\n",
       " 'mari',\n",
       " 'phenomen',\n",
       " 'simpli',\n",
       " 'best',\n",
       " 'ever',\n",
       " 'pretti',\n",
       " 'sure',\n",
       " 'use',\n",
       " 'ingredi',\n",
       " 'garden',\n",
       " 'blend',\n",
       " 'fresh',\n",
       " 'order',\n",
       " 'amaz',\n",
       " 'everyth',\n",
       " 'menu',\n",
       " 'look',\n",
       " 'excel',\n",
       " 'white',\n",
       " 'truffl',\n",
       " 'scrambl',\n",
       " 'egg',\n",
       " 'veget',\n",
       " 'skillet',\n",
       " 'tasti',\n",
       " 'delici',\n",
       " 'came',\n",
       " '2',\n",
       " 'piec',\n",
       " 'griddl',\n",
       " 'bread',\n",
       " 'amaz',\n",
       " 'absolut',\n",
       " 'made',\n",
       " 'meal',\n",
       " 'complet',\n",
       " 'best',\n",
       " 'toast',\n",
       " 'ever',\n",
       " 'anyway',\n",
       " 'wait',\n",
       " 'go',\n",
       " 'back']"
      ]
     },
     "execution_count": 22,
     "metadata": {},
     "output_type": "execute_result"
    }
   ],
   "source": [
    "texts[0]"
   ]
  },
  {
   "cell_type": "code",
   "execution_count": 26,
   "metadata": {},
   "outputs": [],
   "source": [
    "dictionary = corpora.Dictionary(texts)\n",
    "\n",
    "corpus = [dictionary.doc2bow(text) for text in texts]\n",
    "\n",
    "ldamodel = models.ldamodel.LdaModel(corpus,                     # pass in our corpus\n",
    "                                    id2word = dictionary,       # matches each word to its \"number\" or \"spot\" in the dictionary\n",
    "                                    num_topics = 10,            # number of topics T to find\n",
    "                                    passes = 5,                 # number of passes through corpus; similar to number of epochs\n",
    "                                    minimum_probability = 0.01) # only include topics above this probability threshold"
   ]
  },
  {
   "cell_type": "code",
   "execution_count": 27,
   "metadata": {
    "scrolled": false
   },
   "outputs": [
    {
     "name": "stderr",
     "output_type": "stream",
     "text": [
      "/Users/admin/anaconda3/envs/dsi/lib/python3.6/site-packages/pyLDAvis/_prepare.py:257: FutureWarning: Sorting because non-concatenation axis is not aligned. A future version\n",
      "of pandas will change to not sort by default.\n",
      "\n",
      "To accept the future behavior, pass 'sort=True'.\n",
      "\n",
      "To retain the current behavior and silence the warning, pass sort=False\n",
      "\n",
      "  return pd.concat([default_term_info] + list(topic_dfs))\n"
     ]
    },
    {
     "data": {
      "text/html": [
       "\n",
       "<link rel=\"stylesheet\" type=\"text/css\" href=\"https://cdn.rawgit.com/bmabey/pyLDAvis/files/ldavis.v1.0.0.css\">\n",
       "\n",
       "\n",
       "<div id=\"ldavis_el11246112112033008753456054\"></div>\n",
       "<script type=\"text/javascript\">\n",
       "\n",
       "var ldavis_el11246112112033008753456054_data = {\"mdsDat\": {\"x\": [-0.10560314256037895, -0.0929195065198651, -0.003669350527728778, -0.036074397566291, -0.08212399437859323, -0.032859096996982015, -0.03261030479202858, -0.08455063776903753, 0.26848883640322446, 0.20192159470768087], \"y\": [-0.07434722275378432, -0.06115339248435909, 0.05949187846853487, 0.021827565530736108, 0.0865860273993362, 0.07332100184799248, 0.0346306383862906, -0.05921291764640882, 0.1427066535641256, -0.22385023231246368], \"topics\": [1, 2, 3, 4, 5, 6, 7, 8, 9, 10], \"cluster\": [1, 1, 1, 1, 1, 1, 1, 1, 1, 1], \"Freq\": [23.686241149902344, 15.62020206451416, 10.977431297302246, 10.958612442016602, 10.77864933013916, 9.755376815795898, 9.21570873260498, 5.691893100738525, 1.7325712442398071, 1.5833158493041992]}, \"tinfo\": {\"Category\": [\"Default\", \"Default\", \"Default\", \"Default\", \"Default\", \"Default\", \"Default\", \"Default\", \"Default\", \"Default\", \"Default\", \"Default\", \"Default\", \"Default\", \"Default\", \"Default\", \"Default\", \"Default\", \"Default\", \"Default\", \"Default\", \"Default\", \"Default\", \"Default\", \"Default\", \"Default\", \"Default\", \"Default\", \"Default\", \"Default\", \"Topic1\", \"Topic1\", \"Topic1\", \"Topic1\", \"Topic1\", \"Topic1\", \"Topic1\", \"Topic1\", \"Topic1\", \"Topic1\", \"Topic1\", \"Topic1\", \"Topic1\", \"Topic1\", \"Topic1\", \"Topic1\", \"Topic1\", \"Topic1\", \"Topic1\", \"Topic1\", \"Topic1\", \"Topic1\", \"Topic1\", \"Topic1\", \"Topic1\", \"Topic1\", \"Topic1\", \"Topic1\", \"Topic1\", \"Topic1\", \"Topic1\", \"Topic1\", \"Topic1\", \"Topic1\", \"Topic1\", \"Topic1\", \"Topic1\", \"Topic1\", \"Topic1\", \"Topic1\", \"Topic1\", \"Topic1\", \"Topic1\", \"Topic1\", \"Topic1\", \"Topic1\", \"Topic1\", \"Topic1\", \"Topic1\", \"Topic1\", \"Topic1\", \"Topic1\", \"Topic1\", \"Topic1\", \"Topic1\", \"Topic1\", \"Topic1\", \"Topic1\", \"Topic1\", \"Topic1\", \"Topic1\", \"Topic1\", \"Topic1\", \"Topic1\", \"Topic1\", \"Topic1\", \"Topic1\", \"Topic1\", \"Topic1\", \"Topic1\", \"Topic1\", \"Topic1\", \"Topic1\", \"Topic1\", \"Topic1\", \"Topic1\", \"Topic1\", \"Topic1\", \"Topic1\", \"Topic1\", \"Topic1\", \"Topic1\", \"Topic1\", \"Topic1\", \"Topic1\", \"Topic1\", \"Topic2\", \"Topic2\", \"Topic2\", \"Topic2\", \"Topic2\", \"Topic2\", \"Topic2\", \"Topic2\", \"Topic2\", \"Topic2\", \"Topic2\", \"Topic2\", \"Topic2\", \"Topic2\", \"Topic2\", \"Topic2\", \"Topic2\", \"Topic2\", \"Topic2\", \"Topic2\", \"Topic2\", \"Topic2\", \"Topic2\", \"Topic2\", \"Topic2\", \"Topic2\", \"Topic2\", \"Topic2\", \"Topic2\", \"Topic2\", \"Topic2\", \"Topic2\", \"Topic2\", \"Topic2\", \"Topic2\", \"Topic2\", \"Topic2\", \"Topic2\", \"Topic2\", \"Topic2\", \"Topic2\", \"Topic2\", \"Topic2\", \"Topic2\", \"Topic2\", \"Topic2\", \"Topic2\", \"Topic2\", \"Topic2\", \"Topic2\", \"Topic2\", \"Topic2\", \"Topic2\", \"Topic2\", \"Topic2\", \"Topic2\", \"Topic2\", \"Topic2\", \"Topic2\", \"Topic2\", \"Topic2\", \"Topic2\", \"Topic2\", \"Topic2\", \"Topic2\", \"Topic2\", \"Topic2\", \"Topic2\", \"Topic2\", \"Topic2\", \"Topic2\", \"Topic3\", \"Topic3\", \"Topic3\", \"Topic3\", \"Topic3\", \"Topic3\", \"Topic3\", \"Topic3\", \"Topic3\", \"Topic3\", \"Topic3\", \"Topic3\", \"Topic3\", \"Topic3\", \"Topic3\", \"Topic3\", \"Topic3\", \"Topic3\", \"Topic3\", \"Topic3\", \"Topic3\", \"Topic3\", \"Topic3\", \"Topic3\", \"Topic3\", \"Topic3\", \"Topic3\", \"Topic3\", \"Topic3\", \"Topic3\", \"Topic3\", \"Topic3\", \"Topic3\", \"Topic3\", \"Topic3\", \"Topic3\", \"Topic3\", \"Topic3\", \"Topic3\", \"Topic3\", \"Topic3\", \"Topic3\", \"Topic3\", \"Topic3\", \"Topic3\", \"Topic3\", \"Topic3\", \"Topic3\", \"Topic3\", \"Topic3\", \"Topic3\", \"Topic3\", \"Topic3\", \"Topic3\", \"Topic3\", \"Topic3\", \"Topic3\", \"Topic3\", \"Topic3\", \"Topic3\", \"Topic3\", \"Topic3\", \"Topic3\", \"Topic3\", \"Topic3\", \"Topic3\", \"Topic3\", \"Topic3\", \"Topic3\", \"Topic3\", \"Topic3\", \"Topic3\", \"Topic3\", \"Topic3\", \"Topic3\", \"Topic3\", \"Topic3\", \"Topic3\", \"Topic3\", \"Topic3\", \"Topic3\", \"Topic3\", \"Topic3\", \"Topic3\", \"Topic4\", \"Topic4\", \"Topic4\", \"Topic4\", \"Topic4\", \"Topic4\", \"Topic4\", \"Topic4\", \"Topic4\", \"Topic4\", \"Topic4\", \"Topic4\", \"Topic4\", \"Topic4\", \"Topic4\", \"Topic4\", \"Topic4\", \"Topic4\", \"Topic4\", \"Topic4\", \"Topic4\", \"Topic4\", \"Topic4\", \"Topic4\", \"Topic4\", \"Topic4\", \"Topic4\", \"Topic4\", \"Topic4\", \"Topic4\", \"Topic4\", \"Topic4\", \"Topic4\", \"Topic4\", \"Topic4\", \"Topic4\", \"Topic4\", \"Topic4\", \"Topic4\", \"Topic4\", \"Topic4\", \"Topic4\", \"Topic4\", \"Topic4\", \"Topic4\", \"Topic4\", \"Topic4\", \"Topic4\", \"Topic4\", \"Topic4\", \"Topic4\", \"Topic4\", \"Topic4\", \"Topic4\", \"Topic4\", \"Topic4\", \"Topic4\", \"Topic4\", \"Topic4\", \"Topic4\", \"Topic4\", \"Topic4\", \"Topic4\", \"Topic4\", \"Topic4\", \"Topic4\", \"Topic4\", \"Topic4\", \"Topic4\", \"Topic4\", \"Topic4\", \"Topic4\", \"Topic4\", \"Topic4\", \"Topic4\", \"Topic4\", \"Topic4\", \"Topic4\", \"Topic4\", \"Topic4\", \"Topic5\", \"Topic5\", \"Topic5\", \"Topic5\", \"Topic5\", \"Topic5\", \"Topic5\", \"Topic5\", \"Topic5\", \"Topic5\", \"Topic5\", \"Topic5\", \"Topic5\", \"Topic5\", \"Topic5\", \"Topic5\", \"Topic5\", \"Topic5\", \"Topic5\", \"Topic5\", \"Topic5\", \"Topic5\", \"Topic5\", \"Topic5\", \"Topic5\", \"Topic5\", \"Topic5\", \"Topic5\", \"Topic5\", \"Topic5\", \"Topic5\", \"Topic5\", \"Topic5\", \"Topic5\", \"Topic5\", \"Topic5\", \"Topic5\", \"Topic5\", \"Topic5\", \"Topic5\", \"Topic5\", \"Topic5\", \"Topic5\", \"Topic5\", \"Topic5\", \"Topic5\", \"Topic5\", \"Topic5\", \"Topic5\", \"Topic5\", \"Topic5\", \"Topic5\", \"Topic5\", \"Topic5\", \"Topic5\", \"Topic5\", \"Topic5\", \"Topic5\", \"Topic5\", \"Topic5\", \"Topic5\", \"Topic5\", \"Topic5\", \"Topic5\", \"Topic5\", \"Topic5\", \"Topic5\", \"Topic5\", \"Topic5\", \"Topic5\", \"Topic5\", \"Topic5\", \"Topic5\", \"Topic5\", \"Topic5\", \"Topic5\", \"Topic5\", \"Topic5\", \"Topic5\", \"Topic5\", \"Topic5\", \"Topic5\", \"Topic5\", \"Topic5\", \"Topic5\", \"Topic6\", \"Topic6\", \"Topic6\", \"Topic6\", \"Topic6\", \"Topic6\", \"Topic6\", \"Topic6\", \"Topic6\", \"Topic6\", \"Topic6\", \"Topic6\", \"Topic6\", \"Topic6\", \"Topic6\", \"Topic6\", \"Topic6\", \"Topic6\", \"Topic6\", \"Topic6\", \"Topic6\", \"Topic6\", \"Topic6\", \"Topic6\", \"Topic6\", \"Topic6\", \"Topic6\", \"Topic6\", \"Topic6\", \"Topic6\", \"Topic6\", \"Topic6\", \"Topic6\", \"Topic6\", \"Topic6\", \"Topic6\", \"Topic6\", \"Topic6\", \"Topic6\", \"Topic6\", \"Topic6\", \"Topic6\", \"Topic6\", \"Topic6\", \"Topic6\", \"Topic6\", \"Topic6\", \"Topic6\", \"Topic6\", \"Topic6\", \"Topic6\", \"Topic6\", \"Topic6\", \"Topic6\", \"Topic6\", \"Topic6\", \"Topic6\", \"Topic6\", \"Topic6\", \"Topic6\", \"Topic6\", \"Topic6\", \"Topic6\", \"Topic6\", \"Topic6\", \"Topic6\", \"Topic6\", \"Topic6\", \"Topic6\", \"Topic6\", \"Topic6\", \"Topic6\", \"Topic6\", \"Topic6\", \"Topic6\", \"Topic6\", \"Topic6\", \"Topic6\", \"Topic6\", \"Topic6\", \"Topic6\", \"Topic6\", \"Topic6\", \"Topic6\", \"Topic6\", \"Topic6\", \"Topic6\", \"Topic7\", \"Topic7\", \"Topic7\", \"Topic7\", \"Topic7\", \"Topic7\", \"Topic7\", \"Topic7\", \"Topic7\", \"Topic7\", \"Topic7\", \"Topic7\", \"Topic7\", \"Topic7\", \"Topic7\", \"Topic7\", \"Topic7\", \"Topic7\", \"Topic7\", \"Topic7\", \"Topic7\", \"Topic7\", \"Topic7\", \"Topic7\", \"Topic7\", \"Topic7\", \"Topic7\", \"Topic7\", \"Topic7\", \"Topic7\", \"Topic7\", \"Topic7\", \"Topic7\", \"Topic7\", \"Topic7\", \"Topic7\", \"Topic7\", \"Topic7\", \"Topic7\", \"Topic7\", \"Topic7\", \"Topic7\", \"Topic7\", \"Topic7\", \"Topic7\", \"Topic7\", \"Topic7\", \"Topic7\", \"Topic7\", \"Topic7\", \"Topic7\", \"Topic7\", \"Topic7\", \"Topic7\", \"Topic7\", \"Topic7\", \"Topic7\", \"Topic7\", \"Topic7\", \"Topic7\", \"Topic7\", \"Topic7\", \"Topic7\", \"Topic7\", \"Topic7\", \"Topic7\", \"Topic7\", \"Topic7\", \"Topic7\", \"Topic7\", \"Topic7\", \"Topic7\", \"Topic7\", \"Topic7\", \"Topic7\", \"Topic7\", \"Topic7\", \"Topic7\", \"Topic7\", \"Topic7\", \"Topic7\", \"Topic7\", \"Topic7\", \"Topic7\", \"Topic8\", \"Topic8\", \"Topic8\", \"Topic8\", \"Topic8\", \"Topic8\", \"Topic8\", \"Topic8\", \"Topic8\", \"Topic8\", \"Topic8\", \"Topic8\", \"Topic8\", \"Topic8\", \"Topic8\", \"Topic8\", \"Topic8\", \"Topic8\", \"Topic8\", \"Topic8\", \"Topic8\", \"Topic8\", \"Topic8\", \"Topic8\", \"Topic8\", \"Topic8\", \"Topic8\", \"Topic8\", \"Topic8\", \"Topic8\", \"Topic8\", \"Topic8\", \"Topic8\", \"Topic8\", \"Topic8\", \"Topic8\", \"Topic8\", \"Topic8\", \"Topic8\", \"Topic8\", \"Topic8\", \"Topic8\", \"Topic8\", \"Topic8\", \"Topic8\", \"Topic8\", \"Topic8\", \"Topic8\", \"Topic8\", \"Topic8\", \"Topic8\", \"Topic8\", \"Topic8\", \"Topic8\", \"Topic8\", \"Topic8\", \"Topic8\", \"Topic8\", \"Topic8\", \"Topic8\", \"Topic8\", \"Topic8\", \"Topic8\", \"Topic8\", \"Topic8\", \"Topic8\", \"Topic8\", \"Topic8\", \"Topic8\", \"Topic8\", \"Topic8\", \"Topic8\", \"Topic8\", \"Topic8\", \"Topic8\", \"Topic9\", \"Topic9\", \"Topic9\", \"Topic9\", \"Topic9\", \"Topic9\", \"Topic9\", \"Topic9\", \"Topic9\", \"Topic9\", \"Topic9\", \"Topic9\", \"Topic9\", \"Topic9\", \"Topic9\", \"Topic9\", \"Topic9\", \"Topic9\", \"Topic9\", \"Topic9\", \"Topic9\", \"Topic9\", \"Topic9\", \"Topic9\", \"Topic9\", \"Topic9\", \"Topic9\", \"Topic9\", \"Topic9\", \"Topic9\", \"Topic9\", \"Topic9\", \"Topic9\", \"Topic9\", \"Topic9\", \"Topic9\", \"Topic9\", \"Topic9\", \"Topic9\", \"Topic9\", \"Topic9\", \"Topic9\", \"Topic9\", \"Topic9\", \"Topic9\", \"Topic9\", \"Topic9\", \"Topic9\", \"Topic9\", \"Topic9\", \"Topic9\", \"Topic9\", \"Topic9\", \"Topic9\", \"Topic9\", \"Topic9\", \"Topic9\", \"Topic9\", \"Topic9\", \"Topic9\", \"Topic9\", \"Topic9\", \"Topic9\", \"Topic9\", \"Topic9\", \"Topic9\", \"Topic10\", \"Topic10\", \"Topic10\", \"Topic10\", \"Topic10\", \"Topic10\", \"Topic10\", \"Topic10\", \"Topic10\", \"Topic10\", \"Topic10\", \"Topic10\", \"Topic10\", \"Topic10\", \"Topic10\", \"Topic10\", \"Topic10\", \"Topic10\", \"Topic10\", \"Topic10\", \"Topic10\", \"Topic10\", \"Topic10\", \"Topic10\", \"Topic10\", \"Topic10\", \"Topic10\", \"Topic10\", \"Topic10\", \"Topic10\", \"Topic10\", \"Topic10\", \"Topic10\", \"Topic10\", \"Topic10\", \"Topic10\", \"Topic10\", \"Topic10\", \"Topic10\", \"Topic10\", \"Topic10\", \"Topic10\", \"Topic10\", \"Topic10\", \"Topic10\", \"Topic10\", \"Topic10\", \"Topic10\", \"Topic10\", \"Topic10\", \"Topic10\", \"Topic10\", \"Topic10\", \"Topic10\", \"Topic10\", \"Topic10\", \"Topic10\", \"Topic10\"], \"Freq\": [6266.0, 4936.0, 1131.0, 1702.0, 664.0, 2207.0, 1435.0, 989.0, 1404.0, 1859.0, 7343.0, 1094.0, 6806.0, 1512.0, 984.0, 906.0, 1593.0, 756.0, 2061.0, 1725.0, 3162.0, 1465.0, 3614.0, 616.0, 728.0, 1400.0, 1369.0, 1807.0, 846.0, 1747.0, 389.9552917480469, 134.28237915039062, 128.23837280273438, 229.1897735595703, 81.66098022460938, 80.73411560058594, 83.44247436523438, 87.93933868408203, 70.91923522949219, 100.64997100830078, 262.8165283203125, 54.67046356201172, 52.842811584472656, 52.93778610229492, 48.42013931274414, 48.453269958496094, 44.55292892456055, 44.2162971496582, 63.4445915222168, 40.91556167602539, 40.188968658447266, 40.72476577758789, 38.480682373046875, 36.702518463134766, 37.57465362548828, 37.140419006347656, 35.910526275634766, 36.50468063354492, 32.62342834472656, 31.669593811035156, 802.4993896484375, 141.2833709716797, 226.91273498535156, 216.72335815429688, 79.95980834960938, 190.32135009765625, 109.22268676757812, 105.25647735595703, 1325.94873046875, 332.9034729003906, 376.54443359375, 459.581787109375, 351.3419494628906, 404.1452331542969, 485.1255798339844, 517.253173828125, 1118.024658203125, 536.7109985351562, 946.9094848632812, 469.9186096191406, 515.9585571289062, 224.26663208007812, 929.7842407226562, 1312.6510009765625, 1149.212890625, 240.65011596679688, 194.45668029785156, 644.4752197265625, 542.4589233398438, 969.5740356445312, 401.5926208496094, 786.6878051757812, 585.1192016601562, 938.838623046875, 792.5894165039062, 505.8678894042969, 1578.38330078125, 727.741943359375, 900.5770874023438, 2157.0458984375, 749.1141357421875, 664.53662109375, 1767.2838134765625, 930.3171997070312, 1060.949462890625, 1485.3414306640625, 669.487060546875, 1401.612548828125, 929.0501708984375, 1107.565673828125, 828.7542114257812, 889.7643432617188, 754.2499389648438, 845.15234375, 808.9284057617188, 671.0316162109375, 412.2100524902344, 506.9224548339844, 384.14752197265625, 127.39218139648438, 130.2933807373047, 111.63074493408203, 63.658790588378906, 55.399471282958984, 716.159423828125, 47.22873306274414, 66.9443359375, 76.9291763305664, 43.930152893066406, 41.375118255615234, 41.58112716674805, 54.81262969970703, 187.8013458251953, 160.56004333496094, 35.698429107666016, 36.181758880615234, 31.561800003051758, 31.2739315032959, 30.661035537719727, 35.65816879272461, 29.086788177490234, 27.4392147064209, 26.97260284423828, 30.38557243347168, 25.744216918945312, 25.652925491333008, 145.23184204101562, 117.50064086914062, 1293.1114501953125, 38.10498809814453, 675.34619140625, 56.50694274902344, 70.67831420898438, 149.3098907470703, 447.31341552734375, 141.25079345703125, 200.4710693359375, 175.4785919189453, 93.70568084716797, 356.13555908203125, 2598.08203125, 299.20489501953125, 182.6919403076172, 2129.13623046875, 2072.15771484375, 689.0272216796875, 935.0868530273438, 788.310546875, 597.7713012695312, 452.0151062011719, 461.3042907714844, 777.0585327148438, 927.402587890625, 959.1577758789062, 538.1085815429688, 602.433837890625, 990.5352172851562, 687.0949096679688, 834.3793334960938, 747.1041259765625, 627.1511840820312, 702.8909301757812, 499.0763854980469, 434.47808837890625, 510.2466125488281, 470.06488037109375, 435.8064880371094, 185.83424377441406, 83.43594360351562, 74.63522338867188, 47.25908279418945, 41.553409576416016, 43.2441291809082, 35.06728744506836, 46.967369079589844, 36.0001220703125, 28.552661895751953, 29.742324829101562, 27.068485260009766, 26.517658233642578, 24.380645751953125, 52.31536102294922, 23.592374801635742, 23.30378532409668, 22.555233001708984, 35.89013671875, 21.891443252563477, 21.55429458618164, 20.484506607055664, 25.83274269104004, 19.279375076293945, 18.384151458740234, 18.19025421142578, 218.8563232421875, 17.796571731567383, 17.879913330078125, 17.783782958984375, 128.30702209472656, 41.24686050415039, 27.307607650756836, 43.72906494140625, 65.0266342163086, 117.2021255493164, 104.4033203125, 40.51326370239258, 527.086181640625, 66.74571990966797, 60.546112060546875, 35.0064582824707, 49.72359085083008, 63.09255599975586, 31.394718170166016, 44.502506256103516, 178.00558471679688, 93.04434204101562, 52.83747100830078, 215.01263427734375, 93.59276580810547, 396.8116455078125, 224.8800506591797, 307.8787536621094, 299.8686828613281, 334.987060546875, 269.50006103515625, 729.9518432617188, 691.2422485351562, 304.44610595703125, 100.50193786621094, 595.4114990234375, 613.778076171875, 661.1041870117188, 219.0738525390625, 199.47215270996094, 368.80908203125, 294.05352783203125, 667.2050170898438, 328.5555725097656, 142.7902374267578, 247.3095245361328, 361.35748291015625, 257.09295654296875, 290.85992431640625, 252.8179931640625, 304.1172180175781, 256.3514099121094, 259.8424072265625, 229.46791076660156, 230.88046264648438, 262.0408020019531, 234.25442504882812, 235.92874145507812, 63.710777282714844, 88.82030487060547, 359.8358154296875, 55.068199157714844, 39.96713638305664, 36.97770309448242, 35.707340240478516, 34.441104888916016, 34.06220245361328, 52.19038009643555, 32.21621322631836, 322.5327453613281, 29.161537170410156, 23.787992477416992, 20.739755630493164, 106.2797622680664, 20.1917667388916, 18.861316680908203, 18.291418075561523, 17.964534759521484, 17.78118133544922, 17.80072593688965, 17.609203338623047, 19.91166877746582, 25.584224700927734, 16.82257080078125, 16.6008358001709, 18.219396591186523, 15.17843246459961, 14.975062370300293, 201.59747314453125, 200.5858154296875, 31.82969093322754, 112.18059539794922, 74.1065902709961, 415.28338623046875, 121.58615112304688, 1309.347412109375, 38.331138610839844, 111.53837585449219, 347.071533203125, 275.3986511230469, 630.6959838867188, 37.30898666381836, 175.46214294433594, 379.9081115722656, 168.8621063232422, 353.77081298828125, 587.1744384765625, 146.0150909423828, 842.2703857421875, 273.7507019042969, 882.6753540039062, 114.99039459228516, 98.31773376464844, 95.67516326904297, 163.5555419921875, 340.8860168457031, 243.32997131347656, 264.2669982910156, 286.2110290527344, 697.7192993164062, 1461.411376953125, 1077.559326171875, 411.8270263671875, 310.3211364746094, 581.376708984375, 353.10760498046875, 814.4794311523438, 641.4797973632812, 406.39892578125, 338.9655456542969, 538.045654296875, 358.70758056640625, 448.51287841796875, 333.14837646484375, 384.5179443359375, 357.9510192871094, 360.5114440917969, 345.9695739746094, 160.5301055908203, 68.7398452758789, 49.53569793701172, 44.25876235961914, 36.44156265258789, 40.1463737487793, 29.470712661743164, 111.35311889648438, 28.539318084716797, 29.202016830444336, 27.16814422607422, 27.353694915771484, 33.81611251831055, 25.342069625854492, 24.910375595092773, 22.62845802307129, 22.122583389282227, 21.99472427368164, 21.746484756469727, 21.044727325439453, 27.09418296813965, 18.867324829101562, 18.51028060913086, 18.286108016967773, 18.003293991088867, 17.83109474182129, 16.87790298461914, 15.965410232543945, 16.81414031982422, 16.325117111206055, 27.784055709838867, 40.07901382446289, 127.16145324707031, 34.052337646484375, 165.77798461914062, 100.85897064208984, 436.2405090332031, 642.83154296875, 1188.8895263671875, 352.03558349609375, 87.29351043701172, 63.653533935546875, 130.0548858642578, 45.22428894042969, 791.6799926757812, 54.7897834777832, 501.0683288574219, 130.81057739257812, 69.25757598876953, 185.63897705078125, 110.49239349365234, 251.0710906982422, 381.49554443359375, 133.2400665283203, 626.0744018554688, 735.8914794921875, 151.05258178710938, 339.2764892578125, 111.4380874633789, 173.81187438964844, 278.8819885253906, 485.6761779785156, 353.2921447753906, 389.6424255371094, 195.5352325439453, 216.22682189941406, 713.152099609375, 381.5426940917969, 649.3507690429688, 333.61175537109375, 650.2716674804688, 415.7754821777344, 704.1299438476562, 530.1419677734375, 365.57354736328125, 224.6298065185547, 411.0899353027344, 343.5088806152344, 475.5862121582031, 302.93597412109375, 279.21832275390625, 313.7478332519531, 367.3854064941406, 343.42974853515625, 294.53125, 48.861331939697266, 32.83564758300781, 30.077611923217773, 34.752769470214844, 27.035202026367188, 24.490488052368164, 24.00384521484375, 23.2878475189209, 26.086957931518555, 22.506511688232422, 22.02417755126953, 21.169870376586914, 21.336780548095703, 20.720428466796875, 20.620080947875977, 20.873455047607422, 20.247085571289062, 19.732593536376953, 19.686979293823242, 18.361705780029297, 17.890087127685547, 17.825864791870117, 17.98792839050293, 17.616506576538086, 17.41339683532715, 20.27249526977539, 17.293865203857422, 16.16115951538086, 15.806422233581543, 15.39412784576416, 17.018787384033203, 40.52299499511719, 36.84172821044922, 173.77920532226562, 50.489261627197266, 31.28204345703125, 54.644004821777344, 43.22564697265625, 41.042510986328125, 23.34600067138672, 99.04734802246094, 61.36098861694336, 89.06529235839844, 37.57928466796875, 179.76101684570312, 26.626605987548828, 77.69076538085938, 62.275997161865234, 123.02556610107422, 210.64869689941406, 947.0194091796875, 143.6118621826172, 867.1393432617188, 122.73611450195312, 128.86700439453125, 206.7389373779297, 69.80172729492188, 407.1476135253906, 303.5616760253906, 748.8800659179688, 358.2630920410156, 348.9336242675781, 330.4248352050781, 191.54583740234375, 318.8233337402344, 325.2848205566406, 350.9364013671875, 414.7399597167969, 493.1416320800781, 224.81126403808594, 384.5744323730469, 254.6991729736328, 226.03782653808594, 456.38824462890625, 320.248291015625, 262.6943359375, 491.2828369140625, 292.71881103515625, 257.5249328613281, 221.6523895263672, 238.69984436035156, 300.657958984375, 258.8101806640625, 219.50897216796875, 230.3194122314453, 217.05226135253906, 227.5237274169922, 77.52135467529297, 57.65123748779297, 145.9200897216797, 50.41657257080078, 54.378570556640625, 40.0433464050293, 30.348379135131836, 26.456212997436523, 25.703868865966797, 22.059383392333984, 21.63615608215332, 19.957054138183594, 20.39421844482422, 19.27022361755371, 18.355623245239258, 18.37782859802246, 18.18793487548828, 18.07525062561035, 17.87514305114746, 48.30219268798828, 17.28421401977539, 38.46963882446289, 16.7645263671875, 16.176284790039062, 26.749618530273438, 81.78070831298828, 15.752796173095703, 15.7335786819458, 15.737689971923828, 18.534412384033203, 144.976806640625, 18.452255249023438, 91.91897583007812, 150.52999877929688, 789.5986938476562, 165.5184783935547, 110.88485717773438, 50.89985656738281, 399.40155029296875, 47.441837310791016, 64.53126525878906, 107.28236389160156, 35.7560920715332, 102.45128631591797, 54.01893997192383, 173.17034912109375, 453.8235778808594, 137.89453125, 123.04633331298828, 222.2776336669922, 806.8826293945312, 412.0065612792969, 102.3554916381836, 342.29656982421875, 126.29200744628906, 392.9726867675781, 105.39915466308594, 451.0439453125, 282.381591796875, 189.48548889160156, 134.0011444091797, 812.2468872070312, 461.0279235839844, 281.3010559082031, 367.2366027832031, 238.4461669921875, 638.1884155273438, 327.22076416015625, 690.0464477539062, 428.9704284667969, 291.99169921875, 556.2769775390625, 594.1467895507812, 499.404052734375, 459.16925048828125, 252.44578552246094, 347.5797119140625, 374.31170654296875, 392.8020324707031, 283.390869140625, 328.0028991699219, 348.493896484375, 291.8675537109375, 276.3895263671875, 663.1676635742188, 60.628746032714844, 62.455650329589844, 56.766544342041016, 50.925411224365234, 43.6334342956543, 40.445011138916016, 42.29801559448242, 32.45195770263672, 31.50096321105957, 29.17620086669922, 28.44556427001953, 22.007282257080078, 20.77433967590332, 20.574663162231445, 20.01814079284668, 19.997562408447266, 42.43077087402344, 17.760663986206055, 16.40285301208496, 16.009904861450195, 15.250865936279297, 15.014825820922852, 14.274503707885742, 14.669465065002441, 14.315624237060547, 13.702149391174316, 13.309685707092285, 13.141524314880371, 13.048911094665527, 28.129491806030273, 14.689105987548828, 23.204391479492188, 71.35470581054688, 74.08662414550781, 75.22311401367188, 116.9845199584961, 603.3048706054688, 435.0743713378906, 573.6348876953125, 447.2447509765625, 634.3152465820312, 44.72339630126953, 67.36686706542969, 30.897531509399414, 312.14007568359375, 131.96939086914062, 33.22098159790039, 642.274169921875, 262.3669738769531, 73.12312316894531, 384.3626403808594, 233.0982208251953, 262.87506103515625, 169.99700927734375, 241.55877685546875, 209.70181274414062, 225.5937957763672, 182.0164031982422, 234.91004943847656, 177.02711486816406, 462.4829406738281, 391.5590515136719, 227.11167907714844, 285.2438049316406, 320.70782470703125, 161.0761260986328, 218.74365234375, 140.97207641601562, 124.94282531738281, 224.7105712890625, 188.4962921142578, 198.92205810546875, 183.2576446533203, 177.72396850585938, 38.90909194946289, 31.704923629760742, 31.6876163482666, 27.75503158569336, 21.51042938232422, 17.064449310302734, 16.52718162536621, 15.73405647277832, 14.303698539733887, 14.618382453918457, 13.388411521911621, 13.14456844329834, 12.694886207580566, 12.630205154418945, 12.265093803405762, 12.135838508605957, 20.138534545898438, 11.640698432922363, 11.595566749572754, 11.561555862426758, 11.420740127563477, 11.252996444702148, 11.015304565429688, 10.945998191833496, 26.189756393432617, 10.682270050048828, 10.698416709899902, 10.442437171936035, 10.349851608276367, 9.430211067199707, 67.3297348022461, 18.880098342895508, 57.70124816894531, 84.25817108154297, 56.45166015625, 16.827695846557617, 25.01836585998535, 16.294185638427734, 24.48891830444336, 50.74853515625, 42.66823959350586, 89.6244888305664, 28.21664047241211, 41.15591812133789, 25.665672302246094, 45.679988861083984, 89.96601104736328, 21.622526168823242, 28.144060134887695, 67.38822937011719, 33.24287796020508, 33.01057052612305, 31.956846237182617, 44.16847229003906, 30.29535675048828, 30.664203643798828, 57.31593704223633, 42.26877212524414, 47.676055908203125, 33.28023910522461, 35.07534408569336, 32.4779167175293, 28.626131057739258, 29.45249366760254, 29.01787757873535, 28.71038055419922, 49.972442626953125, 34.36342239379883, 30.415931701660156, 24.65570831298828, 24.309635162353516, 23.626832962036133, 22.379764556884766, 21.52794075012207, 21.197101593017578, 48.28260803222656, 17.798702239990234, 17.030139923095703, 48.97123718261719, 16.626432418823242, 14.620919227600098, 14.310613632202148, 208.5699005126953, 12.766555786132812, 12.602800369262695, 11.815434455871582, 11.387011528015137, 11.380960464477539, 11.060569763183594, 10.895633697509766, 10.726423263549805, 10.516456604003906, 10.341988563537598, 10.165387153625488, 10.256531715393066, 10.121477127075195, 46.823150634765625, 78.62390899658203, 17.248716354370117, 86.40589904785156, 80.55939483642578, 176.02200317382812, 105.27518463134766, 69.3765640258789, 49.998233795166016, 19.663684844970703, 19.160520553588867, 40.58258819580078, 60.438507080078125, 59.74104690551758, 164.98731994628906, 102.20246887207031, 40.34782028198242, 64.2431869506836, 41.552978515625, 84.28883361816406, 50.61385726928711, 54.01087188720703, 33.6742057800293, 42.03230667114258, 31.366573333740234, 28.597537994384766, 32.31138229370117, 31.037874221801758], \"Term\": [\"food\", \"great\", \"burger\", \"bar\", \"sushi\", \"restaur\", \"pizza\", \"store\", \"hour\", \"us\", \"place\", \"happi\", \"good\", \"fri\", \"beer\", \"wine\", \"night\", \"roll\", \"price\", \"chicken\", \"servic\", \"salad\", \"order\", \"ice\", \"taco\", \"ask\", \"sauc\", \"drink\", \"room\", \"menu\", \"thai\", \"lamb\", \"gyro\", \"curri\", \"eggplant\", \"pesto\", \"pud\", \"brisket\", \"filet\", \"broth\", \"pasta\", \"parmesan\", \"feta\", \"grit\", \"stew\", \"mongolian\", \"steakhous\", \"clam\", \"fig\", \"brie\", \"fondu\", \"falafel\", \"pear\", \"beet\", \"walnut\", \"meatloaf\", \"ravioli\", \"zucchini\", \"macaroni\", \"vinegar\", \"bread\", \"chop\", \"garlic\", \"oliv\", \"herb\", \"veget\", \"pickl\", \"greek\", \"salad\", \"bbq\", \"entre\", \"steak\", \"tomato\", \"onion\", \"dessert\", \"soup\", \"sauc\", \"beef\", \"dish\", \"pork\", \"potato\", \"rib\", \"sandwich\", \"chicken\", \"fri\", \"pepper\", \"mushroom\", \"meat\", \"cook\", \"chees\", \"grill\", \"meal\", \"sweet\", \"tast\", \"flavor\", \"plate\", \"order\", \"lunch\", \"menu\", \"good\", \"delici\", \"side\", \"food\", \"restaur\", \"tri\", \"like\", \"fresh\", \"place\", \"love\", \"great\", \"also\", \"realli\", \"littl\", \"go\", \"one\", \"get\", \"salsa\", \"mexican\", \"burrito\", \"enchilada\", \"carn\", \"asada\", \"hash\", \"benedict\", \"taco\", \"gallo\", \"torta\", \"omelet\", \"queso\", \"pollo\", \"berri\", \"tamal\", \"waffl\", \"pancak\", \"skillet\", \"cevich\", \"carnita\", \"burro\", \"cibo\", \"calzon\", \"blanco\", \"chimi\", \"relleno\", \"omelett\", \"chimichanga\", \"houston\", \"lo\", \"guacamol\", \"pizza\", \"guac\", \"breakfast\", \"fajita\", \"quesadilla\", \"cupcak\", \"chip\", \"brunch\", \"margarita\", \"tortilla\", \"chipotl\", \"egg\", \"food\", \"bean\", \"crust\", \"good\", \"place\", \"eat\", \"order\", \"tri\", \"best\", \"flavor\", \"delici\", \"servic\", \"time\", \"great\", \"wait\", \"restaur\", \"like\", \"love\", \"go\", \"get\", \"realli\", \"one\", \"alway\", \"better\", \"back\", \"would\", \"come\", \"donut\", \"boba\", \"rail\", \"workout\", \"dunkin\", \"lane\", \"instructor\", \"fi\", \"visitor\", \"barista\", \"session\", \"motel\", \"cell\", \"bosa\", \"yoga\", \"grey\", \"dan\", \"mainten\", \"wi\", \"arena\", \"christoph\", \"graduat\", \"latest\", \"friendliest\", \"articl\", \"decemb\", \"class\", \"landscap\", \"sauna\", \"dedic\", \"gym\", \"teacher\", \"lux\", \"plant\", \"public\", \"starbuck\", \"bagel\", \"termin\", \"coffe\", \"espresso\", \"secur\", \"studi\", \"weight\", \"latt\", \"campu\", \"wifi\", \"morn\", \"central\", \"student\", \"drive\", \"airport\", \"locat\", \"cours\", \"open\", \"phoenix\", \"year\", \"park\", \"time\", \"one\", \"work\", \"citi\", \"get\", \"go\", \"like\", \"shop\", \"close\", \"make\", \"day\", \"place\", \"alway\", \"street\", \"use\", \"would\", \"never\", \"well\", \"first\", \"love\", \"best\", \"want\", \"way\", \"take\", \"good\", \"even\", \"back\", \"dj\", \"venu\", \"hotel\", \"popcorn\", \"exhibit\", \"ho\", \"karaok\", \"locker\", \"gay\", \"german\", \"ghost\", \"pool\", \"royal\", \"balconi\", \"photograph\", \"loung\", \"galleri\", \"ivi\", \"poolsid\", \"hooter\", \"chuck\", \"jukebox\", \"shannon\", \"sharp\", \"confer\", \"richard\", \"machaca\", \"tile\", \"kiltlift\", \"colleagu\", \"sport\", \"tv\", \"courtyard\", \"band\", \"footbal\", \"music\", \"resort\", \"bar\", \"bouncer\", \"spa\", \"game\", \"bartend\", \"room\", \"moon\", \"movi\", \"stay\", \"relax\", \"patio\", \"beer\", \"outdoor\", \"night\", \"play\", \"drink\", \"theater\", \"tap\", \"danc\", \"event\", \"cool\", \"crowd\", \"watch\", \"fun\", \"nice\", \"place\", \"great\", \"area\", \"seat\", \"realli\", \"enjoy\", \"good\", \"like\", \"look\", \"friend\", \"food\", \"pretti\", \"go\", \"peopl\", \"time\", \"love\", \"one\", \"get\", \"dr\", \"doctor\", \"insur\", \"acknowledg\", \"comp\", \"repli\", \"staffperson\", \"apolog\", \"exterior\", \"declin\", \"trade\", \"medic\", \"proceed\", \"carpet\", \"del\", \"2012\", \"procedur\", \"surgeri\", \"vision\", \"unprofession\", \"x\", \"apologet\", \"invis\", \"lab\", \"wound\", \"consult\", \"sensor\", \"appt\", \"kindli\", \"gentl\", \"irrit\", \"emerg\", \"min\", \"upset\", \"phone\", \"answer\", \"told\", \"minut\", \"us\", \"manag\", \"appoint\", \"contact\", \"inform\", \"instal\", \"ask\", \"repair\", \"call\", \"horribl\", \"patient\", \"bill\", \"hostess\", \"arriv\", \"took\", \"question\", \"tabl\", \"wait\", \"receiv\", \"custom\", \"rude\", \"15\", \"care\", \"came\", \"server\", \"said\", \"30\", \"final\", \"servic\", \"experi\", \"would\", \"anoth\", \"order\", \"take\", \"time\", \"back\", \"could\", \"return\", \"even\", \"went\", \"one\", \"work\", \"review\", \"make\", \"go\", \"get\", \"got\", \"piss\", \"dust\", \"silli\", \"coleslaw\", \"mike\", \"b\", \"bull\", \"goodwil\", \"groom\", \"tokyo\", \"pierc\", \"agent\", \"cornish\", \"casino\", \"mock\", \"solut\", \"pickup\", \"saver\", \"novelti\", \"heavili\", \"mega\", \"cast\", \"charli\", \"vermicelli\", \"leak\", \"yike\", \"comic\", \"65\", \"sombrero\", \"useless\", \"fifteen\", \"museum\", \"receipt\", \"hair\", \"k\", \"awar\", \"fuck\", \"code\", \"walmart\", \"drug\", \"tire\", \"shit\", \"cash\", \"loos\", \"money\", \"belt\", \"wast\", \"ticket\", \"card\", \"pay\", \"go\", \"charg\", \"get\", \"bag\", \"cut\", \"kid\", \"gross\", \"want\", \"need\", \"like\", \"thing\", \"know\", \"think\", \"guy\", \"much\", \"got\", \"look\", \"would\", \"one\", \"said\", \"back\", \"lot\", \"someth\", \"time\", \"even\", \"say\", \"place\", \"littl\", \"peopl\", \"use\", \"never\", \"realli\", \"make\", \"star\", \"tri\", \"2\", \"good\", \"www\", \"farmer\", \"nail\", \"safeway\", \"pedicur\", \"aisl\", \"gel\", \"pedi\", \"donat\", \"nordstrom\", \"ikea\", \"biz_photo\", \"maci\", \"particip\", \"tj\", \"leash\", \"shall\", \"clearanc\", \"nom\", \"manicur\", \"cigar\", \"costco\", \"newbi\", \"overflow\", \"zoo\", \"http\", \"warehous\", \"schnitzel\", \"mmmmm\", \"mart\", \"groceri\", \"european\", \"produc\", \"cloth\", \"store\", \"sale\", \"brand\", \"retail\", \"dog\", \"bargain\", \"court\", \"com\", \"purs\", \"shoe\", \"subway\", \"market\", \"shop\", \"organ\", \"sell\", \"buy\", \"price\", \"select\", \"carri\", \"help\", \"purchas\", \"find\", \"coupon\", \"friendli\", \"item\", \"stuff\", \"product\", \"great\", \"alway\", \"park\", \"staff\", \"custom\", \"get\", \"locat\", \"place\", \"love\", \"need\", \"like\", \"good\", \"go\", \"one\", \"busi\", \"also\", \"realli\", \"time\", \"know\", \"servic\", \"food\", \"nice\", \"look\", \"sushi\", \"miso\", \"tapa\", \"tempura\", \"sashimi\", \"ra\", \"ramen\", \"haircut\", \"sen\", \"dental\", \"barber\", \"kona\", \"ken\", \"antipasto\", \"yasu\", \"robin\", \"nigiri\", \"edamam\", \"souffl\", \"goos\", \"potstick\", \"cork\", \"phil\", \"cannoli\", \"tastier\", \"zipp\", \"butterfish\", \"sober\", \"paleta\", \"wagyu\", \"wasabi\", \"din\", \"hh\", \"sake\", \"japanes\", \"slider\", \"tuna\", \"happi\", \"roll\", \"burger\", \"wine\", \"hour\", \"delux\", \"bruschetta\", \"breweri\", \"beer\", \"chef\", \"ale\", \"great\", \"5\", \"crab\", \"servic\", \"star\", \"menu\", \"atmospher\", \"fri\", \"3\", \"2\", \"special\", \"night\", \"4\", \"good\", \"food\", \"price\", \"time\", \"place\", \"amaz\", \"order\", \"1\", \"appet\", \"go\", \"tri\", \"get\", \"one\", \"like\", \"amc\", \"yo\", \"materi\", \"roadhous\", \"fro\", \"union\", \"jacket\", \"voucher\", \"munchi\", \"windshield\", \"formal\", \"arepa\", \"grayhawk\", \"maricopa\", \"tammi\", \"summit\", \"gravel\", \"quieter\", \"beginn\", \"galor\", \"cruis\", \"7am\", \"24th\", \"coe\", \"skate\", \"sonora\", \"alic\", \"media\", \"radiat\", \"petsmart\", \"trail\", \"yogurtland\", \"bike\", \"wash\", \"hike\", \"shove\", \"hors\", \"batteri\", \"q\", \"ride\", \"mountain\", \"car\", \"field\", \"road\", \"truck\", \"airport\", \"ice\", \"dirt\", \"stadium\", \"top\", \"theater\", \"frozen\", \"mile\", \"park\", \"floor\", \"movi\", \"like\", \"see\", \"get\", \"drive\", \"peopl\", \"locat\", \"view\", \"guy\", \"way\", \"place\", \"lee\", \"cuban\", \"antiqu\", \"francisco\", \"kabob\", \"cha\", \"gra\", \"kong\", \"hong\", \"pei\", \"prawn\", \"angri\", \"wei\", \"luggag\", \"survey\", \"holder\", \"pho\", \"recess\", \"unexpect\", \"jose\", \"london\", \"dobson\", \"ambient\", \"techno\", \"sara\", \"packet\", \"drew\", \"ritz\", \"satay\", \"user\", \"china\", \"dim\", \"airway\", \"vietnames\", \"sum\", \"chines\", \"asian\", \"san\", \"flight\", \"diego\", \"airlin\", \"cuisin\", \"authent\", \"noodl\", \"food\", \"restaur\", \"spring\", \"phoenix\", \"valley\", \"place\", \"best\", \"good\", \"live\", \"go\", \"excel\", \"mall\", \"get\", \"servic\"], \"Total\": [6266.0, 4936.0, 1131.0, 1702.0, 664.0, 2207.0, 1435.0, 989.0, 1404.0, 1859.0, 7343.0, 1094.0, 6806.0, 1512.0, 984.0, 906.0, 1593.0, 756.0, 2061.0, 1725.0, 3162.0, 1465.0, 3614.0, 616.0, 728.0, 1400.0, 1369.0, 1807.0, 846.0, 1747.0, 391.0456848144531, 135.25909423828125, 129.33908081054688, 231.517578125, 82.5400161743164, 81.6559066772461, 84.40643310546875, 88.9639663696289, 71.77422332763672, 101.87030029296875, 266.1589050292969, 55.517581939697266, 53.691131591796875, 53.8443489074707, 49.2816162109375, 49.328704833984375, 45.40156555175781, 45.0635986328125, 64.7483901977539, 41.76176452636719, 41.038482666015625, 41.60232162475586, 39.33448791503906, 37.54829406738281, 38.45490646362305, 38.01186752319336, 36.76304626464844, 37.37748336791992, 33.47615051269531, 32.52230453491211, 834.5442504882812, 145.48838806152344, 235.0813446044922, 224.8484344482422, 82.41252899169922, 198.7383270263672, 113.25006866455078, 109.52577209472656, 1465.521484375, 355.4769592285156, 403.7115478515625, 498.8966064453125, 385.3919372558594, 446.4836120605469, 541.3980102539062, 588.3764038085938, 1369.887451171875, 627.7793579101562, 1153.7857666015625, 548.404541015625, 615.3484497070312, 248.891845703125, 1173.8489990234375, 1725.36767578125, 1512.61865234375, 272.85955810546875, 216.71800231933594, 846.8616943359375, 703.2893676757812, 1395.6876220703125, 519.1119995117188, 1212.4647216796875, 838.7943725585938, 1563.855224609375, 1274.5157470703125, 723.2041625976562, 3614.837646484375, 1267.4998779296875, 1747.1224365234375, 6806.892578125, 1357.267822265625, 1127.1029052734375, 6266.11376953125, 2207.556396484375, 2851.245361328125, 5550.36865234375, 1228.685791015625, 7343.900390625, 2952.6181640625, 4936.23291015625, 2474.251953125, 3255.253662109375, 2151.48876953125, 4848.4658203125, 4219.34716796875, 4487.18408203125, 413.19268798828125, 508.13153076171875, 385.4312744140625, 128.2603759765625, 131.23252868652344, 112.53916931152344, 64.54273986816406, 56.2475471496582, 728.7023315429688, 48.088340759277344, 68.17131805419922, 78.38493347167969, 44.7783203125, 42.23278045654297, 42.47366714477539, 56.094173431396484, 192.20565795898438, 164.34817504882812, 36.55183029174805, 37.09761047363281, 32.41023635864258, 32.12057113647461, 31.51154327392578, 36.67525863647461, 29.93628692626953, 28.288297653198242, 27.821640014648438, 31.378604888916016, 26.59231948852539, 26.498916625976562, 151.46337890625, 123.07915496826172, 1435.32958984375, 39.52964401245117, 757.460693359375, 59.35294723510742, 75.34406280517578, 168.01744079589844, 563.7767333984375, 162.9741973876953, 242.2587890625, 210.0274658203125, 108.38420867919922, 517.42431640625, 6266.11376953125, 474.3450012207031, 261.1884765625, 6806.892578125, 7343.900390625, 1672.1668701171875, 3614.837646484375, 2851.245361328125, 1886.5528564453125, 1274.5157470703125, 1357.267822265625, 3162.1943359375, 4566.09619140625, 4936.23291015625, 1776.6181640625, 2207.556396484375, 5550.36865234375, 2952.6181640625, 4848.4658203125, 4487.18408203125, 3255.253662109375, 4219.34716796875, 2001.3292236328125, 1451.377197265625, 2812.0595703125, 3039.39111328125, 2028.3931884765625, 186.6898193359375, 84.33558654785156, 75.740966796875, 48.16713333129883, 42.40171432495117, 44.14884567260742, 35.91713333129883, 48.30167770385742, 37.048187255859375, 29.40121841430664, 30.672306060791016, 27.918384552001953, 27.386547088623047, 25.228958129882812, 54.141090393066406, 24.44090461730957, 24.152246475219727, 23.408464431762695, 37.25096893310547, 22.74217987060547, 22.414302825927734, 21.341533660888672, 26.996562957763672, 20.154937744140625, 19.23271942138672, 19.039220809936523, 229.18478393554688, 18.6458797454834, 18.734296798706055, 18.634380340576172, 136.5127716064453, 43.77177810668945, 28.853744506835938, 47.029457092285156, 71.19010925292969, 134.72299194335938, 120.66211700439453, 44.34910583496094, 746.7120361328125, 79.22797393798828, 72.00468444824219, 38.491661071777344, 59.967262268066406, 81.1530532836914, 34.4061164855957, 53.736995697021484, 322.8057861328125, 144.5538787841797, 69.43144226074219, 509.15911865234375, 159.37225341796875, 1307.14697265625, 572.432861328125, 925.8218383789062, 934.1461791992188, 1114.3602294921875, 884.3410034179688, 4566.09619140625, 4219.34716796875, 1287.8873291015625, 194.24441528320312, 4487.18408203125, 4848.4658203125, 5550.36865234375, 782.8840942382812, 688.7345581054688, 2218.225341796875, 1462.293212890625, 7343.900390625, 2001.3292236328125, 370.6015625, 1228.4056396484375, 3039.39111328125, 1509.4779052734375, 2190.1318359375, 1620.576416015625, 2952.6181640625, 1886.5528564453125, 2071.462646484375, 1479.0250244140625, 1598.46826171875, 6806.892578125, 2240.88818359375, 2812.0595703125, 64.68590545654297, 90.43488311767578, 366.5870056152344, 56.109310150146484, 40.82884979248047, 37.82848358154297, 36.5703239440918, 35.288917541503906, 34.90989303588867, 53.517215728759766, 33.06889343261719, 331.1519470214844, 30.02657127380371, 24.65725326538086, 21.58700180053711, 110.72728729248047, 21.037988662719727, 19.707523345947266, 19.138568878173828, 18.8109130859375, 18.62801170349121, 18.651670455932617, 18.455930709838867, 20.90059471130371, 26.870206832885742, 17.668855667114258, 17.449369430541992, 19.194114685058594, 16.02461051940918, 15.821328163146973, 214.92369079589844, 218.7628936767578, 33.966712951660156, 126.78395080566406, 82.52349853515625, 500.3226318359375, 139.04701232910156, 1702.908935546875, 41.53970718383789, 127.9033203125, 425.43865966796875, 333.3636169433594, 846.9735717773438, 40.503177642822266, 232.3463897705078, 557.6181640625, 226.86863708496094, 540.7332763671875, 984.1683349609375, 195.52755737304688, 1593.185302734375, 423.7808532714844, 1807.2193603515625, 151.53170776367188, 125.67613983154297, 122.16455841064453, 244.0590057373047, 652.6651000976562, 437.97509765625, 494.0080871582031, 596.3406372070312, 2237.98828125, 7343.900390625, 4936.23291015625, 1098.2025146484375, 902.2832641601562, 3255.253662109375, 1210.1865234375, 6806.892578125, 5550.36865234375, 2152.265625, 1385.7132568359375, 6266.11376953125, 1719.6490478515625, 4848.4658203125, 1621.760498046875, 4566.09619140625, 2952.6181640625, 4219.34716796875, 4487.18408203125, 161.42080688476562, 69.62579345703125, 50.401824951171875, 45.2188720703125, 37.344482421875, 41.28432083129883, 30.32501983642578, 114.59255981445312, 29.386341094970703, 30.106815338134766, 28.016244888305664, 28.221336364746094, 34.937461853027344, 26.18754005432129, 25.75639533996582, 23.48263931274414, 22.971357345581055, 22.84065818786621, 22.595611572265625, 21.89406967163086, 28.235130310058594, 19.71379852294922, 19.36055564880371, 19.131935119628906, 18.8490047454834, 18.714284896850586, 17.735321044921875, 16.812196731567383, 17.7114200592041, 17.196399688720703, 29.406694412231445, 43.04213333129883, 148.62353515625, 37.24462127685547, 203.19532775878906, 120.52246856689453, 604.85107421875, 931.8820190429688, 1859.402099609375, 492.97528076171875, 106.22438049316406, 74.8766098022461, 172.28565979003906, 51.88315963745117, 1400.5286865234375, 64.75431060791016, 852.4783935546875, 180.64967346191406, 87.0508804321289, 293.56646728515625, 157.67901611328125, 436.8210144042969, 739.420654296875, 199.3817596435547, 1426.3720703125, 1776.6181640625, 245.70974731445312, 715.8965454101562, 165.24024963378906, 306.6596374511719, 600.70751953125, 1316.2943115234375, 850.4310302734375, 1021.5018920898438, 384.9517517089844, 457.55059814453125, 3162.1943359375, 1192.5020751953125, 3039.39111328125, 979.4107666015625, 3614.837646484375, 1598.46826171875, 4566.09619140625, 2812.0595703125, 1486.7586669921875, 535.2681274414062, 2240.88818359375, 1492.2037353515625, 4219.34716796875, 1287.8873291015625, 1154.70849609375, 2218.225341796875, 4848.4658203125, 4487.18408203125, 1822.32568359375, 49.71592330932617, 33.69051742553711, 30.922210693359375, 35.7762565612793, 27.908945083618164, 25.34801483154297, 24.84857177734375, 24.160417556762695, 27.06685447692871, 23.353988647460938, 22.8685245513916, 22.016979217529297, 22.200664520263672, 21.565494537353516, 21.46477699279785, 21.732650756835938, 21.092483520507812, 20.577598571777344, 20.531368255615234, 19.206846237182617, 18.73557472229004, 18.67045783996582, 18.842586517333984, 18.461389541625977, 18.25775718688965, 21.258203506469727, 18.138856887817383, 17.015281677246094, 16.65120506286621, 16.238908767700195, 17.970325469970703, 43.264549255371094, 39.351314544677734, 197.68377685546875, 55.79111099243164, 33.94265365600586, 64.33287811279297, 49.88200378417969, 47.320701599121094, 25.307619094848633, 138.77044677734375, 82.36199951171875, 144.40367126464844, 47.12260055541992, 386.62176513671875, 30.308374404907227, 131.50596618652344, 98.89816284179688, 257.82763671875, 550.5752563476562, 4848.4658203125, 335.51983642578125, 4487.18408203125, 269.2867736816406, 303.1409606933594, 644.2476806640625, 129.5627899169922, 2071.462646484375, 1303.4072265625, 5550.36865234375, 1761.7056884765625, 1718.47607421875, 1661.4371337890625, 685.5967407226562, 1718.241943359375, 1822.32568359375, 2152.265625, 3039.39111328125, 4219.34716796875, 1021.5018920898438, 2812.0595703125, 1310.6802978515625, 1063.6915283203125, 4566.09619140625, 2240.88818359375, 1608.494873046875, 7343.900390625, 2151.48876953125, 1621.760498046875, 1228.4056396484375, 1509.4779052734375, 3255.253662109375, 2218.225341796875, 1330.4013671875, 2851.245361328125, 1362.6021728515625, 6806.892578125, 78.38215637207031, 58.540348052978516, 148.25404357910156, 51.26667022705078, 55.333984375, 40.892704010009766, 31.20512580871582, 27.361637115478516, 26.60102653503418, 22.914793014526367, 22.4932861328125, 20.806486129760742, 21.2664737701416, 20.119333267211914, 19.204174041748047, 19.230159759521484, 19.03776741027832, 18.92386817932129, 18.7238712310791, 50.67568588256836, 18.13445472717285, 40.39139175415039, 17.613622665405273, 17.028356552124023, 28.166593551635742, 86.15161895751953, 16.601642608642578, 16.582393646240234, 16.587186813354492, 19.558135986328125, 155.57077026367188, 19.472082138061523, 101.92357635498047, 172.20875549316406, 989.7494506835938, 191.65867614746094, 128.0821990966797, 56.48666000366211, 517.352783203125, 53.300045013427734, 74.79380798339844, 133.44326782226562, 40.26883316040039, 131.08840942382812, 65.19194030761719, 254.03695678710938, 782.8840942382812, 198.89715576171875, 178.1189727783203, 375.915283203125, 2061.92626953125, 898.2810668945312, 160.0963592529297, 902.8622436523438, 218.9471435546875, 1115.857421875, 170.05848693847656, 1495.6600341796875, 746.0863647460938, 435.4208984375, 249.34658813476562, 4936.23291015625, 2001.3292236328125, 884.3410034179688, 1487.086669921875, 715.8965454101562, 4487.18408203125, 1307.14697265625, 7343.900390625, 2952.6181640625, 1303.4072265625, 5550.36865234375, 6806.892578125, 4848.4658203125, 4219.34716796875, 957.8408203125, 2474.251953125, 3255.253662109375, 4566.09619140625, 1718.47607421875, 3162.1943359375, 6266.11376953125, 2237.98828125, 2152.265625, 664.4981689453125, 61.484134674072266, 63.345767974853516, 57.617279052734375, 51.78156661987305, 44.50274658203125, 41.30049133300781, 43.24178695678711, 33.3034782409668, 32.350616455078125, 30.02560806274414, 29.352937698364258, 22.85926055908203, 21.62441062927246, 21.424135208129883, 20.867406845092773, 20.84686279296875, 44.53704071044922, 18.65659523010254, 17.255857467651367, 16.859180450439453, 16.112741470336914, 15.864278793334961, 15.124348640441895, 15.543876647949219, 15.170201301574707, 14.551407814025879, 14.159095764160156, 13.990817070007324, 13.898666381835938, 30.36318016052246, 15.667938232421875, 25.034421920776367, 79.96378326416016, 89.57977294921875, 97.69198608398438, 160.70318603515625, 1094.96240234375, 756.1910400390625, 1131.615234375, 906.3126220703125, 1404.984130859375, 60.123050689697266, 111.46495056152344, 38.07429504394531, 984.1683349609375, 319.1697998046875, 43.48430252075195, 4936.23291015625, 1188.7813720703125, 166.68292236328125, 3162.1943359375, 1330.4013671875, 1747.1224365234375, 784.6767578125, 1512.61865234375, 1172.6741943359375, 1362.6021728515625, 906.6646728515625, 1593.185302734375, 875.0606689453125, 6806.892578125, 6266.11376953125, 2061.92626953125, 4566.09619140625, 7343.900390625, 1072.3272705078125, 3614.837646484375, 809.1759033203125, 537.3072509765625, 4848.4658203125, 2851.245361328125, 4487.18408203125, 4219.34716796875, 5550.36865234375, 39.768333435058594, 32.567169189453125, 32.55318069458008, 28.613229751586914, 22.368358612060547, 17.922473907470703, 17.384933471679688, 16.593652725219727, 15.161617279052734, 15.513318061828613, 14.246211051940918, 14.00259017944336, 13.553628921508789, 13.488080024719238, 13.122906684875488, 12.993929862976074, 21.580820083618164, 12.499401092529297, 12.453216552734375, 12.419776916503906, 12.278698921203613, 12.11094856262207, 11.876346588134766, 11.804300308227539, 28.253591537475586, 11.540056228637695, 11.570667266845703, 11.300493240356445, 11.208169937133789, 10.289167404174805, 78.74005126953125, 21.950458526611328, 80.49029541015625, 127.69004821777344, 84.33274841308594, 19.93219566345215, 33.2909049987793, 19.420957565307617, 37.41081237792969, 117.28893280029297, 93.82574462890625, 381.0835266113281, 60.76683807373047, 122.70186614990234, 51.64363098144531, 159.37225341796875, 616.0629272460938, 45.538814544677734, 86.77371215820312, 955.60595703125, 151.53170776367188, 176.83470153808594, 166.96961975097656, 884.3410034179688, 200.7209014892578, 232.3463897705078, 5550.36865234375, 1310.2034912109375, 4487.18408203125, 509.15911865234375, 1621.760498046875, 1307.14697265625, 221.78883361816406, 685.5967407226562, 1479.0250244140625, 7343.900390625, 50.8588981628418, 35.23619842529297, 31.27750015258789, 25.521196365356445, 25.171405792236328, 24.488264083862305, 23.241172790527344, 22.3948974609375, 22.064729690551758, 50.42384719848633, 18.687091827392578, 17.891782760620117, 51.53874206542969, 17.610422134399414, 15.4890775680542, 15.172429084777832, 222.38214111328125, 13.629173278808594, 13.464348793029785, 12.698689460754395, 12.248292922973633, 12.24228286743164, 11.921941757202148, 11.757318496704102, 11.587809562683105, 11.379159927368164, 11.207090377807617, 11.028427124023438, 11.1294584274292, 10.984490394592285, 53.77524185180664, 95.21340942382812, 19.282238006591797, 108.98988342285156, 107.40711212158203, 274.97119140625, 178.1331787109375, 120.83000183105469, 110.3815689086914, 27.440298080444336, 27.242023468017578, 115.1023941040039, 247.86700439453125, 292.85198974609375, 6266.11376953125, 2207.556396484375, 199.4342803955078, 934.1461791992188, 457.69744873046875, 7343.900390625, 1886.5528564453125, 6806.892578125, 742.983154296875, 4848.4658203125, 717.0106811523438, 333.5201721191406, 4487.18408203125, 3162.1943359375], \"loglift\": [30.0, 29.0, 28.0, 27.0, 26.0, 25.0, 24.0, 23.0, 22.0, 21.0, 20.0, 19.0, 18.0, 17.0, 16.0, 15.0, 14.0, 13.0, 12.0, 11.0, 10.0, 9.0, 8.0, 7.0, 6.0, 5.0, 4.0, 3.0, 2.0, 1.0, 1.4375, 1.4329999685287476, 1.4316999912261963, 1.4301999807357788, 1.4296000003814697, 1.4289000034332275, 1.4287999868392944, 1.4286999702453613, 1.4283000230789185, 1.4282000064849854, 1.4276000261306763, 1.4249000549316406, 1.424299955368042, 1.42330002784729, 1.4226000308990479, 1.4223999977111816, 1.4213999509811401, 1.4213000535964966, 1.4198999404907227, 1.419800043106079, 1.4193999767303467, 1.4190000295639038, 1.4183000326156616, 1.4175000190734863, 1.417099952697754, 1.417099952697754, 1.4168000221252441, 1.416599988937378, 1.4144999980926514, 1.413699984550476, 1.4011000394821167, 1.4108999967575073, 1.4048999547958374, 1.403499960899353, 1.410099983215332, 1.3969999551773071, 1.404099941253662, 1.4005000591278076, 1.3401999473571777, 1.3746999502182007, 1.3705999851226807, 1.358199954032898, 1.3478000164031982, 1.3406000137329102, 1.3305000066757202, 1.311400055885315, 1.2371000051498413, 1.2834999561309814, 1.2426999807357788, 1.2857999801635742, 1.2640999555587769, 1.3360999822616577, 1.207200050354004, 1.1669000387191772, 1.1655000448226929, 1.3147000074386597, 1.3319000005722046, 1.167199969291687, 1.1806000471115112, 1.0759999752044678, 1.1835999488830566, 1.007699966430664, 1.0801000595092773, 0.9300000071525574, 0.9653000235557556, 1.082900047302246, 0.6115999817848206, 0.8853999972343445, 0.7775999903678894, 0.29109999537467957, 0.8458999991416931, 0.9120000004768372, 0.1746000051498413, 0.576200008392334, 0.45170000195503235, 0.12210000306367874, 0.8331000208854675, -0.2160000056028366, 0.2840000092983246, -0.05420000106096268, 0.3465000092983246, 0.14319999516010284, 0.3921000063419342, -0.30660000443458557, -0.21140000224113464, -0.45989999175071716, 1.854200005531311, 1.854200005531311, 1.8532999753952026, 1.8497999906539917, 1.8494000434875488, 1.8485000133514404, 1.8428000211715698, 1.8414000272750854, 1.8392000198364258, 1.8386000394821167, 1.8384000062942505, 1.8379000425338745, 1.837499976158142, 1.8360999822616577, 1.8353999853134155, 1.8335000276565552, 1.833400011062622, 1.833299994468689, 1.8329999446868896, 1.8315999507904053, 1.8301000595092773, 1.8299000263214111, 1.829200029373169, 1.8285000324249268, 1.8278000354766846, 1.8260999917984009, 1.825600028038025, 1.8243999481201172, 1.8242000341415405, 1.8242000341415405, 1.8145999908447266, 1.8101999759674072, 1.7523000240325928, 1.8199000358581543, 1.7418999671936035, 1.8075000047683716, 1.7927000522613525, 1.7386000156402588, 1.6252000331878662, 1.7136000394821167, 1.6672999858856201, 1.676900029182434, 1.7110999822616577, 1.4831000566482544, 0.9761999845504761, 1.395799994468689, 1.4991999864578247, 0.6944000124931335, 0.5913000106811523, 0.9700000286102295, 0.5044000148773193, 0.5709999799728394, 0.7073000073432922, 0.8199999928474426, 0.777400016784668, 0.4530999958515167, 0.26260000467300415, 0.218299999833107, 0.6621999740600586, 0.5579000115394592, 0.133200004696846, 0.3986000120639801, 0.09690000116825104, 0.06379999965429306, 0.20980000495910645, 0.06440000236034393, 0.46779999136924744, 0.6504999995231628, 0.14980000257492065, -0.00989999994635582, 0.3188000023365021, 2.204699993133545, 2.1986000537872314, 2.1946001052856445, 2.1902999877929688, 2.1891000270843506, 2.1886000633239746, 2.1854000091552734, 2.181299924850464, 2.1805999279022217, 2.180000066757202, 2.178499937057495, 2.1784000396728516, 2.1770999431610107, 2.175100088119507, 2.174999952316284, 2.1740000247955322, 2.1735999584198, 2.1721999645233154, 2.172100067138672, 2.1712000370025635, 2.1702001094818115, 2.168299913406372, 2.165299892425537, 2.164900064468384, 2.1642000675201416, 2.1637001037597656, 2.1631999015808105, 2.1626999378204346, 2.1626999378204346, 2.162600040435791, 2.1473000049591064, 2.149899959564209, 2.1542999744415283, 2.1366000175476074, 2.118799924850464, 2.069999933242798, 2.0645999908447266, 2.1189000606536865, 1.8609999418258667, 2.037899971008301, 2.0360000133514404, 2.1143999099731445, 2.0220000743865967, 1.9575999975204468, 2.1177000999450684, 2.0208001136779785, 1.6140999794006348, 1.7688000202178955, 1.9362000226974487, 1.3473000526428223, 1.6770000457763672, 1.017199993133545, 1.274999976158142, 1.1083999872207642, 1.0729999542236328, 1.0074000358581543, 1.0211000442504883, 0.375900000333786, 0.4004000127315521, 0.7670999765396118, 1.5504000186920166, 0.18960000574588776, 0.14249999821186066, 0.08160000294446945, 0.9358000159263611, 0.9700999855995178, 0.41510000824928284, 0.6053000092506409, -0.1891999989748001, 0.4025000035762787, 1.2555999755859375, 0.6065000295639038, 0.07980000227689743, 0.4392000138759613, 0.19050000607967377, 0.351500004529953, -0.06369999796152115, 0.2134000062942505, 0.13339999318122864, 0.34599998593330383, 0.274399995803833, -1.0478999614715576, -0.048900000751018524, -0.2687999904155731, 2.1958999633789062, 2.193000078201294, 2.192500114440918, 2.1923000812530518, 2.18969988822937, 2.1882998943328857, 2.1872000694274902, 2.1867001056671143, 2.186500072479248, 2.1858999729156494, 2.1849000453948975, 2.1847000122070312, 2.18179988861084, 2.1751999855041504, 2.1710000038146973, 2.1700000762939453, 2.1700000762939453, 2.1672000885009766, 2.165800094604492, 2.1649999618530273, 2.1644999980926514, 2.164299964904785, 2.164099931716919, 2.162600040435791, 2.1619999408721924, 2.1619999408721924, 2.1612000465393066, 2.158900022506714, 2.1568000316619873, 2.156100034713745, 2.1470000743865967, 2.124300003051758, 2.1461000442504883, 2.08870005607605, 2.1034998893737793, 2.0248000621795654, 2.076900005340576, 1.948199987411499, 2.13070011138916, 2.0741000175476074, 2.007499933242798, 2.0199999809265137, 1.916200041770935, 2.1289000511169434, 1.9301999807357788, 1.827299952507019, 1.9157999753952026, 1.7868000268936157, 1.694599986076355, 1.919100046157837, 1.573699951171875, 1.7740000486373901, 1.4945000410079956, 1.9350999593734741, 1.965499997138977, 1.966599941253662, 1.8107999563217163, 1.5614999532699585, 1.6232999563217163, 1.5855000019073486, 1.4769999980926514, 1.0455000400543213, 0.5965999960899353, 0.6891000270843506, 1.2302000522613525, 1.1437000036239624, 0.48840001225471497, 0.9793000221252441, 0.08789999783039093, 0.053199999034404755, 0.5440999865531921, 0.8029999732971191, -0.24390000104904175, 0.6437000036239624, -0.16940000653266907, 0.6284000277519226, -0.26339998841285706, 0.10100000351667404, -0.24889999628067017, -0.3515999913215637, 2.222100019454956, 2.2147998809814453, 2.2102999687194824, 2.2060999870300293, 2.2030999660491943, 2.199700117111206, 2.1989998817443848, 2.198899984359741, 2.1984000205993652, 2.1970999240875244, 2.196899890899658, 2.1963999271392822, 2.194999933242798, 2.1947999000549316, 2.194200038909912, 2.190500020980835, 2.190000057220459, 2.1898999214172363, 2.189300060272217, 2.187999963760376, 2.1863999366760254, 2.1837000846862793, 2.1826999187469482, 2.1823999881744385, 2.1816999912261963, 2.17930006980896, 2.177999973297119, 2.1758999824523926, 2.175600051879883, 2.175600051879883, 2.170799970626831, 2.1563000679016113, 2.0715999603271484, 2.138000011444092, 2.0241000652313232, 2.049499988555908, 1.9007999897003174, 1.8562999963760376, 1.780400037765503, 1.8909000158309937, 2.0313000679016113, 2.065200090408325, 1.9464000463485718, 2.0901999473571777, 1.6571999788284302, 2.060499906539917, 1.6962000131607056, 1.9048000574111938, 1.998900055885315, 1.7692999839782715, 1.871999979019165, 1.673799991607666, 1.5657999515533447, 1.8244999647140503, 1.4041999578475952, 1.3461999893188477, 1.7410999536514282, 1.4809000492095947, 1.8336999416351318, 1.6598000526428223, 1.4602999687194824, 1.2305999994277954, 1.3492000102996826, 1.263800024986267, 1.5501999855041504, 1.4780000448226929, 0.7383000254631042, 1.0880000591278076, 0.6841999888420105, 1.1505999565124512, 0.5121999979019165, 0.8809000253677368, 0.3582000136375427, 0.5590999722480774, 0.8246999979019165, 1.3593000173568726, 0.5317999720573425, 0.7588000297546387, 0.04470000043511391, 0.7803999781608582, 0.8080000281333923, 0.271699994802475, -0.352400004863739, -0.3424000144004822, 0.4050999879837036, 2.309999942779541, 2.3015999794006348, 2.2997000217437744, 2.29830002784729, 2.2955000400543213, 2.2929000854492188, 2.292799949645996, 2.290600061416626, 2.2904999256134033, 2.2904000282287598, 2.2897000312805176, 2.288100004196167, 2.2876999378204346, 2.287400007247925, 2.2871999740600586, 2.2869999408721924, 2.286400079727173, 2.285399913787842, 2.285399913787842, 2.282399892807007, 2.2811999320983887, 2.281100034713745, 2.280900001525879, 2.2804999351501465, 2.2799999713897705, 2.279900074005127, 2.279599905014038, 2.275899887084961, 2.2753000259399414, 2.273900032043457, 2.272900104522705, 2.261899948120117, 2.2614998817443848, 2.198499917984009, 2.2274999618530273, 2.245699882507324, 2.164099931716919, 2.1840999126434326, 2.184999942779541, 2.2467000484466553, 1.9901000261306763, 2.0329999923706055, 1.844099998474121, 2.101099967956543, 1.5614999532699585, 2.1977999210357666, 1.8009999990463257, 1.864799976348877, 1.587499976158142, 1.3666000366210938, 0.6942999958992004, 1.4788000583648682, 0.6836000084877014, 1.541599988937378, 1.4718999862670898, 1.1907000541687012, 1.708799958229065, 0.7005000114440918, 0.870199978351593, 0.32429999113082886, 0.7346000075340271, 0.7329999804496765, 0.7123000025749207, 1.0521999597549438, 0.6428999900817871, 0.604200005531311, 0.513700008392334, 0.33559998869895935, 0.18070000410079956, 0.8136000037193298, 0.337799996137619, 0.6891000270843506, 0.7785999774932861, 0.024299999698996544, 0.38179999589920044, 0.5152999758720398, -0.3772999942302704, 0.3325999975204468, 0.487199991941452, 0.6150000095367432, 0.4830000102519989, -0.05469999834895134, 0.17900000512599945, 0.5254999995231628, -0.18870000541210175, 0.4902999997138977, -1.0710999965667725, 2.373199939727783, 2.36899995803833, 2.3684000968933105, 2.367500066757202, 2.36680006980896, 2.363300085067749, 2.3564000129699707, 2.350600004196167, 2.3499999046325684, 2.3461999893188477, 2.345400094985962, 2.342600107192993, 2.342400074005127, 2.341099977493286, 2.339099884033203, 2.338900089263916, 2.338599920272827, 2.338399887084961, 2.337899923324585, 2.3362998962402344, 2.336199998855591, 2.3355000019073486, 2.33489990234375, 2.332900047302246, 2.3326001167297363, 2.332200050354004, 2.3317999839782715, 2.331700086593628, 2.331700086593628, 2.3304998874664307, 2.313699960708618, 2.3304998874664307, 2.280900001525879, 2.2497000694274902, 2.1582999229431152, 2.237600088119507, 2.2400999069213867, 2.280100107192993, 2.125499963760376, 2.2678000926971436, 2.2367000579833984, 2.1659998893737793, 2.265399932861328, 2.1377999782562256, 2.1963000297546387, 2.0011000633239746, 1.8389999866485596, 2.0179998874664307, 2.014400005340576, 1.8588000535964966, 1.4459999799728394, 1.6047999858856201, 1.936900019645691, 1.4143999814987183, 1.8339999914169312, 1.3406000137329102, 1.905900001525879, 1.1855000257492065, 1.4127000570297241, 1.552299976348877, 1.7632999420166016, 0.5796999931335449, 0.9161999821662903, 1.238800048828125, 0.9857000112533569, 1.2848999500274658, 0.43389999866485596, 0.9993000030517578, 0.01940000057220459, 0.4551999866962433, 0.8881999850273132, 0.08389999717473984, -0.05429999902844429, 0.11129999905824661, 0.16619999706745148, 1.0507999658584595, 0.42160001397132874, 0.22130000591278076, -0.06880000233650208, 0.5819000005722046, 0.11829999834299088, -0.5049999952316284, 0.3472000062465668, 0.33180001378059387, 2.8640999794006348, 2.852099895477295, 2.8519999980926514, 2.851300001144409, 2.8494999408721924, 2.846400022506714, 2.8452000617980957, 2.844099998474121, 2.8401999473571777, 2.8394999504089355, 2.837399959564209, 2.834700107574463, 2.8280999660491943, 2.8259999752044678, 2.825700044631958, 2.8245999813079834, 2.82450008392334, 2.817699909210205, 2.8169000148773193, 2.8153998851776123, 2.8143999576568604, 2.811199903488159, 2.8111000061035156, 2.808300018310547, 2.808199882507324, 2.8080999851226807, 2.805999994277954, 2.80430006980896, 2.803499937057495, 2.802999973297119, 2.7897000312805176, 2.8015999794006348, 2.7901999950408936, 2.75219988822937, 2.6761999130249023, 2.60479998588562, 2.5485999584198, 2.2701001167297363, 2.3134000301361084, 2.1867001056671143, 2.1598000526428223, 2.0708999633789062, 2.570199966430664, 2.362600088119507, 2.6572999954223633, 1.7178000211715698, 1.9830000400543213, 2.59689998626709, 0.8267999887466431, 1.3552000522613525, 2.0422000885009766, 0.7587000131607056, 1.124400019645691, 0.972100019454956, 1.3365999460220337, 1.031599998474121, 1.1447999477386475, 1.0677000284194946, 1.2604999542236328, 0.9517999887466431, 1.2681000232696533, 0.1770000010728836, 0.0934000015258789, 0.6601999998092651, 0.09309999644756317, -0.26499998569488525, 0.9703999757766724, 0.06120000034570694, 1.1187000274658203, 1.4074000120162964, -0.20550000667572021, 0.14970000088214874, -0.2498999983072281, -0.2703999876976013, -0.5752999782562256, 4.033699989318848, 4.02869987487793, 4.028600215911865, 4.025100231170654, 4.016499996185303, 4.006499767303467, 4.005000114440918, 4.002399921417236, 3.997299909591675, 3.9960999488830566, 3.993499994277954, 3.992300033569336, 3.9900999069213867, 3.989799976348877, 3.98799991607666, 3.9872000217437744, 3.9863998889923096, 3.9844000339508057, 3.9842000007629395, 3.9839999675750732, 3.983099937438965, 3.982100009918213, 3.980299949645996, 3.98009991645813, 3.9797000885009766, 3.978300094604492, 3.9772000312805176, 3.976599931716919, 3.9758999347686768, 3.968400001525879, 3.8989999294281006, 3.904900074005127, 3.7227001190185547, 3.6398000717163086, 3.6542000770568848, 3.8863000869750977, 3.76990008354187, 3.880000114440918, 3.6317999362945557, 3.2177999019622803, 3.2676000595092773, 2.6082000732421875, 3.2883999347686768, 2.963200092315674, 3.3564000129699707, 2.805999994277954, 2.1315999031066895, 3.310699939727783, 2.9296000003814697, 1.4036999940872192, 2.538599967956543, 2.37719988822937, 2.402100086212158, 1.0586999654769897, 2.164599895477295, 2.030400037765503, -0.5174999833106995, 0.6216999888420105, -0.48899999260902405, 1.3278000354766846, 0.22179999947547913, 0.3605000078678131, 2.00819993019104, 0.9081000089645386, 0.12430000305175781, -1.488800048828125, 4.1280999183654785, 4.12060022354126, 4.117700099945068, 4.111100196838379, 4.110799789428711, 4.109799861907959, 4.107900142669678, 4.106200218200684, 4.105500221252441, 4.10230016708374, 4.09689998626709, 4.09630012512207, 4.0945000648498535, 4.088200092315674, 4.0879998207092285, 4.087200164794922, 4.081500053405762, 4.0802998542785645, 4.079500198364258, 4.073599815368652, 4.072700023651123, 4.072700023651123, 4.070700168609619, 4.069499969482422, 4.068399906158447, 4.066800117492676, 4.065299987792969, 4.064199924468994, 4.064000129699707, 4.063799858093262, 4.007199764251709, 3.954200029373169, 4.034200191497803, 3.9133999347686768, 3.8580000400543213, 3.6995999813079834, 3.6196999549865723, 3.5908000469207764, 3.3536999225616455, 3.8124001026153564, 3.7936999797821045, 3.1031999588012695, 2.7344000339508057, 2.555999994277954, 0.5085999965667725, 1.0729999542236328, 2.5476999282836914, 1.4687000513076782, 1.746399998664856, -0.32170000672340393, 0.527400016784668, -0.6909000277519226, 1.0516999959945679, -0.6022999882698059, 1.0162999629974365, 1.6892999410629272, -0.7878999710083008, -0.4781999886035919], \"logprob\": [30.0, 29.0, 28.0, 27.0, 26.0, 25.0, 24.0, 23.0, 22.0, 21.0, 20.0, 19.0, 18.0, 17.0, 16.0, 15.0, 14.0, 13.0, 12.0, 11.0, 10.0, 9.0, 8.0, 7.0, 6.0, 5.0, 4.0, 3.0, 2.0, 1.0, -6.002600193023682, -7.068699836730957, -7.114699840545654, -6.53410005569458, -7.566100120544434, -7.577499866485596, -7.54449987411499, -7.492000102996826, -7.707099914550781, -7.35699987411499, -6.397200107574463, -7.967299938201904, -8.001299858093262, -7.999499797821045, -8.088700294494629, -8.088000297546387, -8.17199993133545, -8.179499626159668, -7.81850004196167, -8.257100105285645, -8.274999618530273, -8.261799812316895, -8.318499565124512, -8.365799903869629, -8.342300415039062, -8.353899955749512, -8.38759994506836, -8.371199607849121, -8.483599662780762, -8.513299942016602, -5.280900001525879, -7.017899990081787, -6.544099807739258, -6.590000152587891, -7.587100028991699, -6.719900131225586, -7.275199890136719, -7.31220006942749, -4.778800010681152, -6.160799980163574, -6.037600040435791, -5.8383002281188965, -6.106900215148926, -5.966899871826172, -5.784200191497803, -5.720099925994873, -4.9492998123168945, -5.683199882507324, -5.1153998374938965, -5.816100120544434, -5.722599983215332, -6.555799961090088, -5.133699893951416, -4.78879976272583, -4.921800136566162, -6.485300064086914, -6.698400020599365, -5.500199794769287, -5.672500133514404, -5.091800212860107, -5.973199844360352, -5.30079984664917, -5.596799850463867, -5.124000072479248, -5.293300151824951, -5.742400169372559, -4.604499816894531, -5.378699779510498, -5.165599822998047, -4.292099952697754, -5.349699974060059, -5.4695000648498535, -4.491399765014648, -5.1331000328063965, -5.001699924468994, -4.665200233459473, -5.462100028991699, -4.723299980163574, -5.134500026702881, -4.958700180053711, -5.248700141906738, -5.177700042724609, -5.342899799346924, -5.229100227355957, -5.272900104522705, -5.459799766540527, -5.530799865722656, -5.323999881744385, -5.60129976272583, -6.704999923706055, -6.682499885559082, -6.837100028991699, -7.398799896240234, -7.537700176239014, -4.978400230407715, -7.697299957275391, -7.348400115966797, -7.209400177001953, -7.769700050354004, -7.829599857330322, -7.824699878692627, -7.548399925231934, -6.31689977645874, -6.473599910736084, -7.977200031280518, -7.963799953460693, -8.1003999710083, -8.10949993133545, -8.129300117492676, -7.978300094604492, -8.182000160217285, -8.240300178527832, -8.257499694824219, -8.138299942016602, -8.304100036621094, -8.307700157165527, -6.573999881744385, -6.785900115966797, -4.387499809265137, -7.9120001792907715, -5.037099838256836, -7.517899990081787, -7.2941999435424805, -6.546299934387207, -5.448999881744385, -6.601799964904785, -6.2515997886657715, -6.384799957275391, -7.012199878692627, -5.677000045776367, -3.6898000240325928, -5.851200103759766, -6.3445000648498535, -3.8887999057769775, -3.9159998893737793, -5.017000198364258, -4.711699962615967, -4.882400035858154, -5.15910005569458, -5.438600063323975, -5.418300151824951, -4.8968000411987305, -4.719900131225586, -4.686299800872803, -5.264200210571289, -5.151299953460693, -4.654099941253662, -5.019800186157227, -4.8256001472473145, -4.936100006103516, -5.111100196838379, -4.997099876403809, -5.339600086212158, -5.4781999588012695, -5.317399978637695, -5.399400234222412, -5.475100040435791, -5.974699974060059, -6.7754998207092285, -6.88700008392334, -7.343900203704834, -7.472599983215332, -7.432700157165527, -7.642300128936768, -7.350100040435791, -7.616099834442139, -7.847799777984619, -7.807000160217285, -7.901199817657471, -7.921800136566162, -8.005800247192383, -7.242300033569336, -8.038700103759766, -8.050999641418457, -8.083600044250488, -7.619100093841553, -8.113499641418457, -8.128999710083008, -8.179900169372559, -7.94789981842041, -8.240599632263184, -8.288100242614746, -8.298700332641602, -5.811200141906738, -8.320599555969238, -8.315899848937988, -8.32129955291748, -6.345200061798096, -7.480000019073486, -7.892399787902832, -7.421599864959717, -7.024799823760986, -6.435699939727783, -6.551300048828125, -7.498000144958496, -4.932199954986572, -6.998700141906738, -7.096199989318848, -7.644100189208984, -7.293099880218506, -7.054999828338623, -7.752900123596191, -7.4039998054504395, -6.0177998542785645, -6.666500091552734, -7.232399940490723, -5.82889986038208, -6.660600185394287, -5.216100215911865, -5.783999919891357, -5.469900131225586, -5.496200084686279, -5.385499954223633, -5.603000164031982, -4.606599807739258, -4.661099910736084, -5.481100082397461, -6.589399814605713, -4.810299873352051, -4.78000020980835, -4.705699920654297, -5.810200214385986, -5.903900146484375, -5.289299964904785, -5.5157999992370605, -4.696499824523926, -5.404900074005127, -6.2382001876831055, -5.688899993896484, -5.309700012207031, -5.650100231170654, -5.526700019836426, -5.666900157928467, -5.4822001457214355, -5.6529998779296875, -5.639500141143799, -5.763800144195557, -5.757699966430664, -5.631100177764893, -5.743199825286865, -5.736100196838379, -7.043499946594238, -6.711299896240234, -5.31220006942749, -7.189300060272217, -7.509799957275391, -7.587600231170654, -7.622499942779541, -7.658599853515625, -7.6697001457214355, -7.243000030517578, -7.725399971008301, -5.4217000007629395, -7.824999809265137, -8.02869987487793, -8.165800094604492, -6.531799793243408, -8.19260025024414, -8.2608003616333, -8.291399955749512, -8.309499740600586, -8.319700241088867, -8.318599700927734, -8.329400062561035, -8.206600189208984, -7.955900192260742, -8.375100135803223, -8.388400077819824, -8.29539966583252, -8.477999687194824, -8.491499900817871, -5.891600131988525, -5.896599769592285, -7.737500190734863, -6.477799892425537, -6.892399787902832, -5.168900012969971, -6.397200107574463, -4.020599842071533, -7.551599979400635, -6.483500003814697, -5.348299980163574, -5.579699993133545, -4.750999927520752, -7.57859992980957, -6.030399799346924, -5.257900238037109, -6.06879997253418, -5.32919979095459, -4.822500228881836, -6.214200019836426, -4.4618000984191895, -5.585700035095215, -4.414899826049805, -6.453000068664551, -6.6097002029418945, -6.636899948120117, -6.1006999015808105, -5.366300106048584, -5.703499794006348, -5.6209001541137695, -5.541100025177002, -4.650100231170654, -3.9107000827789307, -4.215400218963623, -5.177299976348877, -5.460299968719482, -4.832499980926514, -5.331099987030029, -4.495299816131592, -4.734099864959717, -5.190499782562256, -5.372000217437744, -4.909900188446045, -5.315400123596191, -5.091899871826172, -5.3892998695373535, -5.2459001541137695, -5.317500114440918, -5.310299873352051, -5.351500034332275, -6.102799892425537, -6.951000213623047, -7.278600215911865, -7.391300201416016, -7.585599899291992, -7.488800048828125, -7.797900199890137, -6.468599796295166, -7.829999923706055, -7.80709981918335, -7.879300117492676, -7.872499942779541, -7.660399913787842, -7.948800086975098, -7.966000080108643, -8.062100410461426, -8.084699630737305, -8.090499877929688, -8.101900100708008, -8.134699821472168, -7.881999969482422, -8.243900299072266, -8.262999534606934, -8.275199890136719, -8.290800094604492, -8.300399780273438, -8.355299949645996, -8.410900115966797, -8.359100341796875, -8.38860034942627, -7.856800079345703, -7.490499973297119, -6.335899829864502, -7.65339994430542, -6.070700168609619, -6.567599773406982, -5.103099822998047, -4.715400218963623, -4.100500106811523, -5.317599773406982, -6.711999893188477, -7.027900218963623, -6.313399791717529, -7.369699954986572, -4.507199764251709, -7.177800178527832, -4.964600086212158, -6.307600021362305, -6.94350004196167, -5.957499980926514, -6.476399898529053, -5.655600070953369, -5.237199783325195, -6.2891998291015625, -4.741799831390381, -4.5802001953125, -6.163700103759766, -5.354499816894531, -6.467800140380859, -6.0233001708984375, -5.55049991607666, -4.995800018310547, -5.314000129699707, -5.216100215911865, -5.905600070953369, -5.804999828338623, -4.611599922180176, -5.237100124359131, -4.7052998542785645, -5.371300220489502, -4.70389986038208, -5.151199817657471, -4.624300003051758, -4.908199787139893, -5.279799938201904, -5.766900062561035, -5.162499904632568, -5.342100143432617, -5.0167999267578125, -5.467800140380859, -5.549300193786621, -5.432700157165527, -5.274899959564209, -5.342299938201904, -5.4959001541137695, -7.192599773406982, -7.590000152587891, -7.677800178527832, -7.533299922943115, -7.78439998626709, -7.883299827575684, -7.903299808502197, -7.933599948883057, -7.820099830627441, -7.967800140380859, -7.9893999099731445, -8.029000282287598, -8.021100044250488, -8.050399780273438, -8.055299758911133, -8.043100357055664, -8.073599815368652, -8.099300384521484, -8.10159969329834, -8.171299934387207, -8.19729995727539, -8.200900077819824, -8.191900253295898, -8.212699890136719, -8.224300384521484, -8.07229995727539, -8.231200218200684, -8.298999786376953, -8.321100234985352, -8.347599983215332, -8.247200012207031, -7.379700183868408, -7.474899768829346, -5.923799991607666, -7.159800052642822, -7.638500213623047, -7.080699920654297, -7.315100193023682, -7.367000102996826, -7.931099891662598, -6.486000061035156, -6.964799880981445, -6.592199802398682, -7.455100059509277, -5.889900207519531, -7.799699783325195, -6.728799819946289, -6.949999809265137, -6.269199848175049, -5.731400012969971, -4.2281999588012695, -6.1143999099731445, -4.316400051116943, -6.271500110626221, -6.222799777984619, -5.750100135803223, -6.835899829864502, -5.072400093078613, -5.366000175476074, -4.4629998207092285, -5.200300216674805, -5.2266998291015625, -5.281199932098389, -5.826399803161621, -5.31689977645874, -5.296899795532227, -5.2210001945495605, -5.053899765014648, -4.880799770355225, -5.666299819946289, -5.12939977645874, -5.541500091552734, -5.660900115966797, -4.958199977874756, -5.3125, -5.5106000900268555, -4.884500026702881, -5.402400016784668, -5.530399799346924, -5.680500030517578, -5.606400012969971, -5.3755998611450195, -5.5254998207092285, -5.690199851989746, -5.642099857330322, -5.701399803161621, -5.654300212860107, -6.674099922180176, -6.970200061798096, -6.041600227355957, -7.104300022125244, -7.02869987487793, -7.334700107574463, -7.6118998527526855, -7.749199867248535, -7.7779998779296875, -7.9309000968933105, -7.950300216674805, -8.031100273132324, -8.009400367736816, -8.066100120544434, -8.114700317382812, -8.113499641418457, -8.123900413513184, -8.13010025024414, -8.141200065612793, -7.147200107574463, -8.17490005493164, -7.374800205230713, -8.205400466918945, -8.241100311279297, -7.738100051879883, -6.62060022354126, -8.267600059509277, -8.268899917602539, -8.268600463867188, -8.104999542236328, -6.048099994659424, -8.10949993133545, -6.503699779510498, -6.010499954223633, -4.353099822998047, -5.915599822998047, -6.316199779510498, -7.094799995422363, -5.0346999168396, -7.16510009765625, -6.857500076293945, -6.3491997718811035, -7.44789981842041, -6.395299911499023, -7.035299777984619, -5.8703999519348145, -4.906899929046631, -6.098199844360352, -6.212100028991699, -5.620699882507324, -4.331500053405762, -5.003600120544434, -6.396200180053711, -5.189000129699707, -6.186100006103516, -5.050899982452393, -6.3668999671936035, -4.913099765777588, -5.381400108337402, -5.780300140380859, -6.126800060272217, -4.32480001449585, -4.891200065612793, -5.385200023651123, -5.118599891662598, -5.55049991607666, -4.565999984741211, -5.234000205993652, -4.4878997802734375, -4.9633002281188965, -5.347899913787842, -4.703400135040283, -4.637499809265137, -4.811200141906738, -4.895199775695801, -5.493500232696533, -5.173699855804443, -5.099599838256836, -5.051300048828125, -5.377799987792969, -5.231599807739258, -5.171000003814697, -5.348400115966797, -5.4028000831604, -4.04580020904541, -6.438000202178955, -6.408299922943115, -6.503799915313721, -6.612400054931641, -6.767000198364258, -6.842800140380859, -6.797999858856201, -7.063000202178955, -7.092800140380859, -7.169400215148926, -7.194799900054932, -7.451399803161621, -7.509099960327148, -7.518700122833252, -7.54610013961792, -7.5472002029418945, -6.794899940490723, -7.665800094604492, -7.745299816131592, -7.769599914550781, -7.81820011138916, -7.833700180053711, -7.884300231933594, -7.85699987411499, -7.881400108337402, -7.92519998550415, -7.9542999267578125, -7.9670000076293945, -7.974100112915039, -7.205999851226807, -7.8557000160217285, -7.398399829864502, -6.275100231170654, -6.237599849700928, -6.222300052642822, -5.780700206756592, -4.140399932861328, -4.467299938201904, -4.190800189971924, -4.439700126647949, -4.090199947357178, -6.742300033569336, -6.332600116729736, -7.112100124359131, -4.799300193786621, -5.660200119018555, -7.039599895477295, -4.0777997970581055, -4.9730000495910645, -6.2505998611450195, -4.59119987487793, -5.091300010681152, -4.971099853515625, -5.4070000648498535, -5.055699825286865, -5.1971001625061035, -5.124100208282471, -5.338699817657471, -5.083600044250488, -5.366499900817871, -4.406199932098389, -4.572700023651123, -5.117300033569336, -4.889400005340576, -4.772299766540527, -5.460899829864502, -5.154900074005127, -5.594200134277344, -5.714900016784668, -5.127999782562256, -5.303699970245361, -5.249899864196777, -5.331900119781494, -5.362599849700928, -5.6921000480651855, -5.896900177001953, -5.89739990234375, -6.029900074005127, -6.284800052642822, -6.51639986038208, -6.548299789428711, -6.597499847412109, -6.692800045013428, -6.67110013961792, -6.758999824523926, -6.777299880981445, -6.81220006942749, -6.817299842834473, -6.84660005569458, -6.8572001457214355, -6.3506999015808105, -6.898799896240234, -6.902699947357178, -6.905700206756592, -6.917900085449219, -6.932700157165527, -6.954100131988525, -6.960400104522705, -6.0879998207092285, -6.984799861907959, -6.98330020904541, -7.007500171661377, -7.01639986038208, -7.109399795532227, -5.143700122833252, -6.415200233459473, -5.298099994659424, -4.91949987411499, -5.320000171661377, -6.530300140380859, -6.133699893951416, -6.5625, -6.155099868774414, -5.426499843597412, -5.599899768829346, -4.857699871063232, -6.013400077819824, -5.636000156402588, -6.1082000732421875, -5.531700134277344, -4.853899955749512, -6.279600143432617, -6.015999794006348, -5.142899990081787, -5.8495001792907715, -5.856500148773193, -5.888999938964844, -5.565299987792969, -5.942399978637695, -5.930300235748291, -5.304800033569336, -5.609300136566162, -5.488900184631348, -5.848400115966797, -5.795899868011475, -5.872799873352051, -5.999000072479248, -5.970600128173828, -5.985400199890137, -5.996099948883057, -5.351799964904785, -5.72629976272583, -5.848299980163574, -6.058300018310547, -6.072400093078613, -6.100900173187256, -6.155099868774414, -6.193900108337402, -6.209400177001953, -5.386199951171875, -6.384099960327148, -6.428299903869629, -5.372000217437744, -6.452300071716309, -6.5808000564575195, -6.60230016708374, -3.9230000972747803, -6.716400146484375, -6.729300022125244, -6.793900012969971, -6.8308000564575195, -6.831299781799316, -6.859899997711182, -6.874899864196777, -6.890600204467773, -6.910299777984619, -6.92710018157959, -6.944300174713135, -6.935400009155273, -6.948599815368652, -5.416900157928467, -4.898600101470947, -6.415500164031982, -4.804200172424316, -4.874300003051758, -4.092700004577637, -4.6066999435424805, -5.02370023727417, -5.35129976272583, -6.2845001220703125, -6.310400009155273, -5.559899806976318, -5.161600112915039, -5.1732001304626465, -4.157400131225586, -4.636300086975098, -5.565700054168701, -5.100599765777588, -5.536300182342529, -4.828999996185303, -5.339000225067139, -5.274099826812744, -5.746500015258789, -5.524799823760986, -5.817500114440918, -5.909900188446045, -5.787799835205078, -5.828100204467773]}, \"token.table\": {\"Topic\": [1, 2, 3, 4, 5, 6, 7, 8, 9, 10, 1, 2, 3, 4, 5, 6, 7, 8, 9, 10, 1, 2, 3, 4, 5, 6, 7, 8, 9, 5, 9, 1, 2, 3, 4, 5, 6, 7, 8, 9, 1, 2, 3, 4, 5, 6, 7, 8, 9, 1, 2, 3, 4, 5, 6, 7, 8, 9, 1, 2, 3, 4, 5, 6, 7, 8, 9, 10, 6, 9, 5, 6, 3, 10, 1, 3, 4, 6, 9, 3, 10, 7, 1, 7, 8, 9, 1, 2, 3, 4, 5, 6, 7, 8, 9, 10, 1, 2, 3, 4, 5, 6, 7, 8, 9, 10, 1, 2, 3, 4, 5, 6, 7, 8, 9, 10, 10, 9, 10, 1, 2, 3, 4, 5, 6, 7, 8, 9, 10, 2, 5, 6, 7, 8, 8, 10, 3, 5, 6, 5, 1, 2, 4, 5, 6, 8, 3, 4, 5, 6, 7, 5, 1, 2, 3, 4, 5, 6, 7, 8, 9, 10, 3, 9, 1, 2, 3, 4, 5, 6, 7, 8, 3, 2, 1, 2, 6, 8, 10, 1, 2, 3, 4, 5, 6, 7, 8, 1, 2, 3, 4, 6, 7, 8, 10, 1, 2, 3, 10, 6, 9, 6, 1, 2, 3, 4, 5, 6, 7, 8, 9, 10, 1, 2, 3, 4, 5, 6, 7, 9, 1, 2, 3, 6, 7, 4, 1, 3, 4, 6, 7, 1, 2, 3, 4, 5, 6, 7, 8, 9, 10, 8, 3, 7, 3, 1, 4, 5, 6, 8, 5, 9, 1, 2, 3, 6, 9, 10, 1, 2, 3, 6, 7, 10, 1, 2, 6, 7, 8, 1, 2, 3, 4, 6, 7, 8, 1, 9, 5, 6, 2, 2, 1, 2, 3, 4, 5, 6, 7, 8, 9, 10, 1, 2, 3, 4, 5, 6, 7, 8, 9, 10, 3, 6, 7, 9, 1, 2, 3, 4, 5, 6, 7, 8, 10, 7, 2, 3, 3, 4, 6, 5, 6, 7, 1, 2, 5, 6, 7, 8, 10, 1, 2, 3, 4, 7, 3, 7, 8, 1, 1, 1, 1, 2, 4, 1, 2, 4, 8, 6, 1, 2, 3, 6, 7, 8, 2, 2, 1, 2, 3, 4, 5, 6, 7, 8, 10, 8, 1, 2, 3, 5, 6, 7, 10, 1, 2, 3, 4, 5, 6, 7, 8, 9, 10, 2, 1, 2, 3, 4, 5, 6, 7, 8, 9, 3, 7, 8, 2, 3, 4, 5, 6, 7, 9, 10, 2, 3, 4, 5, 6, 7, 1, 2, 3, 4, 5, 6, 7, 8, 2, 2, 5, 1, 2, 3, 4, 6, 7, 9, 3, 5, 6, 7, 6, 6, 3, 1, 2, 3, 7, 9, 2, 10, 2, 3, 4, 5, 6, 7, 8, 6, 1, 2, 3, 5, 6, 7, 8, 1, 2, 3, 5, 8, 10, 1, 2, 3, 6, 7, 8, 2, 2, 1, 10, 1, 2, 10, 1, 2, 3, 4, 6, 7, 8, 1, 2, 9, 1, 2, 6, 3, 4, 2, 7, 1, 3, 4, 5, 6, 7, 9, 10, 1, 3, 4, 5, 6, 9, 7, 1, 2, 3, 4, 5, 6, 7, 8, 9, 10, 3, 4, 5, 6, 7, 3, 6, 9, 1, 2, 3, 7, 10, 6, 4, 1, 3, 7, 8, 1, 2, 3, 4, 5, 6, 7, 8, 9, 10, 6, 5, 3, 4, 5, 3, 5, 6, 7, 1, 2, 3, 5, 6, 7, 8, 1, 2, 3, 4, 5, 6, 7, 8, 9, 10, 8, 6, 3, 7, 1, 2, 3, 4, 5, 6, 7, 8, 9, 10, 1, 2, 3, 5, 6, 7, 8, 1, 2, 3, 4, 5, 6, 7, 8, 9, 1, 6, 7, 4, 10, 1, 2, 8, 1, 2, 3, 4, 6, 7, 8, 9, 10, 9, 1, 2, 6, 8, 10, 1, 2, 5, 6, 10, 1, 2, 3, 7, 1, 2, 1, 2, 3, 4, 5, 6, 7, 8, 10, 1, 2, 3, 5, 6, 7, 8, 3, 1, 3, 4, 6, 9, 1, 2, 3, 4, 5, 6, 7, 8, 9, 10, 3, 5, 3, 5, 1, 2, 3, 4, 5, 6, 7, 8, 10, 1, 3, 8, 8, 1, 2, 3, 6, 8, 4, 10, 1, 3, 4, 10, 8, 5, 6, 9, 1, 2, 5, 6, 7, 8, 10, 4, 10, 5, 1, 3, 5, 6, 7, 8, 9, 7, 3, 5, 10, 1, 2, 3, 4, 5, 6, 7, 8, 9, 10, 1, 2, 3, 4, 5, 6, 7, 8, 9, 10, 6, 7, 3, 6, 1, 2, 3, 4, 5, 6, 7, 8, 10, 1, 8, 1, 2, 3, 7, 8, 1, 5, 7, 2, 1, 2, 3, 4, 5, 6, 7, 8, 9, 10, 1, 2, 3, 5, 8, 1, 3, 7, 7, 1, 2, 3, 4, 5, 6, 7, 8, 9, 10, 1, 3, 4, 5, 6, 7, 8, 9, 1, 2, 3, 4, 5, 6, 7, 8, 10, 4, 1, 2, 3, 4, 5, 6, 7, 8, 9, 10, 5, 1, 2, 1, 7, 1, 3, 7, 1, 3, 4, 6, 7, 9, 6, 1, 8, 1, 1, 2, 3, 4, 5, 6, 7, 8, 1, 2, 3, 4, 5, 6, 7, 8, 9, 10, 1, 2, 3, 4, 5, 6, 7, 8, 9, 10, 1, 2, 3, 5, 6, 7, 8, 9, 10, 2, 3, 6, 9, 10, 1, 3, 4, 5, 6, 7, 9, 1, 1, 2, 3, 4, 5, 6, 7, 8, 9, 10, 2, 4, 6, 9, 9, 10, 1, 2, 3, 4, 5, 6, 7, 8, 10, 1, 2, 3, 4, 5, 6, 7, 8, 1, 2, 3, 4, 5, 6, 7, 8, 9, 10, 1, 2, 3, 4, 5, 6, 7, 8, 9, 10, 3, 9, 1, 2, 3, 6, 7, 9, 3, 6, 9, 1, 2, 3, 4, 6, 7, 8, 9, 4, 2, 9, 2, 3, 4, 6, 7, 9, 1, 2, 4, 7, 5, 4, 7, 1, 2, 3, 4, 5, 6, 7, 8, 9, 10, 4, 1, 2, 3, 4, 5, 6, 7, 8, 9, 10, 1, 2, 3, 4, 5, 6, 7, 8, 9, 10, 6, 8, 1, 2, 3, 4, 5, 6, 7, 8, 9, 10, 3, 3, 9, 9, 1, 2, 3, 4, 5, 6, 7, 8, 9, 10, 1, 3, 7, 3, 1, 2, 3, 4, 6, 7, 8, 9, 10, 1, 6, 7, 6, 1, 2, 3, 4, 5, 6, 7, 10, 2, 8, 1, 2, 1, 2, 3, 4, 5, 6, 7, 8, 9, 10, 3, 4, 1, 3, 4, 6, 7, 8, 8, 1, 2, 3, 4, 5, 6, 7, 8, 10, 2, 6, 1, 2, 3, 4, 5, 6, 7, 8, 9, 10, 1, 2, 7, 7, 8, 3, 9, 4, 10, 10, 4, 1, 2, 3, 5, 6, 7, 5, 6, 9, 1, 2, 4, 5, 8, 1, 3, 4, 1, 2, 3, 4, 5, 6, 7, 8, 9, 2, 1, 7, 1, 2, 3, 6, 7, 9, 7, 1, 2, 3, 4, 5, 6, 7, 8, 4, 5, 9, 3, 5, 5, 5, 7, 1, 2, 3, 4, 5, 6, 7, 8, 10, 4, 9, 6, 8, 10, 10, 4, 6, 8, 9, 10, 4, 8, 1, 2, 3, 4, 5, 6, 7, 8, 9, 4, 5, 1, 2, 3, 4, 5, 6, 7, 8, 9, 10, 8, 10, 5, 1, 3, 3, 3, 2, 3, 7, 6, 7, 10, 1, 2, 3, 4, 5, 6, 7, 8, 9, 10, 1, 2, 3, 4, 5, 6, 7, 8, 9, 10, 1, 2, 3, 4, 5, 6, 7, 8, 9, 10, 2, 3, 1, 2, 3, 4, 5, 6, 7, 8, 9, 10, 4, 10, 1, 2, 3, 4, 5, 6, 7, 8, 9, 10, 4, 6, 9, 1, 2, 3, 4, 5, 6, 7, 8, 9, 10, 3, 4, 10, 1, 2, 3, 4, 5, 6, 7, 8, 9, 10, 10, 1, 2, 3, 4, 5, 6, 7, 8, 10, 3, 7, 1, 4, 7, 3, 1, 2, 3, 4, 5, 6, 7, 8, 9, 10, 1, 2, 3, 4, 6, 7, 8, 9, 10, 1, 2, 3, 4, 5, 6, 7, 8, 3, 7, 1, 2, 4, 8, 9, 1, 2, 3, 6, 7, 10, 7, 9, 1, 2, 3, 4, 5, 6, 7, 8, 10, 1, 2, 3, 6, 7, 1, 9, 5, 6, 1, 2, 3, 4, 5, 6, 7, 8, 10, 2, 6, 1, 2, 3, 4, 5, 6, 7, 9, 10, 2, 5, 6, 7, 9, 1, 2, 3, 4, 5, 6, 7, 8, 9, 8, 7, 6, 1, 2, 3, 4, 5, 6, 7, 8, 10, 1, 1, 2, 4, 2, 3, 4, 5, 6, 7, 9, 3, 1, 3, 4, 5, 9, 2, 3, 4, 6, 7, 9, 1, 2, 3, 4, 5, 6, 7, 8, 9, 10, 9, 1, 6, 1, 2, 8, 1, 2, 3, 4, 5, 6, 7, 8, 9, 10, 6, 7, 9, 1, 2, 3, 4, 5, 6, 7, 8, 9, 10, 1, 2, 3, 4, 5, 6, 7, 8, 9, 10, 7, 1, 2, 3, 4, 5, 6, 7, 8, 9, 10, 1, 2, 3, 4, 5, 6, 7, 8, 9, 10, 8, 7, 1, 2, 8, 10, 7, 6, 1, 4, 5, 7, 1, 2, 2, 1, 2, 3, 4, 5, 6, 7, 8, 9, 10, 1, 2, 6, 8, 1, 2, 3, 4, 5, 6, 7, 8, 9, 10, 1, 2, 3, 4, 5, 6, 7, 8, 10, 1, 2, 3, 5, 6, 7, 10, 1, 2, 4, 7, 7, 10, 8, 1, 2, 1, 2, 3, 4, 5, 6, 7, 8, 9, 1, 7, 1, 2, 1, 2, 3, 5, 1, 2, 3, 4, 5, 7, 8, 1, 2, 3, 4, 5, 6, 7, 8, 1, 7, 7, 2, 10, 1, 2, 3, 4, 5, 6, 7, 8, 9, 10, 1, 2, 6, 1, 9, 8, 1, 3, 10, 1, 2, 3, 4, 5, 6, 7, 8, 9, 10, 2, 3, 4, 5, 6, 7, 4, 1, 2, 3, 6, 6, 6, 1, 2, 3, 4, 5, 6, 7, 8, 10, 1, 2, 3, 4, 5, 6, 7, 8, 9, 10, 2, 3, 1, 2, 3, 4, 5, 6, 7, 8, 1, 3, 4, 5, 6, 7, 8, 9, 2, 3, 4, 7, 4, 4, 1, 2, 6, 8, 1, 2, 5, 8, 8, 10, 1, 2, 3, 4, 5, 6, 7, 8, 9, 10, 1, 2, 3, 4, 5, 6, 7, 8, 9, 10, 5, 5, 3, 6, 7, 9, 3, 4, 5, 6, 7, 1, 3, 5, 7, 9, 1, 3, 5, 6, 7, 10, 4, 7, 1, 3, 9, 1, 2, 7, 2, 1, 2, 3, 4, 5, 6, 7, 8, 9, 8, 9, 3, 8, 1, 1, 2, 3, 4, 5, 6, 7, 8, 9, 10, 6, 7, 1, 2, 3, 4, 5, 6, 7, 8, 10, 1, 2, 3, 4, 7, 8, 2, 3, 4, 5, 6, 5, 1, 3, 4, 5, 1, 2, 3, 4, 5, 6, 7, 8, 10, 3, 7, 1, 2, 3, 4, 5, 6, 7, 8, 1, 2, 3, 4, 5, 6, 7, 8, 9, 10, 1, 2, 6, 8, 4, 3, 4, 5, 6, 9, 10, 1, 2, 3, 4, 5, 6, 7, 8, 9, 9, 8, 1, 2, 3, 5, 6, 8, 10, 1, 2, 3, 4, 5, 6, 7, 4, 4, 5, 6, 7, 8, 10, 7, 1, 2, 3, 4, 5, 6, 7, 8, 9, 10, 3, 7, 8, 1, 2, 3, 5, 6, 7, 8, 10, 3, 5, 6, 7, 2, 1, 2, 3, 4, 6, 10, 1, 2, 3, 4, 5, 6, 7, 10, 8, 10, 1, 2, 3, 5, 6, 8, 10, 3, 6, 1, 2, 3, 4, 5, 6, 7, 8, 9, 10, 7, 1, 2, 3, 4, 5, 6, 7, 8, 9, 3, 6, 10, 1, 2, 3, 4, 5, 6, 7, 8, 9, 10, 1, 2, 3, 4, 5, 6, 7, 8, 9, 10, 2, 3, 4, 5, 6, 7, 9, 10, 8, 5, 1, 2, 3, 4, 5, 6, 7, 8, 1, 2, 3, 4, 5, 6, 7, 8, 9, 10, 3, 7, 4, 4, 2, 3, 6, 7, 9, 5, 6, 7, 9, 1, 2, 3, 4, 6, 7, 9, 10, 1, 9, 1, 2, 3, 4, 5, 6, 7, 8, 9, 10, 6, 4, 9, 2, 1, 2, 6, 8, 8, 6, 6, 1, 2, 3, 4, 5, 6, 7, 8, 9, 10, 9, 8, 1, 2, 5, 6, 8, 4, 5, 7, 1, 2, 3, 4, 5, 6, 7, 8, 9, 10, 3, 4, 6, 7, 8, 9, 1, 2, 3, 4, 6, 8, 10, 4, 9, 1, 2, 3, 4, 5, 6, 7, 8, 9, 10, 5, 1, 2, 3, 4, 5, 6, 7, 8, 9, 10, 3, 7, 9, 1, 2, 3, 4, 5, 6, 7, 8, 10, 1, 2, 4, 5, 6, 8, 1, 1, 3, 5, 6, 7, 1, 2, 3, 4, 5, 6, 7, 8, 9, 10, 2, 3, 6, 7, 3, 7, 1, 2, 3, 4, 5, 6, 7, 8, 9, 10, 1, 3, 7, 1, 3, 6, 8, 10, 9, 5, 10, 8, 1, 2, 3, 4, 5, 6, 7, 8, 9, 1, 2, 3, 4, 5, 6, 7, 8, 9, 1, 2, 3, 4, 1, 2, 3, 4, 5, 6, 7, 8, 9, 10, 1, 2, 9, 1, 4, 5, 7, 8, 8, 1, 2, 3, 4, 5, 6, 7, 8, 9, 10, 8, 3, 4, 10, 8, 3, 6, 1, 4, 7, 9, 1, 2, 3, 4, 5, 6, 7, 8, 9, 10, 1, 2, 3, 4, 5, 6, 7, 8, 9, 10, 3, 4, 5, 6, 7, 9, 4, 1, 2, 3, 4, 5, 6, 7, 8, 9, 10, 1, 3, 4, 5, 6, 8, 10, 7, 6, 1, 2, 3, 4, 5, 6, 7, 8, 9, 1, 2, 8, 1, 2, 3, 4, 5, 6, 7, 8, 9, 10, 1, 2, 3, 4, 5, 6, 7, 8, 9, 10, 2, 1, 2, 5, 3, 9, 1, 2, 3, 4, 5, 6, 7, 8, 9, 10, 3, 5, 6, 7, 8, 9, 1, 3, 8, 1, 2, 3, 4, 6, 7, 9, 10, 9, 5, 2, 5, 1, 2, 3, 4, 5, 6, 7, 8, 9, 10, 1, 2, 3, 4, 5, 6, 7, 8, 9, 10, 6, 10, 1, 2, 3, 4, 5, 6, 7, 8, 9, 10, 1, 2, 1, 4, 6, 1, 6, 10, 1, 3, 4, 5, 8, 9, 1, 5, 3, 9, 1, 2, 3, 8, 1, 2, 3, 4, 5, 6, 7, 8, 3, 6, 1, 1, 2, 3, 4, 5, 6, 7, 8, 9, 10, 7, 1, 8, 1, 5, 6, 7, 8, 9, 10, 2, 3, 4, 6, 7, 8, 10, 1, 2, 3, 4, 5, 6, 7, 8, 9, 1, 2, 3, 4, 5, 6, 7, 8, 9, 10, 2, 10, 3, 4, 6, 1, 2, 3, 4, 5, 6, 7, 8, 9, 10, 1, 2, 3, 4, 5, 6, 7, 8, 9, 10, 3, 7, 2, 3, 9, 9, 1, 2, 3, 4, 5, 7, 8, 10, 1, 2, 3, 4, 5, 6, 7, 8, 9, 10, 3, 1, 2, 3, 4, 5, 6, 7, 8, 9, 10, 5, 7, 5, 8, 1, 2, 3, 4, 5, 6, 7, 8, 9, 10, 6, 9, 3, 9, 3, 9, 8, 7, 8, 1], \"Freq\": [0.11863922327756882, 0.09268689155578613, 0.12111087143421173, 0.04078223183751106, 0.14582738280296326, 0.20020368695259094, 0.0963943675160408, 0.17425136268138885, 0.00865077693015337, 0.0012358252424746752, 0.06847982853651047, 0.0717407763004303, 0.045653220266103745, 0.01630472205579281, 0.5674043297767639, 0.09130644053220749, 0.05543605238199234, 0.0717407763004303, 0.006521888542920351, 0.006521888542920351, 0.18494026362895966, 0.14751186966896057, 0.0477028451859951, 0.042565613985061646, 0.12916462123394012, 0.15925411880016327, 0.11375293880701065, 0.16585911810398102, 0.00954056903719902, 0.9794469475746155, 0.9262107610702515, 0.17822511494159698, 0.16202284395694733, 0.09891920536756516, 0.08783343434333801, 0.0869806781411171, 0.11341598629951477, 0.08783343434333801, 0.1790778785943985, 0.005969262216240168, 0.028575008735060692, 0.08832275867462158, 0.10390912741422653, 0.04935683310031891, 0.509154736995697, 0.10910458117723465, 0.020781824365258217, 0.07533411681652069, 0.020781824365258217, 0.15198945999145508, 0.14056168496608734, 0.1428472399711609, 0.060567229986190796, 0.1119922325015068, 0.10627834498882294, 0.07999445497989655, 0.20227168500423431, 0.0034283336717635393, 0.11019688099622726, 0.1758102923631668, 0.12702083587646484, 0.07150179147720337, 0.08580215275287628, 0.08075496554374695, 0.12365604192018509, 0.22039376199245453, 0.002523592673242092, 0.00420598778873682, 0.9403311610221863, 0.9082690477371216, 0.9730450510978699, 0.9538093209266663, 0.25695595145225525, 0.6974518895149231, 0.006274617742747068, 0.5898140668869019, 0.04392232373356819, 0.06902080029249191, 0.28863242268562317, 0.051861200481653214, 0.8816403746604919, 0.9781696200370789, 0.11498402059078217, 0.09198721498250961, 0.7588945627212524, 0.9506798386573792, 0.3350507616996765, 0.16934411227703094, 0.07234510034322739, 0.11559049040079117, 0.02424975298345089, 0.07921586185693741, 0.14064857363700867, 0.0553702712059021, 0.004445787984877825, 0.0036374630872160196, 0.16688908636569977, 0.24933429062366486, 0.16439074277877808, 0.056462474167346954, 0.021485719829797745, 0.05146579444408417, 0.2303469032049179, 0.051965463906526566, 0.0014990037307143211, 0.006495682988315821, 0.32359522581100464, 0.20049849152565002, 0.0876598060131073, 0.14547798037528992, 0.033571839332580566, 0.011190613731741905, 0.04476245492696762, 0.15014073252677917, 0.0027976534329354763, 0.0009325511055067182, 0.9226685166358948, 0.9806797504425049, 0.9501568675041199, 0.1521322876214981, 0.07657665759325027, 0.07657665759325027, 0.057177234441041946, 0.3410213589668274, 0.19909930229187012, 0.042882926762104034, 0.05309314653277397, 0.0010210220934823155, 0.0010210220934823155, 0.0082972077652812, 0.838018000125885, 0.10786370187997818, 0.0331888310611248, 0.0082972077652812, 0.9711247086524963, 0.9591559171676636, 0.008726569823920727, 0.9686492681503296, 0.017453139647841454, 0.9637919068336487, 0.6904801726341248, 0.04466718062758446, 0.014889060519635677, 0.013027927838265896, 0.0018611325649544597, 0.2326415628194809, 0.009414034895598888, 0.04707017168402672, 0.8190209865570068, 0.07531227916479111, 0.04707017168402672, 0.9516900181770325, 0.11109062284231186, 0.14751377701759338, 0.15935130417346954, 0.37515848875045776, 0.01730099879205227, 0.04735010117292404, 0.11018004268407822, 0.008195210248231888, 0.008195210248231888, 0.016390420496463776, 0.9673655033111572, 0.9283996820449829, 0.16253796219825745, 0.08470288664102554, 0.05265314504504204, 0.04807461053133011, 0.5746060609817505, 0.011446335352957249, 0.011446335352957249, 0.05265314504504204, 0.9359050989151001, 0.9952090382575989, 0.2750750780105591, 0.03368266299366951, 0.08420666307210922, 0.011227554641664028, 0.5894466042518616, 0.11709863692522049, 0.057835303246974945, 0.036414820700883865, 0.011424257420003414, 0.5655007362365723, 0.14280322194099426, 0.03998490050435066, 0.027846626937389374, 0.2536076009273529, 0.2090032547712326, 0.012744100764393806, 0.2727237641811371, 0.002548820339143276, 0.02931143343448639, 0.21664972603321075, 0.002548820339143276, 0.2138243466615677, 0.5365780591964722, 0.004034421406686306, 0.24206529557704926, 0.9133051633834839, 0.058922912925481796, 0.9468197226524353, 0.20092035830020905, 0.18136173486709595, 0.08392425626516342, 0.10917264968156815, 0.18847395479679108, 0.1369103342294693, 0.04374018311500549, 0.05191924050450325, 0.001066833734512329, 0.002489278791472316, 0.04084864631295204, 0.018567565828561783, 0.22652430832386017, 0.018567565828561783, 0.014854053035378456, 0.4567621350288391, 0.2228107899427414, 0.003713513258844614, 0.04972563311457634, 0.06630083918571472, 0.8619109392166138, 0.00828760489821434, 0.01657520979642868, 0.9733444452285767, 0.007887433283030987, 0.0630994662642479, 0.8833925724029541, 0.023662300780415535, 0.015774866566061974, 0.07457827031612396, 0.028187062591314316, 0.010570148006081581, 0.7686846852302551, 0.0052850740030407906, 0.0052850740030407906, 0.009395687840878963, 0.09102071821689606, 0.0052850740030407906, 0.0005872304900549352, 0.9658422470092773, 0.09380855411291122, 0.8818003535270691, 0.9863536953926086, 0.011998909525573254, 0.8249250650405884, 0.0839923694729805, 0.0029997273813933134, 0.07199346274137497, 0.10298153758049011, 0.8238523006439209, 0.9367696046829224, 0.01125248707830906, 0.01125248707830906, 0.01969185285270214, 0.002813121769577265, 0.016878731548786163, 0.320441871881485, 0.6303429007530212, 0.03162255138158798, 0.002108170185238123, 0.008432680740952492, 0.008432680740952492, 0.8553960919380188, 0.12743331491947174, 0.00318583264015615, 0.001592916320078075, 0.011150414124131203, 0.04572388529777527, 0.008128690533339977, 0.0010160863166674972, 0.596442699432373, 0.0030482590664178133, 0.0274343304336071, 0.31701892614364624, 0.9853976368904114, 0.9636064767837524, 0.0989825427532196, 0.8908429145812988, 0.9778203964233398, 0.9888479709625244, 0.2655637264251709, 0.316980242729187, 0.13569723069667816, 0.04293545335531235, 0.02332296222448349, 0.022792894393205643, 0.07951010018587112, 0.07579962909221649, 0.010601346381008625, 0.027033433318138123, 0.19843222200870514, 0.29902634024620056, 0.06407707184553146, 0.08130209147930145, 0.0399620458483696, 0.11161812394857407, 0.12677614390850067, 0.0599430650472641, 0.002067002234980464, 0.016536017879843712, 0.09939086437225342, 0.062119290232658386, 0.1118147224187851, 0.7205837368965149, 0.08515959233045578, 0.027251068502664566, 0.0068127671256661415, 0.0034063835628330708, 0.6335873603820801, 0.11241065710783005, 0.0068127671256661415, 0.1226298063993454, 0.0034063835628330708, 0.9612387418746948, 0.9687240123748779, 0.9841634035110474, 0.9512878060340881, 0.9147874116897583, 0.04814670607447624, 0.08588235080242157, 0.03903743252158165, 0.8666309714317322, 0.9610035419464111, 0.025163434445858, 0.001198258833028376, 0.001198258833028376, 0.005991294048726559, 0.002396517666056752, 0.001198258833028376, 0.0013202005065977573, 0.8911353349685669, 0.04752722010016441, 0.039606016129255295, 0.018482808023691177, 0.15758663415908813, 0.026264438405632973, 0.8141975998878479, 0.9817593097686768, 0.9891645312309265, 0.9914568066596985, 0.08590316772460938, 0.8651676177978516, 0.04295158386230469, 0.3678286373615265, 0.008971430361270905, 0.008971430361270905, 0.6010857820510864, 0.965850293636322, 0.48426353931427, 0.0008836925844661891, 0.0008836925844661891, 0.0026510776951909065, 0.0035347703378647566, 0.5072395205497742, 0.9962865710258484, 0.9651135802268982, 0.09396133571863174, 0.130501851439476, 0.0950053483247757, 0.105445496737957, 0.1941867470741272, 0.07203701883554459, 0.2630917429924011, 0.04280460625886917, 0.0020880296360701323, 0.9621062278747559, 0.002660173922777176, 0.007980521768331528, 0.04522295668721199, 0.010640695691108704, 0.33784207701683044, 0.5905585885047913, 0.002660173922777176, 0.07038301229476929, 0.05630641058087349, 0.11495892703533173, 0.018768804147839546, 0.5876981616020203, 0.08915182203054428, 0.04222980886697769, 0.010557452216744423, 0.0046922010369598866, 0.0046922010369598866, 0.9815881848335266, 0.32059699296951294, 0.13142956793308258, 0.009876211173832417, 0.052419885993003845, 0.3692183494567871, 0.06761405616998672, 0.006077668163925409, 0.042543675750494, 0.0007597085204906762, 0.9010025858879089, 0.0581291988492012, 0.925659716129303, 0.002624096581712365, 0.24141688644886017, 0.026240967214107513, 0.38836631178855896, 0.07609879970550537, 0.015744579955935478, 0.23616869747638702, 0.015744579955935478, 0.0038785601500421762, 0.06205696240067482, 0.0077571203000843525, 0.1318710446357727, 0.4770629107952118, 0.31804192066192627, 0.10654103010892868, 0.07990577816963196, 0.1614762544631958, 0.029964664950966835, 0.46445232629776, 0.08323518186807632, 0.0665881484746933, 0.0066588143818080425, 0.9906080365180969, 0.987342357635498, 0.9546524882316589, 0.0936935767531395, 0.09993980824947357, 0.03747742995619774, 0.03747742995619774, 0.08120109885931015, 0.6371163129806519, 0.012492476031184196, 0.01385006308555603, 0.14542566239833832, 0.6163278222084045, 0.21467597782611847, 0.9737778306007385, 0.9640899300575256, 0.985885500907898, 0.13835671544075012, 0.027671342715620995, 0.6433587074279785, 0.10376753658056259, 0.08301402628421783, 0.9704129099845886, 0.9800612926483154, 0.06258944422006607, 0.09239394217729568, 0.02384359762072563, 0.289103627204895, 0.42918476462364197, 0.0715307965874672, 0.032784946262836456, 0.9552828669548035, 0.6949979066848755, 0.2686847746372223, 0.009314404800534248, 0.0007164927083067596, 0.008597912266850471, 0.006448434200137854, 0.011463883332908154, 0.3101797103881836, 0.018798770383000374, 0.009399385191500187, 0.22245211899280548, 0.4135729670524597, 0.018798770383000374, 0.7609972357749939, 0.22603878378868103, 0.0017387598054483533, 0.008114212192595005, 0.0005795866018161178, 0.0028979331254959106, 0.9544582962989807, 0.9777259230613708, 0.11157550662755966, 0.8740081787109375, 0.2254781723022461, 0.1309228092432022, 0.6400670409202576, 0.14012639224529266, 0.7928670644760132, 0.003547503612935543, 0.007095007225871086, 0.012416263110935688, 0.024832526221871376, 0.01773751899600029, 0.11071723699569702, 0.8672850131988525, 0.018452873453497887, 0.9691495299339294, 0.013746801763772964, 0.006873400881886482, 0.9815161228179932, 0.9662867188453674, 0.983766496181488, 0.9374420046806335, 0.14929644763469696, 0.5199634432792664, 0.14414829015731812, 0.0051481532864272594, 0.020592613145709038, 0.010296306572854519, 0.061777837574481964, 0.0875186026096344, 0.9763978123664856, 0.9555608034133911, 0.017453165724873543, 0.01308987382799387, 0.004363291431218386, 0.004363291431218386, 0.9511797428131104, 0.08421241492033005, 0.12341474741697311, 0.28893569111824036, 0.11905892938375473, 0.0711449682712555, 0.12341474741697311, 0.11905892938375473, 0.031942639499902725, 0.0029038763605058193, 0.03629845380783081, 0.005806905683130026, 0.05806905776262283, 0.011613811366260052, 0.04645524546504021, 0.876842737197876, 0.12028386443853378, 0.8620343208312988, 0.9318637847900391, 0.0013392043765634298, 0.15534770488739014, 0.705760657787323, 0.13525964319705963, 0.0013392043765634298, 0.9783024787902832, 0.9480872750282288, 0.08243203163146973, 0.10491349548101425, 0.8018388748168945, 0.0074938214384019375, 0.24107752740383148, 0.21494846045970917, 0.10944623500108719, 0.08676818758249283, 0.1286732703447342, 0.06655514240264893, 0.10500922799110413, 0.043384093791246414, 0.0014790032291784883, 0.0024650052655488253, 0.9372144937515259, 0.9639978408813477, 0.0372159406542778, 0.9676144123077393, 0.9618321061134338, 0.02671061083674431, 0.8547395467758179, 0.08013183623552322, 0.04006591811776161, 0.7706642746925354, 0.1023760661482811, 0.001421889872290194, 0.04550047591328621, 0.03128157556056976, 0.008531338535249233, 0.03981291502714157, 0.1164456307888031, 0.027579229325056076, 0.08886640518903732, 0.522473156452179, 0.009193075820803642, 0.09346294403076172, 0.042901020497083664, 0.06588371098041534, 0.030643587931990623, 0.003064358839765191, 0.9309402704238892, 0.9459176063537598, 0.0247577503323555, 0.9407945275306702, 0.23944707214832306, 0.11501530557870865, 0.09214676171541214, 0.09281937032938004, 0.24617311358451843, 0.12308655679225922, 0.04842749610543251, 0.04035624861717224, 0.0006726041319780052, 0.0020178123377263546, 0.03528197854757309, 0.07644429057836533, 0.023521319031715393, 0.06468363106250763, 0.16464923322200775, 0.6174346208572388, 0.005880329757928848, 0.2515578866004944, 0.03319166600704193, 0.3930591940879822, 0.06638333201408386, 0.07511798292398453, 0.024457016959786415, 0.034938596189022064, 0.10656271874904633, 0.012228508479893208, 0.0401102714240551, 0.0935906320810318, 0.8690559267997742, 0.9420987963676453, 0.029440587386488914, 0.5159496665000916, 0.041995905339717865, 0.4379572868347168, 0.08219645172357559, 0.09132939577102661, 0.12101144343614578, 0.5548260807991028, 0.027398817241191864, 0.10959526896476746, 0.0022832348477095366, 0.006849704310297966, 0.0022832348477095366, 0.8958603739738464, 0.28714895248413086, 0.7006434798240662, 0.0038286529015749693, 0.007657305803149939, 0.9649168252944946, 0.38226833939552307, 0.1998220831155777, 0.017375832423567772, 0.052127499133348465, 0.3562045693397522, 0.053565867245197296, 0.886812686920166, 0.04761410504579544, 0.00595176313072443, 0.9891257286071777, 0.004319326486438513, 0.00558739947155118, 0.013968498446047306, 0.009777949191629887, 0.001396849867887795, 0.473532110452652, 0.1354944407939911, 0.332450270652771, 0.02234959788620472, 0.00279369973577559, 0.35956868529319763, 0.0032987953163683414, 0.01649397611618042, 0.03958554565906525, 0.4255445897579193, 0.10556145012378693, 0.04948193207383156, 0.9522923827171326, 0.016371360048651695, 0.05729975923895836, 0.7858253121376038, 0.016371360048651695, 0.13097088038921356, 0.1483970433473587, 0.10736560821533203, 0.20105406641960144, 0.12993289530277252, 0.14908090233802795, 0.0895853191614151, 0.11967504024505615, 0.04855387285351753, 0.004787001758813858, 0.0006838573608547449, 0.9454168677330017, 0.9632370471954346, 0.965956449508667, 0.9706327319145203, 0.5518439412117004, 0.3396529257297516, 0.018419357016682625, 0.023576775565743446, 0.0014735484728589654, 0.0014735484728589654, 0.004420645534992218, 0.05452129617333412, 0.0036838713567703962, 0.19959066808223724, 0.04989766702055931, 0.7484650015830994, 0.9891619682312012, 0.895828902721405, 0.08681228756904602, 0.007388279773294926, 0.0018470699433237314, 0.007388279773294926, 0.25509926676750183, 0.7288550734519958, 0.08402177691459656, 0.01050272211432457, 0.07351905852556229, 0.8297150731086731, 0.9573690891265869, 0.1317557394504547, 0.3733079135417938, 0.4831043779850006, 0.8207762837409973, 0.13087351620197296, 0.0060669840313494205, 0.00780040817335248, 0.0008667120127938688, 0.01820095255970955, 0.01473410427570343, 0.9893963932991028, 0.8985252380371094, 0.9910120368003845, 0.025127921253442764, 0.09664585441350937, 0.06378626078367233, 0.03479250520467758, 0.7712339162826538, 0.005798751022666693, 0.0019329170463606715, 0.9774059057235718, 0.996304988861084, 0.9973931312561035, 0.8922922611236572, 0.1056872233748436, 0.13003401458263397, 0.09074714779853821, 0.4885959029197693, 0.05810030549764633, 0.03486018255352974, 0.013280070386826992, 0.07193371653556824, 0.006086698733270168, 0.000553336285520345, 0.09427308291196823, 0.18461811542510986, 0.42226484417915344, 0.009820112958550453, 0.03731643036007881, 0.06874079257249832, 0.09427308291196823, 0.019640225917100906, 0.06481274217367172, 0.0019640226382762194, 0.9088172316551208, 0.03951379284262657, 0.9905259609222412, 0.9795041084289551, 0.39529547095298767, 0.41204020380973816, 0.0185388196259737, 0.021528951823711395, 0.010764475911855698, 0.06159672513604164, 0.010764475911855698, 0.06697896122932434, 0.0017940793186426163, 0.022453220561146736, 0.9430352449417114, 0.29376277327537537, 0.6880233287811279, 0.0038652995135635138, 0.011595899239182472, 0.0019326497567817569, 0.9934574961662292, 0.9293219447135925, 0.046466097235679626, 0.9901732802391052, 0.3842383027076721, 0.14543212950229645, 0.09915826469659805, 0.29169055819511414, 0.021484291180968285, 0.00826318934559822, 0.01652637869119644, 0.030573800206184387, 0.0016526378458365798, 0.0008263189229182899, 0.9338350892066956, 0.017339112237095833, 0.007431048434227705, 0.01981612853705883, 0.022293144837021828, 0.0757308304309845, 0.845660924911499, 0.06310902535915375, 0.9244003891944885, 0.211077019572258, 0.1017453745007515, 0.10442288219928741, 0.09906785935163498, 0.1834094226360321, 0.14280052483081818, 0.10620788484811783, 0.04417891055345535, 0.00312376138754189, 0.003570012981072068, 0.06555791944265366, 0.10243424773216248, 0.6719686388969421, 0.028681589290499687, 0.06965528428554535, 0.03687632828950882, 0.012292109429836273, 0.008194739930331707, 0.3584325909614563, 0.21617530286312103, 0.006973396986722946, 0.14225728809833527, 0.06554993242025375, 0.0013946794206276536, 0.046024419367313385, 0.11715306341648102, 0.04323505982756615, 0.979699432849884, 0.1660374402999878, 0.06624726206064224, 0.05618438869714737, 0.10649876296520233, 0.32033488154411316, 0.0461215116083622, 0.09559731930494308, 0.12410879880189896, 0.004192864987999201, 0.015094313770532608, 0.9868530631065369, 0.033696725964546204, 0.9603567123413086, 0.9855219125747681, 0.990769624710083, 0.9871276617050171, 0.9730510711669922, 0.020703215152025223, 0.18101978302001953, 0.19747613370418549, 0.032912686467170715, 0.04936903342604637, 0.06582537293434143, 0.4607776403427124, 0.9460040330886841, 0.9729971885681152, 0.015444399788975716, 0.9892130494117737, 0.09397868067026138, 0.1245763897895813, 0.07430872321128845, 0.013113304041326046, 0.47207894921302795, 0.11146308481693268, 0.05463876575231552, 0.05463876575231552, 0.07796695083379745, 0.126360222697258, 0.11112530529499054, 0.07886312156915665, 0.06810905784368515, 0.12187936902046204, 0.35219553112983704, 0.027781326323747635, 0.017027264460921288, 0.01881960779428482, 0.19684353470802307, 0.17462922632694244, 0.1561172902584076, 0.08762314170598984, 0.16660737991333008, 0.10798627138137817, 0.049365151673555374, 0.05985524505376816, 0.0006170644192025065, 0.0006170644192025065, 0.6221970915794373, 0.3546445071697235, 0.006276893895119429, 0.0007846117368899286, 0.002353835152462125, 0.0007846117368899286, 0.0094153406098485, 0.002353835152462125, 0.0007846117368899286, 0.0090594831854105, 0.434855192899704, 0.072475865483284, 0.018118966370821, 0.4529741704463959, 0.00996408425271511, 0.08967676013708115, 0.45336583256721497, 0.07971267402172089, 0.10462288558483124, 0.10462288558483124, 0.1494612693786621, 0.9746949076652527, 0.28199297189712524, 0.4146110415458679, 0.00686230743303895, 0.08585863560438156, 0.03447112813591957, 0.03127935528755188, 0.05553681403398514, 0.06255871057510376, 0.0004787656362168491, 0.026332110166549683, 0.012117760255932808, 0.8967142701148987, 0.07270656526088715, 0.012117760255932808, 0.9125233292579651, 0.979577898979187, 0.5444841980934143, 0.28241556882858276, 0.011394288390874863, 0.005697144195437431, 0.0008138777338899672, 0.004883266519755125, 0.08057389408349991, 0.04639102891087532, 0.024416331201791763, 0.7596098184585571, 0.04429404437541962, 0.0013222103007137775, 0.0006611051503568888, 0.0013222103007137775, 0.01256099808961153, 0.02115536481142044, 0.1599874496459961, 0.25041255354881287, 0.15154650807380676, 0.06711345165967941, 0.2446393519639969, 0.13206195831298828, 0.061340250074863434, 0.0281443502753973, 0.060618601739406586, 0.0036082500591874123, 0.0007216500234790146, 0.15244105458259583, 0.22063837945461273, 0.07956353574991226, 0.18052230775356293, 0.013372022658586502, 0.009360415861010551, 0.3015391230583191, 0.038778867572546005, 0.0020058033987879753, 0.0006686011329293251, 0.9426970481872559, 0.9835321307182312, 0.3845399022102356, 0.23750995099544525, 0.00565499858930707, 0.03392999246716499, 0.14702996611595154, 0.1866149604320526, 0.10880906134843826, 0.8549283146858215, 0.03108830377459526, 0.07378333061933517, 0.04695302993059158, 0.05198371037840843, 0.4795916676521301, 0.09390605986118317, 0.09222916513681412, 0.11738257855176926, 0.041922349482774734, 0.9506612420082092, 0.9773678779602051, 0.9662009477615356, 0.004701030440628529, 0.014103090390563011, 0.8156287670135498, 0.12927833199501038, 0.009402060881257057, 0.028206180781126022, 0.9656231999397278, 0.029776927083730698, 0.9739359617233276, 0.9613805413246155, 0.9304273128509521, 0.9716499447822571, 0.01868557557463646, 0.14953699707984924, 0.1664741188287735, 0.1325998604297638, 0.07710849493741989, 0.07643992453813553, 0.1932169497013092, 0.14218270778656006, 0.04434852674603462, 0.010697131976485252, 0.007131421472877264, 0.9676767587661743, 0.17428193986415863, 0.17201317846775055, 0.1266379952430725, 0.09260661154985428, 0.07569404691457748, 0.1953195184469223, 0.10291915386915207, 0.04640643298625946, 0.0053625209257006645, 0.008662533946335316, 0.31688469648361206, 0.312771201133728, 0.03849039599299431, 0.11958467215299606, 0.014103352092206478, 0.0334954597055912, 0.08726448565721512, 0.06787238270044327, 0.00146909907925874, 0.007933135144412518, 0.9519702792167664, 0.9272213578224182, 0.25461968779563904, 0.183282271027565, 0.049936190247535706, 0.07572741061449051, 0.16188105940818787, 0.1783435344696045, 0.05981367826461792, 0.03292496129870415, 0.003292496083304286, 0.9465959668159485, 0.9371397495269775, 0.046337440609931946, 0.9267488121986389, 0.9591526985168457, 0.22446267306804657, 0.19427770376205444, 0.04254256188869476, 0.21838515996932983, 0.013167936354875565, 0.008103345520794392, 0.16449791193008423, 0.13005869090557098, 0.002633587224408984, 0.002025836380198598, 0.9586784839630127, 0.02739081345498562, 0.009130271151661873, 0.9819603562355042, 0.7743993401527405, 0.10402379184961319, 0.015410932712256908, 0.00963183306157589, 0.007705466356128454, 0.011558199301362038, 0.07320193201303482, 0.0019263665890321136, 0.003852733178064227, 0.984318733215332, 0.06427942961454391, 0.9320517182350159, 0.9605844616889954, 0.1080557182431221, 0.23154796659946442, 0.01543653104454279, 0.007718265522271395, 0.04630959406495094, 0.5402785539627075, 0.03087306208908558, 0.01543653104454279, 0.9613038897514343, 0.02529747039079666, 0.040624264627695084, 0.9587326049804688, 0.008751500397920609, 0.05105041712522507, 0.07876349985599518, 0.07001200318336487, 0.3077611029148102, 0.2800480127334595, 0.1239795833826065, 0.03646458312869072, 0.04229891672730446, 0.0014585833996534348, 0.9376412034034729, 0.05127725377678871, 0.9896467328071594, 0.00505858426913619, 0.07082017511129379, 0.8801936507225037, 0.030351504683494568, 0.01011716853827238, 0.9712827205657959, 0.09041406214237213, 0.07032205164432526, 0.051143307238817215, 0.10228661447763443, 0.034704387187957764, 0.04657694324851036, 0.052056580781936646, 0.5507038235664368, 0.0009132733684964478, 0.9915909767150879, 0.9371658563613892, 0.06313255429267883, 0.026582127436995506, 0.11408163607120514, 0.08528432995080948, 0.24588468670845032, 0.06645531952381134, 0.378795325756073, 0.015506241470575333, 0.0033227659296244383, 0.001107588643208146, 0.9707261919975281, 0.012134077027440071, 0.012134077027440071, 0.03994499891996384, 0.9187350273132324, 0.3201603293418884, 0.664036214351654, 0.9780989289283752, 0.9227263331413269, 0.9517451524734497, 0.9568913578987122, 0.07196249067783356, 0.06642691045999527, 0.005535576026886702, 0.7251604795455933, 0.1051759421825409, 0.027677880600094795, 0.12015293538570404, 0.12015293538570404, 0.7509558796882629, 0.04439398646354675, 0.0697619765996933, 0.03805198892951012, 0.6976197957992554, 0.14586594700813293, 0.0027278654742985964, 0.013639327138662338, 0.982031524181366, 0.009252773597836494, 0.06619291752576828, 0.15231488645076752, 0.08825722336769104, 0.14662086963653564, 0.03345233574509621, 0.05124612897634506, 0.4512506425380707, 0.001423503621481359, 0.9811722040176392, 0.046429771929979324, 0.9518103003501892, 0.35548317432403564, 0.3863241672515869, 0.06655164062976837, 0.027594583109021187, 0.01623210869729519, 0.14608897268772125, 0.9780696034431458, 0.023217255249619484, 0.01741294004023075, 0.058043137192726135, 0.01741294004023075, 0.7545607686042786, 0.069651760160923, 0.0348258800804615, 0.01741294004023075, 0.05782223120331764, 0.8673334717750549, 0.05782223120331764, 0.9744653105735779, 0.9920275807380676, 0.9813767671585083, 0.9521641731262207, 0.03400586172938347, 0.22651533782482147, 0.15815863013267517, 0.00804196484386921, 0.0013403274351730943, 0.02546622045338154, 0.15145699679851532, 0.3779723346233368, 0.049592114984989166, 0.0013403274351730943, 0.9640988111495972, 0.9778581857681274, 0.04465293884277344, 0.8260793685913086, 0.12279557436704636, 0.9449794292449951, 0.9650610089302063, 0.8962001204490662, 0.03584800288081169, 0.053772006183862686, 0.9534628391265869, 0.9844047427177429, 0.9624108076095581, 0.11951924860477448, 0.15056321024894714, 0.15677200257778168, 0.1490110158920288, 0.0232829712331295, 0.3213050067424774, 0.05432693287730217, 0.0046565942466259, 0.020178575068712234, 0.9360601902008057, 0.9598326683044434, 0.14896920323371887, 0.12685658037662506, 0.09892486035823822, 0.05586344748735428, 0.1588616818189621, 0.20308691263198853, 0.16468079388141632, 0.023276437073946, 0.009892486035823822, 0.009892486035823822, 0.9539079070091248, 0.9823666214942932, 0.9408352971076965, 0.9906912446022034, 0.965360701084137, 0.9739779233932495, 0.9630855321884155, 0.11090155690908432, 0.776310920715332, 0.11090155690908432, 0.9311110973358154, 0.9360296726226807, 0.9831121563911438, 0.2675497829914093, 0.1785466969013214, 0.11909119039773941, 0.11548782140016556, 0.03657414764165878, 0.13494598865509033, 0.10017352551221848, 0.032069940119981766, 0.010269587859511375, 0.005224877968430519, 0.35045501589775085, 0.1626780480146408, 0.09574764966964722, 0.11991696059703827, 0.020915748551487923, 0.13618476688861847, 0.06832478195428848, 0.03625396639108658, 0.007436710875481367, 0.0018591777188703418, 0.11844144761562347, 0.13863033056259155, 0.20996437966823578, 0.2786065936088562, 0.04710739478468895, 0.025572584941983223, 0.10229033976793289, 0.030956286936998367, 0.002691850997507572, 0.04576146975159645, 0.957327127456665, 0.03301128000020981, 0.08491776883602142, 0.18743109703063965, 0.30371490120887756, 0.06732219457626343, 0.00535517418757081, 0.024480797350406647, 0.25016313791275024, 0.05049164593219757, 0.024480797350406647, 0.0015300498344004154, 0.9634752869606018, 0.8980843424797058, 0.1565791815519333, 0.14728665351867676, 0.08781444281339645, 0.18863841891288757, 0.09571309387683868, 0.16308395564556122, 0.12823696434497833, 0.019049692898988724, 0.008827907033264637, 0.004646266810595989, 0.10610619932413101, 0.80640709400177, 0.06366372108459473, 0.18845175206661224, 0.12970364093780518, 0.0961332842707634, 0.18921472132205963, 0.004577775485813618, 0.19455544650554657, 0.1609850972890854, 0.01678517647087574, 0.007629625499248505, 0.012207400985062122, 0.018062394112348557, 0.9573069214820862, 0.018062394112348557, 0.3146360218524933, 0.23267485201358795, 0.10295946896076202, 0.12124831974506378, 0.014563346281647682, 0.02303040772676468, 0.14529477059841156, 0.0416579432785511, 0.002032094867900014, 0.0016934123123064637, 0.9653374552726746, 0.5743590593338013, 0.3226824700832367, 0.0220907311886549, 0.0023668641224503517, 0.006311637815088034, 0.04339250922203064, 0.02287968620657921, 0.005522682797163725, 0.0015779094537720084, 0.9357537627220154, 0.034657545387744904, 0.985776424407959, 0.9742472171783447, 0.9404473900794983, 0.9825505614280701, 0.22089730203151703, 0.13704648613929749, 0.16634920239448547, 0.06897405534982681, 0.141554594039917, 0.1167600005865097, 0.11450594663619995, 0.024794595316052437, 0.004508108366280794, 0.004508108366280794, 0.07195966690778732, 0.05396974831819534, 0.24886050820350647, 0.07195966690778732, 0.03597983345389366, 0.38078656792640686, 0.03597983345389366, 0.014991597272455692, 0.08695126324892044, 0.028398990631103516, 0.04462698474526405, 0.038541484624147415, 0.04259848594665527, 0.7140317559242249, 0.06694047898054123, 0.06085497885942459, 0.006085497792810202, 0.03946666046977043, 0.947199821472168, 0.00412781722843647, 0.8255634307861328, 0.01238345168530941, 0.15272924304008484, 0.9638139605522156, 0.08266513794660568, 0.09841087460517883, 0.019682176411151886, 0.051173657178878784, 0.6810032725334167, 0.07085583359003067, 0.9714627265930176, 0.9830068349838257, 0.6490910649299622, 0.2334088534116745, 0.009072428569197655, 0.0008247662917710841, 0.040413547307252884, 0.014845793135464191, 0.0008247662917710841, 0.04948597773909569, 0.0016495325835421681, 0.7604547739028931, 0.13461466133594513, 0.0011808304116129875, 0.07675397396087646, 0.024797437712550163, 0.9733802080154419, 0.884917140007019, 0.9567229151725769, 0.9607391357421875, 0.5157051086425781, 0.2329544872045517, 0.006868436932563782, 0.033197443932294846, 0.03434218466281891, 0.008585546165704727, 0.017743460834026337, 0.15053324401378632, 0.001144739449955523, 0.9977731704711914, 0.9674317836761475, 0.07186935842037201, 0.05989113450050354, 0.41324883699417114, 0.023956453427672386, 0.023956453427672386, 0.14373871684074402, 0.06588024646043777, 0.1916516274213791, 0.0059891133569180965, 0.06055568531155586, 0.8545079827308655, 0.03364204615354538, 0.026913637295365334, 0.020185228437185287, 0.03219291567802429, 0.08692087233066559, 0.06545893102884293, 0.0010730972280725837, 0.6900014877319336, 0.07189751416444778, 0.02468123659491539, 0.025754332542419434, 0.0010730972280725837, 0.9921258687973022, 0.9645999670028687, 0.9783470034599304, 0.02069205790758133, 0.059489667415618896, 0.033624593168497086, 0.04138411581516266, 0.19140154123306274, 0.4655713140964508, 0.16294996440410614, 0.018105551600456238, 0.0077595217153429985, 0.9730642437934875, 0.02468942105770111, 0.04937884211540222, 0.9135085940361023, 0.30978378653526306, 0.5514151453971863, 0.012391351163387299, 0.05885891988873482, 0.006195675581693649, 0.05266324430704117, 0.006195675581693649, 0.9671046733856201, 0.06394833326339722, 0.25579333305358887, 0.21316111087799072, 0.010658055543899536, 0.45829638838768005, 0.004303918685764074, 0.04303918778896332, 0.7531858086585999, 0.05164702609181404, 0.01291175652295351, 0.13342148065567017, 0.2275581806898117, 0.19380274415016174, 0.10068430751562119, 0.09079047292470932, 0.052961111068725586, 0.185654878616333, 0.07565873116254807, 0.058199021965265274, 0.004655921831727028, 0.009311843663454056, 0.9233843684196472, 0.04622722417116165, 0.9476580619812012, 0.8951725363731384, 0.0692143663764, 0.027685748413205147, 0.01598968170583248, 0.00199871021322906, 0.0379754975438118, 0.8294647932052612, 0.00199871021322906, 0.021985813975334167, 0.01798839308321476, 0.041972916573286057, 0.00799484085291624, 0.021985813975334167, 0.00674517871811986, 0.9847960472106934, 0.00674517871811986, 0.0820925310254097, 0.05907593294978142, 0.10817801207304001, 0.06367925554513931, 0.18259833753108978, 0.23323485255241394, 0.22402821481227875, 0.03912821784615517, 0.0061377594247460365, 0.0023016599006950855, 0.1013595461845398, 0.18085724115371704, 0.1702575385570526, 0.0635981485247612, 0.18284468352794647, 0.15833288431167603, 0.09142234176397324, 0.039748843759298325, 0.0013249614275991917, 0.010599691420793533, 0.9651620388031006, 0.22833006083965302, 0.15460313856601715, 0.048257626593112946, 0.3118872344493866, 0.01742636412382126, 0.06210935115814209, 0.13047431409358978, 0.03932102769613266, 0.0008936597150750458, 0.006255618296563625, 0.14248186349868774, 0.06590570509433746, 0.023223914206027985, 0.5285009741783142, 0.07971452176570892, 0.007532080635428429, 0.0031383668538182974, 0.14750324189662933, 0.001255346811376512, 0.001255346811376512, 0.9593769907951355, 0.9613396525382996, 0.7853796482086182, 0.003414694219827652, 0.003414694219827652, 0.20488165318965912, 0.9600784778594971, 0.9741191864013672, 0.9650945663452148, 0.01778976060450077, 0.004447440151125193, 0.008894880302250385, 0.012757553718984127, 0.9823316335678101, 0.9560654759407043, 0.19173581898212433, 0.16661345958709717, 0.1637694090604782, 0.08555825799703598, 0.11281365901231766, 0.11684271693229675, 0.10878460109233856, 0.043371640145778656, 0.006636097561568022, 0.004029059316962957, 0.9048484563827515, 0.02911641076207161, 0.0022397239226847887, 0.06047254428267479, 0.10693202167749405, 0.10909226536750793, 0.3326773941516876, 0.14041578769683838, 0.08748983591794968, 0.0453650988638401, 0.10369165986776352, 0.06588740646839142, 0.0010801213793456554, 0.007560850121080875, 0.4365341365337372, 0.2586561441421509, 0.01715153083205223, 0.00276637589558959, 0.1798144429922104, 0.03319651260972023, 0.010788866318762302, 0.060583632439374924, 0.0002766375837381929, 0.23630303144454956, 0.005027723964303732, 0.020110895857214928, 0.010055447928607464, 0.030166344717144966, 0.693825900554657, 0.005027723964303732, 0.09205863624811172, 0.02557184360921383, 0.7466978430747986, 0.1329735815525055, 0.939609169960022, 0.9666794538497925, 0.929180920124054, 0.018253929913043976, 0.9796275496482849, 0.029400423169136047, 0.022615710273385048, 0.3053120970726013, 0.18771038949489594, 0.0011307855602353811, 0.08480891585350037, 0.3177507221698761, 0.0011307855602353811, 0.049754563719034195, 0.9906771779060364, 0.9443652629852295, 0.9881315231323242, 0.0075143082067370415, 0.011487534269690514, 0.045950137078762054, 0.14933794736862183, 0.7926399111747742, 0.19048207998275757, 0.09246703237295151, 0.00924670323729515, 0.654666543006897, 0.0055480217561125755, 0.0018493406241759658, 0.046233516186475754, 0.07265128195285797, 0.05448846518993378, 0.04722333699464798, 0.02724423259496689, 0.16346539556980133, 0.38323554396629333, 0.2379329651594162, 0.01271397527307272, 0.9660733342170715, 0.9502355456352234, 0.9758921265602112, 0.019831886515021324, 0.9519305229187012, 0.07399366050958633, 0.09064223617315292, 0.11037388443946838, 0.205332413315773, 0.1412045806646347, 0.15908637642860413, 0.16340267658233643, 0.029597464948892593, 0.021581485867500305, 0.004932910669595003, 0.8832382559776306, 0.11361155658960342, 0.0036648891400545835, 0.9919674396514893, 0.8747063279151917, 0.9455204606056213, 0.017987055703997612, 0.040470875799655914, 0.9398236870765686, 0.15415146946907043, 0.17449089884757996, 0.3211488723754883, 0.18733684718608856, 0.0010704962769523263, 0.007493474055081606, 0.03211488947272301, 0.03853786736726761, 0.014986948110163212, 0.06851176172494888, 0.009842745959758759, 0.029528237879276276, 0.019685491919517517, 0.8169479370117188, 0.07874196767807007, 0.04429235681891441, 0.9728076457977295, 0.9624718427658081, 0.017660032957792282, 0.008830016478896141, 0.9482050538063049, 0.9620209336280823, 0.9855996966362, 0.029261572286486626, 0.9008383750915527, 0.0006967040826566517, 0.0013934081653133035, 0.004180224612355232, 0.036925315856933594, 0.0006967040826566517, 0.022991234436631203, 0.002090112306177616, 0.19090673327445984, 0.2821389138698578, 0.09082367271184921, 0.19894060492515564, 0.017157094553112984, 0.0668582022190094, 0.09395552426576614, 0.04370974376797676, 0.003948855213820934, 0.011438063345849514, 0.06378980726003647, 0.9355838298797607, 0.6996641159057617, 0.16039730608463287, 0.012444619089365005, 0.0027654708828777075, 0.04424753412604332, 0.02212376706302166, 0.0013827354414388537, 0.058074887841939926, 0.004719420336186886, 0.14158260822296143, 0.6465606093406677, 0.007079130504280329, 0.16517971456050873, 0.016517970710992813, 0.004719420336186886, 0.011798551306128502, 0.9708098769187927, 0.021138332784175873, 0.9753830432891846, 0.003019761759787798, 0.9405092000961304, 0.9802294969558716, 0.8570315837860107, 0.13858382403850555, 0.0018234713934361935, 0.0018234713934361935, 0.8385492563247681, 0.14463350176811218, 0.0016250954940915108, 0.013000763952732086, 0.9490378499031067, 0.9632317423820496, 0.22097532451152802, 0.2291165143251419, 0.045358091592788696, 0.20876352488994598, 0.004070598166435957, 0.09013467282056808, 0.09653132408857346, 0.08722709864377975, 0.011630279943346977, 0.005815139971673489, 0.13046053051948547, 0.19399335980415344, 0.022309236228466034, 0.07129255682229996, 0.013094551861286163, 0.05819800868630409, 0.3913815915584564, 0.11009123176336288, 0.0009699668153189123, 0.008244717493653297, 0.9577144384384155, 0.9731674194335938, 0.019622545689344406, 0.049056362360715866, 0.9026370644569397, 0.019622545689344406, 0.036094337701797485, 0.02406289242208004, 0.07218867540359497, 0.32885950803756714, 0.5374045968055725, 0.028093790635466576, 0.9130482077598572, 0.014046895317733288, 0.014046895317733288, 0.014046895317733288, 0.9833373427391052, 0.07764431089162827, 0.0730770006775856, 0.23750025033950806, 0.5754813551902771, 0.027403874322772026, 0.07449930161237717, 0.8939916491508484, 0.18711167573928833, 0.13365119695663452, 0.6415257453918457, 0.013272445648908615, 0.9423436522483826, 0.039817336946725845, 0.9826183915138245, 0.025077519938349724, 0.010031008161604404, 0.06520155072212219, 0.01504651177674532, 0.6670620441436768, 0.1404341161251068, 0.06018604710698128, 0.010031008161604404, 0.9600459933280945, 0.9887030124664307, 0.8922063112258911, 0.9902170896530151, 0.9685114622116089, 0.9792442321777344, 0.27340418100357056, 0.1926117241382599, 0.06297512352466583, 0.17848071455955505, 0.04239301010966301, 0.09246591478586197, 0.11489120125770569, 0.038092270493507385, 0.0006143914652056992, 0.003993544261902571, 0.9402481317520142, 0.05082422494888306, 0.05697779729962349, 0.04476827010512352, 0.04069842770695686, 0.0040698423981666565, 0.6145462393760681, 0.04476827010512352, 0.11802543699741364, 0.07325717061758041, 0.9538362622261047, 0.08374890685081482, 0.013223511166870594, 0.07493323087692261, 0.7449244856834412, 0.04848620668053627, 0.030854860320687294, 0.9704675674438477, 0.015442986972630024, 0.030885973945260048, 0.8493642807006836, 0.09265792369842529, 0.9688908457756042, 0.02876724861562252, 0.08630174398422241, 0.8774011135101318, 0.00719181215390563, 0.42128029465675354, 0.2726997137069702, 0.022196488454937935, 0.10328161716461182, 0.051187820732593536, 0.023555457592010498, 0.0054358746856451035, 0.05390575900673866, 0.046204935759305954, 0.07081317901611328, 0.9028680324554443, 0.1793493628501892, 0.07099245488643646, 0.04296911880373955, 0.05791490152478218, 0.4203500747680664, 0.050442010164260864, 0.10275223851203918, 0.07472890615463257, 0.17926602065563202, 0.18273009359836578, 0.10911844670772552, 0.02598058246076107, 0.24161942303180695, 0.1255728155374527, 0.07274563610553741, 0.047631070017814636, 0.0034640778321772814, 0.01212427206337452, 0.8999893069267273, 0.00401780940592289, 0.02008904702961445, 0.07232057303190231, 0.9621449112892151, 0.3239862322807312, 0.11083739995956421, 0.017051907256245613, 0.11083739995956421, 0.4348236322402954, 0.9067476391792297, 0.016299670562148094, 0.03259934112429619, 0.3422930836677551, 0.04889901354908943, 0.03259934112429619, 0.13854719698429108, 0.04889901354908943, 0.008149835281074047, 0.3341432511806488, 0.9785683155059814, 0.9584324359893799, 0.30283352732658386, 0.05950877070426941, 0.03438284620642662, 0.005289668682962656, 0.003967251628637314, 0.5752514600753784, 0.018513839691877365, 0.044865626841783524, 0.004722697660326958, 0.07792451232671738, 0.7450055480003357, 0.09799597412347794, 0.0070840464904904366, 0.022432813420891762, 0.9658112525939941, 0.006051794160157442, 0.6717491745948792, 0.16945023834705353, 0.1331394761800766, 0.006051794160157442, 0.012103588320314884, 0.9752925038337708, 0.13901099562644958, 0.10964247584342957, 0.05482123792171478, 0.012726359069347382, 0.38179078698158264, 0.22026391327381134, 0.05775809288024902, 0.023494817316532135, 0.0009789507603272796, 0.0009789507603272796, 0.05002264678478241, 0.03751698508858681, 0.8879019618034363, 0.904797375202179, 0.05936453491449356, 0.003411754732951522, 0.002047052839770913, 0.0013647018931806087, 0.0006823509465903044, 0.027294037863612175, 0.0006823509465903044, 0.005217608995735645, 0.06261130422353745, 0.06782891601324081, 0.8661230802536011, 0.9971134662628174, 0.06620872020721436, 0.11586526036262512, 0.03310436010360718, 0.17379789054393768, 0.03310436010360718, 0.571050226688385, 0.7922654747962952, 0.08604173362255096, 0.01788986474275589, 0.0008518983377143741, 0.0008518983377143741, 0.01874176412820816, 0.08348603546619415, 0.9492734670639038, 0.9849064946174622, 0.8985162973403931, 0.8161254525184631, 0.17300690710544586, 0.0007299869903363287, 0.0007299869903363287, 0.00583989592269063, 0.002919947961345315, 0.0007299869903363287, 0.9608047008514404, 0.9719306826591492, 0.16599369049072266, 0.18153616786003113, 0.11687945574522018, 0.05843972787261009, 0.1672370880842209, 0.1635068953037262, 0.07273881137371063, 0.06092652305960655, 0.011812285520136356, 0.0024867968168109655, 0.9648787975311279, 0.0997469425201416, 0.1363208293914795, 0.06760626286268234, 0.34357282519340515, 0.26931676268577576, 0.023274287581443787, 0.02881578356027603, 0.026599185541272163, 0.004433197434991598, 0.8471670746803284, 0.12499187141656876, 0.027775971218943596, 0.14654211699962616, 0.04961061477661133, 0.1549377590417862, 0.19996893405914307, 0.14730536937713623, 0.15722748637199402, 0.08242994546890259, 0.01450156420469284, 0.032056089490652084, 0.016028044745326042, 0.16475912928581238, 0.017811797559261322, 0.014472085051238537, 0.18479739129543304, 0.0011132373474538326, 0.016698559746146202, 0.4586537778377533, 0.1380414217710495, 0.0011132373474538326, 0.003339712042361498, 0.011228450573980808, 0.061756476759910583, 0.061756476759910583, 0.022456901147961617, 0.12912717461585999, 0.6905496716499329, 0.022456901147961617, 0.005614225286990404, 0.9608606100082397, 0.9585391879081726, 0.31631019711494446, 0.12346680462360382, 0.0011758742621168494, 0.043507348746061325, 0.4150836169719696, 0.012934617698192596, 0.0011758742621168494, 0.08701469749212265, 0.1578018069267273, 0.2457154542207718, 0.012016971595585346, 0.0955033004283905, 0.22547633945941925, 0.02751254104077816, 0.10372544080018997, 0.12143465876579285, 0.000632472219876945, 0.009803319349884987, 0.9780809879302979, 0.9454889893531799, 0.9752962589263916, 0.9569105505943298, 0.09713217616081238, 0.09713217616081238, 0.7406328320503235, 0.012141522020101547, 0.03642456606030464, 0.007628439459949732, 0.18308255076408386, 0.778100848197937, 0.015256878919899464, 0.005109312944114208, 0.014050611294806004, 0.27973490953445435, 0.0038319849409163, 0.08685832470655441, 0.5799070596694946, 0.002554656472057104, 0.028101222589612007, 0.10034017264842987, 0.8528915047645569, 0.5900082588195801, 0.12155056744813919, 0.10912934690713882, 0.0736401230096817, 0.017744608223438263, 0.04169983044266701, 0.024842452257871628, 0.018631838262081146, 0.0017744608921930194, 0.0008872304460965097, 0.9701764583587646, 0.03539372980594635, 0.9202370047569275, 0.9849027991294861, 0.11259879916906357, 0.0921262875199318, 0.020472507923841476, 0.7677190899848938, 0.9181377291679382, 0.9662880301475525, 0.9608914256095886, 0.256653368473053, 0.12785661220550537, 0.06956904381513596, 0.09401221573352814, 0.06486842781305313, 0.21246761083602905, 0.14007820188999176, 0.018802443519234657, 0.0037604887038469315, 0.012221588753163815, 0.9532015919685364, 0.9648062586784363, 0.8786892294883728, 0.09007839113473892, 0.0033991846721619368, 0.008497961796820164, 0.016995923593640327, 0.8756613731384277, 0.08600246161222458, 0.03909202665090561, 0.3220595419406891, 0.2073533982038498, 0.036397140473127365, 0.10698553174734116, 0.023161815479397774, 0.023161815479397774, 0.07279428094625473, 0.20073573291301727, 0.0033088307827711105, 0.0033088307827711105, 0.009305628016591072, 0.9398684501647949, 0.009305628016591072, 0.004652814008295536, 0.013958442956209183, 0.027916885912418365, 0.3158935308456421, 0.01504254899919033, 0.09025529772043228, 0.3660353720188141, 0.01002836599946022, 0.00501418299973011, 0.2005673199892044, 0.6684051752090454, 0.3226783573627472, 0.07397013157606125, 0.16340674459934235, 0.09548871964216232, 0.21182356774806976, 0.1284390538930893, 0.014121570624411106, 0.24679125845432281, 0.06388329714536667, 0.0006724557606503367, 0.0006724557606503367, 0.9563060402870178, 0.10748635977506638, 0.22850246727466583, 0.09696321934461594, 0.09696321934461594, 0.07666859030723572, 0.1653636246919632, 0.03833429515361786, 0.17513512074947357, 0.009771487675607204, 0.00526157021522522, 0.8684486746788025, 0.09649429470300674, 0.02969055250287056, 0.057386938482522964, 0.016140077263116837, 0.1165672242641449, 0.6814699172973633, 0.08070038259029388, 0.00538002559915185, 0.030486810952425003, 0.008966709487140179, 0.0017933418275788426, 0.922034740447998, 0.04409731179475784, 0.002004423411563039, 0.006013270001858473, 0.002004423411563039, 0.02204865589737892, 0.9911552667617798, 0.9739940166473389, 0.009093210101127625, 0.001010356703773141, 0.18994706869125366, 0.7981817722320557, 0.05666462704539299, 0.1915804147720337, 0.3858591318130493, 0.08364778757095337, 0.0026983157731592655, 0.11332925409078598, 0.11332925409078598, 0.03777641803026199, 0.01618989370763302, 0.005396631546318531, 0.0720134824514389, 0.7633429169654846, 0.12962426245212555, 0.02880539372563362, 0.9092878699302673, 0.07793895900249481, 0.18373027443885803, 0.15617072582244873, 0.016076399013400078, 0.04133931174874306, 0.009186513721942902, 0.11942467838525772, 0.43406277894973755, 0.02066965587437153, 0.004593256860971451, 0.013779770582914352, 0.0920359194278717, 0.07669659703969955, 0.828323245048523, 0.018620740622282028, 0.009310370311141014, 0.16758666932582855, 0.055862221866846085, 0.7541400194168091, 0.9235081672668457, 0.9631946682929993, 0.968424379825592, 0.9977453947067261, 0.6974295973777771, 0.19194215536117554, 0.011921873316168785, 0.0059609366580843925, 0.010729685425758362, 0.017882809042930603, 0.009537498466670513, 0.052456241101026535, 0.0011921873083338141, 0.19560113549232483, 0.13741154968738556, 0.014722666703164577, 0.14932990074157715, 0.438875675201416, 0.014722666703164577, 0.007010793313384056, 0.04206475988030434, 0.0007010793196968734, 0.012350722216069698, 0.9825685620307922, 0.0013723024167120457, 0.0027446048334240913, 0.16953730583190918, 0.12324298173189163, 0.1445133537054062, 0.049422312527894974, 0.26024913787841797, 0.11636139452457428, 0.09759342670440674, 0.030028747394680977, 0.006255988962948322, 0.001876796712167561, 0.017827164381742477, 0.98049396276474, 0.9144315719604492, 0.047741759568452835, 0.7797820568084717, 0.023870879784226418, 0.01591392047703266, 0.1273113638162613, 0.9787551760673523, 0.600439190864563, 0.2743220627307892, 0.025577815249562263, 0.009591680951416492, 0.005755008198320866, 0.015986135229468346, 0.005755008198320866, 0.05946842208504677, 0.0006394453812390566, 0.0019183361437171698, 0.9650102257728577, 0.9366766214370728, 0.04569154232740402, 0.935587465763092, 0.9892865419387817, 0.9244831204414368, 0.0676451101899147, 0.9973258972167969, 0.7589170932769775, 0.013198558241128922, 0.21777620911598206, 0.24237874150276184, 0.17085714638233185, 0.1089852899312973, 0.08117133378982544, 0.056195538491010666, 0.20321215689182281, 0.09933555126190186, 0.02043474093079567, 0.003973422106355429, 0.013055529445409775, 0.24496863782405853, 0.1847797930240631, 0.11857204884290695, 0.10533049702644348, 0.04634542018175125, 0.19862322509288788, 0.0625964105129242, 0.0312982052564621, 0.0030094427056610584, 0.004213219974189997, 0.04044564440846443, 0.16178257763385773, 0.0606684684753418, 0.6269075274467468, 0.0606684684753418, 0.04044564440846443, 0.9377874732017517, 0.14520062506198883, 0.20301806926727295, 0.15987399220466614, 0.08431710302829742, 0.15417984127998352, 0.09986648708581924, 0.08606914430856705, 0.06241655722260475, 0.0006570163532160223, 0.004380109254270792, 0.007206145208328962, 0.03603072464466095, 0.007206145208328962, 0.15132905542850494, 0.7134084105491638, 0.05044301599264145, 0.02882458083331585, 0.9372962117195129, 0.9848424792289734, 0.028106091544032097, 0.0545588843524456, 0.024799492210149765, 0.0049598985351622105, 0.7208386063575745, 0.11903756856918335, 0.024799492210149765, 0.019839594140648842, 0.001653299550525844, 0.9107611179351807, 0.08303235471248627, 0.002594761084765196, 0.14335547387599945, 0.05815363675355911, 0.05815363675355911, 0.02028615213930607, 0.5152682662010193, 0.12306932359933853, 0.010819281451404095, 0.06762050837278366, 0.0027048203628510237, 0.0013524101814255118, 0.3003329932689667, 0.26789283752441406, 0.04395116865634918, 0.0617409311234951, 0.03348660469055176, 0.040811799466609955, 0.05232281982898712, 0.12662123143672943, 0.07011257857084274, 0.0031393691897392273, 0.9828180074691772, 0.15712231397628784, 0.833224356174469, 0.9637265801429749, 0.13970018923282623, 0.8509011268615723, 0.3721180856227875, 0.27637046575546265, 0.072599858045578, 0.02981153503060341, 0.04910135269165039, 0.08066650480031967, 0.04664628207683563, 0.06593610346317291, 0.0007014478906057775, 0.00561158312484622, 0.07745388895273209, 0.03872694447636604, 0.15490777790546417, 0.2129981964826584, 0.01936347223818302, 0.5034502744674683, 0.2613513767719269, 0.006222651805728674, 0.7280502915382385, 0.009142317809164524, 0.013713477179408073, 0.004571158904582262, 0.9188029766082764, 0.045711591839790344, 0.004571158904582262, 0.009142317809164524, 0.9655126929283142, 0.9485297799110413, 0.9591638445854187, 0.05369902774691582, 0.9128835201263428, 0.12907375395298004, 0.062385644763708115, 0.042486775666475296, 0.048402655869722366, 0.6394528746604919, 0.016134219244122505, 0.01021833810955286, 0.04894046485424042, 0.0005378072964958847, 0.001613421831279993, 0.14815953373908997, 0.11234074085950851, 0.20107364654541016, 0.03337659686803818, 0.10664229840040207, 0.18072205781936646, 0.1847923845052719, 0.004884379915893078, 0.012210950255393982, 0.016281267628073692, 0.9237073659896851, 0.9103745222091675, 0.12672126293182373, 0.1660485565662384, 0.3255425691604614, 0.13109096884727478, 0.00436969893053174, 0.006554548162966967, 0.1157970204949379, 0.03058789111673832, 0.00436969893053174, 0.09176367521286011, 0.9560309648513794, 0.03522219508886337, 0.01105768047273159, 0.9841335415840149, 0.9750078916549683, 0.18350327014923096, 0.018350327387452126, 0.7890640497207642, 0.10370224714279175, 0.08566707372665405, 0.5996695160865784, 0.05861431360244751, 0.02254396677017212, 0.1307550072669983, 0.9839401245117188, 0.9736403822898865, 0.9717074632644653, 0.964224100112915, 0.015608281828463078, 0.9781189560890198, 0.005202760454267263, 0.9353415369987488, 0.10469328612089157, 0.3028225302696228, 0.03152056038379669, 0.038274966180324554, 0.41427022218704224, 0.019700350239872932, 0.04671797156333923, 0.04108930006623268, 0.12679439783096313, 0.8664283752441406, 0.9881703853607178, 0.19599677622318268, 0.13517019152641296, 0.1255151778459549, 0.09075712412595749, 0.11103265732526779, 0.19647952914237976, 0.10958440601825714, 0.02944779209792614, 0.003379254834726453, 0.002413753420114517, 0.9637600779533386, 0.032934628427028656, 0.92216956615448, 0.00783146359026432, 0.14096635580062866, 0.05482024699449539, 0.10180903226137161, 0.02349439077079296, 0.6578429937362671, 0.00783146359026432, 0.038021087646484375, 0.23573075234889984, 0.038021087646484375, 0.5931289792060852, 0.04562530666589737, 0.0076042176224291325, 0.038021087646484375, 0.05465497449040413, 0.03441239148378372, 0.08097033202648163, 0.5344042181968689, 0.03238813206553459, 0.17408621311187744, 0.02833961695432663, 0.004048516508191824, 0.05465497449040413, 0.1852571815252304, 0.18863777816295624, 0.15483172237873077, 0.06152701750397682, 0.12508240342140198, 0.10817937552928925, 0.10547488927841187, 0.04462398961186409, 0.019607512280344963, 0.006761210970580578, 0.0388057604432106, 0.9507411122322083, 0.833788275718689, 0.016675764694809914, 0.1334061175584793, 0.28765392303466797, 0.12328024953603745, 0.1328687071800232, 0.11460497230291367, 0.07214177399873734, 0.07396814972162247, 0.12556321918964386, 0.06392309069633484, 0.0027395610231906176, 0.0036527481861412525, 0.18563148379325867, 0.17892998456954956, 0.04691048339009285, 0.13335980474948883, 0.23053152859210968, 0.12263740599155426, 0.02948659099638462, 0.07237617671489716, 0.0006701497477479279, 0.0006701497477479279, 0.9664177894592285, 0.026844939216971397, 0.07443661242723465, 0.8374118804931641, 0.07443661242723465, 0.9669111371040344, 0.26591265201568604, 0.002206744160503149, 0.008826976642012596, 0.18977999687194824, 0.014343836344778538, 0.024274185299873352, 0.49320730566978455, 0.0011033720802515745, 0.05668197572231293, 0.07919947803020477, 0.2360454946756363, 0.062117233872413635, 0.23526902496814728, 0.1560695469379425, 0.15684601664543152, 0.010870516300201416, 0.005435258150100708, 0.000776465458329767, 0.9757691025733948, 0.21846480667591095, 0.1546362340450287, 0.11877378821372986, 0.07435699552297592, 0.21352961659431458, 0.1365405023097992, 0.04902297630906105, 0.03191428631544113, 0.00032901327358558774, 0.002303092973306775, 0.9549576044082642, 0.9951244592666626, 0.9562555551528931, 0.9802029132843018, 0.07627695053815842, 0.11845361441373825, 0.3006209135055542, 0.06191893666982651, 0.12024836987257004, 0.10858248174190521, 0.14537489414215088, 0.038587164133787155, 0.00628163106739521, 0.02512652426958084, 0.9408132433891296, 0.9825846552848816, 0.9604535102844238, 0.01847025938332081, 0.09111426770687103, 0.8655855655670166, 0.9228618741035461, 0.95858234167099, 0.03550305217504501, 0.9899007678031921], \"Term\": [\"1\", \"1\", \"1\", \"1\", \"1\", \"1\", \"1\", \"1\", \"1\", \"1\", \"15\", \"15\", \"15\", \"15\", \"15\", \"15\", \"15\", \"15\", \"15\", \"15\", \"2\", \"2\", \"2\", \"2\", \"2\", \"2\", \"2\", \"2\", \"2\", \"2012\", \"24th\", \"3\", \"3\", \"3\", \"3\", \"3\", \"3\", \"3\", \"3\", \"3\", \"30\", \"30\", \"30\", \"30\", \"30\", \"30\", \"30\", \"30\", \"30\", \"4\", \"4\", \"4\", \"4\", \"4\", \"4\", \"4\", \"4\", \"4\", \"5\", \"5\", \"5\", \"5\", \"5\", \"5\", \"5\", \"5\", \"5\", \"5\", \"65\", \"7am\", \"acknowledg\", \"agent\", \"airlin\", \"airlin\", \"airport\", \"airport\", \"airport\", \"airport\", \"airport\", \"airway\", \"airway\", \"aisl\", \"ale\", \"ale\", \"ale\", \"alic\", \"also\", \"also\", \"also\", \"also\", \"also\", \"also\", \"also\", \"also\", \"also\", \"also\", \"alway\", \"alway\", \"alway\", \"alway\", \"alway\", \"alway\", \"alway\", \"alway\", \"alway\", \"alway\", \"amaz\", \"amaz\", \"amaz\", \"amaz\", \"amaz\", \"amaz\", \"amaz\", \"amaz\", \"amaz\", \"amaz\", \"ambient\", \"amc\", \"angri\", \"anoth\", \"anoth\", \"anoth\", \"anoth\", \"anoth\", \"anoth\", \"anoth\", \"anoth\", \"anoth\", \"anoth\", \"answer\", \"answer\", \"answer\", \"answer\", \"answer\", \"antipasto\", \"antiqu\", \"apolog\", \"apolog\", \"apolog\", \"apologet\", \"appet\", \"appet\", \"appet\", \"appet\", \"appet\", \"appet\", \"appoint\", \"appoint\", \"appoint\", \"appoint\", \"appoint\", \"appt\", \"area\", \"area\", \"area\", \"area\", \"area\", \"area\", \"area\", \"area\", \"area\", \"area\", \"arena\", \"arepa\", \"arriv\", \"arriv\", \"arriv\", \"arriv\", \"arriv\", \"arriv\", \"arriv\", \"arriv\", \"articl\", \"asada\", \"asian\", \"asian\", \"asian\", \"asian\", \"asian\", \"ask\", \"ask\", \"ask\", \"ask\", \"ask\", \"ask\", \"ask\", \"ask\", \"atmospher\", \"atmospher\", \"atmospher\", \"atmospher\", \"atmospher\", \"atmospher\", \"atmospher\", \"atmospher\", \"authent\", \"authent\", \"authent\", \"authent\", \"awar\", \"awar\", \"b\", \"back\", \"back\", \"back\", \"back\", \"back\", \"back\", \"back\", \"back\", \"back\", \"back\", \"bag\", \"bag\", \"bag\", \"bag\", \"bag\", \"bag\", \"bag\", \"bag\", \"bagel\", \"bagel\", \"bagel\", \"bagel\", \"bagel\", \"balconi\", \"band\", \"band\", \"band\", \"band\", \"band\", \"bar\", \"bar\", \"bar\", \"bar\", \"bar\", \"bar\", \"bar\", \"bar\", \"bar\", \"bar\", \"barber\", \"bargain\", \"bargain\", \"barista\", \"bartend\", \"bartend\", \"bartend\", \"bartend\", \"bartend\", \"batteri\", \"batteri\", \"bbq\", \"bbq\", \"bbq\", \"bbq\", \"bbq\", \"bbq\", \"bean\", \"bean\", \"bean\", \"bean\", \"bean\", \"bean\", \"beef\", \"beef\", \"beef\", \"beef\", \"beef\", \"beer\", \"beer\", \"beer\", \"beer\", \"beer\", \"beer\", \"beer\", \"beet\", \"beginn\", \"belt\", \"belt\", \"benedict\", \"berri\", \"best\", \"best\", \"best\", \"best\", \"best\", \"best\", \"best\", \"best\", \"best\", \"best\", \"better\", \"better\", \"better\", \"better\", \"better\", \"better\", \"better\", \"better\", \"better\", \"better\", \"bike\", \"bike\", \"bike\", \"bike\", \"bill\", \"bill\", \"bill\", \"bill\", \"bill\", \"bill\", \"bill\", \"bill\", \"bill\", \"biz_photo\", \"blanco\", \"boba\", \"bosa\", \"bouncer\", \"bouncer\", \"brand\", \"brand\", \"brand\", \"bread\", \"bread\", \"bread\", \"bread\", \"bread\", \"bread\", \"bread\", \"breakfast\", \"breakfast\", \"breakfast\", \"breakfast\", \"breakfast\", \"breweri\", \"breweri\", \"breweri\", \"brie\", \"brisket\", \"broth\", \"brunch\", \"brunch\", \"brunch\", \"bruschetta\", \"bruschetta\", \"bruschetta\", \"bruschetta\", \"bull\", \"burger\", \"burger\", \"burger\", \"burger\", \"burger\", \"burger\", \"burrito\", \"burro\", \"busi\", \"busi\", \"busi\", \"busi\", \"busi\", \"busi\", \"busi\", \"busi\", \"busi\", \"butterfish\", \"buy\", \"buy\", \"buy\", \"buy\", \"buy\", \"buy\", \"buy\", \"call\", \"call\", \"call\", \"call\", \"call\", \"call\", \"call\", \"call\", \"call\", \"call\", \"calzon\", \"came\", \"came\", \"came\", \"came\", \"came\", \"came\", \"came\", \"came\", \"came\", \"campu\", \"campu\", \"cannoli\", \"car\", \"car\", \"car\", \"car\", \"car\", \"car\", \"car\", \"car\", \"card\", \"card\", \"card\", \"card\", \"card\", \"card\", \"care\", \"care\", \"care\", \"care\", \"care\", \"care\", \"care\", \"care\", \"carn\", \"carnita\", \"carpet\", \"carri\", \"carri\", \"carri\", \"carri\", \"carri\", \"carri\", \"carri\", \"cash\", \"cash\", \"cash\", \"cash\", \"casino\", \"cast\", \"cell\", \"central\", \"central\", \"central\", \"central\", \"central\", \"cevich\", \"cha\", \"charg\", \"charg\", \"charg\", \"charg\", \"charg\", \"charg\", \"charg\", \"charli\", \"chees\", \"chees\", \"chees\", \"chees\", \"chees\", \"chees\", \"chees\", \"chef\", \"chef\", \"chef\", \"chef\", \"chef\", \"chef\", \"chicken\", \"chicken\", \"chicken\", \"chicken\", \"chicken\", \"chicken\", \"chimi\", \"chimichanga\", \"china\", \"china\", \"chines\", \"chines\", \"chines\", \"chip\", \"chip\", \"chip\", \"chip\", \"chip\", \"chip\", \"chip\", \"chipotl\", \"chipotl\", \"chipotl\", \"chop\", \"chop\", \"chop\", \"christoph\", \"chuck\", \"cibo\", \"cigar\", \"citi\", \"citi\", \"citi\", \"citi\", \"citi\", \"citi\", \"citi\", \"citi\", \"clam\", \"class\", \"class\", \"class\", \"class\", \"class\", \"clearanc\", \"close\", \"close\", \"close\", \"close\", \"close\", \"close\", \"close\", \"close\", \"close\", \"close\", \"cloth\", \"cloth\", \"cloth\", \"cloth\", \"cloth\", \"code\", \"code\", \"coe\", \"coffe\", \"coffe\", \"coffe\", \"coffe\", \"coffe\", \"coleslaw\", \"colleagu\", \"com\", \"com\", \"com\", \"com\", \"come\", \"come\", \"come\", \"come\", \"come\", \"come\", \"come\", \"come\", \"come\", \"come\", \"comic\", \"comp\", \"confer\", \"confer\", \"consult\", \"contact\", \"contact\", \"contact\", \"contact\", \"cook\", \"cook\", \"cook\", \"cook\", \"cook\", \"cook\", \"cook\", \"cool\", \"cool\", \"cool\", \"cool\", \"cool\", \"cool\", \"cool\", \"cool\", \"cool\", \"cool\", \"cork\", \"cornish\", \"costco\", \"costco\", \"could\", \"could\", \"could\", \"could\", \"could\", \"could\", \"could\", \"could\", \"could\", \"could\", \"coupon\", \"coupon\", \"coupon\", \"coupon\", \"coupon\", \"coupon\", \"coupon\", \"cours\", \"cours\", \"cours\", \"cours\", \"cours\", \"cours\", \"cours\", \"cours\", \"cours\", \"court\", \"court\", \"court\", \"courtyard\", \"courtyard\", \"crab\", \"crab\", \"crab\", \"crowd\", \"crowd\", \"crowd\", \"crowd\", \"crowd\", \"crowd\", \"crowd\", \"crowd\", \"crowd\", \"cruis\", \"crust\", \"crust\", \"crust\", \"crust\", \"cuban\", \"cuisin\", \"cuisin\", \"cuisin\", \"cuisin\", \"cuisin\", \"cupcak\", \"cupcak\", \"cupcak\", \"cupcak\", \"curri\", \"curri\", \"custom\", \"custom\", \"custom\", \"custom\", \"custom\", \"custom\", \"custom\", \"custom\", \"custom\", \"cut\", \"cut\", \"cut\", \"cut\", \"cut\", \"cut\", \"cut\", \"dan\", \"danc\", \"danc\", \"danc\", \"danc\", \"danc\", \"day\", \"day\", \"day\", \"day\", \"day\", \"day\", \"day\", \"day\", \"day\", \"day\", \"decemb\", \"declin\", \"dedic\", \"del\", \"delici\", \"delici\", \"delici\", \"delici\", \"delici\", \"delici\", \"delici\", \"delici\", \"delici\", \"delux\", \"delux\", \"delux\", \"dental\", \"dessert\", \"dessert\", \"dessert\", \"dessert\", \"dessert\", \"diego\", \"diego\", \"dim\", \"dim\", \"dim\", \"dim\", \"din\", \"dirt\", \"dirt\", \"dirt\", \"dish\", \"dish\", \"dish\", \"dish\", \"dish\", \"dish\", \"dish\", \"dj\", \"dobson\", \"doctor\", \"dog\", \"dog\", \"dog\", \"dog\", \"dog\", \"dog\", \"dog\", \"donat\", \"donut\", \"dr\", \"drew\", \"drink\", \"drink\", \"drink\", \"drink\", \"drink\", \"drink\", \"drink\", \"drink\", \"drink\", \"drink\", \"drive\", \"drive\", \"drive\", \"drive\", \"drive\", \"drive\", \"drive\", \"drive\", \"drive\", \"drive\", \"drug\", \"drug\", \"dunkin\", \"dust\", \"eat\", \"eat\", \"eat\", \"eat\", \"eat\", \"eat\", \"eat\", \"eat\", \"eat\", \"edamam\", \"edamam\", \"egg\", \"egg\", \"egg\", \"egg\", \"egg\", \"eggplant\", \"emerg\", \"emerg\", \"enchilada\", \"enjoy\", \"enjoy\", \"enjoy\", \"enjoy\", \"enjoy\", \"enjoy\", \"enjoy\", \"enjoy\", \"enjoy\", \"enjoy\", \"entre\", \"entre\", \"entre\", \"entre\", \"entre\", \"espresso\", \"espresso\", \"espresso\", \"european\", \"even\", \"even\", \"even\", \"even\", \"even\", \"even\", \"even\", \"even\", \"even\", \"even\", \"event\", \"event\", \"event\", \"event\", \"event\", \"event\", \"event\", \"event\", \"excel\", \"excel\", \"excel\", \"excel\", \"excel\", \"excel\", \"excel\", \"excel\", \"excel\", \"exhibit\", \"experi\", \"experi\", \"experi\", \"experi\", \"experi\", \"experi\", \"experi\", \"experi\", \"experi\", \"experi\", \"exterior\", \"fajita\", \"fajita\", \"falafel\", \"farmer\", \"feta\", \"fi\", \"fi\", \"field\", \"field\", \"field\", \"field\", \"field\", \"field\", \"fifteen\", \"fig\", \"fig\", \"filet\", \"final\", \"final\", \"final\", \"final\", \"final\", \"final\", \"final\", \"final\", \"find\", \"find\", \"find\", \"find\", \"find\", \"find\", \"find\", \"find\", \"find\", \"find\", \"first\", \"first\", \"first\", \"first\", \"first\", \"first\", \"first\", \"first\", \"first\", \"first\", \"flavor\", \"flavor\", \"flavor\", \"flavor\", \"flavor\", \"flavor\", \"flavor\", \"flavor\", \"flavor\", \"flight\", \"flight\", \"flight\", \"flight\", \"flight\", \"floor\", \"floor\", \"floor\", \"floor\", \"floor\", \"floor\", \"floor\", \"fondu\", \"food\", \"food\", \"food\", \"food\", \"food\", \"food\", \"food\", \"food\", \"food\", \"food\", \"footbal\", \"footbal\", \"footbal\", \"footbal\", \"formal\", \"francisco\", \"fresh\", \"fresh\", \"fresh\", \"fresh\", \"fresh\", \"fresh\", \"fresh\", \"fresh\", \"fresh\", \"fri\", \"fri\", \"fri\", \"fri\", \"fri\", \"fri\", \"fri\", \"fri\", \"friend\", \"friend\", \"friend\", \"friend\", \"friend\", \"friend\", \"friend\", \"friend\", \"friend\", \"friend\", \"friendli\", \"friendli\", \"friendli\", \"friendli\", \"friendli\", \"friendli\", \"friendli\", \"friendli\", \"friendli\", \"friendli\", \"friendliest\", \"fro\", \"frozen\", \"frozen\", \"frozen\", \"frozen\", \"frozen\", \"frozen\", \"fuck\", \"fuck\", \"fuck\", \"fun\", \"fun\", \"fun\", \"fun\", \"fun\", \"fun\", \"fun\", \"fun\", \"galleri\", \"gallo\", \"galor\", \"game\", \"game\", \"game\", \"game\", \"game\", \"game\", \"garlic\", \"garlic\", \"gay\", \"gel\", \"gentl\", \"german\", \"german\", \"get\", \"get\", \"get\", \"get\", \"get\", \"get\", \"get\", \"get\", \"get\", \"get\", \"ghost\", \"go\", \"go\", \"go\", \"go\", \"go\", \"go\", \"go\", \"go\", \"go\", \"go\", \"good\", \"good\", \"good\", \"good\", \"good\", \"good\", \"good\", \"good\", \"good\", \"good\", \"goodwil\", \"goos\", \"got\", \"got\", \"got\", \"got\", \"got\", \"got\", \"got\", \"got\", \"got\", \"gra\", \"graduat\", \"gravel\", \"gravel\", \"grayhawk\", \"great\", \"great\", \"great\", \"great\", \"great\", \"great\", \"great\", \"great\", \"great\", \"great\", \"greek\", \"greek\", \"greek\", \"grey\", \"grill\", \"grill\", \"grill\", \"grill\", \"grill\", \"grill\", \"grill\", \"grill\", \"grill\", \"grit\", \"groceri\", \"groceri\", \"groom\", \"gross\", \"gross\", \"gross\", \"gross\", \"gross\", \"gross\", \"gross\", \"gross\", \"guac\", \"guac\", \"guacamol\", \"guacamol\", \"guy\", \"guy\", \"guy\", \"guy\", \"guy\", \"guy\", \"guy\", \"guy\", \"guy\", \"guy\", \"gym\", \"gym\", \"gyro\", \"hair\", \"hair\", \"hair\", \"hair\", \"hair\", \"haircut\", \"happi\", \"happi\", \"happi\", \"happi\", \"happi\", \"happi\", \"happi\", \"happi\", \"happi\", \"hash\", \"heavili\", \"help\", \"help\", \"help\", \"help\", \"help\", \"help\", \"help\", \"help\", \"help\", \"help\", \"herb\", \"herb\", \"herb\", \"hh\", \"hh\", \"hike\", \"hike\", \"ho\", \"holder\", \"hong\", \"hooter\", \"horribl\", \"horribl\", \"horribl\", \"horribl\", \"horribl\", \"horribl\", \"hors\", \"hors\", \"hors\", \"hostess\", \"hostess\", \"hostess\", \"hostess\", \"hostess\", \"hotel\", \"hotel\", \"hotel\", \"hour\", \"hour\", \"hour\", \"hour\", \"hour\", \"hour\", \"hour\", \"hour\", \"hour\", \"houston\", \"http\", \"http\", \"ice\", \"ice\", \"ice\", \"ice\", \"ice\", \"ice\", \"ikea\", \"inform\", \"inform\", \"inform\", \"inform\", \"inform\", \"inform\", \"inform\", \"inform\", \"instal\", \"instal\", \"instal\", \"instructor\", \"insur\", \"invis\", \"irrit\", \"irrit\", \"item\", \"item\", \"item\", \"item\", \"item\", \"item\", \"item\", \"item\", \"item\", \"ivi\", \"jacket\", \"japanes\", \"japanes\", \"japanes\", \"jose\", \"jukebox\", \"k\", \"k\", \"k\", \"kabob\", \"karaok\", \"ken\", \"kid\", \"kid\", \"kid\", \"kid\", \"kid\", \"kid\", \"kid\", \"kid\", \"kid\", \"kiltlift\", \"kindli\", \"know\", \"know\", \"know\", \"know\", \"know\", \"know\", \"know\", \"know\", \"know\", \"know\", \"kona\", \"kong\", \"lab\", \"lamb\", \"landscap\", \"lane\", \"latest\", \"latt\", \"latt\", \"latt\", \"leak\", \"leash\", \"lee\", \"like\", \"like\", \"like\", \"like\", \"like\", \"like\", \"like\", \"like\", \"like\", \"like\", \"littl\", \"littl\", \"littl\", \"littl\", \"littl\", \"littl\", \"littl\", \"littl\", \"littl\", \"littl\", \"live\", \"live\", \"live\", \"live\", \"live\", \"live\", \"live\", \"live\", \"live\", \"live\", \"lo\", \"lo\", \"locat\", \"locat\", \"locat\", \"locat\", \"locat\", \"locat\", \"locat\", \"locat\", \"locat\", \"locat\", \"locker\", \"london\", \"look\", \"look\", \"look\", \"look\", \"look\", \"look\", \"look\", \"look\", \"look\", \"look\", \"loos\", \"loos\", \"loos\", \"lot\", \"lot\", \"lot\", \"lot\", \"lot\", \"lot\", \"lot\", \"lot\", \"lot\", \"lot\", \"loung\", \"loung\", \"loung\", \"love\", \"love\", \"love\", \"love\", \"love\", \"love\", \"love\", \"love\", \"love\", \"love\", \"luggag\", \"lunch\", \"lunch\", \"lunch\", \"lunch\", \"lunch\", \"lunch\", \"lunch\", \"lunch\", \"lunch\", \"lux\", \"lux\", \"macaroni\", \"machaca\", \"maci\", \"mainten\", \"make\", \"make\", \"make\", \"make\", \"make\", \"make\", \"make\", \"make\", \"make\", \"make\", \"mall\", \"mall\", \"mall\", \"mall\", \"mall\", \"mall\", \"mall\", \"mall\", \"mall\", \"manag\", \"manag\", \"manag\", \"manag\", \"manag\", \"manag\", \"manag\", \"manag\", \"manicur\", \"manicur\", \"margarita\", \"margarita\", \"margarita\", \"margarita\", \"maricopa\", \"market\", \"market\", \"market\", \"market\", \"market\", \"market\", \"mart\", \"materi\", \"meal\", \"meal\", \"meal\", \"meal\", \"meal\", \"meal\", \"meal\", \"meal\", \"meal\", \"meat\", \"meat\", \"meat\", \"meat\", \"meat\", \"meatloaf\", \"media\", \"medic\", \"mega\", \"menu\", \"menu\", \"menu\", \"menu\", \"menu\", \"menu\", \"menu\", \"menu\", \"menu\", \"mexican\", \"mike\", \"mile\", \"mile\", \"mile\", \"mile\", \"mile\", \"mile\", \"mile\", \"mile\", \"mile\", \"min\", \"min\", \"min\", \"min\", \"min\", \"minut\", \"minut\", \"minut\", \"minut\", \"minut\", \"minut\", \"minut\", \"minut\", \"minut\", \"miso\", \"mmmmm\", \"mock\", \"money\", \"money\", \"money\", \"money\", \"money\", \"money\", \"money\", \"money\", \"money\", \"mongolian\", \"moon\", \"moon\", \"moon\", \"morn\", \"morn\", \"morn\", \"morn\", \"morn\", \"morn\", \"morn\", \"motel\", \"mountain\", \"mountain\", \"mountain\", \"mountain\", \"mountain\", \"movi\", \"movi\", \"movi\", \"movi\", \"movi\", \"movi\", \"much\", \"much\", \"much\", \"much\", \"much\", \"much\", \"much\", \"much\", \"much\", \"much\", \"munchi\", \"museum\", \"museum\", \"mushroom\", \"mushroom\", \"mushroom\", \"music\", \"music\", \"music\", \"music\", \"music\", \"music\", \"music\", \"music\", \"music\", \"music\", \"nail\", \"nail\", \"nail\", \"need\", \"need\", \"need\", \"need\", \"need\", \"need\", \"need\", \"need\", \"need\", \"need\", \"never\", \"never\", \"never\", \"never\", \"never\", \"never\", \"never\", \"never\", \"never\", \"never\", \"newbi\", \"nice\", \"nice\", \"nice\", \"nice\", \"nice\", \"nice\", \"nice\", \"nice\", \"nice\", \"nice\", \"night\", \"night\", \"night\", \"night\", \"night\", \"night\", \"night\", \"night\", \"night\", \"night\", \"nigiri\", \"nom\", \"noodl\", \"noodl\", \"noodl\", \"noodl\", \"nordstrom\", \"novelti\", \"oliv\", \"oliv\", \"oliv\", \"oliv\", \"omelet\", \"omelet\", \"omelett\", \"one\", \"one\", \"one\", \"one\", \"one\", \"one\", \"one\", \"one\", \"one\", \"one\", \"onion\", \"onion\", \"onion\", \"onion\", \"open\", \"open\", \"open\", \"open\", \"open\", \"open\", \"open\", \"open\", \"open\", \"open\", \"order\", \"order\", \"order\", \"order\", \"order\", \"order\", \"order\", \"order\", \"order\", \"organ\", \"organ\", \"organ\", \"organ\", \"organ\", \"organ\", \"organ\", \"outdoor\", \"outdoor\", \"outdoor\", \"outdoor\", \"overflow\", \"packet\", \"paleta\", \"pancak\", \"pancak\", \"park\", \"park\", \"park\", \"park\", \"park\", \"park\", \"park\", \"park\", \"park\", \"parmesan\", \"particip\", \"pasta\", \"pasta\", \"patient\", \"patient\", \"patient\", \"patient\", \"patio\", \"patio\", \"patio\", \"patio\", \"patio\", \"patio\", \"patio\", \"pay\", \"pay\", \"pay\", \"pay\", \"pay\", \"pay\", \"pay\", \"pay\", \"pear\", \"pedi\", \"pedicur\", \"pei\", \"pei\", \"peopl\", \"peopl\", \"peopl\", \"peopl\", \"peopl\", \"peopl\", \"peopl\", \"peopl\", \"peopl\", \"peopl\", \"pepper\", \"pepper\", \"pepper\", \"pesto\", \"petsmart\", \"phil\", \"pho\", \"pho\", \"pho\", \"phoenix\", \"phoenix\", \"phoenix\", \"phoenix\", \"phoenix\", \"phoenix\", \"phoenix\", \"phoenix\", \"phoenix\", \"phoenix\", \"phone\", \"phone\", \"phone\", \"phone\", \"phone\", \"phone\", \"photograph\", \"pickl\", \"pickl\", \"pickl\", \"pickup\", \"pierc\", \"piss\", \"pizza\", \"pizza\", \"pizza\", \"pizza\", \"pizza\", \"pizza\", \"pizza\", \"pizza\", \"pizza\", \"place\", \"place\", \"place\", \"place\", \"place\", \"place\", \"place\", \"place\", \"place\", \"place\", \"plant\", \"plant\", \"plate\", \"plate\", \"plate\", \"plate\", \"plate\", \"plate\", \"plate\", \"plate\", \"play\", \"play\", \"play\", \"play\", \"play\", \"play\", \"play\", \"play\", \"pollo\", \"pool\", \"pool\", \"pool\", \"poolsid\", \"popcorn\", \"pork\", \"pork\", \"pork\", \"pork\", \"potato\", \"potato\", \"potato\", \"potato\", \"potstick\", \"prawn\", \"pretti\", \"pretti\", \"pretti\", \"pretti\", \"pretti\", \"pretti\", \"pretti\", \"pretti\", \"pretti\", \"pretti\", \"price\", \"price\", \"price\", \"price\", \"price\", \"price\", \"price\", \"price\", \"price\", \"price\", \"procedur\", \"proceed\", \"produc\", \"produc\", \"produc\", \"produc\", \"product\", \"product\", \"product\", \"product\", \"product\", \"public\", \"public\", \"public\", \"public\", \"public\", \"pud\", \"purchas\", \"purchas\", \"purchas\", \"purchas\", \"purchas\", \"purs\", \"purs\", \"q\", \"q\", \"q\", \"quesadilla\", \"quesadilla\", \"quesadilla\", \"queso\", \"question\", \"question\", \"question\", \"question\", \"question\", \"question\", \"question\", \"question\", \"quieter\", \"ra\", \"radiat\", \"rail\", \"ramen\", \"ravioli\", \"realli\", \"realli\", \"realli\", \"realli\", \"realli\", \"realli\", \"realli\", \"realli\", \"realli\", \"realli\", \"receipt\", \"receipt\", \"receiv\", \"receiv\", \"receiv\", \"receiv\", \"receiv\", \"receiv\", \"receiv\", \"receiv\", \"recess\", \"relax\", \"relax\", \"relax\", \"relax\", \"relax\", \"relax\", \"relleno\", \"repair\", \"repair\", \"repair\", \"repair\", \"repli\", \"resort\", \"resort\", \"resort\", \"resort\", \"restaur\", \"restaur\", \"restaur\", \"restaur\", \"restaur\", \"restaur\", \"restaur\", \"restaur\", \"restaur\", \"retail\", \"retail\", \"return\", \"return\", \"return\", \"return\", \"return\", \"return\", \"return\", \"return\", \"review\", \"review\", \"review\", \"review\", \"review\", \"review\", \"review\", \"review\", \"review\", \"review\", \"rib\", \"rib\", \"rib\", \"rib\", \"richard\", \"ride\", \"ride\", \"ride\", \"ride\", \"ride\", \"ritz\", \"road\", \"road\", \"road\", \"road\", \"road\", \"road\", \"road\", \"road\", \"road\", \"roadhous\", \"robin\", \"roll\", \"roll\", \"roll\", \"roll\", \"roll\", \"roll\", \"roll\", \"room\", \"room\", \"room\", \"room\", \"room\", \"room\", \"room\", \"royal\", \"rude\", \"rude\", \"rude\", \"rude\", \"rude\", \"rude\", \"safeway\", \"said\", \"said\", \"said\", \"said\", \"said\", \"said\", \"said\", \"said\", \"said\", \"said\", \"sake\", \"sake\", \"sake\", \"salad\", \"salad\", \"salad\", \"salad\", \"salad\", \"salad\", \"salad\", \"salad\", \"sale\", \"sale\", \"sale\", \"sale\", \"salsa\", \"san\", \"san\", \"san\", \"san\", \"san\", \"san\", \"sandwich\", \"sandwich\", \"sandwich\", \"sandwich\", \"sandwich\", \"sandwich\", \"sandwich\", \"sara\", \"sashimi\", \"satay\", \"sauc\", \"sauc\", \"sauc\", \"sauc\", \"sauc\", \"sauc\", \"sauc\", \"sauna\", \"saver\", \"say\", \"say\", \"say\", \"say\", \"say\", \"say\", \"say\", \"say\", \"say\", \"say\", \"schnitzel\", \"seat\", \"seat\", \"seat\", \"seat\", \"seat\", \"seat\", \"seat\", \"seat\", \"seat\", \"secur\", \"secur\", \"secur\", \"see\", \"see\", \"see\", \"see\", \"see\", \"see\", \"see\", \"see\", \"see\", \"see\", \"select\", \"select\", \"select\", \"select\", \"select\", \"select\", \"select\", \"select\", \"select\", \"select\", \"sell\", \"sell\", \"sell\", \"sell\", \"sell\", \"sell\", \"sell\", \"sell\", \"sen\", \"sensor\", \"server\", \"server\", \"server\", \"server\", \"server\", \"server\", \"server\", \"server\", \"servic\", \"servic\", \"servic\", \"servic\", \"servic\", \"servic\", \"servic\", \"servic\", \"servic\", \"servic\", \"session\", \"shall\", \"shannon\", \"sharp\", \"shit\", \"shit\", \"shit\", \"shit\", \"shit\", \"shoe\", \"shoe\", \"shoe\", \"shoe\", \"shop\", \"shop\", \"shop\", \"shop\", \"shop\", \"shop\", \"shop\", \"shop\", \"shove\", \"shove\", \"side\", \"side\", \"side\", \"side\", \"side\", \"side\", \"side\", \"side\", \"side\", \"side\", \"silli\", \"skate\", \"skate\", \"skillet\", \"slider\", \"slider\", \"slider\", \"slider\", \"sober\", \"solut\", \"sombrero\", \"someth\", \"someth\", \"someth\", \"someth\", \"someth\", \"someth\", \"someth\", \"someth\", \"someth\", \"someth\", \"sonora\", \"souffl\", \"soup\", \"soup\", \"soup\", \"soup\", \"soup\", \"spa\", \"spa\", \"spa\", \"special\", \"special\", \"special\", \"special\", \"special\", \"special\", \"special\", \"special\", \"special\", \"special\", \"sport\", \"sport\", \"sport\", \"sport\", \"sport\", \"sport\", \"spring\", \"spring\", \"spring\", \"spring\", \"spring\", \"spring\", \"spring\", \"stadium\", \"stadium\", \"staff\", \"staff\", \"staff\", \"staff\", \"staff\", \"staff\", \"staff\", \"staff\", \"staff\", \"staff\", \"staffperson\", \"star\", \"star\", \"star\", \"star\", \"star\", \"star\", \"star\", \"star\", \"star\", \"star\", \"starbuck\", \"starbuck\", \"starbuck\", \"stay\", \"stay\", \"stay\", \"stay\", \"stay\", \"stay\", \"stay\", \"stay\", \"stay\", \"steak\", \"steak\", \"steak\", \"steak\", \"steak\", \"steak\", \"steakhous\", \"stew\", \"store\", \"store\", \"store\", \"store\", \"street\", \"street\", \"street\", \"street\", \"street\", \"street\", \"street\", \"street\", \"street\", \"street\", \"student\", \"student\", \"student\", \"student\", \"studi\", \"studi\", \"stuff\", \"stuff\", \"stuff\", \"stuff\", \"stuff\", \"stuff\", \"stuff\", \"stuff\", \"stuff\", \"stuff\", \"subway\", \"subway\", \"subway\", \"sum\", \"sum\", \"sum\", \"sum\", \"sum\", \"summit\", \"surgeri\", \"survey\", \"sushi\", \"sweet\", \"sweet\", \"sweet\", \"sweet\", \"sweet\", \"sweet\", \"sweet\", \"sweet\", \"sweet\", \"tabl\", \"tabl\", \"tabl\", \"tabl\", \"tabl\", \"tabl\", \"tabl\", \"tabl\", \"tabl\", \"taco\", \"taco\", \"taco\", \"taco\", \"take\", \"take\", \"take\", \"take\", \"take\", \"take\", \"take\", \"take\", \"take\", \"take\", \"tamal\", \"tamal\", \"tammi\", \"tap\", \"tap\", \"tap\", \"tap\", \"tap\", \"tapa\", \"tast\", \"tast\", \"tast\", \"tast\", \"tast\", \"tast\", \"tast\", \"tast\", \"tast\", \"tast\", \"tastier\", \"teacher\", \"teacher\", \"techno\", \"tempura\", \"termin\", \"termin\", \"thai\", \"theater\", \"theater\", \"theater\", \"thing\", \"thing\", \"thing\", \"thing\", \"thing\", \"thing\", \"thing\", \"thing\", \"thing\", \"thing\", \"think\", \"think\", \"think\", \"think\", \"think\", \"think\", \"think\", \"think\", \"think\", \"think\", \"ticket\", \"ticket\", \"ticket\", \"ticket\", \"ticket\", \"ticket\", \"tile\", \"time\", \"time\", \"time\", \"time\", \"time\", \"time\", \"time\", \"time\", \"time\", \"time\", \"tire\", \"tire\", \"tire\", \"tire\", \"tire\", \"tire\", \"tire\", \"tj\", \"tokyo\", \"told\", \"told\", \"told\", \"told\", \"told\", \"told\", \"told\", \"told\", \"told\", \"tomato\", \"tomato\", \"tomato\", \"took\", \"took\", \"took\", \"took\", \"took\", \"took\", \"took\", \"took\", \"took\", \"took\", \"top\", \"top\", \"top\", \"top\", \"top\", \"top\", \"top\", \"top\", \"top\", \"top\", \"torta\", \"tortilla\", \"tortilla\", \"trade\", \"trail\", \"trail\", \"tri\", \"tri\", \"tri\", \"tri\", \"tri\", \"tri\", \"tri\", \"tri\", \"tri\", \"tri\", \"truck\", \"truck\", \"truck\", \"truck\", \"truck\", \"truck\", \"tuna\", \"tuna\", \"tuna\", \"tv\", \"tv\", \"tv\", \"tv\", \"tv\", \"tv\", \"tv\", \"unexpect\", \"union\", \"unprofession\", \"upset\", \"upset\", \"us\", \"us\", \"us\", \"us\", \"us\", \"us\", \"us\", \"us\", \"us\", \"us\", \"use\", \"use\", \"use\", \"use\", \"use\", \"use\", \"use\", \"use\", \"use\", \"use\", \"useless\", \"user\", \"valley\", \"valley\", \"valley\", \"valley\", \"valley\", \"valley\", \"valley\", \"valley\", \"valley\", \"valley\", \"veget\", \"veget\", \"venu\", \"venu\", \"vermicelli\", \"vietnames\", \"vietnames\", \"vietnames\", \"view\", \"view\", \"view\", \"view\", \"view\", \"view\", \"vinegar\", \"vision\", \"visitor\", \"voucher\", \"waffl\", \"waffl\", \"waffl\", \"wagyu\", \"wait\", \"wait\", \"wait\", \"wait\", \"wait\", \"wait\", \"wait\", \"wait\", \"walmart\", \"walmart\", \"walnut\", \"want\", \"want\", \"want\", \"want\", \"want\", \"want\", \"want\", \"want\", \"want\", \"want\", \"warehous\", \"wasabi\", \"wasabi\", \"wash\", \"wash\", \"wash\", \"wash\", \"wash\", \"wash\", \"wash\", \"wast\", \"wast\", \"wast\", \"wast\", \"wast\", \"wast\", \"wast\", \"watch\", \"watch\", \"watch\", \"watch\", \"watch\", \"watch\", \"watch\", \"watch\", \"watch\", \"way\", \"way\", \"way\", \"way\", \"way\", \"way\", \"way\", \"way\", \"way\", \"way\", \"wei\", \"wei\", \"weight\", \"weight\", \"weight\", \"well\", \"well\", \"well\", \"well\", \"well\", \"well\", \"well\", \"well\", \"well\", \"well\", \"went\", \"went\", \"went\", \"went\", \"went\", \"went\", \"went\", \"went\", \"went\", \"went\", \"wi\", \"wi\", \"wifi\", \"wifi\", \"wifi\", \"windshield\", \"wine\", \"wine\", \"wine\", \"wine\", \"wine\", \"wine\", \"wine\", \"wine\", \"work\", \"work\", \"work\", \"work\", \"work\", \"work\", \"work\", \"work\", \"work\", \"work\", \"workout\", \"would\", \"would\", \"would\", \"would\", \"would\", \"would\", \"would\", \"would\", \"would\", \"would\", \"wound\", \"www\", \"x\", \"yasu\", \"year\", \"year\", \"year\", \"year\", \"year\", \"year\", \"year\", \"year\", \"year\", \"year\", \"yike\", \"yo\", \"yoga\", \"yoga\", \"yogurtland\", \"yogurtland\", \"zipp\", \"zoo\", \"zoo\", \"zucchini\"]}, \"R\": 30, \"lambda.step\": 0.01, \"plot.opts\": {\"xlab\": \"PC1\", \"ylab\": \"PC2\"}, \"topic.order\": [5, 10, 3, 8, 9, 6, 4, 1, 2, 7]};\n",
       "\n",
       "function LDAvis_load_lib(url, callback){\n",
       "  var s = document.createElement('script');\n",
       "  s.src = url;\n",
       "  s.async = true;\n",
       "  s.onreadystatechange = s.onload = callback;\n",
       "  s.onerror = function(){console.warn(\"failed to load library \" + url);};\n",
       "  document.getElementsByTagName(\"head\")[0].appendChild(s);\n",
       "}\n",
       "\n",
       "if(typeof(LDAvis) !== \"undefined\"){\n",
       "   // already loaded: just create the visualization\n",
       "   !function(LDAvis){\n",
       "       new LDAvis(\"#\" + \"ldavis_el11246112112033008753456054\", ldavis_el11246112112033008753456054_data);\n",
       "   }(LDAvis);\n",
       "}else if(typeof define === \"function\" && define.amd){\n",
       "   // require.js is available: use it to load d3/LDAvis\n",
       "   require.config({paths: {d3: \"https://cdnjs.cloudflare.com/ajax/libs/d3/3.5.5/d3.min\"}});\n",
       "   require([\"d3\"], function(d3){\n",
       "      window.d3 = d3;\n",
       "      LDAvis_load_lib(\"https://cdn.rawgit.com/bmabey/pyLDAvis/files/ldavis.v1.0.0.js\", function(){\n",
       "        new LDAvis(\"#\" + \"ldavis_el11246112112033008753456054\", ldavis_el11246112112033008753456054_data);\n",
       "      });\n",
       "    });\n",
       "}else{\n",
       "    // require.js not available: dynamically load d3 & LDAvis\n",
       "    LDAvis_load_lib(\"https://cdnjs.cloudflare.com/ajax/libs/d3/3.5.5/d3.min.js\", function(){\n",
       "         LDAvis_load_lib(\"https://cdn.rawgit.com/bmabey/pyLDAvis/files/ldavis.v1.0.0.js\", function(){\n",
       "                 new LDAvis(\"#\" + \"ldavis_el11246112112033008753456054\", ldavis_el11246112112033008753456054_data);\n",
       "            })\n",
       "         });\n",
       "}\n",
       "</script>"
      ],
      "text/plain": [
       "PreparedData(topic_coordinates=              x         y  topics  cluster       Freq\n",
       "topic                                                \n",
       "4     -0.105603 -0.074347       1        1  23.686241\n",
       "9     -0.092920 -0.061153       2        1  15.620202\n",
       "2     -0.003669  0.059492       3        1  10.977431\n",
       "7     -0.036074  0.021828       4        1  10.958612\n",
       "8     -0.082124  0.086586       5        1  10.778649\n",
       "5     -0.032859  0.073321       6        1   9.755377\n",
       "3     -0.032610  0.034631       7        1   9.215709\n",
       "0     -0.084551 -0.059213       8        1   5.691893\n",
       "1      0.268489  0.142707       9        1   1.732571\n",
       "6      0.201922 -0.223850      10        1   1.583316, topic_info=     Category         Freq       Term        Total  loglift  logprob\n",
       "term                                                                \n",
       "24    Default  6266.000000       food  6266.000000  30.0000  30.0000\n",
       "97    Default  4936.000000      great  4936.000000  29.0000  29.0000\n",
       "811   Default  1131.000000     burger  1131.000000  28.0000  28.0000\n",
       "341   Default  1702.000000        bar  1702.000000  27.0000  27.0000\n",
       "1344  Default   664.000000      sushi   664.000000  26.0000  26.0000\n",
       "292   Default  2207.000000    restaur  2207.000000  25.0000  25.0000\n",
       "110   Default  1435.000000      pizza  1435.000000  24.0000  24.0000\n",
       "483   Default   989.000000      store   989.000000  23.0000  23.0000\n",
       "451   Default  1404.000000       hour  1404.000000  22.0000  22.0000\n",
       "135   Default  1859.000000         us  1859.000000  21.0000  21.0000\n",
       "45    Default  7343.000000      place  7343.000000  20.0000  20.0000\n",
       "450   Default  1094.000000      happi  1094.000000  19.0000  19.0000\n",
       "95    Default  6806.000000       good  6806.000000  18.0000  18.0000\n",
       "1125  Default  1512.000000        fri  1512.000000  17.0000  17.0000\n",
       "913   Default   984.000000       beer   984.000000  16.0000  16.0000\n",
       "329   Default   906.000000       wine   906.000000  15.0000  15.0000\n",
       "567   Default  1593.000000      night  1593.000000  14.0000  14.0000\n",
       "499   Default   756.000000       roll   756.000000  13.0000  13.0000\n",
       "114   Default  2061.000000      price  2061.000000  12.0000  12.0000\n",
       "505   Default  1725.000000    chicken  1725.000000  11.0000  11.0000\n",
       "299   Default  3162.000000     servic  3162.000000  10.0000  10.0000\n",
       "294   Default  1465.000000      salad  1465.000000   9.0000   9.0000\n",
       "39    Default  3614.000000      order  3614.000000   8.0000   8.0000\n",
       "474   Default   616.000000        ice   616.000000   7.0000   7.0000\n",
       "419   Default   728.000000       taco   728.000000   6.0000   6.0000\n",
       "222   Default  1400.000000        ask  1400.000000   5.0000   5.0000\n",
       "118   Default  1369.000000       sauc  1369.000000   4.0000   4.0000\n",
       "85    Default  1807.000000      drink  1807.000000   3.0000   3.0000\n",
       "1058  Default   846.000000       room   846.000000   2.0000   2.0000\n",
       "37    Default  1747.000000       menu  1747.000000   1.0000   1.0000\n",
       "...       ...          ...        ...          ...      ...      ...\n",
       "4478  Topic10    10.256532      satay    11.129458   4.0640  -6.9354\n",
       "5016  Topic10    10.121477       user    10.984490   4.0638  -6.9486\n",
       "812   Topic10    46.823151      china    53.775242   4.0072  -5.4169\n",
       "876   Topic10    78.623909        dim    95.213409   3.9542  -4.8986\n",
       "3757  Topic10    17.248716     airway    19.282238   4.0342  -6.4155\n",
       "501   Topic10    86.405899  vietnames   108.989883   3.9134  -4.8042\n",
       "2825  Topic10    80.559395        sum   107.407112   3.8580  -4.8743\n",
       "1793  Topic10   176.022003     chines   274.971191   3.6996  -4.0927\n",
       "1362  Topic10   105.275185      asian   178.133179   3.6197  -4.6067\n",
       "1719  Topic10    69.376564        san   120.830002   3.5908  -5.0237\n",
       "432   Topic10    49.998234     flight   110.381569   3.3537  -5.3513\n",
       "357   Topic10    19.663685      diego    27.440298   3.8124  -6.2845\n",
       "722   Topic10    19.160521     airlin    27.242023   3.7937  -6.3104\n",
       "5506  Topic10    40.582588     cuisin   115.102394   3.1032  -5.5599\n",
       "870   Topic10    60.438507    authent   247.867004   2.7344  -5.1616\n",
       "857   Topic10    59.741047      noodl   292.851990   2.5560  -5.1732\n",
       "24    Topic10   164.987320       food  6266.113770   0.5086  -4.1574\n",
       "292   Topic10   102.202469    restaur  2207.556396   1.0730  -4.6363\n",
       "1915  Topic10    40.347820     spring   199.434280   2.5477  -5.5657\n",
       "440   Topic10    64.243187    phoenix   934.146179   1.4687  -5.1006\n",
       "1797  Topic10    41.552979     valley   457.697449   1.7464  -5.5363\n",
       "45    Topic10    84.288834      place  7343.900391  -0.3217  -4.8290\n",
       "6     Topic10    50.613857       best  1886.552856   0.5274  -5.3390\n",
       "95    Topic10    54.010872       good  6806.892578  -0.6909  -5.2741\n",
       "267   Topic10    33.674206       live   742.983154   1.0517  -5.7465\n",
       "28    Topic10    42.032307         go  4848.465820  -0.6023  -5.5248\n",
       "21    Topic10    31.366573      excel   717.010681   1.0163  -5.8175\n",
       "2601  Topic10    28.597538       mall   333.520172   1.6893  -5.9099\n",
       "27    Topic10    32.311382        get  4487.184082  -0.7879  -5.7878\n",
       "299   Topic10    31.037874     servic  3162.194336  -0.4782  -5.8281\n",
       "\n",
       "[806 rows x 6 columns], token_table=      Topic      Freq        Term\n",
       "term                             \n",
       "781       1  0.118639           1\n",
       "781       2  0.092687           1\n",
       "781       3  0.121111           1\n",
       "781       4  0.040782           1\n",
       "781       5  0.145827           1\n",
       "781       6  0.200204           1\n",
       "781       7  0.096394           1\n",
       "781       8  0.174251           1\n",
       "781       9  0.008651           1\n",
       "781      10  0.001236           1\n",
       "686       1  0.068480          15\n",
       "686       2  0.071741          15\n",
       "686       3  0.045653          15\n",
       "686       4  0.016305          15\n",
       "686       5  0.567404          15\n",
       "686       6  0.091306          15\n",
       "686       7  0.055436          15\n",
       "686       8  0.071741          15\n",
       "686       9  0.006522          15\n",
       "686      10  0.006522          15\n",
       "0         1  0.184940           2\n",
       "0         2  0.147512           2\n",
       "0         3  0.047703           2\n",
       "0         4  0.042566           2\n",
       "0         5  0.129165           2\n",
       "0         6  0.159254           2\n",
       "0         7  0.113753           2\n",
       "0         8  0.165859           2\n",
       "0         9  0.009541           2\n",
       "8631      5  0.979447        2012\n",
       "...     ...       ...         ...\n",
       "139       5  0.213530       would\n",
       "139       6  0.136541       would\n",
       "139       7  0.049023       would\n",
       "139       8  0.031914       would\n",
       "139       9  0.000329       would\n",
       "139      10  0.002303       would\n",
       "5025      5  0.954958       wound\n",
       "4302      7  0.995124         www\n",
       "619       5  0.956256           x\n",
       "7322      8  0.980203        yasu\n",
       "912       1  0.076277        year\n",
       "912       2  0.118454        year\n",
       "912       3  0.300621        year\n",
       "912       4  0.061919        year\n",
       "912       5  0.120248        year\n",
       "912       6  0.108582        year\n",
       "912       7  0.145375        year\n",
       "912       8  0.038587        year\n",
       "912       9  0.006282        year\n",
       "912      10  0.025127        year\n",
       "1707      6  0.940813        yike\n",
       "6451      9  0.982585          yo\n",
       "869       3  0.960454        yoga\n",
       "869       9  0.018470        yoga\n",
       "4303      3  0.091114  yogurtland\n",
       "4303      9  0.865586  yogurtland\n",
       "8431      8  0.922862        zipp\n",
       "5572      7  0.958582         zoo\n",
       "5572      8  0.035503         zoo\n",
       "3195      1  0.989901    zucchini\n",
       "\n",
       "[2558 rows x 3 columns], R=30, lambda_step=0.01, plot_opts={'xlab': 'PC1', 'ylab': 'PC2'}, topic_order=[5, 10, 3, 8, 9, 6, 4, 1, 2, 7])"
      ]
     },
     "execution_count": 27,
     "metadata": {},
     "output_type": "execute_result"
    }
   ],
   "source": [
    "pyLDAvis.gensim.prepare(ldamodel, corpus, dictionary)"
   ]
  },
  {
   "cell_type": "code",
   "execution_count": 25,
   "metadata": {},
   "outputs": [
    {
     "name": "stdout",
     "output_type": "stream",
     "text": [
      "(0, '0.039*\"ice\" + 0.037*\"cream\" + 0.031*\"chocol\" + 0.023*\"flavor\" + 0.022*\"cake\"')\n",
      "(1, '0.036*\"class\" + 0.017*\"school\" + 0.013*\"year\" + 0.011*\"festiv\" + 0.010*\"student\"')\n",
      "(2, '0.014*\"nail\" + 0.009*\"time\" + 0.008*\"use\" + 0.008*\"well\" + 0.008*\"call\"')\n",
      "(3, '0.022*\"yogurt\" + 0.022*\"gyro\" + 0.018*\"frozen\" + 0.016*\"hike\" + 0.015*\"pet\"')\n",
      "(4, '0.104*\"dog\" + 0.020*\"hot\" + 0.016*\"ny\" + 0.015*\"park\" + 0.012*\"can\"')\n",
      "(5, '0.031*\"pho\" + 0.030*\"noodl\" + 0.021*\"roll\" + 0.016*\"spring\" + 0.016*\"asian\"')\n",
      "(6, '0.023*\"buffet\" + 0.017*\"food\" + 0.015*\"indian\" + 0.012*\"place\" + 0.012*\"restaur\"')\n",
      "(7, '0.027*\"fri\" + 0.022*\"burger\" + 0.016*\"good\" + 0.015*\"place\" + 0.015*\"like\"')\n",
      "(8, '0.035*\"game\" + 0.034*\"mall\" + 0.016*\"place\" + 0.015*\"park\" + 0.015*\"watch\"')\n",
      "(9, '0.012*\"spa\" + 0.011*\"amaz\" + 0.011*\"beauti\" + 0.011*\"resort\" + 0.010*\"design\"')\n",
      "(10, '0.072*\"breakfast\" + 0.036*\"egg\" + 0.019*\"toast\" + 0.017*\"brunch\" + 0.016*\"bacon\"')\n",
      "(11, '0.023*\"us\" + 0.021*\"server\" + 0.020*\"hour\" + 0.016*\"happi\" + 0.013*\"food\"')\n",
      "(12, '0.011*\"local\" + 0.010*\"gym\" + 0.008*\"fit\" + 0.006*\"tour\" + 0.006*\"owner\"')\n",
      "(13, '0.027*\"store\" + 0.015*\"shop\" + 0.014*\"help\" + 0.013*\"need\" + 0.013*\"go\"')\n",
      "(14, '0.024*\"price\" + 0.015*\"store\" + 0.013*\"item\" + 0.012*\"realli\" + 0.012*\"like\"')\n",
      "(15, '0.064*\"beer\" + 0.044*\"bar\" + 0.024*\"good\" + 0.020*\"place\" + 0.017*\"select\"')\n",
      "(16, '0.075*\"great\" + 0.036*\"friendli\" + 0.027*\"staff\" + 0.022*\"servic\" + 0.019*\"job\"')\n",
      "(17, '0.039*\"sandwich\" + 0.026*\"chees\" + 0.025*\"salad\" + 0.019*\"bread\" + 0.012*\"good\"')\n",
      "(18, '0.015*\"best\" + 0.014*\"locat\" + 0.011*\"worth\" + 0.010*\"mani\" + 0.010*\"phoenix\"')\n",
      "(19, '0.022*\"wine\" + 0.018*\"night\" + 0.015*\"great\" + 0.014*\"place\" + 0.013*\"drink\"')\n",
      "(20, '0.028*\"food\" + 0.028*\"servic\" + 0.013*\"excel\" + 0.010*\"good\" + 0.009*\"went\"')\n",
      "(21, '0.018*\"time\" + 0.013*\"go\" + 0.011*\"wait\" + 0.011*\"back\" + 0.011*\"get\"')\n",
      "(22, '0.022*\"order\" + 0.015*\"food\" + 0.015*\"good\" + 0.011*\"like\" + 0.010*\"chicken\"')\n",
      "(23, '0.020*\"get\" + 0.015*\"star\" + 0.011*\"like\" + 0.011*\"time\" + 0.009*\"go\"')\n",
      "(24, '0.019*\"oz\" + 0.011*\"soap\" + 0.010*\"moon\" + 0.010*\"order\" + 0.009*\"2\"')\n",
      "(25, '0.039*\"place\" + 0.037*\"love\" + 0.036*\"alway\" + 0.034*\"great\" + 0.025*\"food\"')\n",
      "(26, '0.057*\"food\" + 0.052*\"good\" + 0.037*\"servic\" + 0.029*\"great\" + 0.026*\"bbq\"')\n",
      "(27, '0.048*\"room\" + 0.036*\"stay\" + 0.035*\"hotel\" + 0.021*\"pool\" + 0.016*\"airport\"')\n",
      "(28, '0.010*\"car\" + 0.009*\"kid\" + 0.009*\"light\" + 0.009*\"work\" + 0.007*\"one\"')\n",
      "(29, '0.043*\"coffe\" + 0.025*\"place\" + 0.023*\"good\" + 0.015*\"like\" + 0.013*\"donut\"')\n",
      "(30, '0.010*\"oliv\" + 0.010*\"littl\" + 0.009*\"place\" + 0.009*\"like\" + 0.007*\"tast\"')\n",
      "(31, '0.076*\"thai\" + 0.035*\"market\" + 0.025*\"curri\" + 0.021*\"food\" + 0.020*\"pad\"')\n",
      "(32, '0.054*\"movi\" + 0.037*\"theater\" + 0.022*\"ride\" + 0.021*\"bike\" + 0.019*\"within\"')\n",
      "(33, '0.015*\"dr\" + 0.014*\"culinari\" + 0.014*\"land\" + 0.010*\"massag\" + 0.009*\"cousin\"')\n",
      "(34, '0.013*\"worker\" + 0.013*\"1\" + 0.011*\"co\" + 0.011*\"2\" + 0.010*\"valu\"')\n",
      "(35, '0.043*\"food\" + 0.025*\"taco\" + 0.024*\"good\" + 0.022*\"place\" + 0.018*\"mexican\"')\n",
      "(36, '0.108*\"pizza\" + 0.018*\"crust\" + 0.017*\"good\" + 0.013*\"best\" + 0.013*\"slice\"')\n",
      "(37, '0.011*\"water\" + 0.009*\"bagel\" + 0.008*\"even\" + 0.008*\"like\" + 0.008*\"one\"')\n",
      "(38, '0.026*\"wash\" + 0.023*\"car\" + 0.016*\"get\" + 0.012*\"korean\" + 0.010*\"dog\"')\n",
      "(39, '0.031*\"place\" + 0.016*\"like\" + 0.013*\"go\" + 0.013*\"great\" + 0.011*\"good\"')\n"
     ]
    }
   ],
   "source": [
    "for i in ldamodel.print_topics(num_topics=40, num_words=5):\n",
    "    print(i)"
   ]
  }
 ],
 "metadata": {
  "kernelspec": {
   "display_name": "Python 3",
   "language": "python",
   "name": "python3"
  },
  "language_info": {
   "codemirror_mode": {
    "name": "ipython",
    "version": 3
   },
   "file_extension": ".py",
   "mimetype": "text/x-python",
   "name": "python",
   "nbconvert_exporter": "python",
   "pygments_lexer": "ipython3",
   "version": "3.6.5"
  }
 },
 "nbformat": 4,
 "nbformat_minor": 2
}
