{
 "cells": [
  {
   "cell_type": "code",
   "execution_count": 1,
   "metadata": {},
   "outputs": [
    {
     "name": "stdout",
     "output_type": "stream",
     "text": [
      "Requirement already up-to-date: hdbscan in /Users/admin/anaconda3/envs/dsi/lib/python3.6/site-packages (0.8.13)\n",
      "Requirement not upgraded as not directly required: numpy in /Users/admin/anaconda3/envs/dsi/lib/python3.6/site-packages (from hdbscan) (1.14.3)\n",
      "Requirement not upgraded as not directly required: scikit-learn>=0.16 in /Users/admin/anaconda3/envs/dsi/lib/python3.6/site-packages (from hdbscan) (0.19.1)\n"
     ]
    }
   ],
   "source": [
    "!pip install hdbscan --upgrade"
   ]
  },
  {
   "cell_type": "code",
   "execution_count": 2,
   "metadata": {},
   "outputs": [],
   "source": [
    "import pandas as pd\n",
    "import numpy as np\n",
    "from sklearn.cluster import DBSCAN\n",
    "from sklearn.preprocessing import StandardScaler\n",
    "from sklearn import datasets, linear_model, metrics\n",
    "import matplotlib.pyplot as plt\n",
    "%matplotlib inline"
   ]
  },
  {
   "cell_type": "markdown",
   "metadata": {},
   "source": [
    "### Let's run DBSCAN on two different sets of randomly generated data and see how it performs."
   ]
  },
  {
   "cell_type": "markdown",
   "metadata": {},
   "source": [
    "### Dataset 1: Multivariate Normal data."
   ]
  },
  {
   "cell_type": "code",
   "execution_count": 3,
   "metadata": {},
   "outputs": [],
   "source": [
    "np.random.seed(2552277) # ALLCAPS on a phone"
   ]
  },
  {
   "cell_type": "code",
   "execution_count": 4,
   "metadata": {},
   "outputs": [],
   "source": [
    "x1 = np.random.normal(25, 10, 100) #Mean Std size\n",
    "\n",
    "x2 = np.random.normal(500, 250, 100)"
   ]
  },
  {
   "cell_type": "code",
   "execution_count": 5,
   "metadata": {},
   "outputs": [],
   "source": [
    "df = pd.DataFrame()\n",
    "\n",
    "df = df.from_dict({'x1': x1,\n",
    "                   'x2': x2})"
   ]
  },
  {
   "cell_type": "code",
   "execution_count": 6,
   "metadata": {},
   "outputs": [
    {
     "name": "stdout",
     "output_type": "stream",
     "text": [
      "[29.8731048  -4.83172141 15.74865778 33.99456318 17.93524935]\n",
      "[279.51051448 598.46760092 933.09622016 456.91592861  76.08095639]\n"
     ]
    }
   ],
   "source": [
    "print(x1[0:5])\n",
    "print(x2[0:5])"
   ]
  },
  {
   "cell_type": "code",
   "execution_count": 7,
   "metadata": {},
   "outputs": [
    {
     "data": {
      "text/html": [
       "<div>\n",
       "<style scoped>\n",
       "    .dataframe tbody tr th:only-of-type {\n",
       "        vertical-align: middle;\n",
       "    }\n",
       "\n",
       "    .dataframe tbody tr th {\n",
       "        vertical-align: top;\n",
       "    }\n",
       "\n",
       "    .dataframe thead th {\n",
       "        text-align: right;\n",
       "    }\n",
       "</style>\n",
       "<table border=\"1\" class=\"dataframe\">\n",
       "  <thead>\n",
       "    <tr style=\"text-align: right;\">\n",
       "      <th></th>\n",
       "      <th>x1</th>\n",
       "      <th>x2</th>\n",
       "    </tr>\n",
       "  </thead>\n",
       "  <tbody>\n",
       "    <tr>\n",
       "      <th>0</th>\n",
       "      <td>29.873105</td>\n",
       "      <td>279.510514</td>\n",
       "    </tr>\n",
       "    <tr>\n",
       "      <th>1</th>\n",
       "      <td>-4.831721</td>\n",
       "      <td>598.467601</td>\n",
       "    </tr>\n",
       "    <tr>\n",
       "      <th>2</th>\n",
       "      <td>15.748658</td>\n",
       "      <td>933.096220</td>\n",
       "    </tr>\n",
       "    <tr>\n",
       "      <th>3</th>\n",
       "      <td>33.994563</td>\n",
       "      <td>456.915929</td>\n",
       "    </tr>\n",
       "    <tr>\n",
       "      <th>4</th>\n",
       "      <td>17.935249</td>\n",
       "      <td>76.080956</td>\n",
       "    </tr>\n",
       "  </tbody>\n",
       "</table>\n",
       "</div>"
      ],
      "text/plain": [
       "          x1          x2\n",
       "0  29.873105  279.510514\n",
       "1  -4.831721  598.467601\n",
       "2  15.748658  933.096220\n",
       "3  33.994563  456.915929\n",
       "4  17.935249   76.080956"
      ]
     },
     "execution_count": 7,
     "metadata": {},
     "output_type": "execute_result"
    }
   ],
   "source": [
    "df.head()"
   ]
  },
  {
   "cell_type": "code",
   "execution_count": 8,
   "metadata": {},
   "outputs": [
    {
     "data": {
      "image/png": "[encoded data removed]",
      "text/plain": [
       "<Figure size 432x288 with 1 Axes>"
      ]
     },
     "metadata": {},
     "output_type": "display_data"
    }
   ],
   "source": [
    "plt.title('Plotting X1 and X2')\n",
    "plt.xlim(-250,1250)\n",
    "plt.ylim(-250,1250)\n",
    "plt.scatter(df['x1'],df['x2']);"
   ]
  },
  {
   "cell_type": "markdown",
   "metadata": {},
   "source": [
    "we need to scale as the data is too close . X1 can't be clusters as it is on a stright line band '"
   ]
  },
  {
   "cell_type": "code",
   "execution_count": 9,
   "metadata": {},
   "outputs": [],
   "source": [
    "df = pd.DataFrame(StandardScaler().fit_transform(df), columns = ['x1', 'x2'])"
   ]
  },
  {
   "cell_type": "code",
   "execution_count": 10,
   "metadata": {},
   "outputs": [
    {
     "data": {
      "image/png": "[encoded data removed]",
      "text/plain": [
       "<Figure size 432x288 with 1 Axes>"
      ]
     },
     "metadata": {},
     "output_type": "display_data"
    }
   ],
   "source": [
    "plt.title('Plotting X1 and X2')\n",
    "plt.scatter(df['x1'],df['x2']);"
   ]
  },
  {
   "cell_type": "markdown",
   "metadata": {},
   "source": [
    "#### Let's fit DBSCAN on our data with `eps = 0.5` and `min_samples = 5`. (Note: This is the default in `sklearn`!)"
   ]
  },
  {
   "cell_type": "code",
   "execution_count": 11,
   "metadata": {},
   "outputs": [],
   "source": [
    "cluster =DBSCAN(eps =0.5,  # epsilon\n",
    "               min_samples=5) # minimum number of observation to make "
   ]
  },
  {
   "cell_type": "markdown",
   "metadata": {},
   "source": [
    "#### Go ahead and fit DBSCAN on our data with `eps = 1` and `min_samples = 5`."
   ]
  },
  {
   "cell_type": "code",
   "execution_count": 12,
   "metadata": {},
   "outputs": [
    {
     "data": {
      "text/plain": [
       "DBSCAN(algorithm='auto', eps=0.5, leaf_size=30, metric='euclidean',\n",
       "    metric_params=None, min_samples=5, n_jobs=1, p=None)"
      ]
     },
     "execution_count": 12,
     "metadata": {},
     "output_type": "execute_result"
    }
   ],
   "source": [
    "cluster.fit(df)"
   ]
  },
  {
   "cell_type": "code",
   "execution_count": 13,
   "metadata": {},
   "outputs": [],
   "source": [
    "labels=cluster.labels_"
   ]
  },
  {
   "cell_type": "code",
   "execution_count": 14,
   "metadata": {},
   "outputs": [
    {
     "name": "stdout",
     "output_type": "stream",
     "text": [
      "[ 0 -1 -1  0  2  0  0  0  0  0  0  0  0 -1  0  0  0  0  2  0 -1  0  0  0\n",
      "  0  0  0  0  1  0  0  0  0  1  0  0  0  1 -1  0  0  0  0  0  0  0  0  0\n",
      "  0  0 -1  2 -1  0  0  0  0  1  0  1  0  0  0 -1  2  0  0  0  0  0 -1  0\n",
      "  0 -1  0  0 -1  0 -1  0  0  0  0  0  0  0  1  0  0  0  0  0 -1  0  0 -1\n",
      "  0  0  1 -1]\n"
     ]
    }
   ],
   "source": [
    "print(labels) # -1 indicates no cluster aka outlier was unassigned"
   ]
  },
  {
   "cell_type": "code",
   "execution_count": 15,
   "metadata": {},
   "outputs": [
    {
     "data": {
      "image/png": "[encoded data removed]",
      "text/plain": [
       "<Figure size 432x288 with 1 Axes>"
      ]
     },
     "metadata": {},
     "output_type": "display_data"
    }
   ],
   "source": [
    "plt.title(\"Plotting X1 and X2 (scaled), Colored by Cluster\")\n",
    "plt.scatter(df['x1'], df['x2'], c = cluster.labels_);"
   ]
  },
  {
   "cell_type": "code",
   "execution_count": 16,
   "metadata": {},
   "outputs": [
    {
     "name": "stdout",
     "output_type": "stream",
     "text": [
      "Silhouette Coefficient: 0.145687\n"
     ]
    }
   ],
   "source": [
    "print('Silhouette Coefficient: %0.6f' % metrics.silhouette_score(df, labels))"
   ]
  },
  {
   "cell_type": "markdown",
   "metadata": {},
   "source": [
    "#### Let's try DBSCAN on our data with `eps = 1` and `min_samples = 20`."
   ]
  },
  {
   "cell_type": "code",
   "execution_count": 17,
   "metadata": {
    "scrolled": true
   },
   "outputs": [
    {
     "name": "stdout",
     "output_type": "stream",
     "text": [
      "[-1 -1 -1 -1 -1  0 -1 -1 -1 -1 -1 -1 -1 -1  0 -1 -1 -1 -1 -1 -1 -1 -1 -1\n",
      " -1 -1 -1 -1 -1  1 -1 -1 -1 -1  1  0 -1 -1 -1 -1 -1 -1 -1 -1 -1 -1 -1 -1\n",
      " -1 -1 -1 -1 -1 -1  1 -1 -1 -1 -1 -1 -1 -1 -1 -1 -1 -1 -1 -1 -1 -1 -1 -1\n",
      " -1 -1  1  1 -1 -1 -1 -1  1 -1  0 -1 -1  0 -1 -1 -1 -1 -1 -1 -1 -1 -1 -1\n",
      " -1 -1 -1 -1]\n"
     ]
    },
    {
     "data": {
      "text/plain": [
       "<matplotlib.collections.PathCollection at 0x1a1e883710>"
      ]
     },
     "execution_count": 17,
     "metadata": {},
     "output_type": "execute_result"
    },
    {
     "data": {
      "image/png": "[encoded data removed]",
      "text/plain": [
       "<Figure size 432x288 with 1 Axes>"
      ]
     },
     "metadata": {},
     "output_type": "display_data"
    }
   ],
   "source": [
    "cluster = DBSCAN(eps = 0.2,\n",
    "                 min_samples = 5)\n",
    "\n",
    "cluster.fit(df)\n",
    "\n",
    "labels = cluster.labels_\n",
    "\n",
    "print(cluster.labels_)\n",
    "\n",
    "plt.title(\"Plotting X1 and X2 (scaled), Colored by Cluster\")\n",
    "plt.scatter(df['x1'], df['x2'], c = cluster.labels_)"
   ]
  },
  {
   "cell_type": "code",
   "execution_count": 18,
   "metadata": {},
   "outputs": [],
   "source": [
    "from sklearn.datasets import load_iris"
   ]
  },
  {
   "cell_type": "code",
   "execution_count": 19,
   "metadata": {},
   "outputs": [],
   "source": [
    "data = load_iris()"
   ]
  },
  {
   "cell_type": "code",
   "execution_count": 20,
   "metadata": {},
   "outputs": [
    {
     "data": {
      "text/html": [
       "<div>\n",
       "<style scoped>\n",
       "    .dataframe tbody tr th:only-of-type {\n",
       "        vertical-align: middle;\n",
       "    }\n",
       "\n",
       "    .dataframe tbody tr th {\n",
       "        vertical-align: top;\n",
       "    }\n",
       "\n",
       "    .dataframe thead th {\n",
       "        text-align: right;\n",
       "    }\n",
       "</style>\n",
       "<table border=\"1\" class=\"dataframe\">\n",
       "  <thead>\n",
       "    <tr style=\"text-align: right;\">\n",
       "      <th></th>\n",
       "      <th>sepal length (cm)</th>\n",
       "      <th>sepal width (cm)</th>\n",
       "      <th>petal length (cm)</th>\n",
       "      <th>petal width (cm)</th>\n",
       "      <th>target</th>\n",
       "    </tr>\n",
       "  </thead>\n",
       "  <tbody>\n",
       "    <tr>\n",
       "      <th>0</th>\n",
       "      <td>5.1</td>\n",
       "      <td>3.5</td>\n",
       "      <td>1.4</td>\n",
       "      <td>0.2</td>\n",
       "      <td>0</td>\n",
       "    </tr>\n",
       "    <tr>\n",
       "      <th>1</th>\n",
       "      <td>4.9</td>\n",
       "      <td>3.0</td>\n",
       "      <td>1.4</td>\n",
       "      <td>0.2</td>\n",
       "      <td>0</td>\n",
       "    </tr>\n",
       "    <tr>\n",
       "      <th>2</th>\n",
       "      <td>4.7</td>\n",
       "      <td>3.2</td>\n",
       "      <td>1.3</td>\n",
       "      <td>0.2</td>\n",
       "      <td>0</td>\n",
       "    </tr>\n",
       "    <tr>\n",
       "      <th>3</th>\n",
       "      <td>4.6</td>\n",
       "      <td>3.1</td>\n",
       "      <td>1.5</td>\n",
       "      <td>0.2</td>\n",
       "      <td>0</td>\n",
       "    </tr>\n",
       "    <tr>\n",
       "      <th>4</th>\n",
       "      <td>5.0</td>\n",
       "      <td>3.6</td>\n",
       "      <td>1.4</td>\n",
       "      <td>0.2</td>\n",
       "      <td>0</td>\n",
       "    </tr>\n",
       "  </tbody>\n",
       "</table>\n",
       "</div>"
      ],
      "text/plain": [
       "   sepal length (cm)  sepal width (cm)  petal length (cm)  petal width (cm)  \\\n",
       "0                5.1               3.5                1.4               0.2   \n",
       "1                4.9               3.0                1.4               0.2   \n",
       "2                4.7               3.2                1.3               0.2   \n",
       "3                4.6               3.1                1.5               0.2   \n",
       "4                5.0               3.6                1.4               0.2   \n",
       "\n",
       "   target  \n",
       "0       0  \n",
       "1       0  \n",
       "2       0  \n",
       "3       0  \n",
       "4       0  "
      ]
     },
     "execution_count": 20,
     "metadata": {},
     "output_type": "execute_result"
    }
   ],
   "source": [
    "iris = pd.DataFrame(data.data, columns=data.feature_names)\n",
    "iris['target'] = data.target\n",
    "iris.head()"
   ]
  },
  {
   "cell_type": "code",
   "execution_count": 21,
   "metadata": {},
   "outputs": [
    {
     "data": {
      "image/png": "[encoded data removed]",
      "text/plain": [
       "<Figure size 432x288 with 1 Axes>"
      ]
     },
     "metadata": {},
     "output_type": "display_data"
    }
   ],
   "source": [
    "cluster = DBSCAN(eps = .75,\n",
    "                 min_samples = 8)\n",
    "cluster.fit(iris.drop('target', axis=1))\n",
    "iris['cluster'] = cluster.labels_\n",
    "\n",
    "markers = ['.',',','o','v','^','<','>']\n",
    "for i, cluster in enumerate(iris['cluster'].unique()):\n",
    "    temp = iris[iris['cluster'] == cluster]\n",
    "    plt.scatter(temp['petal length (cm)'], temp['petal width (cm)'],\n",
    "               marker=markers[i])\n",
    "plt.show()"
   ]
  },
  {
   "cell_type": "code",
   "execution_count": 22,
   "metadata": {},
   "outputs": [
    {
     "data": {
      "image/png": "[encoded data removed]",
      "text/plain": [
       "<Figure size 432x288 with 1 Axes>"
      ]
     },
     "metadata": {},
     "output_type": "display_data"
    }
   ],
   "source": [
    "cluster = DBSCAN(eps = .75,\n",
    "                 min_samples = 8)\n",
    "cluster.fit(iris.drop('target', axis=1))\n",
    "iris['cluster'] = cluster.labels_\n",
    "\n",
    "markers = ['.',',','o','v','^','<','>']\n",
    "for i, cluster in enumerate(iris['cluster'].unique()):\n",
    "    temp = iris[iris['cluster'] == cluster]\n",
    "    plt.scatter(temp['sepal length (cm)'], temp['sepal width (cm)'],\n",
    "               marker=markers[i])\n",
    "plt.show()"
   ]
  },
  {
   "cell_type": "code",
   "execution_count": 23,
   "metadata": {},
   "outputs": [
    {
     "name": "stdout",
     "output_type": "stream",
     "text": [
      "Silhouette Coefficient: -0.177274\n"
     ]
    }
   ],
   "source": [
    "print('Silhouette Coefficient: %0.6f' % metrics.silhouette_score(df, labels))"
   ]
  },
  {
   "cell_type": "markdown",
   "metadata": {},
   "source": [
    "### Dataset 2: Smiley/Frowny"
   ]
  },
  {
   "cell_type": "code",
   "execution_count": 24,
   "metadata": {},
   "outputs": [],
   "source": [
    "x1_1 = np.random.uniform(0, 50, 100)\n",
    "\n",
    "x1_2 = np.random.uniform(60, 110, 100)\n",
    "\n",
    "x2_1 = (x1_1 - 25)  ** 2 + np.random.normal(0, 10, 1)\n",
    "\n",
    "x2_2 = -1 * (x1_2 - 85) ** 2 + np.random.normal(0, 10, 1)"
   ]
  },
  {
   "cell_type": "code",
   "execution_count": 25,
   "metadata": {},
   "outputs": [],
   "source": [
    "x1 = np.append(x1_1, x1_2)\n",
    "    \n",
    "x2 = np.append(x2_1, x2_2)"
   ]
  },
  {
   "cell_type": "code",
   "execution_count": 26,
   "metadata": {},
   "outputs": [],
   "source": [
    "df = pd.DataFrame()\n",
    "\n",
    "df = df.from_dict({'x1': x1,\n",
    "                   'x2': x2})"
   ]
  },
  {
   "cell_type": "code",
   "execution_count": 27,
   "metadata": {},
   "outputs": [
    {
     "data": {
      "image/png": "[encoded data removed]",
      "text/plain": [
       "<Figure size 432x288 with 1 Axes>"
      ]
     },
     "metadata": {},
     "output_type": "display_data"
    }
   ],
   "source": [
    "plt.title('Plotting X1 and X2')\n",
    "plt.scatter(df['x1'],df['x2']);"
   ]
  },
  {
   "cell_type": "code",
   "execution_count": 28,
   "metadata": {},
   "outputs": [],
   "source": [
    "df = pd.DataFrame(StandardScaler().fit_transform(df), columns = ['x1', 'x2'])"
   ]
  },
  {
   "cell_type": "code",
   "execution_count": 29,
   "metadata": {},
   "outputs": [
    {
     "data": {
      "image/png": "[encoded data removed]",
      "text/plain": [
       "<Figure size 432x288 with 1 Axes>"
      ]
     },
     "metadata": {},
     "output_type": "display_data"
    }
   ],
   "source": [
    "plt.title('Plotting X1 and X2')\n",
    "plt.scatter(df['x1'],df['x2']);"
   ]
  },
  {
   "cell_type": "markdown",
   "metadata": {},
   "source": [
    "#### Let's try DBSCAN on our data with `eps = 0.2` and `min_samples = 5`."
   ]
  },
  {
   "cell_type": "code",
   "execution_count": 30,
   "metadata": {},
   "outputs": [
    {
     "name": "stdout",
     "output_type": "stream",
     "text": [
      "[ 0  0  0  0  0  0  0  0  0  0  0  0  0  0  0  0  0  0  0  0  1  0 -1  0\n",
      "  0  0 -1  0  1  0  0  0  0  0  0  0  0  0  0  1  0  1  0  0  0  0  0  0\n",
      "  0  0  0  0  0  0  0  0  0  0  0  0  0 -1  0  0  0  0  0  0  0  0 -1  0\n",
      "  0  0  0  0  1  0  0  0  0  0  1  0  0  0  0  0  0  1  0  0  0  0  0  0\n",
      "  0  0  1  1  2  2  2  2  2  2  2  2  2 -1  2  2  3  2  2  2  3  2  2  2\n",
      "  2  2  2  2  2  2  2  2  2  2  2  2  2  2  2  2  2 -1  2  2  2  2  2  2\n",
      "  2 -1  2  2  2  2  2  2  2  2  2  2  2  2  2  2  2  3  2  2  2  2  2  2\n",
      "  2  2  2  2  2  2  2 -1  2  2  2  2  2  2  2 -1  2  2  2  2  2  2  3  2\n",
      "  2  2  2  3  3  2  2  2]\n"
     ]
    },
    {
     "data": {
      "text/plain": [
       "<matplotlib.collections.PathCollection at 0x1a20523588>"
      ]
     },
     "execution_count": 30,
     "metadata": {},
     "output_type": "execute_result"
    },
    {
     "data": {
      "image/png": "[encoded data removed]",
      "text/plain": [
       "<Figure size 432x288 with 1 Axes>"
      ]
     },
     "metadata": {},
     "output_type": "display_data"
    }
   ],
   "source": [
    "cluster = DBSCAN(eps = 0.2,\n",
    "                 min_samples = 5)\n",
    "\n",
    "cluster.fit(df)\n",
    "\n",
    "labels = cluster.labels_\n",
    "\n",
    "print(cluster.labels_)\n",
    "\n",
    "plt.title(\"Plotting X1 and X2 (scaled), Colored by Cluster\")\n",
    "plt.scatter(df['x1'], df['x2'], c = cluster.labels_)"
   ]
  },
  {
   "cell_type": "code",
   "execution_count": null,
   "metadata": {
    "scrolled": false
   },
   "outputs": [],
   "source": []
  },
  {
   "cell_type": "markdown",
   "metadata": {},
   "source": [
    "#### By only tweaking `epsilon`, can you get the above to return exactly two clusters? (The two clusters we would expect?)"
   ]
  },
  {
   "cell_type": "code",
   "execution_count": 31,
   "metadata": {},
   "outputs": [
    {
     "name": "stdout",
     "output_type": "stream",
     "text": [
      "[0 0 0 0 0 0 0 0 0 0 0 0 0 0 0 0 0 0 0 0 0 0 0 0 0 0 0 0 0 0 0 0 0 0 0 0 0\n",
      " 0 0 0 0 0 0 0 0 0 0 0 0 0 0 0 0 0 0 0 0 0 0 0 0 0 0 0 0 0 0 0 0 0 0 0 0 0\n",
      " 0 0 0 0 0 0 0 0 0 0 0 0 0 0 0 0 0 0 0 0 0 0 0 0 0 0 1 1 1 1 1 1 1 1 1 1 1\n",
      " 1 1 1 1 1 1 1 1 1 1 1 1 1 1 1 1 1 1 1 1 1 1 1 1 1 1 1 1 1 1 1 1 1 1 1 1 1\n",
      " 1 1 1 1 1 1 1 1 1 1 1 1 1 1 1 1 1 1 1 1 1 1 1 1 1 1 1 1 1 1 1 1 1 1 1 1 1\n",
      " 1 1 1 1 1 1 1 1 1 1 1 1 1 1 1]\n"
     ]
    },
    {
     "data": {
      "image/png": "[encoded data removed]",
      "text/plain": [
       "<Figure size 432x288 with 1 Axes>"
      ]
     },
     "metadata": {},
     "output_type": "display_data"
    }
   ],
   "source": [
    "cluster = DBSCAN(eps = 1,\n",
    "                 min_samples = 5)\n",
    "\n",
    "cluster.fit(df)\n",
    "\n",
    "labels = cluster.labels_\n",
    "\n",
    "print(cluster.labels_)\n",
    "\n",
    "plt.title(\"Plotting X1 and X2 (scaled), Colored by Cluster\")\n",
    "plt.scatter(df['x1'], df['x2'], c = cluster.labels_);"
   ]
  },
  {
   "cell_type": "code",
   "execution_count": 32,
   "metadata": {},
   "outputs": [
    {
     "name": "stdout",
     "output_type": "stream",
     "text": [
      "Silhouette Coefficient: 0.617735\n"
     ]
    }
   ],
   "source": [
    "print('Silhouette Coefficient: %0.6f' % metrics.silhouette_score(df, labels))"
   ]
  },
  {
   "cell_type": "markdown",
   "metadata": {},
   "source": [
    "#### By only tweaking `min_samples`, can you get the above to return exactly two clusters? (The two clusters we would expect?) Be sure to reset `eps` to `0.2`."
   ]
  },
  {
   "cell_type": "code",
   "execution_count": 33,
   "metadata": {},
   "outputs": [
    {
     "name": "stdout",
     "output_type": "stream",
     "text": [
      "No, not min_samples = 0\n",
      "No, not min_samples = 1\n",
      "No, not min_samples = 2\n",
      "No, not min_samples = 3\n",
      "No, not min_samples = 4\n",
      "No, not min_samples = 5\n",
      "No, not min_samples = 6\n",
      "No, not min_samples = 7\n",
      "No, not min_samples = 8\n",
      "No, not min_samples = 9\n",
      "No, not min_samples = 10\n",
      "No, not min_samples = 11\n",
      "No, not min_samples = 12\n",
      "No, not min_samples = 13\n",
      "No, not min_samples = 14\n",
      "No, not min_samples = 15\n",
      "No, not min_samples = 16\n",
      "No, not min_samples = 17\n",
      "No, not min_samples = 18\n",
      "No, not min_samples = 19\n",
      "No, not min_samples = 20\n",
      "No, not min_samples = 21\n",
      "No, not min_samples = 22\n",
      "No, not min_samples = 23\n",
      "No, not min_samples = 24\n",
      "No, not min_samples = 25\n",
      "No, not min_samples = 26\n",
      "No, not min_samples = 27\n",
      "No, not min_samples = 28\n",
      "No, not min_samples = 29\n",
      "No, not min_samples = 30\n",
      "No, not min_samples = 31\n",
      "No, not min_samples = 32\n",
      "No, not min_samples = 33\n",
      "No, not min_samples = 34\n",
      "No, not min_samples = 35\n",
      "No, not min_samples = 36\n",
      "No, not min_samples = 37\n",
      "No, not min_samples = 38\n",
      "No, not min_samples = 39\n",
      "No, not min_samples = 40\n",
      "No, not min_samples = 41\n",
      "No, not min_samples = 42\n",
      "No, not min_samples = 43\n",
      "No, not min_samples = 44\n",
      "No, not min_samples = 45\n",
      "No, not min_samples = 46\n",
      "No, not min_samples = 47\n",
      "No, not min_samples = 48\n",
      "No, not min_samples = 49\n",
      "No, not min_samples = 50\n",
      "No, not min_samples = 51\n",
      "No, not min_samples = 52\n",
      "No, not min_samples = 53\n",
      "No, not min_samples = 54\n",
      "No, not min_samples = 55\n",
      "No, not min_samples = 56\n",
      "No, not min_samples = 57\n",
      "No, not min_samples = 58\n",
      "No, not min_samples = 59\n",
      "No, not min_samples = 60\n",
      "No, not min_samples = 61\n",
      "No, not min_samples = 62\n",
      "No, not min_samples = 63\n",
      "No, not min_samples = 64\n",
      "No, not min_samples = 65\n",
      "No, not min_samples = 66\n",
      "No, not min_samples = 67\n",
      "No, not min_samples = 68\n",
      "No, not min_samples = 69\n",
      "No, not min_samples = 70\n",
      "No, not min_samples = 71\n",
      "No, not min_samples = 72\n",
      "No, not min_samples = 73\n",
      "No, not min_samples = 74\n",
      "No, not min_samples = 75\n",
      "No, not min_samples = 76\n",
      "No, not min_samples = 77\n",
      "No, not min_samples = 78\n",
      "No, not min_samples = 79\n",
      "No, not min_samples = 80\n",
      "No, not min_samples = 81\n",
      "No, not min_samples = 82\n",
      "No, not min_samples = 83\n",
      "No, not min_samples = 84\n",
      "No, not min_samples = 85\n",
      "No, not min_samples = 86\n",
      "No, not min_samples = 87\n",
      "No, not min_samples = 88\n",
      "No, not min_samples = 89\n",
      "No, not min_samples = 90\n",
      "No, not min_samples = 91\n",
      "No, not min_samples = 92\n",
      "No, not min_samples = 93\n",
      "No, not min_samples = 94\n",
      "No, not min_samples = 95\n",
      "No, not min_samples = 96\n",
      "No, not min_samples = 97\n",
      "No, not min_samples = 98\n",
      "No, not min_samples = 99\n",
      "No, not min_samples = 100\n",
      "No, not min_samples = 101\n",
      "No, not min_samples = 102\n",
      "No, not min_samples = 103\n",
      "No, not min_samples = 104\n",
      "No, not min_samples = 105\n",
      "No, not min_samples = 106\n",
      "No, not min_samples = 107\n",
      "No, not min_samples = 108\n",
      "No, not min_samples = 109\n",
      "No, not min_samples = 110\n",
      "No, not min_samples = 111\n",
      "No, not min_samples = 112\n",
      "No, not min_samples = 113\n",
      "No, not min_samples = 114\n",
      "No, not min_samples = 115\n",
      "No, not min_samples = 116\n",
      "No, not min_samples = 117\n",
      "No, not min_samples = 118\n",
      "No, not min_samples = 119\n",
      "No, not min_samples = 120\n",
      "No, not min_samples = 121\n",
      "No, not min_samples = 122\n",
      "No, not min_samples = 123\n",
      "No, not min_samples = 124\n",
      "No, not min_samples = 125\n",
      "No, not min_samples = 126\n",
      "No, not min_samples = 127\n",
      "No, not min_samples = 128\n",
      "No, not min_samples = 129\n",
      "No, not min_samples = 130\n",
      "No, not min_samples = 131\n",
      "No, not min_samples = 132\n",
      "No, not min_samples = 133\n",
      "No, not min_samples = 134\n",
      "No, not min_samples = 135\n",
      "No, not min_samples = 136\n",
      "No, not min_samples = 137\n",
      "No, not min_samples = 138\n",
      "No, not min_samples = 139\n",
      "No, not min_samples = 140\n",
      "No, not min_samples = 141\n",
      "No, not min_samples = 142\n",
      "No, not min_samples = 143\n",
      "No, not min_samples = 144\n",
      "No, not min_samples = 145\n",
      "No, not min_samples = 146\n",
      "No, not min_samples = 147\n",
      "No, not min_samples = 148\n",
      "No, not min_samples = 149\n",
      "No, not min_samples = 150\n",
      "No, not min_samples = 151\n",
      "No, not min_samples = 152\n",
      "No, not min_samples = 153\n",
      "No, not min_samples = 154\n",
      "No, not min_samples = 155\n",
      "No, not min_samples = 156\n",
      "No, not min_samples = 157\n",
      "No, not min_samples = 158\n",
      "No, not min_samples = 159\n",
      "No, not min_samples = 160\n",
      "No, not min_samples = 161\n",
      "No, not min_samples = 162\n",
      "No, not min_samples = 163\n",
      "No, not min_samples = 164\n",
      "No, not min_samples = 165\n",
      "No, not min_samples = 166\n",
      "No, not min_samples = 167\n",
      "No, not min_samples = 168\n",
      "No, not min_samples = 169\n",
      "No, not min_samples = 170\n",
      "No, not min_samples = 171\n",
      "No, not min_samples = 172\n",
      "No, not min_samples = 173\n",
      "No, not min_samples = 174\n",
      "No, not min_samples = 175\n",
      "No, not min_samples = 176\n",
      "No, not min_samples = 177\n",
      "No, not min_samples = 178\n",
      "No, not min_samples = 179\n",
      "No, not min_samples = 180\n",
      "No, not min_samples = 181\n",
      "No, not min_samples = 182\n",
      "No, not min_samples = 183\n",
      "No, not min_samples = 184\n",
      "No, not min_samples = 185\n",
      "No, not min_samples = 186\n",
      "No, not min_samples = 187\n",
      "No, not min_samples = 188\n",
      "No, not min_samples = 189\n",
      "No, not min_samples = 190\n",
      "No, not min_samples = 191\n",
      "No, not min_samples = 192\n",
      "No, not min_samples = 193\n",
      "No, not min_samples = 194\n",
      "No, not min_samples = 195\n",
      "No, not min_samples = 196\n",
      "No, not min_samples = 197\n",
      "No, not min_samples = 198\n",
      "No, not min_samples = 199\n"
     ]
    }
   ],
   "source": [
    "for i in range(0,200): # picked 200 as there are 200 data points \n",
    "    cluster=DBSCAN(eps=0.2,min_samples=i) # instantiate \n",
    "    cluster.fit(df)\n",
    "    labels=cluster.labels_\n",
    "    if len(set(cluster.labels_))==2 and -1 not in set(cluster.labels_):#-1 is the outlier so if there is not outlier use \n",
    "        print(\"Yes! Use min_samples = \" + str(i))\n",
    "        break\n",
    "    else:\n",
    "        print(\"No, not min_samples = \" + str(i))"
   ]
  },
  {
   "cell_type": "code",
   "execution_count": 34,
   "metadata": {},
   "outputs": [
    {
     "name": "stdout",
     "output_type": "stream",
     "text": [
      "No, not min_samples = 0\n",
      "No, not min_samples = 1\n",
      "No, not min_samples = 2\n",
      "No, not min_samples = 3\n",
      "No, not min_samples = 4\n",
      "No, not min_samples = 5\n",
      "No, not min_samples = 6\n",
      "No, not min_samples = 7\n",
      "No, not min_samples = 8\n",
      "No, not min_samples = 9\n",
      "No, not min_samples = 10\n",
      "No, not min_samples = 11\n",
      "No, not min_samples = 12\n",
      "No, not min_samples = 13\n",
      "No, not min_samples = 14\n",
      "No, not min_samples = 15\n",
      "No, not min_samples = 16\n",
      "No, not min_samples = 17\n",
      "No, not min_samples = 18\n",
      "No, not min_samples = 19\n",
      "No, not min_samples = 20\n",
      "No, not min_samples = 21\n",
      "No, not min_samples = 22\n",
      "No, not min_samples = 23\n",
      "No, not min_samples = 24\n",
      "No, not min_samples = 25\n",
      "No, not min_samples = 26\n",
      "No, not min_samples = 27\n",
      "No, not min_samples = 28\n",
      "No, not min_samples = 29\n",
      "No, not min_samples = 30\n",
      "No, not min_samples = 31\n",
      "No, not min_samples = 32\n",
      "No, not min_samples = 33\n",
      "No, not min_samples = 34\n",
      "No, not min_samples = 35\n",
      "No, not min_samples = 36\n",
      "No, not min_samples = 37\n",
      "No, not min_samples = 38\n",
      "No, not min_samples = 39\n",
      "No, not min_samples = 40\n",
      "No, not min_samples = 41\n",
      "No, not min_samples = 42\n",
      "No, not min_samples = 43\n",
      "No, not min_samples = 44\n",
      "No, not min_samples = 45\n",
      "No, not min_samples = 46\n",
      "No, not min_samples = 47\n",
      "No, not min_samples = 48\n",
      "No, not min_samples = 49\n",
      "No, not min_samples = 50\n",
      "No, not min_samples = 51\n",
      "No, not min_samples = 52\n",
      "No, not min_samples = 53\n",
      "No, not min_samples = 54\n",
      "No, not min_samples = 55\n",
      "No, not min_samples = 56\n",
      "No, not min_samples = 57\n",
      "No, not min_samples = 58\n",
      "No, not min_samples = 59\n",
      "No, not min_samples = 60\n",
      "No, not min_samples = 61\n",
      "No, not min_samples = 62\n",
      "No, not min_samples = 63\n",
      "No, not min_samples = 64\n",
      "No, not min_samples = 65\n",
      "No, not min_samples = 66\n",
      "No, not min_samples = 67\n",
      "No, not min_samples = 68\n",
      "No, not min_samples = 69\n",
      "No, not min_samples = 70\n",
      "No, not min_samples = 71\n",
      "No, not min_samples = 72\n",
      "No, not min_samples = 73\n",
      "No, not min_samples = 74\n",
      "No, not min_samples = 75\n",
      "No, not min_samples = 76\n",
      "No, not min_samples = 77\n",
      "No, not min_samples = 78\n",
      "No, not min_samples = 79\n",
      "No, not min_samples = 80\n",
      "No, not min_samples = 81\n",
      "No, not min_samples = 82\n",
      "No, not min_samples = 83\n",
      "No, not min_samples = 84\n",
      "No, not min_samples = 85\n",
      "No, not min_samples = 86\n",
      "No, not min_samples = 87\n",
      "No, not min_samples = 88\n",
      "No, not min_samples = 89\n",
      "No, not min_samples = 90\n",
      "No, not min_samples = 91\n",
      "No, not min_samples = 92\n",
      "No, not min_samples = 93\n",
      "No, not min_samples = 94\n",
      "No, not min_samples = 95\n",
      "No, not min_samples = 96\n",
      "No, not min_samples = 97\n",
      "No, not min_samples = 98\n",
      "No, not min_samples = 99\n",
      "No, not min_samples = 100\n",
      "No, not min_samples = 101\n",
      "No, not min_samples = 102\n",
      "No, not min_samples = 103\n",
      "No, not min_samples = 104\n",
      "No, not min_samples = 105\n",
      "No, not min_samples = 106\n",
      "No, not min_samples = 107\n",
      "No, not min_samples = 108\n",
      "No, not min_samples = 109\n",
      "No, not min_samples = 110\n",
      "No, not min_samples = 111\n",
      "No, not min_samples = 112\n",
      "No, not min_samples = 113\n",
      "No, not min_samples = 114\n",
      "No, not min_samples = 115\n",
      "No, not min_samples = 116\n",
      "No, not min_samples = 117\n",
      "No, not min_samples = 118\n",
      "No, not min_samples = 119\n",
      "No, not min_samples = 120\n",
      "No, not min_samples = 121\n",
      "No, not min_samples = 122\n",
      "No, not min_samples = 123\n",
      "No, not min_samples = 124\n",
      "No, not min_samples = 125\n",
      "No, not min_samples = 126\n",
      "No, not min_samples = 127\n",
      "No, not min_samples = 128\n",
      "No, not min_samples = 129\n",
      "No, not min_samples = 130\n",
      "No, not min_samples = 131\n",
      "No, not min_samples = 132\n",
      "No, not min_samples = 133\n",
      "No, not min_samples = 134\n",
      "No, not min_samples = 135\n",
      "No, not min_samples = 136\n",
      "No, not min_samples = 137\n",
      "No, not min_samples = 138\n",
      "No, not min_samples = 139\n",
      "No, not min_samples = 140\n",
      "No, not min_samples = 141\n",
      "No, not min_samples = 142\n",
      "No, not min_samples = 143\n",
      "No, not min_samples = 144\n",
      "No, not min_samples = 145\n",
      "No, not min_samples = 146\n",
      "No, not min_samples = 147\n",
      "No, not min_samples = 148\n",
      "No, not min_samples = 149\n",
      "No, not min_samples = 150\n",
      "No, not min_samples = 151\n",
      "No, not min_samples = 152\n",
      "No, not min_samples = 153\n",
      "No, not min_samples = 154\n",
      "No, not min_samples = 155\n",
      "No, not min_samples = 156\n",
      "No, not min_samples = 157\n",
      "No, not min_samples = 158\n",
      "No, not min_samples = 159\n",
      "No, not min_samples = 160\n",
      "No, not min_samples = 161\n",
      "No, not min_samples = 162\n",
      "No, not min_samples = 163\n",
      "No, not min_samples = 164\n",
      "No, not min_samples = 165\n",
      "No, not min_samples = 166\n",
      "No, not min_samples = 167\n",
      "No, not min_samples = 168\n",
      "No, not min_samples = 169\n",
      "No, not min_samples = 170\n",
      "No, not min_samples = 171\n",
      "No, not min_samples = 172\n",
      "No, not min_samples = 173\n",
      "No, not min_samples = 174\n",
      "No, not min_samples = 175\n",
      "No, not min_samples = 176\n",
      "No, not min_samples = 177\n",
      "No, not min_samples = 178\n",
      "No, not min_samples = 179\n",
      "No, not min_samples = 180\n",
      "No, not min_samples = 181\n",
      "No, not min_samples = 182\n",
      "No, not min_samples = 183\n",
      "No, not min_samples = 184\n",
      "No, not min_samples = 185\n",
      "No, not min_samples = 186\n",
      "No, not min_samples = 187\n",
      "No, not min_samples = 188\n",
      "No, not min_samples = 189\n",
      "No, not min_samples = 190\n",
      "No, not min_samples = 191\n",
      "No, not min_samples = 192\n",
      "No, not min_samples = 193\n",
      "No, not min_samples = 194\n",
      "No, not min_samples = 195\n",
      "No, not min_samples = 196\n",
      "No, not min_samples = 197\n",
      "No, not min_samples = 198\n",
      "No, not min_samples = 199\n",
      "No, not min_samples = 200\n",
      "No, not min_samples = 201\n",
      "No, not min_samples = 202\n",
      "No, not min_samples = 203\n",
      "No, not min_samples = 204\n",
      "No, not min_samples = 205\n",
      "No, not min_samples = 206\n",
      "No, not min_samples = 207\n",
      "No, not min_samples = 208\n",
      "No, not min_samples = 209\n",
      "No, not min_samples = 210\n",
      "No, not min_samples = 211\n",
      "No, not min_samples = 212\n",
      "No, not min_samples = 213\n",
      "No, not min_samples = 214\n",
      "No, not min_samples = 215\n",
      "No, not min_samples = 216\n",
      "No, not min_samples = 217\n",
      "No, not min_samples = 218\n",
      "No, not min_samples = 219\n",
      "No, not min_samples = 220\n",
      "No, not min_samples = 221\n",
      "No, not min_samples = 222\n",
      "No, not min_samples = 223\n",
      "No, not min_samples = 224\n",
      "No, not min_samples = 225\n",
      "No, not min_samples = 226\n",
      "No, not min_samples = 227\n",
      "No, not min_samples = 228\n",
      "No, not min_samples = 229\n",
      "No, not min_samples = 230\n",
      "No, not min_samples = 231\n",
      "No, not min_samples = 232\n",
      "No, not min_samples = 233\n",
      "No, not min_samples = 234\n",
      "No, not min_samples = 235\n",
      "No, not min_samples = 236\n",
      "No, not min_samples = 237\n",
      "No, not min_samples = 238\n",
      "No, not min_samples = 239\n",
      "No, not min_samples = 240\n",
      "No, not min_samples = 241\n",
      "No, not min_samples = 242\n",
      "No, not min_samples = 243\n",
      "No, not min_samples = 244\n",
      "No, not min_samples = 245\n",
      "No, not min_samples = 246\n",
      "No, not min_samples = 247\n",
      "No, not min_samples = 248\n",
      "No, not min_samples = 249\n",
      "No, not min_samples = 250\n",
      "No, not min_samples = 251\n",
      "No, not min_samples = 252\n",
      "No, not min_samples = 253\n",
      "No, not min_samples = 254\n",
      "No, not min_samples = 255\n",
      "No, not min_samples = 256\n",
      "No, not min_samples = 257\n",
      "No, not min_samples = 258\n",
      "No, not min_samples = 259\n",
      "No, not min_samples = 260\n",
      "No, not min_samples = 261\n",
      "No, not min_samples = 262\n",
      "No, not min_samples = 263\n",
      "No, not min_samples = 264\n",
      "No, not min_samples = 265\n",
      "No, not min_samples = 266\n",
      "No, not min_samples = 267\n",
      "No, not min_samples = 268\n",
      "No, not min_samples = 269\n",
      "No, not min_samples = 270\n",
      "No, not min_samples = 271\n",
      "No, not min_samples = 272\n",
      "No, not min_samples = 273\n",
      "No, not min_samples = 274\n",
      "No, not min_samples = 275\n",
      "No, not min_samples = 276\n",
      "No, not min_samples = 277\n",
      "No, not min_samples = 278\n",
      "No, not min_samples = 279\n",
      "No, not min_samples = 280\n",
      "No, not min_samples = 281\n",
      "No, not min_samples = 282\n",
      "No, not min_samples = 283\n",
      "No, not min_samples = 284\n",
      "No, not min_samples = 285\n",
      "No, not min_samples = 286\n",
      "No, not min_samples = 287\n",
      "No, not min_samples = 288\n",
      "No, not min_samples = 289\n",
      "No, not min_samples = 290\n",
      "No, not min_samples = 291\n",
      "No, not min_samples = 292\n",
      "No, not min_samples = 293\n",
      "No, not min_samples = 294\n",
      "No, not min_samples = 295\n",
      "No, not min_samples = 296\n",
      "No, not min_samples = 297\n",
      "No, not min_samples = 298\n",
      "No, not min_samples = 299\n",
      "No, not min_samples = 300\n",
      "No, not min_samples = 301\n",
      "No, not min_samples = 302\n",
      "No, not min_samples = 303\n",
      "No, not min_samples = 304\n",
      "No, not min_samples = 305\n",
      "No, not min_samples = 306\n",
      "No, not min_samples = 307\n",
      "No, not min_samples = 308\n",
      "No, not min_samples = 309\n",
      "No, not min_samples = 310\n",
      "No, not min_samples = 311\n",
      "No, not min_samples = 312\n",
      "No, not min_samples = 313\n",
      "No, not min_samples = 314\n",
      "No, not min_samples = 315\n",
      "No, not min_samples = 316\n",
      "No, not min_samples = 317\n",
      "No, not min_samples = 318\n",
      "No, not min_samples = 319\n",
      "No, not min_samples = 320\n",
      "No, not min_samples = 321\n",
      "No, not min_samples = 322\n",
      "No, not min_samples = 323\n",
      "No, not min_samples = 324\n",
      "No, not min_samples = 325\n",
      "No, not min_samples = 326\n",
      "No, not min_samples = 327\n",
      "No, not min_samples = 328\n",
      "No, not min_samples = 329\n",
      "No, not min_samples = 330\n",
      "No, not min_samples = 331\n",
      "No, not min_samples = 332\n",
      "No, not min_samples = 333\n",
      "No, not min_samples = 334\n",
      "No, not min_samples = 335\n"
     ]
    },
    {
     "name": "stdout",
     "output_type": "stream",
     "text": [
      "No, not min_samples = 336\n",
      "No, not min_samples = 337\n",
      "No, not min_samples = 338\n",
      "No, not min_samples = 339\n",
      "No, not min_samples = 340\n",
      "No, not min_samples = 341\n",
      "No, not min_samples = 342\n",
      "No, not min_samples = 343\n",
      "No, not min_samples = 344\n",
      "No, not min_samples = 345\n",
      "No, not min_samples = 346\n",
      "No, not min_samples = 347\n",
      "No, not min_samples = 348\n",
      "No, not min_samples = 349\n",
      "No, not min_samples = 350\n",
      "No, not min_samples = 351\n",
      "No, not min_samples = 352\n",
      "No, not min_samples = 353\n",
      "No, not min_samples = 354\n",
      "No, not min_samples = 355\n",
      "No, not min_samples = 356\n",
      "No, not min_samples = 357\n",
      "No, not min_samples = 358\n",
      "No, not min_samples = 359\n",
      "No, not min_samples = 360\n",
      "No, not min_samples = 361\n",
      "No, not min_samples = 362\n",
      "No, not min_samples = 363\n",
      "No, not min_samples = 364\n",
      "No, not min_samples = 365\n",
      "No, not min_samples = 366\n",
      "No, not min_samples = 367\n",
      "No, not min_samples = 368\n",
      "No, not min_samples = 369\n",
      "No, not min_samples = 370\n",
      "No, not min_samples = 371\n",
      "No, not min_samples = 372\n",
      "No, not min_samples = 373\n",
      "No, not min_samples = 374\n",
      "No, not min_samples = 375\n",
      "No, not min_samples = 376\n",
      "No, not min_samples = 377\n",
      "No, not min_samples = 378\n",
      "No, not min_samples = 379\n",
      "No, not min_samples = 380\n",
      "No, not min_samples = 381\n",
      "No, not min_samples = 382\n",
      "No, not min_samples = 383\n",
      "No, not min_samples = 384\n",
      "No, not min_samples = 385\n",
      "No, not min_samples = 386\n",
      "No, not min_samples = 387\n",
      "No, not min_samples = 388\n",
      "No, not min_samples = 389\n",
      "No, not min_samples = 390\n",
      "No, not min_samples = 391\n",
      "No, not min_samples = 392\n",
      "No, not min_samples = 393\n",
      "No, not min_samples = 394\n",
      "No, not min_samples = 395\n",
      "No, not min_samples = 396\n",
      "No, not min_samples = 397\n",
      "No, not min_samples = 398\n",
      "No, not min_samples = 399\n",
      "No, not min_samples = 400\n",
      "No, not min_samples = 401\n",
      "No, not min_samples = 402\n",
      "No, not min_samples = 403\n",
      "No, not min_samples = 404\n",
      "No, not min_samples = 405\n",
      "No, not min_samples = 406\n",
      "No, not min_samples = 407\n",
      "No, not min_samples = 408\n",
      "No, not min_samples = 409\n",
      "No, not min_samples = 410\n",
      "No, not min_samples = 411\n",
      "No, not min_samples = 412\n",
      "No, not min_samples = 413\n",
      "No, not min_samples = 414\n",
      "No, not min_samples = 415\n",
      "No, not min_samples = 416\n",
      "No, not min_samples = 417\n",
      "No, not min_samples = 418\n",
      "No, not min_samples = 419\n",
      "No, not min_samples = 420\n",
      "No, not min_samples = 421\n",
      "No, not min_samples = 422\n",
      "No, not min_samples = 423\n",
      "No, not min_samples = 424\n",
      "No, not min_samples = 425\n",
      "No, not min_samples = 426\n",
      "No, not min_samples = 427\n",
      "No, not min_samples = 428\n",
      "No, not min_samples = 429\n",
      "No, not min_samples = 430\n",
      "No, not min_samples = 431\n",
      "No, not min_samples = 432\n",
      "No, not min_samples = 433\n",
      "No, not min_samples = 434\n",
      "No, not min_samples = 435\n",
      "No, not min_samples = 436\n",
      "No, not min_samples = 437\n",
      "No, not min_samples = 438\n",
      "No, not min_samples = 439\n",
      "No, not min_samples = 440\n",
      "No, not min_samples = 441\n",
      "No, not min_samples = 442\n",
      "No, not min_samples = 443\n",
      "No, not min_samples = 444\n",
      "No, not min_samples = 445\n",
      "No, not min_samples = 446\n",
      "No, not min_samples = 447\n",
      "No, not min_samples = 448\n",
      "No, not min_samples = 449\n",
      "No, not min_samples = 450\n",
      "No, not min_samples = 451\n",
      "No, not min_samples = 452\n",
      "No, not min_samples = 453\n",
      "No, not min_samples = 454\n",
      "No, not min_samples = 455\n",
      "No, not min_samples = 456\n",
      "No, not min_samples = 457\n",
      "No, not min_samples = 458\n",
      "No, not min_samples = 459\n",
      "No, not min_samples = 460\n",
      "No, not min_samples = 461\n",
      "No, not min_samples = 462\n",
      "No, not min_samples = 463\n",
      "No, not min_samples = 464\n",
      "No, not min_samples = 465\n",
      "No, not min_samples = 466\n",
      "No, not min_samples = 467\n",
      "No, not min_samples = 468\n",
      "No, not min_samples = 469\n",
      "No, not min_samples = 470\n",
      "No, not min_samples = 471\n",
      "No, not min_samples = 472\n",
      "No, not min_samples = 473\n",
      "No, not min_samples = 474\n",
      "No, not min_samples = 475\n",
      "No, not min_samples = 476\n",
      "No, not min_samples = 477\n",
      "No, not min_samples = 478\n",
      "No, not min_samples = 479\n",
      "No, not min_samples = 480\n",
      "No, not min_samples = 481\n",
      "No, not min_samples = 482\n",
      "No, not min_samples = 483\n",
      "No, not min_samples = 484\n",
      "No, not min_samples = 485\n",
      "No, not min_samples = 486\n",
      "No, not min_samples = 487\n",
      "No, not min_samples = 488\n",
      "No, not min_samples = 489\n",
      "No, not min_samples = 490\n",
      "No, not min_samples = 491\n",
      "No, not min_samples = 492\n",
      "No, not min_samples = 493\n",
      "No, not min_samples = 494\n",
      "No, not min_samples = 495\n",
      "No, not min_samples = 496\n",
      "No, not min_samples = 497\n",
      "No, not min_samples = 498\n",
      "No, not min_samples = 499\n",
      "No, not min_samples = 500\n",
      "No, not min_samples = 501\n",
      "No, not min_samples = 502\n",
      "No, not min_samples = 503\n",
      "No, not min_samples = 504\n",
      "No, not min_samples = 505\n",
      "No, not min_samples = 506\n",
      "No, not min_samples = 507\n",
      "No, not min_samples = 508\n",
      "No, not min_samples = 509\n",
      "No, not min_samples = 510\n",
      "No, not min_samples = 511\n",
      "No, not min_samples = 512\n",
      "No, not min_samples = 513\n",
      "No, not min_samples = 514\n",
      "No, not min_samples = 515\n",
      "No, not min_samples = 516\n",
      "No, not min_samples = 517\n",
      "No, not min_samples = 518\n",
      "No, not min_samples = 519\n",
      "No, not min_samples = 520\n",
      "No, not min_samples = 521\n",
      "No, not min_samples = 522\n",
      "No, not min_samples = 523\n",
      "No, not min_samples = 524\n",
      "No, not min_samples = 525\n",
      "No, not min_samples = 526\n",
      "No, not min_samples = 527\n",
      "No, not min_samples = 528\n",
      "No, not min_samples = 529\n",
      "No, not min_samples = 530\n",
      "No, not min_samples = 531\n",
      "No, not min_samples = 532\n",
      "No, not min_samples = 533\n",
      "No, not min_samples = 534\n",
      "No, not min_samples = 535\n",
      "No, not min_samples = 536\n",
      "No, not min_samples = 537\n",
      "No, not min_samples = 538\n",
      "No, not min_samples = 539\n",
      "No, not min_samples = 540\n",
      "No, not min_samples = 541\n",
      "No, not min_samples = 542\n",
      "No, not min_samples = 543\n",
      "No, not min_samples = 544\n",
      "No, not min_samples = 545\n",
      "No, not min_samples = 546\n",
      "No, not min_samples = 547\n",
      "No, not min_samples = 548\n",
      "No, not min_samples = 549\n",
      "No, not min_samples = 550\n",
      "No, not min_samples = 551\n",
      "No, not min_samples = 552\n",
      "No, not min_samples = 553\n",
      "No, not min_samples = 554\n",
      "No, not min_samples = 555\n",
      "No, not min_samples = 556\n",
      "No, not min_samples = 557\n",
      "No, not min_samples = 558\n",
      "No, not min_samples = 559\n",
      "No, not min_samples = 560\n",
      "No, not min_samples = 561\n",
      "No, not min_samples = 562\n",
      "No, not min_samples = 563\n",
      "No, not min_samples = 564\n",
      "No, not min_samples = 565\n",
      "No, not min_samples = 566\n",
      "No, not min_samples = 567\n",
      "No, not min_samples = 568\n",
      "No, not min_samples = 569\n",
      "No, not min_samples = 570\n",
      "No, not min_samples = 571\n",
      "No, not min_samples = 572\n",
      "No, not min_samples = 573\n",
      "No, not min_samples = 574\n",
      "No, not min_samples = 575\n",
      "No, not min_samples = 576\n",
      "No, not min_samples = 577\n",
      "No, not min_samples = 578\n",
      "No, not min_samples = 579\n",
      "No, not min_samples = 580\n",
      "No, not min_samples = 581\n",
      "No, not min_samples = 582\n",
      "No, not min_samples = 583\n",
      "No, not min_samples = 584\n",
      "No, not min_samples = 585\n",
      "No, not min_samples = 586\n",
      "No, not min_samples = 587\n",
      "No, not min_samples = 588\n",
      "No, not min_samples = 589\n",
      "No, not min_samples = 590\n",
      "No, not min_samples = 591\n",
      "No, not min_samples = 592\n",
      "No, not min_samples = 593\n",
      "No, not min_samples = 594\n",
      "No, not min_samples = 595\n",
      "No, not min_samples = 596\n",
      "No, not min_samples = 597\n",
      "No, not min_samples = 598\n",
      "No, not min_samples = 599\n"
     ]
    }
   ],
   "source": [
    "for i in range(0,600): # picked 200 as there are 200 data points \n",
    "    cluster=DBSCAN(eps=0.2,min_samples=i) # instantiate \n",
    "    cluster.fit(df)\n",
    "    labels=cluster.labels_\n",
    "    if len(set(cluster.labels_))==2 and -1 not in set(cluster.labels_):#-1 is the outlier so if there is not outlier use \n",
    "        print(\"Yes! Use min_samples = \" + str(i))\n",
    "        break\n",
    "    else:\n",
    "        print(\"No, not min_samples = \" + str(i))"
   ]
  },
  {
   "cell_type": "code",
   "execution_count": null,
   "metadata": {},
   "outputs": [],
   "source": []
  },
  {
   "cell_type": "markdown",
   "metadata": {},
   "source": [
    "### Let's try HDBSCAN on this data!"
   ]
  },
  {
   "cell_type": "code",
   "execution_count": 35,
   "metadata": {},
   "outputs": [],
   "source": [
    "import hdbscan"
   ]
  },
  {
   "cell_type": "code",
   "execution_count": 36,
   "metadata": {},
   "outputs": [
    {
     "name": "stdout",
     "output_type": "stream",
     "text": [
      "[14  2 -1  6 -1 14 -1 -1 -1  2 -1 14  2  8  2 -1  6  8 14 13  0  2  0 14\n",
      " 14 14  0 14  0 14  6 14 -1  2 -1 14 -1 14 -1  0 -1  0  6 14 14 13  2  2\n",
      " 14 14  8 -1 14 -1  8  6  8 14 14  6  6 -1 13 -1 -1 -1 -1 -1 14 14 -1  2\n",
      " -1 14  2 -1  0 14 13 -1 14  2  0  6 -1  2 14 13 14  0 -1 14 -1 14 14 13\n",
      "  8 14  0  0 -1 12 11  3  3 12 12 11 11 -1 -1  9  1  3  4 10 -1  5  4 10\n",
      " 11 -1  5 12 12 12 11 10 10  7 11 11 -1 12  5 -1 10 -1  3 -1  9  7 -1  9\n",
      " -1  1 12 -1  9 -1 12 11  4 12 -1  4  5  9 12 12 12  1 12  5 -1 12  5  3\n",
      "  5  7  4 -1 -1 -1  4  1 -1  9  7 -1 10 12  3 -1  7  9  4  7 12 -1  1  3\n",
      "  7  7 12  1 -1 12 -1 -1]\n"
     ]
    }
   ],
   "source": [
    "h_cluster = hdbscan.HDBSCAN(min_cluster_size = 5, # analogous to min_samples\n",
    "                            gen_min_span_tree = True)\n",
    "\n",
    "h_cluster.fit(df)\n",
    "\n",
    "labels = h_cluster.labels_\n",
    "print(labels)"
   ]
  },
  {
   "cell_type": "code",
   "execution_count": 37,
   "metadata": {},
   "outputs": [
    {
     "data": {
      "image/png": "[encoded data removed]",
      "text/plain": [
       "<Figure size 432x288 with 1 Axes>"
      ]
     },
     "metadata": {},
     "output_type": "display_data"
    }
   ],
   "source": [
    "plt.title(\"Plotting X1 and X2 (scaled), Colored by HDBSCAN Cluster\")\n",
    "plt.scatter(df['x1'], df['x2'], c = h_cluster.labels_);"
   ]
  },
  {
   "cell_type": "code",
   "execution_count": 38,
   "metadata": {},
   "outputs": [
    {
     "ename": "ValueError",
     "evalue": "Min samples and min cluster size must be integers!",
     "output_type": "error",
     "traceback": [
      "\u001b[0;31m---------------------------------------------------------------------------\u001b[0m",
      "\u001b[0;31mValueError\u001b[0m                                Traceback (most recent call last)",
      "\u001b[0;32m<ipython-input-38-e388b7f08919>\u001b[0m in \u001b[0;36m<module>\u001b[0;34m()\u001b[0m\n\u001b[1;32m      1\u001b[0m \u001b[0;32mfor\u001b[0m \u001b[0mi\u001b[0m \u001b[0;32min\u001b[0m \u001b[0mrange\u001b[0m\u001b[0;34m(\u001b[0m\u001b[0;36m0\u001b[0m\u001b[0;34m,\u001b[0m\u001b[0;36m600\u001b[0m\u001b[0;34m)\u001b[0m\u001b[0;34m:\u001b[0m \u001b[0;31m# picked 200 as there are 200 data points\u001b[0m\u001b[0;34m\u001b[0m\u001b[0m\n\u001b[1;32m      2\u001b[0m     \u001b[0mcluster\u001b[0m\u001b[0;34m=\u001b[0m\u001b[0mhdbscan\u001b[0m\u001b[0;34m.\u001b[0m\u001b[0mHDBSCAN\u001b[0m\u001b[0;34m(\u001b[0m\u001b[0mmin_cluster_size\u001b[0m\u001b[0;34m=\u001b[0m\u001b[0;36m0.2\u001b[0m\u001b[0;34m,\u001b[0m\u001b[0mgen_min_span_tree\u001b[0m \u001b[0;34m=\u001b[0m \u001b[0;32mTrue\u001b[0m\u001b[0;34m)\u001b[0m \u001b[0;31m# instantiate\u001b[0m\u001b[0;34m\u001b[0m\u001b[0m\n\u001b[0;32m----> 3\u001b[0;31m     \u001b[0mcluster\u001b[0m\u001b[0;34m.\u001b[0m\u001b[0mfit\u001b[0m\u001b[0;34m(\u001b[0m\u001b[0mdf\u001b[0m\u001b[0;34m)\u001b[0m\u001b[0;34m\u001b[0m\u001b[0m\n\u001b[0m\u001b[1;32m      4\u001b[0m     \u001b[0mlabels\u001b[0m\u001b[0;34m=\u001b[0m\u001b[0mcluster\u001b[0m\u001b[0;34m.\u001b[0m\u001b[0mlabels_\u001b[0m\u001b[0;34m\u001b[0m\u001b[0m\n\u001b[1;32m      5\u001b[0m     \u001b[0;32mif\u001b[0m \u001b[0mlen\u001b[0m\u001b[0;34m(\u001b[0m\u001b[0mset\u001b[0m\u001b[0;34m(\u001b[0m\u001b[0mcluster\u001b[0m\u001b[0;34m.\u001b[0m\u001b[0mlabels_\u001b[0m\u001b[0;34m)\u001b[0m\u001b[0;34m)\u001b[0m\u001b[0;34m==\u001b[0m\u001b[0;36m2\u001b[0m \u001b[0;32mand\u001b[0m \u001b[0;34m-\u001b[0m\u001b[0;36m1\u001b[0m \u001b[0;32mnot\u001b[0m \u001b[0;32min\u001b[0m \u001b[0mset\u001b[0m\u001b[0;34m(\u001b[0m\u001b[0mcluster\u001b[0m\u001b[0;34m.\u001b[0m\u001b[0mlabels_\u001b[0m\u001b[0;34m)\u001b[0m\u001b[0;34m:\u001b[0m\u001b[0;31m#-1 is the outlier so if there is not outlier use\u001b[0m\u001b[0;34m\u001b[0m\u001b[0m\n",
      "\u001b[0;32m~/anaconda3/envs/dsi/lib/python3.6/site-packages/hdbscan/hdbscan_.py\u001b[0m in \u001b[0;36mfit\u001b[0;34m(self, X, y)\u001b[0m\n\u001b[1;32m    849\u001b[0m          \u001b[0mself\u001b[0m\u001b[0;34m.\u001b[0m\u001b[0m_condensed_tree\u001b[0m\u001b[0;34m,\u001b[0m\u001b[0;34m\u001b[0m\u001b[0m\n\u001b[1;32m    850\u001b[0m          \u001b[0mself\u001b[0m\u001b[0;34m.\u001b[0m\u001b[0m_single_linkage_tree\u001b[0m\u001b[0;34m,\u001b[0m\u001b[0;34m\u001b[0m\u001b[0m\n\u001b[0;32m--> 851\u001b[0;31m          self._min_spanning_tree) = hdbscan(X, **kwargs)\n\u001b[0m\u001b[1;32m    852\u001b[0m \u001b[0;34m\u001b[0m\u001b[0m\n\u001b[1;32m    853\u001b[0m         \u001b[0;32mif\u001b[0m \u001b[0mself\u001b[0m\u001b[0;34m.\u001b[0m\u001b[0mprediction_data\u001b[0m\u001b[0;34m:\u001b[0m\u001b[0;34m\u001b[0m\u001b[0m\n",
      "\u001b[0;32m~/anaconda3/envs/dsi/lib/python3.6/site-packages/hdbscan/hdbscan_.py\u001b[0m in \u001b[0;36mhdbscan\u001b[0;34m(X, min_cluster_size, min_samples, alpha, metric, p, leaf_size, algorithm, memory, approx_min_span_tree, gen_min_span_tree, core_dist_n_jobs, cluster_selection_method, allow_single_cluster, match_reference_implementation, **kwargs)\u001b[0m\n\u001b[1;32m    454\u001b[0m \u001b[0;34m\u001b[0m\u001b[0m\n\u001b[1;32m    455\u001b[0m     \u001b[0;32mif\u001b[0m \u001b[0mtype\u001b[0m\u001b[0;34m(\u001b[0m\u001b[0mmin_samples\u001b[0m\u001b[0;34m)\u001b[0m \u001b[0;32mis\u001b[0m \u001b[0;32mnot\u001b[0m \u001b[0mint\u001b[0m \u001b[0;32mor\u001b[0m \u001b[0mtype\u001b[0m\u001b[0;34m(\u001b[0m\u001b[0mmin_cluster_size\u001b[0m\u001b[0;34m)\u001b[0m \u001b[0;32mis\u001b[0m \u001b[0;32mnot\u001b[0m \u001b[0mint\u001b[0m\u001b[0;34m:\u001b[0m\u001b[0;34m\u001b[0m\u001b[0m\n\u001b[0;32m--> 456\u001b[0;31m         \u001b[0;32mraise\u001b[0m \u001b[0mValueError\u001b[0m\u001b[0;34m(\u001b[0m\u001b[0;34m'Min samples and min cluster size must be integers!'\u001b[0m\u001b[0;34m)\u001b[0m\u001b[0;34m\u001b[0m\u001b[0m\n\u001b[0m\u001b[1;32m    457\u001b[0m \u001b[0;34m\u001b[0m\u001b[0m\n\u001b[1;32m    458\u001b[0m     \u001b[0;32mif\u001b[0m \u001b[0mmin_samples\u001b[0m \u001b[0;34m<=\u001b[0m \u001b[0;36m0\u001b[0m \u001b[0;32mor\u001b[0m \u001b[0mmin_cluster_size\u001b[0m \u001b[0;34m<=\u001b[0m \u001b[0;36m0\u001b[0m\u001b[0;34m:\u001b[0m\u001b[0;34m\u001b[0m\u001b[0m\n",
      "\u001b[0;31mValueError\u001b[0m: Min samples and min cluster size must be integers!"
     ]
    }
   ],
   "source": [
    "for i in range(0,600): # picked 200 as there are 200 data points \n",
    "    cluster=hdbscan.HDBSCAN(min_cluster_size=0.2,gen_min_span_tree = True) # instantiate \n",
    "    cluster.fit(df)\n",
    "    labels=cluster.labels_\n",
    "    if len(set(cluster.labels_))==2 and -1 not in set(cluster.labels_):#-1 is the outlier so if there is not outlier use \n",
    "        print(\"Yes! Use min_samples = \" + str(i))\n",
    "        break\n",
    "    else:\n",
    "        print(\"No, not min_samples = \" + str(i))"
   ]
  },
  {
   "cell_type": "markdown",
   "metadata": {},
   "source": [
    "Recall that our learning objectives were to:\n",
    "- Describe the effect of epsilon and min_points on DBSCAN.\n",
    "- Implement DBSCAN.\n",
    "- Identify advantages and disadvantages of DBSCAN.\n",
    "- Explain and implement HDBSCAN."
   ]
  },
  {
   "cell_type": "markdown",
   "metadata": {},
   "source": [
    "<details>\n",
    "<summary>Describe the effect of epsilon and min_points on DBSCAN.</summary>\n",
    "```\n",
    "- epsilon is a hyperparameter of DBSCAN that refers to how far we will \"search\" from a point to see if other points should be clustered with that point. As epsilon increases, we search farther and expect to include more points in a cluster.\n",
    "- min_points is a hyperparameter of DBSCAN that refers to how many points are needed for a group to officially be called a \"cluster.\"\n",
    "- As min_points increases, we expect the number of clusters will decrease and the number of outliers will increase.\n",
    "```\n",
    "</details>\n",
    "\n",
    "<br>\n",
    "\n",
    "<details>\n",
    "<summary>Identify advantages of DBSCAN.</summary>\n",
    "```\n",
    "- DBSCAN detects clusters that are more dense than outliers.\n",
    "- DBSCAN can detect concave or irregularly-shaped clusters, whereas most other clustering algorithms cannot (easily) do the same.\n",
    "- DBSCAN doesn't classify all points, meaning we can use DBSCAN for outlier detection. (The same is not true of hierarchical or k-means clustering.)\n",
    "- DBSCAN does not need us to pre-identify the number of clusters.\n",
    "- DBSCAN is generally quite fast.\n",
    "```\n",
    "</details>\n",
    "\n",
    "<br>\n",
    "\n",
    "<details>\n",
    "<summary>Identify disadvantages of DBSCAN.</summary>\n",
    "```\n",
    "- DBSCAN requires two hyperparameters to tune. This can be difficult, especially in cases where there are not labels to define metrics to \"gridsearch\" over.\n",
    "    - The value of epsilon you choose to search is highly dependent on how you scale your variables.\n",
    "    - To define an appropriate min_samples, you may need a subject-matter expert.\n",
    "```\n",
    "</details>\n",
    "\n",
    "<br>\n",
    "\n",
    "<details>\n",
    "<summary>Explain HDBSCAN.</summary>\n",
    "```\n",
    "- HDBSCAN requires only one hyperparameter to tune: the minimum number of points you need to define a cluster.\n",
    "- HDBSCAN calculates, for each point, the epsilon searching distance needed to meet the minimum number of points. The algorithm then constructs a dendrogram using epsilon as the distance between clusters and prunes any clusters that don't meet the minimum points threshold.\n",
    "```\n",
    "</details>"
   ]
  },
  {
   "cell_type": "code",
   "execution_count": null,
   "metadata": {},
   "outputs": [],
   "source": []
  }
 ],
 "metadata": {
  "kernelspec": {
   "display_name": "Python 3",
   "language": "python",
   "name": "python3"
  },
  "language_info": {
   "codemirror_mode": {
    "name": "ipython",
    "version": 3
   },
   "file_extension": ".py",
   "mimetype": "text/x-python",
   "name": "python",
   "nbconvert_exporter": "python",
   "pygments_lexer": "ipython3",
   "version": "3.6.5"
  }
 },
 "nbformat": 4,
 "nbformat_minor": 2
}
