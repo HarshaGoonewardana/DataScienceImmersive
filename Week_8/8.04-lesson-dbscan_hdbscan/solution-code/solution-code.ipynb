{
 "cells": [
  {
   "cell_type": "code",
   "execution_count": 1,
   "metadata": {},
   "outputs": [
    {
     "name": "stdout",
     "output_type": "stream",
     "text": [
      "Requirement already up-to-date: hdbscan in /Users/mattbrems/anaconda3/lib/python3.5/site-packages (0.8.13)\n",
      "Requirement not upgraded as not directly required: scikit-learn>=0.16 in /Users/mattbrems/anaconda3/lib/python3.5/site-packages (from hdbscan) (0.19.1)\n",
      "Requirement not upgraded as not directly required: numpy in /Users/mattbrems/anaconda3/lib/python3.5/site-packages (from hdbscan) (1.14.3)\n"
     ]
    }
   ],
   "source": [
    "!pip install hdbscan --upgrade"
   ]
  },
  {
   "cell_type": "code",
   "execution_count": 2,
   "metadata": {
    "collapsed": true
   },
   "outputs": [],
   "source": [
    "import pandas as pd\n",
    "import numpy as np\n",
    "from sklearn.cluster import DBSCAN\n",
    "from sklearn.preprocessing import StandardScaler\n",
    "from sklearn import datasets, linear_model, metrics\n",
    "import matplotlib.pyplot as plt\n",
    "%matplotlib inline"
   ]
  },
  {
   "cell_type": "markdown",
   "metadata": {},
   "source": [
    "### Let's run DBSCAN on two different sets of randomly generated data and see how it performs."
   ]
  },
  {
   "cell_type": "markdown",
   "metadata": {},
   "source": [
    "### Dataset 1: Multivariate Normal data."
   ]
  },
  {
   "cell_type": "code",
   "execution_count": 3,
   "metadata": {
    "collapsed": true
   },
   "outputs": [],
   "source": [
    "np.random.seed(2552277) # ALLCAPS on a phone"
   ]
  },
  {
   "cell_type": "code",
   "execution_count": 4,
   "metadata": {
    "collapsed": true
   },
   "outputs": [],
   "source": [
    "x1 = np.random.normal(25, 10, 100)\n",
    "x2 = np.random.normal(500, 250, 100)"
   ]
  },
  {
   "cell_type": "code",
   "execution_count": 5,
   "metadata": {},
   "outputs": [
    {
     "name": "stdout",
     "output_type": "stream",
     "text": [
      "[29.8731048  -4.83172141 15.74865778 33.99456318 17.93524935]\n",
      "[279.51051448 598.46760092 933.09622016 456.91592861  76.08095639]\n"
     ]
    }
   ],
   "source": [
    "print(x1[0:5])\n",
    "print(x2[0:5])"
   ]
  },
  {
   "cell_type": "code",
   "execution_count": 6,
   "metadata": {},
   "outputs": [],
   "source": [
    "df = pd.DataFrame()\n",
    "\n",
    "df = df.from_dict({'x1': x1,\n",
    "                   'x2': x2})"
   ]
  },
  {
   "cell_type": "code",
   "execution_count": 7,
   "metadata": {
    "scrolled": true
   },
   "outputs": [
    {
     "data": {
      "text/html": [
       "<div>\n",
       "<style scoped>\n",
       "    .dataframe tbody tr th:only-of-type {\n",
       "        vertical-align: middle;\n",
       "    }\n",
       "\n",
       "    .dataframe tbody tr th {\n",
       "        vertical-align: top;\n",
       "    }\n",
       "\n",
       "    .dataframe thead th {\n",
       "        text-align: right;\n",
       "    }\n",
       "</style>\n",
       "<table border=\"1\" class=\"dataframe\">\n",
       "  <thead>\n",
       "    <tr style=\"text-align: right;\">\n",
       "      <th></th>\n",
       "      <th>x1</th>\n",
       "      <th>x2</th>\n",
       "    </tr>\n",
       "  </thead>\n",
       "  <tbody>\n",
       "    <tr>\n",
       "      <th>0</th>\n",
       "      <td>29.873105</td>\n",
       "      <td>279.510514</td>\n",
       "    </tr>\n",
       "    <tr>\n",
       "      <th>1</th>\n",
       "      <td>-4.831721</td>\n",
       "      <td>598.467601</td>\n",
       "    </tr>\n",
       "    <tr>\n",
       "      <th>2</th>\n",
       "      <td>15.748658</td>\n",
       "      <td>933.096220</td>\n",
       "    </tr>\n",
       "    <tr>\n",
       "      <th>3</th>\n",
       "      <td>33.994563</td>\n",
       "      <td>456.915929</td>\n",
       "    </tr>\n",
       "    <tr>\n",
       "      <th>4</th>\n",
       "      <td>17.935249</td>\n",
       "      <td>76.080956</td>\n",
       "    </tr>\n",
       "  </tbody>\n",
       "</table>\n",
       "</div>"
      ],
      "text/plain": [
       "          x1          x2\n",
       "0  29.873105  279.510514\n",
       "1  -4.831721  598.467601\n",
       "2  15.748658  933.096220\n",
       "3  33.994563  456.915929\n",
       "4  17.935249   76.080956"
      ]
     },
     "execution_count": 7,
     "metadata": {},
     "output_type": "execute_result"
    }
   ],
   "source": [
    "df.head()"
   ]
  },
  {
   "cell_type": "code",
   "execution_count": 8,
   "metadata": {},
   "outputs": [
    {
     "data": {
      "image/png": "[encoded data removed]",
      "text/plain": [
       "<Figure size 432x288 with 1 Axes>"
      ]
     },
     "metadata": {},
     "output_type": "display_data"
    }
   ],
   "source": [
    "plt.title(\"Plotting X1 and X2\")\n",
    "plt.xlim(-250,1250)\n",
    "plt.ylim(-250,1250)\n",
    "plt.scatter(df['x1'], df['x2']);"
   ]
  },
  {
   "cell_type": "code",
   "execution_count": 9,
   "metadata": {},
   "outputs": [],
   "source": [
    "# Remember that we want to scale our variables! Since clustering is distance-based,\n",
    "# if we don't scale, certain variables will have more of an impact.\n",
    "\n",
    "df = pd.DataFrame(StandardScaler().fit_transform(df), columns = ['x1', 'x2'])"
   ]
  },
  {
   "cell_type": "code",
   "execution_count": 10,
   "metadata": {},
   "outputs": [
    {
     "data": {
      "text/html": [
       "<div>\n",
       "<style scoped>\n",
       "    .dataframe tbody tr th:only-of-type {\n",
       "        vertical-align: middle;\n",
       "    }\n",
       "\n",
       "    .dataframe tbody tr th {\n",
       "        vertical-align: top;\n",
       "    }\n",
       "\n",
       "    .dataframe thead th {\n",
       "        text-align: right;\n",
       "    }\n",
       "</style>\n",
       "<table border=\"1\" class=\"dataframe\">\n",
       "  <thead>\n",
       "    <tr style=\"text-align: right;\">\n",
       "      <th></th>\n",
       "      <th>x1</th>\n",
       "      <th>x2</th>\n",
       "    </tr>\n",
       "  </thead>\n",
       "  <tbody>\n",
       "    <tr>\n",
       "      <th>0</th>\n",
       "      <td>0.642826</td>\n",
       "      <td>-0.861523</td>\n",
       "    </tr>\n",
       "    <tr>\n",
       "      <th>1</th>\n",
       "      <td>-3.098487</td>\n",
       "      <td>0.496326</td>\n",
       "    </tr>\n",
       "    <tr>\n",
       "      <th>2</th>\n",
       "      <td>-0.879843</td>\n",
       "      <td>1.920890</td>\n",
       "    </tr>\n",
       "    <tr>\n",
       "      <th>3</th>\n",
       "      <td>1.087135</td>\n",
       "      <td>-0.106281</td>\n",
       "    </tr>\n",
       "    <tr>\n",
       "      <th>4</th>\n",
       "      <td>-0.644120</td>\n",
       "      <td>-1.727553</td>\n",
       "    </tr>\n",
       "  </tbody>\n",
       "</table>\n",
       "</div>"
      ],
      "text/plain": [
       "         x1        x2\n",
       "0  0.642826 -0.861523\n",
       "1 -3.098487  0.496326\n",
       "2 -0.879843  1.920890\n",
       "3  1.087135 -0.106281\n",
       "4 -0.644120 -1.727553"
      ]
     },
     "execution_count": 10,
     "metadata": {},
     "output_type": "execute_result"
    }
   ],
   "source": [
    "df.head()"
   ]
  },
  {
   "cell_type": "code",
   "execution_count": 11,
   "metadata": {},
   "outputs": [
    {
     "data": {
      "image/png": "[encoded data removed]",
      "text/plain": [
       "<Figure size 432x288 with 1 Axes>"
      ]
     },
     "metadata": {},
     "output_type": "display_data"
    }
   ],
   "source": [
    "plt.title(\"Plotting X1 and X2 (scaled)\")\n",
    "plt.scatter(df['x1'], df['x2']);"
   ]
  },
  {
   "cell_type": "markdown",
   "metadata": {},
   "source": [
    "#### Let's fit DBSCAN on our data with `eps = 0.5` and `min_samples = 5`. (Note: This is the default in `sklearn`!)"
   ]
  },
  {
   "cell_type": "code",
   "execution_count": 12,
   "metadata": {
    "collapsed": true
   },
   "outputs": [],
   "source": [
    "cluster = DBSCAN(eps = 0.5,\n",
    "                 min_samples = 5)"
   ]
  },
  {
   "cell_type": "code",
   "execution_count": 13,
   "metadata": {},
   "outputs": [
    {
     "data": {
      "text/plain": [
       "DBSCAN(algorithm='auto', eps=0.5, leaf_size=30, metric='euclidean',\n",
       "    metric_params=None, min_samples=5, n_jobs=1, p=None)"
      ]
     },
     "execution_count": 13,
     "metadata": {},
     "output_type": "execute_result"
    }
   ],
   "source": [
    "cluster.fit(df)"
   ]
  },
  {
   "cell_type": "code",
   "execution_count": 14,
   "metadata": {},
   "outputs": [],
   "source": [
    "labels = cluster.labels_"
   ]
  },
  {
   "cell_type": "code",
   "execution_count": 15,
   "metadata": {},
   "outputs": [
    {
     "name": "stdout",
     "output_type": "stream",
     "text": [
      "[ 0 -1 -1  0  2  0  0  0  0  0  0  0  0 -1  0  0  0  0  2  0 -1  0  0  0\n",
      "  0  0  0  0  1  0  0  0  0  1  0  0  0  1 -1  0  0  0  0  0  0  0  0  0\n",
      "  0  0 -1  2 -1  0  0  0  0  1  0  1  0  0  0 -1  2  0  0  0  0  0 -1  0\n",
      "  0 -1  0  0 -1  0 -1  0  0  0  0  0  0  0  1  0  0  0  0  0 -1  0  0 -1\n",
      "  0  0  1 -1]\n"
     ]
    }
   ],
   "source": [
    "print(labels)"
   ]
  },
  {
   "cell_type": "code",
   "execution_count": 16,
   "metadata": {},
   "outputs": [
    {
     "data": {
      "image/png": "[encoded data removed]",
      "text/plain": [
       "<Figure size 432x288 with 1 Axes>"
      ]
     },
     "metadata": {},
     "output_type": "display_data"
    }
   ],
   "source": [
    "plt.title(\"Plotting X1 and X2 (scaled), Colored by Cluster\")\n",
    "plt.scatter(df['x1'], df['x2'], c = cluster.labels_);"
   ]
  },
  {
   "cell_type": "code",
   "execution_count": 17,
   "metadata": {},
   "outputs": [
    {
     "name": "stdout",
     "output_type": "stream",
     "text": [
      "Silhouette Coefficient: 0.145687\n"
     ]
    }
   ],
   "source": [
    "print('Silhouette Coefficient: %0.6f' % metrics.silhouette_score(df, labels))"
   ]
  },
  {
   "cell_type": "markdown",
   "metadata": {},
   "source": [
    "#### Go ahead and fit DBSCAN on our data with `eps = 1` and `min_samples = 5`."
   ]
  },
  {
   "cell_type": "code",
   "execution_count": 18,
   "metadata": {},
   "outputs": [
    {
     "name": "stdout",
     "output_type": "stream",
     "text": [
      "[0 0 0 0 0 0 0 0 0 0 0 0 0 0 0 0 0 0 0 0 0 0 0 0 0 0 0 0 0 0 0 0 0 0 0 0 0\n",
      " 0 0 0 0 0 0 0 0 0 0 0 0 0 0 0 0 0 0 0 0 0 0 0 0 0 0 0 0 0 0 0 0 0 0 0 0 0\n",
      " 0 0 0 0 0 0 0 0 0 0 0 0 0 0 0 0 0 0 0 0 0 0 0 0 0 0]\n"
     ]
    },
    {
     "data": {
      "image/png": "[encoded data removed]",
      "text/plain": [
       "<Figure size 432x288 with 1 Axes>"
      ]
     },
     "metadata": {},
     "output_type": "display_data"
    }
   ],
   "source": [
    "cluster = DBSCAN(eps = 1,\n",
    "                 min_samples = 5)\n",
    "\n",
    "cluster.fit(df)\n",
    "\n",
    "labels = cluster.labels_\n",
    "\n",
    "print(cluster.labels_)\n",
    "\n",
    "plt.title(\"Plotting X1 and X2 (scaled), Colored by Cluster\")\n",
    "plt.scatter(df['x1'], df['x2'], c = cluster.labels_);"
   ]
  },
  {
   "cell_type": "code",
   "execution_count": 19,
   "metadata": {},
   "outputs": [
    {
     "ename": "ValueError",
     "evalue": "Number of labels is 1. Valid values are 2 to n_samples - 1 (inclusive)",
     "output_type": "error",
     "traceback": [
      "\u001b[0;31m---------------------------------------------------------------------------\u001b[0m",
      "\u001b[0;31mValueError\u001b[0m                                Traceback (most recent call last)",
      "\u001b[0;32m<ipython-input-19-824fd2707c84>\u001b[0m in \u001b[0;36m<module>\u001b[0;34m()\u001b[0m\n\u001b[0;32m----> 1\u001b[0;31m \u001b[0mprint\u001b[0m\u001b[0;34m(\u001b[0m\u001b[0;34m'Silhouette Coefficient: %0.6f'\u001b[0m \u001b[0;34m%\u001b[0m \u001b[0mmetrics\u001b[0m\u001b[0;34m.\u001b[0m\u001b[0msilhouette_score\u001b[0m\u001b[0;34m(\u001b[0m\u001b[0mdf\u001b[0m\u001b[0;34m,\u001b[0m \u001b[0mlabels\u001b[0m\u001b[0;34m)\u001b[0m\u001b[0;34m)\u001b[0m\u001b[0;34m\u001b[0m\u001b[0m\n\u001b[0m",
      "\u001b[0;32m~/anaconda3/lib/python3.5/site-packages/sklearn/metrics/cluster/unsupervised.py\u001b[0m in \u001b[0;36msilhouette_score\u001b[0;34m(X, labels, metric, sample_size, random_state, **kwds)\u001b[0m\n\u001b[1;32m     99\u001b[0m         \u001b[0;32melse\u001b[0m\u001b[0;34m:\u001b[0m\u001b[0;34m\u001b[0m\u001b[0m\n\u001b[1;32m    100\u001b[0m             \u001b[0mX\u001b[0m\u001b[0;34m,\u001b[0m \u001b[0mlabels\u001b[0m \u001b[0;34m=\u001b[0m \u001b[0mX\u001b[0m\u001b[0;34m[\u001b[0m\u001b[0mindices\u001b[0m\u001b[0;34m]\u001b[0m\u001b[0;34m,\u001b[0m \u001b[0mlabels\u001b[0m\u001b[0;34m[\u001b[0m\u001b[0mindices\u001b[0m\u001b[0;34m]\u001b[0m\u001b[0;34m\u001b[0m\u001b[0m\n\u001b[0;32m--> 101\u001b[0;31m     \u001b[0;32mreturn\u001b[0m \u001b[0mnp\u001b[0m\u001b[0;34m.\u001b[0m\u001b[0mmean\u001b[0m\u001b[0;34m(\u001b[0m\u001b[0msilhouette_samples\u001b[0m\u001b[0;34m(\u001b[0m\u001b[0mX\u001b[0m\u001b[0;34m,\u001b[0m \u001b[0mlabels\u001b[0m\u001b[0;34m,\u001b[0m \u001b[0mmetric\u001b[0m\u001b[0;34m=\u001b[0m\u001b[0mmetric\u001b[0m\u001b[0;34m,\u001b[0m \u001b[0;34m**\u001b[0m\u001b[0mkwds\u001b[0m\u001b[0;34m)\u001b[0m\u001b[0;34m)\u001b[0m\u001b[0;34m\u001b[0m\u001b[0m\n\u001b[0m\u001b[1;32m    102\u001b[0m \u001b[0;34m\u001b[0m\u001b[0m\n\u001b[1;32m    103\u001b[0m \u001b[0;34m\u001b[0m\u001b[0m\n",
      "\u001b[0;32m~/anaconda3/lib/python3.5/site-packages/sklearn/metrics/cluster/unsupervised.py\u001b[0m in \u001b[0;36msilhouette_samples\u001b[0;34m(X, labels, metric, **kwds)\u001b[0m\n\u001b[1;32m    165\u001b[0m     \u001b[0mle\u001b[0m \u001b[0;34m=\u001b[0m \u001b[0mLabelEncoder\u001b[0m\u001b[0;34m(\u001b[0m\u001b[0;34m)\u001b[0m\u001b[0;34m\u001b[0m\u001b[0m\n\u001b[1;32m    166\u001b[0m     \u001b[0mlabels\u001b[0m \u001b[0;34m=\u001b[0m \u001b[0mle\u001b[0m\u001b[0;34m.\u001b[0m\u001b[0mfit_transform\u001b[0m\u001b[0;34m(\u001b[0m\u001b[0mlabels\u001b[0m\u001b[0;34m)\u001b[0m\u001b[0;34m\u001b[0m\u001b[0m\n\u001b[0;32m--> 167\u001b[0;31m     \u001b[0mcheck_number_of_labels\u001b[0m\u001b[0;34m(\u001b[0m\u001b[0mlen\u001b[0m\u001b[0;34m(\u001b[0m\u001b[0mle\u001b[0m\u001b[0;34m.\u001b[0m\u001b[0mclasses_\u001b[0m\u001b[0;34m)\u001b[0m\u001b[0;34m,\u001b[0m \u001b[0mX\u001b[0m\u001b[0;34m.\u001b[0m\u001b[0mshape\u001b[0m\u001b[0;34m[\u001b[0m\u001b[0;36m0\u001b[0m\u001b[0;34m]\u001b[0m\u001b[0;34m)\u001b[0m\u001b[0;34m\u001b[0m\u001b[0m\n\u001b[0m\u001b[1;32m    168\u001b[0m \u001b[0;34m\u001b[0m\u001b[0m\n\u001b[1;32m    169\u001b[0m     \u001b[0mdistances\u001b[0m \u001b[0;34m=\u001b[0m \u001b[0mpairwise_distances\u001b[0m\u001b[0;34m(\u001b[0m\u001b[0mX\u001b[0m\u001b[0;34m,\u001b[0m \u001b[0mmetric\u001b[0m\u001b[0;34m=\u001b[0m\u001b[0mmetric\u001b[0m\u001b[0;34m,\u001b[0m \u001b[0;34m**\u001b[0m\u001b[0mkwds\u001b[0m\u001b[0;34m)\u001b[0m\u001b[0;34m\u001b[0m\u001b[0m\n",
      "\u001b[0;32m~/anaconda3/lib/python3.5/site-packages/sklearn/metrics/cluster/unsupervised.py\u001b[0m in \u001b[0;36mcheck_number_of_labels\u001b[0;34m(n_labels, n_samples)\u001b[0m\n\u001b[1;32m     17\u001b[0m     \u001b[0;32mif\u001b[0m \u001b[0;32mnot\u001b[0m \u001b[0;36m1\u001b[0m \u001b[0;34m<\u001b[0m \u001b[0mn_labels\u001b[0m \u001b[0;34m<\u001b[0m \u001b[0mn_samples\u001b[0m\u001b[0;34m:\u001b[0m\u001b[0;34m\u001b[0m\u001b[0m\n\u001b[1;32m     18\u001b[0m         raise ValueError(\"Number of labels is %d. Valid values are 2 \"\n\u001b[0;32m---> 19\u001b[0;31m                          \"to n_samples - 1 (inclusive)\" % n_labels)\n\u001b[0m\u001b[1;32m     20\u001b[0m \u001b[0;34m\u001b[0m\u001b[0m\n\u001b[1;32m     21\u001b[0m \u001b[0;34m\u001b[0m\u001b[0m\n",
      "\u001b[0;31mValueError\u001b[0m: Number of labels is 1. Valid values are 2 to n_samples - 1 (inclusive)"
     ]
    }
   ],
   "source": [
    "print('Silhouette Coefficient: %0.6f' % metrics.silhouette_score(df, labels))"
   ]
  },
  {
   "cell_type": "code",
   "execution_count": 20,
   "metadata": {
    "collapsed": true
   },
   "outputs": [],
   "source": [
    "## Ahh! If all of our values are in one cluster, we cannot calculate silhouette score!"
   ]
  },
  {
   "cell_type": "markdown",
   "metadata": {},
   "source": [
    "#### Let's try DBSCAN on our data with `eps = 1` and `min_samples = 20`."
   ]
  },
  {
   "cell_type": "code",
   "execution_count": 21,
   "metadata": {
    "scrolled": false
   },
   "outputs": [
    {
     "name": "stdout",
     "output_type": "stream",
     "text": [
      "[ 0 -1  0  0  0  0 -1  0  0  0  0  0  0 -1  0  0  0  0  0  0  0  0  0  0\n",
      "  0  0  0  0  0  0  0  0  0  0  0  0  0  0  0  0  0  0  0  0  0  0  0  0\n",
      "  0  0 -1 -1  0  0  0  0  0  0  0  0  0  0  0 -1  0  0  0  0  0  0  0  0\n",
      "  0 -1  0  0 -1  0  0  0  0  0  0  0  0  0  0  0  0  0  0  0  0  0  0 -1\n",
      "  0  0  0 -1]\n"
     ]
    },
    {
     "data": {
      "image/png": "[encoded data removed]",
      "text/plain": [
       "<Figure size 432x288 with 1 Axes>"
      ]
     },
     "metadata": {},
     "output_type": "display_data"
    }
   ],
   "source": [
    "cluster = DBSCAN(eps = 1,\n",
    "                 min_samples = 20)\n",
    "\n",
    "cluster.fit(df)\n",
    "\n",
    "labels = cluster.labels_\n",
    "\n",
    "print(cluster.labels_)\n",
    "\n",
    "plt.title(\"Plotting X1 and X2 (scaled), Colored by Cluster\")\n",
    "plt.scatter(df['x1'], df['x2'], c = cluster.labels_);"
   ]
  },
  {
   "cell_type": "code",
   "execution_count": 22,
   "metadata": {},
   "outputs": [
    {
     "name": "stdout",
     "output_type": "stream",
     "text": [
      "Silhouette Coefficient: 0.350140\n"
     ]
    }
   ],
   "source": [
    "print('Silhouette Coefficient: %0.6f' % metrics.silhouette_score(df, labels))"
   ]
  },
  {
   "cell_type": "markdown",
   "metadata": {},
   "source": [
    "### Dataset 2: Smiley/Frowny"
   ]
  },
  {
   "cell_type": "code",
   "execution_count": 23,
   "metadata": {},
   "outputs": [],
   "source": [
    "x1_1 = np.random.uniform(0, 50, 100)\n",
    "\n",
    "x1_2 = np.random.uniform(60, 110, 100)\n",
    "\n",
    "x2_1 = (x1_1 - 25)  ** 2 + np.random.normal(0, 10, 1)\n",
    "\n",
    "x2_2 = -1 * (x1_2 - 85) ** 2 + np.random.normal(0, 10, 1)"
   ]
  },
  {
   "cell_type": "code",
   "execution_count": 24,
   "metadata": {},
   "outputs": [],
   "source": [
    "x1 = np.append(x1_1, x1_2)\n",
    "    \n",
    "x2 = np.append(x2_1, x2_2)"
   ]
  },
  {
   "cell_type": "code",
   "execution_count": 25,
   "metadata": {},
   "outputs": [],
   "source": [
    "df = pd.DataFrame()\n",
    "\n",
    "df = df.from_dict({'x1': x1,\n",
    "                   'x2': x2})"
   ]
  },
  {
   "cell_type": "code",
   "execution_count": 26,
   "metadata": {},
   "outputs": [
    {
     "data": {
      "text/html": [
       "<div>\n",
       "<style scoped>\n",
       "    .dataframe tbody tr th:only-of-type {\n",
       "        vertical-align: middle;\n",
       "    }\n",
       "\n",
       "    .dataframe tbody tr th {\n",
       "        vertical-align: top;\n",
       "    }\n",
       "\n",
       "    .dataframe thead th {\n",
       "        text-align: right;\n",
       "    }\n",
       "</style>\n",
       "<table border=\"1\" class=\"dataframe\">\n",
       "  <thead>\n",
       "    <tr style=\"text-align: right;\">\n",
       "      <th></th>\n",
       "      <th>x1</th>\n",
       "      <th>x2</th>\n",
       "    </tr>\n",
       "  </thead>\n",
       "  <tbody>\n",
       "    <tr>\n",
       "      <th>195</th>\n",
       "      <td>61.791558</td>\n",
       "      <td>-538.051251</td>\n",
       "    </tr>\n",
       "    <tr>\n",
       "      <th>196</th>\n",
       "      <td>61.006860</td>\n",
       "      <td>-575.090278</td>\n",
       "    </tr>\n",
       "    <tr>\n",
       "      <th>197</th>\n",
       "      <td>81.165054</td>\n",
       "      <td>-14.126303</td>\n",
       "    </tr>\n",
       "    <tr>\n",
       "      <th>198</th>\n",
       "      <td>65.895501</td>\n",
       "      <td>-364.401381</td>\n",
       "    </tr>\n",
       "    <tr>\n",
       "      <th>199</th>\n",
       "      <td>73.686011</td>\n",
       "      <td>-127.425831</td>\n",
       "    </tr>\n",
       "  </tbody>\n",
       "</table>\n",
       "</div>"
      ],
      "text/plain": [
       "            x1          x2\n",
       "195  61.791558 -538.051251\n",
       "196  61.006860 -575.090278\n",
       "197  81.165054  -14.126303\n",
       "198  65.895501 -364.401381\n",
       "199  73.686011 -127.425831"
      ]
     },
     "execution_count": 26,
     "metadata": {},
     "output_type": "execute_result"
    }
   ],
   "source": [
    "df.tail()"
   ]
  },
  {
   "cell_type": "code",
   "execution_count": 27,
   "metadata": {
    "collapsed": true
   },
   "outputs": [],
   "source": [
    "df = pd.DataFrame(StandardScaler().fit_transform(df), columns = ['x1', 'x2'])"
   ]
  },
  {
   "cell_type": "code",
   "execution_count": 28,
   "metadata": {
    "scrolled": true
   },
   "outputs": [
    {
     "data": {
      "image/png": "[encoded data removed]",
      "text/plain": [
       "<Figure size 432x288 with 1 Axes>"
      ]
     },
     "metadata": {},
     "output_type": "display_data"
    }
   ],
   "source": [
    "plt.title(\"Plotting X1 and X2 (scaled)\")\n",
    "plt.xlim(-2,2)\n",
    "plt.ylim(-2, 2)\n",
    "plt.scatter(df['x1'], df['x2']);"
   ]
  },
  {
   "cell_type": "markdown",
   "metadata": {},
   "source": [
    "#### Let's try DBSCAN on our data with `eps = 0.2` and `min_samples = 5`."
   ]
  },
  {
   "cell_type": "code",
   "execution_count": 29,
   "metadata": {
    "scrolled": false
   },
   "outputs": [
    {
     "name": "stdout",
     "output_type": "stream",
     "text": [
      "[ 0  0  0  0  0  0  0  0  0  0  0  0  0  0  0  0  0  0  0  0  1  0 -1  0\n",
      "  0  0 -1  0  1  0  0  0  0  0  0  0  0  0  0  1  0  1  0  0  0  0  0  0\n",
      "  0  0  0  0  0  0  0  0  0  0  0  0  0 -1  0  0  0  0  0  0  0  0 -1  0\n",
      "  0  0  0  0  1  0  0  0  0  0  1  0  0  0  0  0  0  1  0  0  0  0  0  0\n",
      "  0  0  1  1  2  2  2  2  2  2  2  2  2 -1  2  2  3  2  2  2  3  2  2  2\n",
      "  2  2  2  2  2  2  2  2  2  2  2  2  2  2  2  2  2 -1  2  2  2  2  2  2\n",
      "  2 -1  2  2  2  2  2  2  2  2  2  2  2  2  2  2  2  3  2  2  2  2  2  2\n",
      "  2  2  2  2  2  2  2 -1  2  2  2  2  2  2  2 -1  2  2  2  2  2  2  3  2\n",
      "  2  2  2  3  3  2  2  2]\n"
     ]
    },
    {
     "data": {
      "image/png": "[encoded data removed]",
      "text/plain": [
       "<Figure size 432x288 with 1 Axes>"
      ]
     },
     "metadata": {},
     "output_type": "display_data"
    }
   ],
   "source": [
    "cluster = DBSCAN(eps = 0.2,\n",
    "                 min_samples = 5)\n",
    "\n",
    "cluster.fit(df)\n",
    "\n",
    "labels = cluster.labels_\n",
    "\n",
    "print(cluster.labels_)\n",
    "\n",
    "plt.title(\"Plotting X1 and X2 (scaled), Colored by Cluster\")\n",
    "plt.scatter(df['x1'], df['x2'], c = cluster.labels_);"
   ]
  },
  {
   "cell_type": "code",
   "execution_count": 30,
   "metadata": {},
   "outputs": [
    {
     "name": "stdout",
     "output_type": "stream",
     "text": [
      "Silhouette Coefficient: 0.390082\n"
     ]
    }
   ],
   "source": [
    "print('Silhouette Coefficient: %0.6f' % metrics.silhouette_score(df, labels))"
   ]
  },
  {
   "cell_type": "markdown",
   "metadata": {},
   "source": [
    "#### By only tweaking `epsilon`, can you get the above to return exactly two clusters? (The two clusters we would expect?)"
   ]
  },
  {
   "cell_type": "code",
   "execution_count": 31,
   "metadata": {},
   "outputs": [
    {
     "name": "stdout",
     "output_type": "stream",
     "text": [
      "[0 0 0 0 0 0 0 0 0 0 0 0 0 0 0 0 0 0 0 0 0 0 0 0 0 0 0 0 0 0 0 0 0 0 0 0 0\n",
      " 0 0 0 0 0 0 0 0 0 0 0 0 0 0 0 0 0 0 0 0 0 0 0 0 0 0 0 0 0 0 0 0 0 0 0 0 0\n",
      " 0 0 0 0 0 0 0 0 0 0 0 0 0 0 0 0 0 0 0 0 0 0 0 0 0 0 1 1 1 1 1 1 1 1 1 1 1\n",
      " 1 1 1 1 1 1 1 1 1 1 1 1 1 1 1 1 1 1 1 1 1 1 1 1 1 1 1 1 1 1 1 1 1 1 1 1 1\n",
      " 1 1 1 1 1 1 1 1 1 1 1 1 1 1 1 1 1 1 1 1 1 1 1 1 1 1 1 1 1 1 1 1 1 1 1 1 1\n",
      " 1 1 1 1 1 1 1 1 1 1 1 1 1 1 1]\n"
     ]
    },
    {
     "data": {
      "image/png": "[encoded data removed]",
      "text/plain": [
       "<Figure size 432x288 with 1 Axes>"
      ]
     },
     "metadata": {},
     "output_type": "display_data"
    }
   ],
   "source": [
    "cluster = DBSCAN(eps = 1,\n",
    "                 min_samples = 5)\n",
    "\n",
    "cluster.fit(df)\n",
    "\n",
    "labels = cluster.labels_\n",
    "\n",
    "print(cluster.labels_)\n",
    "\n",
    "plt.title(\"Plotting X1 and X2 (scaled), Colored by Cluster\")\n",
    "plt.scatter(df['x1'], df['x2'], c = cluster.labels_);"
   ]
  },
  {
   "cell_type": "code",
   "execution_count": 32,
   "metadata": {},
   "outputs": [
    {
     "name": "stdout",
     "output_type": "stream",
     "text": [
      "Silhouette Coefficient: 0.617735\n"
     ]
    }
   ],
   "source": [
    "print('Silhouette Coefficient: %0.6f' % metrics.silhouette_score(df, labels))"
   ]
  },
  {
   "cell_type": "markdown",
   "metadata": {},
   "source": [
    "#### By only tweaking `min_samples`, can you get the above to return exactly two clusters? (The two clusters we would expect?) Be sure to reset `eps` to `0.2`."
   ]
  },
  {
   "cell_type": "code",
   "execution_count": 33,
   "metadata": {},
   "outputs": [
    {
     "name": "stdout",
     "output_type": "stream",
     "text": [
      "[0 0 0 0 0 0 0 0 0 0 0 0 0 0 0 0 0 0 0 0 1 0 2 0 0 0 2 0 1 0 0 0 0 0 0 0 0\n",
      " 0 0 1 0 1 0 0 0 0 0 0 0 0 0 0 0 0 0 0 0 0 0 0 0 2 0 0 0 0 0 0 0 0 2 0 0 0\n",
      " 0 0 1 0 0 0 0 0 1 0 0 0 0 0 0 1 0 0 0 0 0 0 0 0 1 1 3 3 3 3 3 3 3 3 3 3 3\n",
      " 3 4 3 3 3 4 3 3 3 3 3 3 3 3 3 3 3 3 3 3 3 3 3 3 3 3 3 3 3 3 3 3 3 3 4 3 3\n",
      " 3 3 3 3 3 3 3 3 3 3 3 3 3 4 3 3 3 3 3 3 3 3 3 3 3 3 3 4 3 3 3 3 3 3 3 3 3\n",
      " 3 3 3 3 3 4 3 3 3 3 4 4 3 3 3]\n"
     ]
    },
    {
     "data": {
      "image/png": "[encoded data removed]",
      "text/plain": [
       "<Figure size 432x288 with 1 Axes>"
      ]
     },
     "metadata": {},
     "output_type": "display_data"
    }
   ],
   "source": [
    "cluster = DBSCAN(eps = 0.2,\n",
    "                 min_samples = 1)\n",
    "\n",
    "cluster.fit(df)\n",
    "\n",
    "labels = cluster.labels_\n",
    "\n",
    "print(cluster.labels_)\n",
    "\n",
    "plt.title(\"Plotting X1 and X2 (scaled), Colored by Cluster\")\n",
    "plt.scatter(df['x1'], df['x2'], c = cluster.labels_);"
   ]
  },
  {
   "cell_type": "code",
   "execution_count": 34,
   "metadata": {},
   "outputs": [
    {
     "name": "stdout",
     "output_type": "stream",
     "text": [
      "Not min_samples = 0\n",
      "Not min_samples = 1\n",
      "Not min_samples = 2\n",
      "Not min_samples = 3\n",
      "Not min_samples = 4\n",
      "Not min_samples = 5\n",
      "Not min_samples = 6\n",
      "Not min_samples = 7\n",
      "Not min_samples = 8\n",
      "Not min_samples = 9\n",
      "Not min_samples = 10\n",
      "Not min_samples = 11\n",
      "Not min_samples = 12\n",
      "Not min_samples = 13\n",
      "Not min_samples = 14\n",
      "Not min_samples = 15\n",
      "Not min_samples = 16\n",
      "Not min_samples = 17\n",
      "Not min_samples = 18\n",
      "Not min_samples = 19\n",
      "Not min_samples = 20\n",
      "Not min_samples = 21\n",
      "Not min_samples = 22\n",
      "Not min_samples = 23\n",
      "Not min_samples = 24\n",
      "Not min_samples = 25\n",
      "Not min_samples = 26\n",
      "Not min_samples = 27\n",
      "Not min_samples = 28\n",
      "Not min_samples = 29\n",
      "Not min_samples = 30\n",
      "Not min_samples = 31\n",
      "Not min_samples = 32\n",
      "Not min_samples = 33\n",
      "Not min_samples = 34\n",
      "Not min_samples = 35\n",
      "Not min_samples = 36\n",
      "Not min_samples = 37\n",
      "Not min_samples = 38\n",
      "Not min_samples = 39\n",
      "Not min_samples = 40\n",
      "Not min_samples = 41\n",
      "Not min_samples = 42\n",
      "Not min_samples = 43\n",
      "Not min_samples = 44\n",
      "Not min_samples = 45\n",
      "Not min_samples = 46\n",
      "Not min_samples = 47\n",
      "Not min_samples = 48\n",
      "Not min_samples = 49\n",
      "Not min_samples = 50\n",
      "Not min_samples = 51\n",
      "Not min_samples = 52\n",
      "Not min_samples = 53\n",
      "Not min_samples = 54\n",
      "Not min_samples = 55\n",
      "Not min_samples = 56\n",
      "Not min_samples = 57\n",
      "Not min_samples = 58\n",
      "Not min_samples = 59\n",
      "Not min_samples = 60\n",
      "Not min_samples = 61\n",
      "Not min_samples = 62\n",
      "Not min_samples = 63\n",
      "Not min_samples = 64\n",
      "Not min_samples = 65\n",
      "Not min_samples = 66\n",
      "Not min_samples = 67\n",
      "Not min_samples = 68\n",
      "Not min_samples = 69\n",
      "Not min_samples = 70\n",
      "Not min_samples = 71\n",
      "Not min_samples = 72\n",
      "Not min_samples = 73\n",
      "Not min_samples = 74\n",
      "Not min_samples = 75\n",
      "Not min_samples = 76\n",
      "Not min_samples = 77\n",
      "Not min_samples = 78\n",
      "Not min_samples = 79\n",
      "Not min_samples = 80\n",
      "Not min_samples = 81\n",
      "Not min_samples = 82\n",
      "Not min_samples = 83\n",
      "Not min_samples = 84\n",
      "Not min_samples = 85\n",
      "Not min_samples = 86\n",
      "Not min_samples = 87\n",
      "Not min_samples = 88\n",
      "Not min_samples = 89\n",
      "Not min_samples = 90\n",
      "Not min_samples = 91\n",
      "Not min_samples = 92\n",
      "Not min_samples = 93\n",
      "Not min_samples = 94\n",
      "Not min_samples = 95\n",
      "Not min_samples = 96\n",
      "Not min_samples = 97\n",
      "Not min_samples = 98\n",
      "Not min_samples = 99\n",
      "Not min_samples = 100\n",
      "Not min_samples = 101\n",
      "Not min_samples = 102\n",
      "Not min_samples = 103\n",
      "Not min_samples = 104\n",
      "Not min_samples = 105\n",
      "Not min_samples = 106\n",
      "Not min_samples = 107\n",
      "Not min_samples = 108\n",
      "Not min_samples = 109\n",
      "Not min_samples = 110\n",
      "Not min_samples = 111\n",
      "Not min_samples = 112\n",
      "Not min_samples = 113\n",
      "Not min_samples = 114\n",
      "Not min_samples = 115\n",
      "Not min_samples = 116\n",
      "Not min_samples = 117\n",
      "Not min_samples = 118\n",
      "Not min_samples = 119\n",
      "Not min_samples = 120\n",
      "Not min_samples = 121\n",
      "Not min_samples = 122\n",
      "Not min_samples = 123\n",
      "Not min_samples = 124\n",
      "Not min_samples = 125\n",
      "Not min_samples = 126\n",
      "Not min_samples = 127\n",
      "Not min_samples = 128\n",
      "Not min_samples = 129\n",
      "Not min_samples = 130\n",
      "Not min_samples = 131\n",
      "Not min_samples = 132\n",
      "Not min_samples = 133\n",
      "Not min_samples = 134\n",
      "Not min_samples = 135\n",
      "Not min_samples = 136\n",
      "Not min_samples = 137\n",
      "Not min_samples = 138\n",
      "Not min_samples = 139\n",
      "Not min_samples = 140\n",
      "Not min_samples = 141\n",
      "Not min_samples = 142\n",
      "Not min_samples = 143\n",
      "Not min_samples = 144\n",
      "Not min_samples = 145\n",
      "Not min_samples = 146\n",
      "Not min_samples = 147\n",
      "Not min_samples = 148\n",
      "Not min_samples = 149\n",
      "Not min_samples = 150\n",
      "Not min_samples = 151\n",
      "Not min_samples = 152\n",
      "Not min_samples = 153\n",
      "Not min_samples = 154\n",
      "Not min_samples = 155\n",
      "Not min_samples = 156\n",
      "Not min_samples = 157\n",
      "Not min_samples = 158\n",
      "Not min_samples = 159\n",
      "Not min_samples = 160\n",
      "Not min_samples = 161\n",
      "Not min_samples = 162\n",
      "Not min_samples = 163\n",
      "Not min_samples = 164\n",
      "Not min_samples = 165\n",
      "Not min_samples = 166\n",
      "Not min_samples = 167\n",
      "Not min_samples = 168\n",
      "Not min_samples = 169\n",
      "Not min_samples = 170\n",
      "Not min_samples = 171\n",
      "Not min_samples = 172\n",
      "Not min_samples = 173\n",
      "Not min_samples = 174\n",
      "Not min_samples = 175\n",
      "Not min_samples = 176\n",
      "Not min_samples = 177\n",
      "Not min_samples = 178\n",
      "Not min_samples = 179\n",
      "Not min_samples = 180\n",
      "Not min_samples = 181\n",
      "Not min_samples = 182\n",
      "Not min_samples = 183\n",
      "Not min_samples = 184\n",
      "Not min_samples = 185\n",
      "Not min_samples = 186\n",
      "Not min_samples = 187\n",
      "Not min_samples = 188\n",
      "Not min_samples = 189\n",
      "Not min_samples = 190\n",
      "Not min_samples = 191\n",
      "Not min_samples = 192\n",
      "Not min_samples = 193\n",
      "Not min_samples = 194\n",
      "Not min_samples = 195\n",
      "Not min_samples = 196\n",
      "Not min_samples = 197\n",
      "Not min_samples = 198\n",
      "Not min_samples = 199\n"
     ]
    }
   ],
   "source": [
    "for i in range(0,200):\n",
    "    cluster = DBSCAN(eps = 0.2, min_samples = i)\n",
    "    cluster.fit(df)\n",
    "    labels = cluster.labels_\n",
    "    if len(set(cluster.labels_)) == 1 and cluster.labels_[i] != -1: ## Remember that -1 means an outlier!\n",
    "        print(\"Yes! Use min_samples = \" + str(i))\n",
    "        break\n",
    "    else:\n",
    "        print(\"Not min_samples = \" + str(i))"
   ]
  },
  {
   "cell_type": "markdown",
   "metadata": {},
   "source": [
    "### Let's try HDBSCAN on this data!"
   ]
  },
  {
   "cell_type": "code",
   "execution_count": 35,
   "metadata": {
    "collapsed": true
   },
   "outputs": [],
   "source": [
    "import hdbscan"
   ]
  },
  {
   "cell_type": "code",
   "execution_count": 36,
   "metadata": {
    "collapsed": true
   },
   "outputs": [],
   "source": [
    "h_cluster = hdbscan.HDBSCAN(min_cluster_size = 5,      # analogous to min_samples\n",
    "                            gen_min_span_tree = True)  # saves our dendrogram for later!"
   ]
  },
  {
   "cell_type": "code",
   "execution_count": 37,
   "metadata": {},
   "outputs": [
    {
     "data": {
      "text/plain": [
       "HDBSCAN(algorithm='best', allow_single_cluster=False, alpha=1.0,\n",
       "    approx_min_span_tree=True, cluster_selection_method='eom',\n",
       "    core_dist_n_jobs=4, gen_min_span_tree=True, leaf_size=40,\n",
       "    match_reference_implementation=False, memory=Memory(cachedir=None),\n",
       "    metric='euclidean', min_cluster_size=5, min_samples=None, p=None,\n",
       "    prediction_data=False)"
      ]
     },
     "execution_count": 37,
     "metadata": {},
     "output_type": "execute_result"
    }
   ],
   "source": [
    "h_cluster.fit(df)"
   ]
  },
  {
   "cell_type": "code",
   "execution_count": 38,
   "metadata": {},
   "outputs": [
    {
     "name": "stdout",
     "output_type": "stream",
     "text": [
      "[14  2 -1  6 -1 14 -1 -1 -1  2 -1 14  2  8  2 -1  6  8 14 13  0  2  0 14\n",
      " 14 14  0 14  0 14  6 14 -1  2 -1 14 -1 14 -1  0 -1  0  6 14 14 13  2  2\n",
      " 14 14  8 -1 14 -1  8  6  8 14 14  6  6 -1 13 -1 -1 -1 -1 -1 14 14 -1  2\n",
      " -1 14  2 -1  0 14 13 -1 14  2  0  6 -1  2 14 13 14  0 -1 14 -1 14 14 13\n",
      "  8 14  0  0 -1 12 11  3  3 12 12 11 11 -1 -1  9  1  3  4 10 -1  5  4 10\n",
      " 11 -1  5 12 12 12 11 10 10  7 11 11 -1 12  5 -1 10 -1  3 -1  9  7 -1  9\n",
      " -1  1 12 -1  9 -1 12 11  4 12 -1  4  5  9 12 12 12  1 12  5 -1 12  5  3\n",
      "  5  7  4 -1 -1 -1  4  1 -1  9  7 -1 10 12  3 -1  7  9  4  7 12 -1  1  3\n",
      "  7  7 12  1 -1 12 -1 -1]\n"
     ]
    }
   ],
   "source": [
    "labels = h_cluster.labels_\n",
    "\n",
    "print(h_cluster.labels_)"
   ]
  },
  {
   "cell_type": "code",
   "execution_count": 39,
   "metadata": {},
   "outputs": [
    {
     "data": {
      "image/png": "[encoded data removed]",
      "text/plain": [
       "<Figure size 432x288 with 1 Axes>"
      ]
     },
     "metadata": {},
     "output_type": "display_data"
    }
   ],
   "source": [
    "plt.title(\"Plotting X1 and X2 (scaled), Colored by HDBSCAN Cluster\")\n",
    "plt.scatter(df['x1'], df['x2'], c = h_cluster.labels_);"
   ]
  },
  {
   "cell_type": "code",
   "execution_count": 40,
   "metadata": {},
   "outputs": [
    {
     "name": "stdout",
     "output_type": "stream",
     "text": [
      "[39 14 10 32 22 34  7  8 34 -1 33 39 13  9  3  7 33  9 39 23  2 14  0 34\n",
      " 40 39  0 38  2 41 32 39  3 -1  8 37 10 39 10  1  7  2 -1 40 38 23 14 -1\n",
      " 38 -1  9  7 37 -1  9 32  9 -1 38 32 32  0 23 22 22  8 10 -1 41 39  0 14\n",
      " 10 34 13 33  2 39 23 -1 39 13  1 33  8 14 39 23 38  1  7 37  8 -1 41 23\n",
      "  9 40  1  1  6 35 29 12 11 36 35 29 29  6 15 24  4 12 15 26 -1 20 17 26\n",
      " 30 15 20 31 31 36 30 26 26 18 28 29 -1 35 20 28 27  6 12 28 24 18 -1 25\n",
      " -1  5 36 27 25  6 31 29 16 36 21 16 20 25 35 35 36  5 35 20 21 31 21 11\n",
      " 20 17 16 -1 21 19 16  5 30 24 18 27 26 -1 11 -1 17 24 16 19 31 -1  4 11\n",
      " 19 18 -1  4  4 -1 -1 21]\n"
     ]
    },
    {
     "data": {
      "image/png": "[encoded data removed]",
      "text/plain": [
       "<Figure size 432x288 with 1 Axes>"
      ]
     },
     "metadata": {},
     "output_type": "display_data"
    }
   ],
   "source": [
    "h_cluster = hdbscan.HDBSCAN(min_cluster_size = 2,      \n",
    "                            gen_min_span_tree = True)\n",
    "\n",
    "h_cluster.fit(df)\n",
    "\n",
    "labels = h_cluster.labels_\n",
    "\n",
    "print(h_cluster.labels_)\n",
    "\n",
    "plt.title(\"Plotting X1 and X2 (scaled), Colored by HDBSCAN Cluster\")\n",
    "plt.scatter(df['x1'], df['x2'], c = h_cluster.labels_);"
   ]
  },
  {
   "cell_type": "code",
   "execution_count": 41,
   "metadata": {},
   "outputs": [
    {
     "name": "stdout",
     "output_type": "stream",
     "text": [
      "[ 0  0  0  0  0  0  0  0  0  0  0  0  0  0  0  0  0  0  0  0  0  0 -1  0\n",
      "  0  0 -1  0  0  0  0  0  0  0  0  0  0  0  0  0  0  0  0  0  0  0  0  0\n",
      "  0  0  0  0  0  0  0  0  0  0  0  0  0 -1  0  0  0  0  0  0  0  0 -1  0\n",
      "  0  0  0  0  0  0  0  0  0  0  0  0  0  0  0  0  0  0  0  0  0  0  0  0\n",
      "  0  0  0  0  1  1  1  1  1  1  1  1  1  1  1  1  1  1  1  1 -1  1  1  1\n",
      "  1  1  1  1  1  1  1  1  1  1  1  1  1  1  1  1  1  1  1  1  1  1  1  1\n",
      "  1  1  1  1  1  1  1  1  1  1  1  1  1  1  1  1  1  1  1  1  1  1  1  1\n",
      "  1  1  1  1  1  1  1  1  1  1  1  1  1  1  1 -1  1  1  1  1  1  1  1  1\n",
      "  1  1  1  1 -1  1  1  1]\n"
     ]
    },
    {
     "data": {
      "image/png": "[encoded data removed]",
      "text/plain": [
       "<Figure size 432x288 with 1 Axes>"
      ]
     },
     "metadata": {},
     "output_type": "display_data"
    }
   ],
   "source": [
    "h_cluster = hdbscan.HDBSCAN(min_cluster_size = 25,      \n",
    "                            gen_min_span_tree = True)\n",
    "\n",
    "h_cluster.fit(df)\n",
    "\n",
    "labels = h_cluster.labels_\n",
    "\n",
    "print(h_cluster.labels_)\n",
    "\n",
    "plt.title(\"Plotting X1 and X2 (scaled), Colored by HDBSCAN Cluster\")\n",
    "plt.scatter(df['x1'], df['x2'], c = h_cluster.labels_);"
   ]
  },
  {
   "cell_type": "code",
   "execution_count": 42,
   "metadata": {},
   "outputs": [
    {
     "name": "stdout",
     "output_type": "stream",
     "text": [
      "Not min_samples = 2\n",
      "Not min_samples = 3\n",
      "Not min_samples = 4\n",
      "Not min_samples = 5\n",
      "Not min_samples = 6\n",
      "Not min_samples = 7\n",
      "Not min_samples = 8\n",
      "Not min_samples = 9\n",
      "Not min_samples = 10\n",
      "Not min_samples = 11\n",
      "Not min_samples = 12\n",
      "Not min_samples = 13\n",
      "Not min_samples = 14\n",
      "Not min_samples = 15\n",
      "Not min_samples = 16\n",
      "Not min_samples = 17\n",
      "Not min_samples = 18\n",
      "Not min_samples = 19\n",
      "Not min_samples = 20\n",
      "Not min_samples = 21\n",
      "Not min_samples = 22\n",
      "Not min_samples = 23\n",
      "Not min_samples = 24\n",
      "Not min_samples = 25\n",
      "Not min_samples = 26\n",
      "Not min_samples = 27\n",
      "Not min_samples = 28\n",
      "Not min_samples = 29\n",
      "Not min_samples = 30\n",
      "Not min_samples = 31\n",
      "Not min_samples = 32\n",
      "Not min_samples = 33\n",
      "Not min_samples = 34\n",
      "Not min_samples = 35\n",
      "Not min_samples = 36\n",
      "Not min_samples = 37\n",
      "Not min_samples = 38\n",
      "Not min_samples = 39\n",
      "Not min_samples = 40\n",
      "Not min_samples = 41\n",
      "Not min_samples = 42\n",
      "Not min_samples = 43\n",
      "Not min_samples = 44\n",
      "Not min_samples = 45\n",
      "Not min_samples = 46\n",
      "Not min_samples = 47\n",
      "Not min_samples = 48\n",
      "Not min_samples = 49\n",
      "Not min_samples = 50\n",
      "Not min_samples = 51\n",
      "Not min_samples = 52\n",
      "Not min_samples = 53\n",
      "Not min_samples = 54\n",
      "Not min_samples = 55\n",
      "Not min_samples = 56\n",
      "Not min_samples = 57\n",
      "Not min_samples = 58\n",
      "Not min_samples = 59\n",
      "Not min_samples = 60\n",
      "Not min_samples = 61\n",
      "Not min_samples = 62\n",
      "Not min_samples = 63\n",
      "Not min_samples = 64\n",
      "Not min_samples = 65\n",
      "Not min_samples = 66\n",
      "Not min_samples = 67\n",
      "Not min_samples = 68\n",
      "Not min_samples = 69\n",
      "Not min_samples = 70\n",
      "Not min_samples = 71\n",
      "Not min_samples = 72\n",
      "Not min_samples = 73\n",
      "Not min_samples = 74\n",
      "Not min_samples = 75\n",
      "Not min_samples = 76\n",
      "Not min_samples = 77\n",
      "Not min_samples = 78\n",
      "Not min_samples = 79\n",
      "Not min_samples = 80\n",
      "Not min_samples = 81\n",
      "Not min_samples = 82\n",
      "Not min_samples = 83\n",
      "Not min_samples = 84\n",
      "Not min_samples = 85\n",
      "Not min_samples = 86\n",
      "Not min_samples = 87\n",
      "Not min_samples = 88\n",
      "Not min_samples = 89\n",
      "Not min_samples = 90\n",
      "Not min_samples = 91\n",
      "Not min_samples = 92\n",
      "Not min_samples = 93\n",
      "Not min_samples = 94\n",
      "Not min_samples = 95\n",
      "Not min_samples = 96\n",
      "Not min_samples = 97\n",
      "Not min_samples = 98\n",
      "Not min_samples = 99\n",
      "Not min_samples = 100\n",
      "Not min_samples = 101\n",
      "Not min_samples = 102\n",
      "Not min_samples = 103\n",
      "Not min_samples = 104\n",
      "Not min_samples = 105\n",
      "Not min_samples = 106\n",
      "Not min_samples = 107\n",
      "Not min_samples = 108\n",
      "Not min_samples = 109\n",
      "Not min_samples = 110\n",
      "Not min_samples = 111\n",
      "Not min_samples = 112\n",
      "Not min_samples = 113\n",
      "Not min_samples = 114\n",
      "Not min_samples = 115\n",
      "Not min_samples = 116\n",
      "Not min_samples = 117\n",
      "Not min_samples = 118\n",
      "Not min_samples = 119\n",
      "Not min_samples = 120\n",
      "Not min_samples = 121\n",
      "Not min_samples = 122\n",
      "Not min_samples = 123\n",
      "Not min_samples = 124\n",
      "Not min_samples = 125\n",
      "Not min_samples = 126\n",
      "Not min_samples = 127\n",
      "Not min_samples = 128\n",
      "Not min_samples = 129\n",
      "Not min_samples = 130\n",
      "Not min_samples = 131\n",
      "Not min_samples = 132\n",
      "Not min_samples = 133\n",
      "Not min_samples = 134\n",
      "Not min_samples = 135\n",
      "Not min_samples = 136\n",
      "Not min_samples = 137\n",
      "Not min_samples = 138\n",
      "Not min_samples = 139\n",
      "Not min_samples = 140\n",
      "Not min_samples = 141\n",
      "Not min_samples = 142\n",
      "Not min_samples = 143\n",
      "Not min_samples = 144\n",
      "Not min_samples = 145\n",
      "Not min_samples = 146\n",
      "Not min_samples = 147\n",
      "Not min_samples = 148\n",
      "Not min_samples = 149\n",
      "Not min_samples = 150\n",
      "Not min_samples = 151\n",
      "Not min_samples = 152\n",
      "Not min_samples = 153\n",
      "Not min_samples = 154\n",
      "Not min_samples = 155\n",
      "Not min_samples = 156\n",
      "Not min_samples = 157\n",
      "Not min_samples = 158\n",
      "Not min_samples = 159\n",
      "Not min_samples = 160\n",
      "Not min_samples = 161\n",
      "Not min_samples = 162\n",
      "Not min_samples = 163\n",
      "Not min_samples = 164\n",
      "Not min_samples = 165\n",
      "Not min_samples = 166\n",
      "Not min_samples = 167\n",
      "Not min_samples = 168\n",
      "Not min_samples = 169\n",
      "Not min_samples = 170\n",
      "Not min_samples = 171\n",
      "Not min_samples = 172\n",
      "Not min_samples = 173\n",
      "Not min_samples = 174\n",
      "Not min_samples = 175\n",
      "Not min_samples = 176\n",
      "Not min_samples = 177\n",
      "Not min_samples = 178\n",
      "Not min_samples = 179\n",
      "Not min_samples = 180\n",
      "Not min_samples = 181\n",
      "Not min_samples = 182\n",
      "Not min_samples = 183\n",
      "Not min_samples = 184\n",
      "Not min_samples = 185\n",
      "Not min_samples = 186\n",
      "Not min_samples = 187\n",
      "Not min_samples = 188\n",
      "Not min_samples = 189\n",
      "Not min_samples = 190\n",
      "Not min_samples = 191\n",
      "Not min_samples = 192\n",
      "Not min_samples = 193\n",
      "Not min_samples = 194\n",
      "Not min_samples = 195\n",
      "Not min_samples = 196\n",
      "Not min_samples = 197\n",
      "Not min_samples = 198\n",
      "Not min_samples = 199\n"
     ]
    }
   ],
   "source": [
    "for i in range(2,200):\n",
    "    cluster = hdbscan.HDBSCAN(min_cluster_size = i, gen_min_span_tree = True)\n",
    "    cluster.fit(df)\n",
    "    labels = cluster.labels_\n",
    "    if len(set(cluster.labels_)) == 1 and cluster.labels_[i] != -1: ## Remember that -1 means an outlier!\n",
    "        print(\"Yes! Use min_samples = \" + str(i))\n",
    "        break\n",
    "    else:\n",
    "        print(\"Not min_samples = \" + str(i))"
   ]
  },
  {
   "cell_type": "markdown",
   "metadata": {},
   "source": [
    "Recall that our learning objectives were to:\n",
    "- Describe the effect of epsilon and min_points on DBSCAN.\n",
    "- Implement DBSCAN.\n",
    "- Identify advantages and disadvantages of DBSCAN.\n",
    "- Explain and implement HDBSCAN."
   ]
  },
  {
   "cell_type": "markdown",
   "metadata": {},
   "source": [
    "<details>\n",
    "<summary>Describe the effect of epsilon and min_points on DBSCAN.</summary>\n",
    "```\n",
    "- epsilon is a hyperparameter of DBSCAN that refers to how far we will \"search\" from a point to see if other points should be clustered with that point. As epsilon increases, we search farther and expect to include more points in a cluster.\n",
    "- min_points is a hyperparameter of DBSCAN that refers to how many points are needed for a group to officially be called a \"cluster.\"\n",
    "- As min_points increases, we expect the number of clusters will decrease and the number of outliers will increase.\n",
    "```\n",
    "</details>\n",
    "\n",
    "<br>\n",
    "\n",
    "<details>\n",
    "<summary>Identify advantages of DBSCAN.</summary>\n",
    "```\n",
    "- DBSCAN detects clusters that are more dense than outliers.\n",
    "- DBSCAN can detect concave or irregularly-shaped clusters, whereas most other clustering algorithms cannot (easily) do the same.\n",
    "- DBSCAN doesn't classify all points, meaning we can use DBSCAN for outlier detection. (The same is not true of hierarchical or k-means clustering.)\n",
    "- DBSCAN does not need us to pre-identify the number of clusters.\n",
    "- DBSCAN is generally quite fast.\n",
    "```\n",
    "</details>\n",
    "\n",
    "<br>\n",
    "\n",
    "<details>\n",
    "<summary>Identify disadvantages of DBSCAN.</summary>\n",
    "```\n",
    "- DBSCAN requires two hyperparameters to tune. This can be difficult, especially in cases where there are not labels to define metrics to \"gridsearch\" over.\n",
    "    - The value of epsilon you choose to search is highly dependent on how you scale your variables.\n",
    "    - To define an appropriate min_samples, you may need a subject-matter expert.\n",
    "```\n",
    "</details>\n",
    "\n",
    "<br>\n",
    "\n",
    "<details>\n",
    "<summary>Explain HDBSCAN.</summary>\n",
    "```\n",
    "- HDBSCAN requires only one hyperparameter to tune: the minimum number of points you need to define a cluster.\n",
    "- HDBSCAN calculates, for each point, the epsilon searching distance needed to meet the minimum number of points. The algorithm then constructs a dendrogram using epsilon as the distance between clusters and prunes any clusters that don't meet the minimum points threshold.\n",
    "```\n",
    "</details>"
   ]
  }
 ],
 "metadata": {
  "kernelspec": {
   "display_name": "Python 3",
   "language": "python",
   "name": "python3"
  },
  "language_info": {
   "codemirror_mode": {
    "name": "ipython",
    "version": 3
   },
   "file_extension": ".py",
   "mimetype": "text/x-python",
   "name": "python",
   "nbconvert_exporter": "python",
   "pygments_lexer": "ipython3",
   "version": "3.6.5"
  }
 },
 "nbformat": 4,
 "nbformat_minor": 2
}
