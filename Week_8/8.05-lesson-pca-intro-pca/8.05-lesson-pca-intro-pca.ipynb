{
 "cells": [
  {
   "cell_type": "markdown",
   "metadata": {
    "slideshow": {
     "slide_type": "slide"
    }
   },
   "source": [
    "<img src=\"https://ga-dash.s3.amazonaws.com/production/assets/logo-9f88ae6c9c3871690e33280fcf557f33.png\" style=\"float: left; margin: 15px;\">\n",
    "\n",
    "## Principal Component Analysis (PCA)\n",
    "\n",
    "_Author: Kiefer Katovich (SF) with modifications by Justin Pounders._\n",
    "\n",
    "---"
   ]
  },
  {
   "cell_type": "markdown",
   "metadata": {
    "slideshow": {
     "slide_type": "slide"
    }
   },
   "source": [
    "### Learning Objectives\n",
    "\n",
    "- Describe what PCA does and what it is used for in data science.\n",
    "- Compute principal components and transform data onto those components with `sklearn`.\n",
    "- Interpret PCA results graphically."
   ]
  },
  {
   "cell_type": "markdown",
   "metadata": {
    "slideshow": {
     "slide_type": "slide"
    }
   },
   "source": [
    "### Lesson Guide\n",
    "- [Motivation](#motivation)\n",
    "- [What is PCA?](#whatispca)\n",
    "    - [Eigenvalues and Eigenvectors](#eigenpairs)\n",
    "    - [Principal Components](#pcs)\n",
    "- [Manual PCA Codealong](#manual-codealong)\n",
    "    - [1. Basic EDA](#basic-eda)\n",
    "    - [2. Subset and Normalize](#subset)\n",
    "    - [3. Find the Correlation Matrix](#corr)\n",
    "    - [4. Eignenvalues and Eigenvectors](#eigen)\n",
    "    - [5. Explained Variance](#var)\n",
    "    - [6. Projection Matrix W](#projection)\n",
    "    - [7. Transformed Matrix Z](#transformed)\n",
    "    - [8-12. Plot and Interpret Principal Components](#plot-components)\n",
    "- [More Reading](#more-reading)"
   ]
  },
  {
   "cell_type": "markdown",
   "metadata": {},
   "source": [
    "# PCA = Principle Component Analysis\n",
    "\n",
    "**Goals**: \n",
    "\n",
    "- *Transform* original variable/features into new, \"high-performance\" features\n",
    "- *Reduce* the dimensionality of the data\n",
    "- *Eliminate* multicollinearity\n"
   ]
  },
  {
   "cell_type": "markdown",
   "metadata": {
    "slideshow": {
     "slide_type": "slide"
    }
   },
   "source": [
    "<a id=\"motivation\"></a>\n",
    "## Motivation\n",
    "\n",
    "### Dimensionality Reduction\n",
    "\n",
    "Dimensionality reduction reduces the number of random variables that you are considering for analysis until you are left with the most important variables.\n",
    "\n",
    "> Dimensionality reduction is not an end goal in itself, but a tool to form a dataset with more parsimonious features for further visualization and/or modelling.\n",
    "\n",
    "### Reducing Colinearity in Input\n",
    "\n",
    "To get a quick summary of our data, we can calculate a covariance matrix, an unstandardized correlation matrix.\n",
    "\n",
    "The diagonal elements in a covariance matrix show us the variance of each of our features.\n",
    "\n",
    "The off-diagnal elements show the covariance, the amount of colinearity and redundancy between our variables.\n",
    "\n",
    "** correlation is normalized covariance**\n"
   ]
  },
  {
   "cell_type": "markdown",
   "metadata": {},
   "source": [
    "## Motivating Example\n",
    "\n",
    "Say that I want to predict **age** from *stress*, *income* and *health*.\n",
    "\n",
    "1. Three-dimensional data\n",
    "2. Multicollinearity probably exists\n",
    "\n",
    "*PCA* will give me one or two **super-predictor** variables called *components* (hopefully).\n"
   ]
  },
  {
   "cell_type": "markdown",
   "metadata": {
    "slideshow": {
     "slide_type": "slide"
    }
   },
   "source": [
    "**Check:**\n",
    "\n",
    "**What would an 'ideal' covariance matrix look like?**\n",
    "\n",
    "**What can we do to try to remove any redundancies and preserve the signal?**\n",
    "\n",
    "Enter PCA!"
   ]
  },
  {
   "cell_type": "markdown",
   "metadata": {
    "slideshow": {
     "slide_type": "slide"
    }
   },
   "source": [
    "<a id=\"whatispca\"></a>\n",
    "## What is PCA?\n",
    "\n",
    "---\n",
    "\n",
    "PCA is the quintessential \"dimensionality reduction\" algorithm. \n",
    "\n",
    "_Dimensionality reduction_ is the process of combining or collapsing the existing features (columns in X) into fewer features. \n",
    "\n",
    "These hopefully:\n",
    "\n",
    "- Retain the signal in the original data, and\n",
    "- Reduce noise."
   ]
  },
  {
   "cell_type": "markdown",
   "metadata": {
    "slideshow": {
     "slide_type": "fragment"
    }
   },
   "source": [
    "---\n",
    "\n",
    "**Essentially...**\n",
    "\n",
    "- PCA finds *linear combinations* of current predictor variables that...\n",
    "- create new \"principal components\". The principal components explain...\n",
    "- the maximum possible amount of variance in your predictors.\n",
    "\n",
    "$$ PC1 = w_{1,1}(\\text{stress}) + w_{2,1}(\\text{income}) + w_{3,1}(\\text{health})$$\n",
    "\n",
    "$$ PC2 = w_{1,2}(\\text{stress}) + w_{2,2}(\\text{income}) + w_{3,2}(\\text{health})$$\n",
    "\n",
    "$$ PC3 = w_{1,3}(\\text{stress}) + w_{2,3}(\\text{income}) + w_{3,3}(\\text{health})$$\n",
    "\n",
    "This is cool because...\n",
    "\n",
    "- $PC1$ is better than $PC2$ is better than $PC3$  \n",
    "- All of these are *uncorrelated*\n",
    "\n",
    "---\n",
    "\n",
    "**Visually...**\n",
    "\n",
    "> Think of PCA as a coordinate transformation.  The old axes are the original variables (columns). The new axes are the principal components from PCA.\n",
    "\n",
    "**The new axes (principal components) become the  most concise, informative descriptors of our data as a whole.**\n"
   ]
  },
  {
   "cell_type": "markdown",
   "metadata": {
    "slideshow": {
     "slide_type": "slide"
    }
   },
   "source": [
    "![orthogonal eigenvectors](./images/eigenvectors_orthogonal.png) "
   ]
  },
  {
   "cell_type": "markdown",
   "metadata": {
    "slideshow": {
     "slide_type": "slide"
    }
   },
   "source": [
    "![transformed XY](./images/transformed_xy.png) "
   ]
  },
  {
   "cell_type": "markdown",
   "metadata": {
    "slideshow": {
     "slide_type": "slide"
    }
   },
   "source": [
    "<a id=\"pcs\"></a>\n",
    "### Principal Components\n",
    "\n",
    "---\n",
    "\n",
    "- We are looking for new *directions* in feature space\n",
    "- Each consecutive direction tries to maximize *remaining variance*\n",
    "- Each direction is *orthogonal* to all the others\n",
    "\n",
    "**These new *directions* are the \"principal components\", i.e. the new coordinate system for your data.**\n",
    "\n",
    "> Applying PCA to your data *transforms* your original data columns (variables) onto the new principal component axes.\n"
   ]
  },
  {
   "cell_type": "markdown",
   "metadata": {},
   "source": [
    "(Did you catch that?  The *variables* define the *cordinate system*.)\n",
    "\n",
    "(CP1) **Let's review...**"
   ]
  },
  {
   "cell_type": "markdown",
   "metadata": {},
   "source": [
    "**The PCA transformation creates new variables that...**\n",
    "1. Optimize \"explained variance\", and\n",
    "2. Are uncorrelated.\n",
    "\n",
    "Creating these variables is a well-defined mathematical process. In essence, **each component is created as a weighted sum of your original columns, such that all components are orthogonal (perpendicular) to each other**.\n",
    "\n",
    "#### Example Continued\n",
    "\n",
    "The inputs `stress`, `income` and `health`...\n",
    "\n",
    "...can be *replaced* with 3 *new* variables...\n",
    "\n",
    "- `PC1` $\\rightarrow$ most variance\n",
    "- `PC2`\n",
    "- `PC3` $\\rightarrow$ least variance (noise?)\n",
    "\n",
    "---\n",
    "\n",
    "Mathematically:\n",
    "\n",
    "$$ PC1 = w_{1,1}(\\text{stress}) + w_{2,1}(\\text{income}) + w_{3,1}(\\text{health})$$\n",
    "\n",
    "$$ PC2 = w_{1,2}(\\text{stress}) + w_{2,2}(\\text{income}) + w_{3,2}(\\text{health})$$\n",
    "\n",
    "$$ PC3 = w_{1,3}(\\text{stress}) + w_{2,3}(\\text{income}) + w_{3,3}(\\text{health})$$\n",
    "\n",
    "The weights are called *loadings*... they are coefficients indicating how heavily each of the input data are weighted\n",
    "\n",
    "e.g.\n",
    "\n",
    "$$ PC1 = 0.01(\\text{stress}) - 0.54(\\text{income}) + 0.71(\\text{health})$$\n",
    "\n",
    "> We will see how to get these values from `sklearn`\n"
   ]
  },
  {
   "cell_type": "markdown",
   "metadata": {},
   "source": [
    "### Capturing variance\n",
    "\n",
    "The total variance of your data gets redistributed among the principal components:\n",
    "\n",
    "$$\\text{var}(PC1) > \\text{var}(PC2) > \\text{var}(PC3)$$\n"
   ]
  },
  {
   "cell_type": "markdown",
   "metadata": {},
   "source": [
    "> #### Interpreting PCA: Signal v. Noise\n",
    "\n",
    "> PCA attempts to *maximize signal* (high variance) while *isolating noise* (low variance)\n",
    "\n",
    "> - Most variance captured in first several principal components\n",
    "> - Noise isolated to last several principal compoments\n",
    "> - This done simultaneously across *all input variables*\n"
   ]
  },
  {
   "cell_type": "markdown",
   "metadata": {},
   "source": [
    "### Isolating variance\n",
    "\n",
    "There is no covariance between principal components\n",
    "\n",
    "$$\\text{covar}(PC1, PC2) = 0$$\n",
    "\n",
    "$$\\text{covar}(PC1, PC3) = 0$$\n",
    "\n",
    "$$\\text{covar}(PC2, PC3) = 0$$\n"
   ]
  },
  {
   "cell_type": "markdown",
   "metadata": {},
   "source": [
    "**Two assumptions that PCA makes:**\n",
    "1. **Linearity:** The data does not hold nonlinear relationships.\n",
    "2. **Large variances define importance:** The dimensions are constructed to maximize remaining variance."
   ]
  },
  {
   "cell_type": "markdown",
   "metadata": {
    "slideshow": {
     "slide_type": "slide"
    }
   },
   "source": [
    "**PRINCIPAL COMPONENT TRANSFORMATION OF DATA: PC1 VS PC2**\n",
    "\n",
    "[setosa.io has an extremely nice interactive visualization for PCA](http://setosa.io/ev/principal-component-analysis/)\n",
    "\n",
    "---"
   ]
  },
  {
   "cell_type": "markdown",
   "metadata": {
    "slideshow": {
     "slide_type": "-"
    }
   },
   "source": [
    "![setosa pc1](./images/setosa_pc1.png) "
   ]
  },
  {
   "cell_type": "markdown",
   "metadata": {},
   "source": [
    "(CP2) **Let's review...**"
   ]
  },
  {
   "cell_type": "markdown",
   "metadata": {},
   "source": [
    "### Down the rabit hole... (OPTIONAL)\n",
    "\n",
    "\n",
    "![](./images/math-formula-chalkboard.jpg)\n",
    "\n",
    "PCA relies on the...\n",
    "\n",
    "**Eigenvalue decomposition of the covariance matrix**\n",
    "This diagonalizes the covariance matrix, thereby eliminating covariance.\n",
    "\n",
    "**The principal component transformation**\n",
    "This transforms each input variable onto a new orthogonal basis in which the new variables are maximally variant.\n",
    "\n",
    "$$ \\mathbf{Z = XW} $$\n",
    "\n",
    "> *Introduction to Statistical Lerning* section 10.2 has a great overview that is of medium technical complexity.\n"
   ]
  },
  {
   "cell_type": "markdown",
   "metadata": {
    "slideshow": {
     "slide_type": "slide"
    }
   },
   "source": [
    "### Why would we want to do PCA?\n",
    "\n",
    "---\n",
    "\n",
    "- We can reduce the number of dimensions (remove less important components), while losing mostly noise rather than signal.\n",
    "- Since we are assuming our variables are interrelated (at least in the sense that they together explain a dependent variable), the information of interest should exist along directions with largest variance.\n",
    "- The directions of largest variance should have the highest signal-to-noise ratio.\n",
    "- Correlated predictor variables (also referred to as \"redundancy\" of information) are combined into independent variables. Our predictors from PCA are guaranteed to be independent.\n",
    "\n",
    "---\n",
    "\n",
    "[Good paper on PCA](http://arxiv.org/pdf/1404.1100.pdf)\n",
    "\n",
    "[Nice site on performing PCA](http://sebastianraschka.com/Articles/2015_pca_in_3_steps.html#pca-vs-lda)"
   ]
  },
  {
   "cell_type": "markdown",
   "metadata": {
    "slideshow": {
     "slide_type": "slide"
    }
   },
   "source": [
    "<a id=\"manual-codealong\"></a>\n",
    "## PCA Codealong\n",
    "\n",
    "---\n",
    "\n",
    "**DATA**\n",
    "\n",
    "We are going to be using a simple 75-row, 4-column dataset with demographic information. It contains:\n",
    "\n",
    "    age (limited to 20-65)\n",
    "    income\n",
    "    health (a rating on a scale of 1-100, where 100 is the best health)\n",
    "    stress (a rating on a scale of 1-100, where 100 is the most stressed)\n",
    "    \n",
    "All of the variables are continuous.\n",
    "\n",
    "---"
   ]
  },
  {
   "cell_type": "code",
   "execution_count": 1,
   "metadata": {
    "slideshow": {
     "slide_type": "fragment"
    }
   },
   "outputs": [],
   "source": [
    "import numpy as np\n",
    "import pandas as pd\n",
    "import seaborn as sns\n",
    "import matplotlib.pyplot as plt\n",
    "import seaborn as sns\n",
    "\n",
    "%matplotlib inline\n",
    "\n",
    "sns.set_style('white')\n",
    "\n",
    "demo = pd.read_csv('./datasets/simple_demographics.csv')"
   ]
  },
  {
   "cell_type": "markdown",
   "metadata": {
    "slideshow": {
     "slide_type": "slide"
    }
   },
   "source": [
    "<a id=\"basic-eda\"></a>\n",
    "### 1. Basic EDA\n",
    "\n",
    "Make a seaborn pairplot for the dataset:\n",
    "\n",
    "1. age vs. income\n",
    "2. age vs. health\n",
    "3. age vs. stress\n",
    "\n",
    "---"
   ]
  },
  {
   "cell_type": "code",
   "execution_count": 2,
   "metadata": {
    "slideshow": {
     "slide_type": "slide"
    }
   },
   "outputs": [
    {
     "name": "stderr",
     "output_type": "stream",
     "text": [
      "/Users/admin/anaconda3/envs/dsi/lib/python3.6/site-packages/matplotlib/contour.py:960: UserWarning: The following kwargs were not used by contour: 'label', 'color'\n",
      "  s)\n"
     ]
    },
    {
     "data": {
      "image/png": "[encoded data removed]",
      "text/plain": [
       "<Figure size 720x720 with 20 Axes>"
      ]
     },
     "metadata": {},
     "output_type": "display_data"
    }
   ],
   "source": [
    "g = sns.PairGrid(demo)\n",
    "g = g.map_lower(sns.regplot)    # Regression plots in lower triangle.\n",
    "g = g.map_upper(sns.kdeplot, cmap=\"Blues\", shade=True, shade_lowest=False)  # KDE plots in upper triangle.\n",
    "g = g.map_diag(plt.hist)        # Histograms along diagonal.\n",
    "\n",
    "plt.show()"
   ]
  },
  {
   "cell_type": "markdown",
   "metadata": {
    "slideshow": {
     "slide_type": "slide"
    }
   },
   "source": [
    "<a id=\"subset\"></a>\n",
    "### 2. Subset and normalize\n",
    "\n",
    "Subset the data to only include:\n",
    "\n",
    "    income\n",
    "    health\n",
    "    stress\n",
    "\n",
    "We will be comparing the principal components to age specifically, so we are leaving age out.\n",
    "\n",
    "---"
   ]
  },
  {
   "cell_type": "code",
   "execution_count": 3,
   "metadata": {
    "slideshow": {
     "slide_type": "fragment"
    }
   },
   "outputs": [],
   "source": [
    "# A:\n",
    "demo_noage=demo[['health','income','stress']]\n",
    "demo_noage=(demo_noage-demo_noage.mean())/demo_noage.std()"
   ]
  },
  {
   "cell_type": "markdown",
   "metadata": {
    "slideshow": {
     "slide_type": "slide"
    }
   },
   "source": [
    "<a id=\"corr\"></a>\n",
    "### 3. Calculate correlation matrix\n",
    "\n",
    "We will be using the correlation matrix to calculate the eigenvectors and eigenvalues.\n",
    "\n",
    "---"
   ]
  },
  {
   "cell_type": "code",
   "execution_count": 4,
   "metadata": {},
   "outputs": [
    {
     "data": {
      "text/html": [
       "<div>\n",
       "<style scoped>\n",
       "    .dataframe tbody tr th:only-of-type {\n",
       "        vertical-align: middle;\n",
       "    }\n",
       "\n",
       "    .dataframe tbody tr th {\n",
       "        vertical-align: top;\n",
       "    }\n",
       "\n",
       "    .dataframe thead th {\n",
       "        text-align: right;\n",
       "    }\n",
       "</style>\n",
       "<table border=\"1\" class=\"dataframe\">\n",
       "  <thead>\n",
       "    <tr style=\"text-align: right;\">\n",
       "      <th></th>\n",
       "      <th>age</th>\n",
       "      <th>health</th>\n",
       "      <th>income</th>\n",
       "      <th>stress</th>\n",
       "    </tr>\n",
       "  </thead>\n",
       "  <tbody>\n",
       "    <tr>\n",
       "      <th>age</th>\n",
       "      <td>1.000000</td>\n",
       "      <td>-0.674142</td>\n",
       "      <td>0.503590</td>\n",
       "      <td>-0.713347</td>\n",
       "    </tr>\n",
       "    <tr>\n",
       "      <th>health</th>\n",
       "      <td>-0.674142</td>\n",
       "      <td>1.000000</td>\n",
       "      <td>0.192037</td>\n",
       "      <td>0.527663</td>\n",
       "    </tr>\n",
       "    <tr>\n",
       "      <th>income</th>\n",
       "      <td>0.503590</td>\n",
       "      <td>0.192037</td>\n",
       "      <td>1.000000</td>\n",
       "      <td>-0.347925</td>\n",
       "    </tr>\n",
       "    <tr>\n",
       "      <th>stress</th>\n",
       "      <td>-0.713347</td>\n",
       "      <td>0.527663</td>\n",
       "      <td>-0.347925</td>\n",
       "      <td>1.000000</td>\n",
       "    </tr>\n",
       "  </tbody>\n",
       "</table>\n",
       "</div>"
      ],
      "text/plain": [
       "             age    health    income    stress\n",
       "age     1.000000 -0.674142  0.503590 -0.713347\n",
       "health -0.674142  1.000000  0.192037  0.527663\n",
       "income  0.503590  0.192037  1.000000 -0.347925\n",
       "stress -0.713347  0.527663 -0.347925  1.000000"
      ]
     },
     "execution_count": 4,
     "metadata": {},
     "output_type": "execute_result"
    }
   ],
   "source": [
    "demo.corr()"
   ]
  },
  {
   "cell_type": "code",
   "execution_count": 5,
   "metadata": {
    "slideshow": {
     "slide_type": "fragment"
    }
   },
   "outputs": [
    {
     "data": {
      "text/html": [
       "<div>\n",
       "<style scoped>\n",
       "    .dataframe tbody tr th:only-of-type {\n",
       "        vertical-align: middle;\n",
       "    }\n",
       "\n",
       "    .dataframe tbody tr th {\n",
       "        vertical-align: top;\n",
       "    }\n",
       "\n",
       "    .dataframe thead th {\n",
       "        text-align: right;\n",
       "    }\n",
       "</style>\n",
       "<table border=\"1\" class=\"dataframe\">\n",
       "  <thead>\n",
       "    <tr style=\"text-align: right;\">\n",
       "      <th></th>\n",
       "      <th>health</th>\n",
       "      <th>income</th>\n",
       "      <th>stress</th>\n",
       "    </tr>\n",
       "  </thead>\n",
       "  <tbody>\n",
       "    <tr>\n",
       "      <th>health</th>\n",
       "      <td>1.000000</td>\n",
       "      <td>0.192037</td>\n",
       "      <td>0.527663</td>\n",
       "    </tr>\n",
       "    <tr>\n",
       "      <th>income</th>\n",
       "      <td>0.192037</td>\n",
       "      <td>1.000000</td>\n",
       "      <td>-0.347925</td>\n",
       "    </tr>\n",
       "    <tr>\n",
       "      <th>stress</th>\n",
       "      <td>0.527663</td>\n",
       "      <td>-0.347925</td>\n",
       "      <td>1.000000</td>\n",
       "    </tr>\n",
       "  </tbody>\n",
       "</table>\n",
       "</div>"
      ],
      "text/plain": [
       "          health    income    stress\n",
       "health  1.000000  0.192037  0.527663\n",
       "income  0.192037  1.000000 -0.347925\n",
       "stress  0.527663 -0.347925  1.000000"
      ]
     },
     "execution_count": 5,
     "metadata": {},
     "output_type": "execute_result"
    }
   ],
   "source": [
    "# A:\n",
    "demo_noage.corr() #corellation = covariance as it is standardized\n"
   ]
  },
  {
   "cell_type": "markdown",
   "metadata": {
    "slideshow": {
     "slide_type": "slide"
    }
   },
   "source": [
    "<a id=\"eigen\"></a>\n",
    "### 4. Calculate the principal components and associated explained variances\n",
    "\n",
    "---"
   ]
  },
  {
   "cell_type": "code",
   "execution_count": 6,
   "metadata": {},
   "outputs": [
    {
     "data": {
      "text/plain": [
       "PCA(copy=True, iterated_power='auto', n_components=None, random_state=None,\n",
       "  svd_solver='auto', tol=0.0, whiten=False)"
      ]
     },
     "execution_count": 6,
     "metadata": {},
     "output_type": "execute_result"
    }
   ],
   "source": [
    "from sklearn.decomposition import PCA\n",
    "\n",
    "X = demo_noage.values\n",
    "\n",
    "# A:\n",
    "pca=PCA()\n",
    "pca.fit(X) # this is determining the weights/loadings for the transformation\n",
    "\n"
   ]
  },
  {
   "cell_type": "code",
   "execution_count": 10,
   "metadata": {},
   "outputs": [
    {
     "data": {
      "text/html": [
       "<div>\n",
       "<style scoped>\n",
       "    .dataframe tbody tr th:only-of-type {\n",
       "        vertical-align: middle;\n",
       "    }\n",
       "\n",
       "    .dataframe tbody tr th {\n",
       "        vertical-align: top;\n",
       "    }\n",
       "\n",
       "    .dataframe thead th {\n",
       "        text-align: right;\n",
       "    }\n",
       "</style>\n",
       "<table border=\"1\" class=\"dataframe\">\n",
       "  <thead>\n",
       "    <tr style=\"text-align: right;\">\n",
       "      <th></th>\n",
       "      <th>health</th>\n",
       "      <th>income</th>\n",
       "      <th>stress</th>\n",
       "    </tr>\n",
       "  </thead>\n",
       "  <tbody>\n",
       "    <tr>\n",
       "      <th>0</th>\n",
       "      <td>1.163163</td>\n",
       "      <td>-0.894894</td>\n",
       "      <td>-0.084197</td>\n",
       "    </tr>\n",
       "    <tr>\n",
       "      <th>1</th>\n",
       "      <td>0.472995</td>\n",
       "      <td>-0.219508</td>\n",
       "      <td>-0.327072</td>\n",
       "    </tr>\n",
       "    <tr>\n",
       "      <th>2</th>\n",
       "      <td>1.439230</td>\n",
       "      <td>-0.188353</td>\n",
       "      <td>0.583710</td>\n",
       "    </tr>\n",
       "    <tr>\n",
       "      <th>3</th>\n",
       "      <td>0.956113</td>\n",
       "      <td>0.449359</td>\n",
       "      <td>0.522991</td>\n",
       "    </tr>\n",
       "    <tr>\n",
       "      <th>4</th>\n",
       "      <td>-0.769307</td>\n",
       "      <td>0.851048</td>\n",
       "      <td>-1.177134</td>\n",
       "    </tr>\n",
       "  </tbody>\n",
       "</table>\n",
       "</div>"
      ],
      "text/plain": [
       "     health    income    stress\n",
       "0  1.163163 -0.894894 -0.084197\n",
       "1  0.472995 -0.219508 -0.327072\n",
       "2  1.439230 -0.188353  0.583710\n",
       "3  0.956113  0.449359  0.522991\n",
       "4 -0.769307  0.851048 -1.177134"
      ]
     },
     "execution_count": 10,
     "metadata": {},
     "output_type": "execute_result"
    }
   ],
   "source": [
    "demo_noage.head(5)"
   ]
  },
  {
   "cell_type": "code",
   "execution_count": 9,
   "metadata": {
    "scrolled": true
   },
   "outputs": [
    {
     "data": {
      "text/plain": [
       "array([[ 1.16316316, -0.89489383, -0.08419667],\n",
       "       [ 0.47299514, -0.21950808, -0.32707168],\n",
       "       [ 1.43923036, -0.18835303,  0.58370961],\n",
       "       [ 0.95611275,  0.44935893,  0.52299086],\n",
       "       [-0.76930728,  0.85104778, -1.17713422],\n",
       "       [ 0.88709595, -1.00530769,  0.52299086],\n",
       "       [ 0.19692794,  0.09231216, -0.63066545],\n",
       "       [ 0.47299514,  1.30252627, -0.99497797],\n",
       "       [ 0.12791114,  0.19753351, -0.26635293],\n",
       "       [ 0.54201194, -0.83609036,  0.3408346 ],\n",
       "       [ 1.37021356,  2.72201419, -0.20563418],\n",
       "       [ 1.64628076,  0.57218086, -0.56994669],\n",
       "       [-0.07913927,  0.66031863, -1.42000924],\n",
       "       [-0.14815607,  0.32844766,  1.00874088],\n",
       "       [-0.49324007,  0.39954681, -0.6913842 ],\n",
       "       [-0.01012246, -0.24021068,  0.58370961],\n",
       "       [ 0.12791114, -0.07917549,  1.19089714],\n",
       "       [ 0.88709595,  1.49242371,  0.21939709],\n",
       "       [ 1.37021356,  1.02039998, -0.14491542],\n",
       "       [-0.07913927,  0.24759289, -0.38779044],\n",
       "       [-1.52849209,  0.21322343, -0.81282171],\n",
       "       [-0.76930728, -0.38506144,  0.82658462],\n",
       "       [ 0.88709595, -0.26941011,  1.00874088],\n",
       "       [-0.01012246, -0.79477507,  1.43377215],\n",
       "       [ 0.61102875, -0.4373237 ,  0.03724084],\n",
       "       [-1.11439128,  0.83349215, -1.96647801],\n",
       "       [-1.18340808, -1.22256134, -0.50922794],\n",
       "       [-0.97635768, -0.41805971, -0.6913842 ],\n",
       "       [ 0.54201194,  1.68895229, -1.42000924],\n",
       "       [ 0.33496154,  1.66784508,  0.28011585],\n",
       "       [ 0.54201194, -1.5505885 ,  0.46227211],\n",
       "       [-0.90734088,  0.05463838, -1.11641547],\n",
       "       [ 0.12791114,  3.45454001, -2.02719677],\n",
       "       [-1.25242488,  0.47925519,  0.52299086],\n",
       "       [-0.35520647, -0.58291624, -0.26635293],\n",
       "       [ 0.61102875, -0.5719243 ,  0.70514712],\n",
       "       [ 0.81807915,  1.47419374, -0.32707168],\n",
       "       [-0.28618967,  0.65616013,  0.40155335],\n",
       "       [ 0.61102875, -0.45879056,  1.61592841],\n",
       "       [ 1.16316316, -0.2111686 ,  0.52299086],\n",
       "       [-0.97635768,  0.32433411, -1.66288425],\n",
       "       [-0.07913927, -1.01562527,  1.25161589],\n",
       "       [-0.35520647,  0.43119639,  1.19089714],\n",
       "       [ 0.19692794,  0.30315947,  1.00874088],\n",
       "       [ 0.40397834, -1.42136023,  1.61592841],\n",
       "       [-0.21717287,  1.60306236, -0.63066545],\n",
       "       [ 1.30119676,  0.10998017,  1.43377215],\n",
       "       [-2.63276091, -1.6349499 , -1.23785298],\n",
       "       [-0.21717287, -0.52707991,  0.88730338],\n",
       "       [ 0.33496154,  0.79966217, -0.81282171],\n",
       "       [-2.56374411, -1.6196646 , -1.54144674],\n",
       "       [ 0.68004555,  0.07178939,  1.3730534 ],\n",
       "       [-0.01012246,  1.33948074, -0.81282171],\n",
       "       [-0.01012246, -0.49201362,  1.25161589],\n",
       "       [-0.56225687,  0.12144415, -1.17713422],\n",
       "       [-0.01012246, -0.49664417, -0.08419667],\n",
       "       [ 0.95611275, -0.06694724,  1.25161589],\n",
       "       [ 0.74906235, -0.97653534,  0.64442837],\n",
       "       [-1.04537448,  0.91486393, -0.08419667],\n",
       "       [ 0.12791114, -0.7633278 , -0.02347792],\n",
       "       [ 1.43923036, -0.90736933,  2.04095968],\n",
       "       [ 0.68004555, -1.32126395, -0.20563418],\n",
       "       [ 1.23217996, -0.10230575,  0.94802213],\n",
       "       [ 1.23217996, -0.87052725,  1.19089714],\n",
       "       [-0.83832408, -0.415677  , -0.44850919],\n",
       "       [ 0.12791114, -0.85047653,  0.88730338],\n",
       "       [-0.76930728,  0.15244186, -0.75210295],\n",
       "       [ 0.05889434,  1.45616607, -1.23785298],\n",
       "       [-0.28618967, -0.71430243, -0.56994669],\n",
       "       [ 0.33496154, -0.80210303,  1.31233465],\n",
       "       [-1.8735761 ,  0.11548738, -2.08791552],\n",
       "       [-3.04686171, -2.01478976, -1.17713422],\n",
       "       [-1.66652569,  0.26834044, -0.75210295],\n",
       "       [-1.59750889, -0.64455198, -0.50922794],\n",
       "       [ 0.95611275, -0.84577854,  0.76586587]])"
      ]
     },
     "execution_count": 9,
     "metadata": {},
     "output_type": "execute_result"
    }
   ],
   "source": [
    "X\n"
   ]
  },
  {
   "cell_type": "code",
   "execution_count": 11,
   "metadata": {},
   "outputs": [
    {
     "name": "stdout",
     "output_type": "stream",
     "text": [
      "[1.55645677 1.17357375 0.26996948]\n"
     ]
    }
   ],
   "source": [
    "print(pca.explained_variance_) #variances of PCA1, PCA2,PCA 3  above\n"
   ]
  },
  {
   "cell_type": "code",
   "execution_count": 12,
   "metadata": {},
   "outputs": [
    {
     "name": "stdout",
     "output_type": "stream",
     "text": [
      "[[-0.6187659   0.25173885 -0.74414804]\n",
      " [ 0.5126449   0.84716255 -0.13968116]\n",
      " [-0.59525118  0.46791364  0.65324793]]\n"
     ]
    }
   ],
   "source": [
    "print(pca.components_) # coefficients for each componants of teh PCA"
   ]
  },
  {
   "cell_type": "markdown",
   "metadata": {},
   "source": [
    "Interpreting the \"components\": recall that\n",
    "\n",
    "$$ PC1 = w_{1,1}(\\text{health}) + w_{2,1}(\\text{income}) + w_{3,1}(\\text{stress})$$\n",
    "\n",
    "$$ PC2 = w_{1,2}(\\text{health}) + w_{2,2}(\\text{income}) + w_{3,2}(\\text{stress})$$\n",
    "\n",
    "$$ PC3 = w_{1,3}(\\text{health}) + w_{2,3}(\\text{income}) + w_{3,3}(\\text{stress})$$\n"
   ]
  },
  {
   "cell_type": "markdown",
   "metadata": {
    "slideshow": {
     "slide_type": "slide"
    }
   },
   "source": [
    "<a id=\"var\"></a>\n",
    "### 5. Calculate and plot the explained variance\n",
    "\n",
    "A useful measure is the **explained variance**, which is calculated from the eigenvalues. \n",
    "\n",
    "The explained variance tells us how much information (variance) is captured by each principal component.\n",
    "\n",
    "### $$ ExpVar_i = \\bigg(\\frac{\\text{variance of } PC_i}{\\text{total variance}}\\bigg)$$\n",
    "\n",
    "---"
   ]
  },
  {
   "cell_type": "code",
   "execution_count": 13,
   "metadata": {},
   "outputs": [
    {
     "name": "stdout",
     "output_type": "stream",
     "text": [
      "Explained variance:             [0.51881892 0.39119125 0.08998983]\n",
      "Cumulative explained variance:  [0.51881892 0.91001017 1.        ]\n"
     ]
    }
   ],
   "source": [
    "var_exp = pca.explained_variance_ratio_\n",
    "print('Explained variance:            ', var_exp)\n",
    "\n",
    "cum_var_exp = np.cumsum(var_exp)\n",
    "print('Cumulative explained variance: ', cum_var_exp)"
   ]
  },
  {
   "cell_type": "code",
   "execution_count": 14,
   "metadata": {
    "slideshow": {
     "slide_type": "slide"
    }
   },
   "outputs": [
    {
     "data": {
      "image/png": "[encoded data removed]",
      "text/plain": [
       "<Figure size 648x504 with 1 Axes>"
      ]
     },
     "metadata": {},
     "output_type": "display_data"
    }
   ],
   "source": [
    "plt.figure(figsize=(9,7))\n",
    "\n",
    "# HERE IS THE BASIC PLOT\n",
    "\n",
    "# Plot the cumulative explained variance\n",
    "component_number = [1,2,3]\n",
    "plt.plot(component_number, cum_var_exp, lw=7)\n",
    "\n",
    "#--------------------------------------------------\n",
    "\n",
    "# NOW MAKE IT LOOK PRETTY\n",
    "\n",
    "# Add horizontal lines at y=0 and y=1\n",
    "plt.axhline(y=0, linewidth=5, color='grey', ls='dashed')\n",
    "plt.axhline(y=1, linewidth=3, color='grey', ls='dashed')\n",
    "\n",
    "# Set the x and y axis limits\n",
    "ax = plt.gca()\n",
    "ax.set_xlim([1,3])\n",
    "ax.set_ylim([-0.05,1.05])\n",
    "\n",
    "# Label the axes\n",
    "ax.set_ylabel('cumulative variance explained', fontsize=16)\n",
    "ax.set_xlabel('component', fontsize=16)\n",
    "\n",
    "# Make the tick labels bigger\n",
    "for tick in ax.xaxis.get_major_ticks():\n",
    "    tick.label.set_fontsize(12) \n",
    "for tick in ax.yaxis.get_major_ticks():\n",
    "    tick.label.set_fontsize(12) \n",
    "    \n",
    "# Add title\n",
    "ax.set_title('component vs cumulative variance explained\\n', fontsize=20)\n",
    "\n",
    "plt.show()"
   ]
  },
  {
   "cell_type": "markdown",
   "metadata": {
    "slideshow": {
     "slide_type": "slide"
    }
   },
   "source": [
    "<a id=\"transformed\"></a>\n",
    "### 6. Construct the Transformed Data Set $Z$\n",
    "\n",
    "---"
   ]
  },
  {
   "cell_type": "code",
   "execution_count": 15,
   "metadata": {},
   "outputs": [
    {
     "name": "stdout",
     "output_type": "stream",
     "text": [
      "<class 'numpy.ndarray'>\n"
     ]
    },
    {
     "data": {
      "text/html": [
       "<div>\n",
       "<style scoped>\n",
       "    .dataframe tbody tr th:only-of-type {\n",
       "        vertical-align: middle;\n",
       "    }\n",
       "\n",
       "    .dataframe tbody tr th {\n",
       "        vertical-align: top;\n",
       "    }\n",
       "\n",
       "    .dataframe thead th {\n",
       "        text-align: right;\n",
       "    }\n",
       "</style>\n",
       "<table border=\"1\" class=\"dataframe\">\n",
       "  <thead>\n",
       "    <tr style=\"text-align: right;\">\n",
       "      <th></th>\n",
       "      <th>PC1</th>\n",
       "      <th>PC2</th>\n",
       "      <th>PC3</th>\n",
       "    </tr>\n",
       "  </thead>\n",
       "  <tbody>\n",
       "    <tr>\n",
       "      <th>0</th>\n",
       "      <td>-0.882350</td>\n",
       "      <td>-0.150070</td>\n",
       "      <td>-1.166109</td>\n",
       "    </tr>\n",
       "    <tr>\n",
       "      <th>1</th>\n",
       "      <td>-0.104542</td>\n",
       "      <td>0.102205</td>\n",
       "      <td>-0.597921</td>\n",
       "    </tr>\n",
       "    <tr>\n",
       "      <th>2</th>\n",
       "      <td>-1.372329</td>\n",
       "      <td>0.496715</td>\n",
       "      <td>-0.563529</td>\n",
       "    </tr>\n",
       "    <tr>\n",
       "      <th>3</th>\n",
       "      <td>-0.867671</td>\n",
       "      <td>0.797774</td>\n",
       "      <td>-0.017223</td>\n",
       "    </tr>\n",
       "    <tr>\n",
       "      <th>4</th>\n",
       "      <td>1.566225</td>\n",
       "      <td>0.491018</td>\n",
       "      <td>0.087187</td>\n",
       "    </tr>\n",
       "  </tbody>\n",
       "</table>\n",
       "</div>"
      ],
      "text/plain": [
       "        PC1       PC2       PC3\n",
       "0 -0.882350 -0.150070 -1.166109\n",
       "1 -0.104542  0.102205 -0.597921\n",
       "2 -1.372329  0.496715 -0.563529\n",
       "3 -0.867671  0.797774 -0.017223\n",
       "4  1.566225  0.491018  0.087187"
      ]
     },
     "execution_count": 15,
     "metadata": {},
     "output_type": "execute_result"
    }
   ],
   "source": [
    "# Do the transformation here!\n",
    "Z = pca.transform(X) \n",
    "print(type(Z))\n",
    "\n",
    "# Make a list of PC names. Should equal ['PC1', 'PC2', ...]\n",
    "features_pca = ['PC'+str(i+1) for i in range (pca.n_components_)]\n",
    "Z=pd.DataFrame(Z,columns=features_pca)\n",
    "Z.head(5)\n",
    "# Turn the PCs into a dataframe\n"
   ]
  },
  {
   "cell_type": "code",
   "execution_count": 16,
   "metadata": {},
   "outputs": [
    {
     "data": {
      "text/plain": [
       "(75, 3)"
      ]
     },
     "execution_count": 16,
     "metadata": {},
     "output_type": "execute_result"
    }
   ],
   "source": [
    "Z.shape\n"
   ]
  },
  {
   "cell_type": "markdown",
   "metadata": {
    "slideshow": {
     "slide_type": "slide"
    }
   },
   "source": [
    "<a id=\"plot-components\"></a>\n",
    "### 7. Plot Principal Component 1 vs 2\n",
    "\n",
    "PC1 is the first column in $Z$, and PC2 is the second.\n",
    "\n",
    "Notice how they are un-correlated.\n",
    "\n",
    "---"
   ]
  },
  {
   "cell_type": "code",
   "execution_count": 17,
   "metadata": {
    "slideshow": {
     "slide_type": "fragment"
    }
   },
   "outputs": [
    {
     "data": {
      "image/png": "[encoded data removed]",
      "text/plain": [
       "<Figure size 648x504 with 1 Axes>"
      ]
     },
     "metadata": {},
     "output_type": "display_data"
    }
   ],
   "source": [
    "fig = plt.figure(figsize=(9,7))\n",
    "\n",
    "ax = fig.gca()\n",
    "ax = sns.regplot(Z.iloc[:,0], Z.iloc[:,1],\n",
    "                 fit_reg=False, scatter_kws={'s':70}, ax=ax)\n",
    "\n",
    "ax.set_xlabel('principal component 1', fontsize=16)\n",
    "ax.set_ylabel('principal component 2', fontsize=16)\n",
    "\n",
    "\n",
    "for tick in ax.xaxis.get_major_ticks():\n",
    "    tick.label.set_fontsize(12) \n",
    "    \n",
    "for tick in ax.yaxis.get_major_ticks():\n",
    "    tick.label.set_fontsize(12) \n",
    "    \n",
    "ax.set_title('PC1 vs PC2\\n', fontsize=20)\n",
    "\n",
    "plt.show()\n"
   ]
  },
  {
   "cell_type": "markdown",
   "metadata": {
    "slideshow": {
     "slide_type": "slide"
    }
   },
   "source": [
    "### 8. Plot age vs principal component 1 with regplot\n",
    "\n",
    "Look how tight the relationship is. PC1 took the shared variance out of income, health, and stress, which are intuitively directly related to increasing age. \n",
    "\n",
    "This principal component, or more specifically the column weighting matrix $W$, is essentially **capturing the latent age variance embedded in these variables.**\n",
    "\n",
    "---"
   ]
  },
  {
   "cell_type": "code",
   "execution_count": 18,
   "metadata": {
    "slideshow": {
     "slide_type": "slide"
    }
   },
   "outputs": [
    {
     "data": {
      "image/png": "[encoded data removed]",
      "text/plain": [
       "<Figure size 648x504 with 1 Axes>"
      ]
     },
     "metadata": {},
     "output_type": "display_data"
    }
   ],
   "source": [
    "fig = plt.figure(figsize=(9,7))\n",
    "ax = fig.gca()\n",
    "ax = sns.regplot(Z.iloc[:,0], demo.age.values,\n",
    "                 fit_reg=True, scatter_kws={'s':70}, ax=ax)\n",
    "\n",
    "ax.set_xlabel('principal component 1', fontsize=16)\n",
    "ax.set_ylabel('age', fontsize=16)\n",
    "\n",
    "\n",
    "for tick in ax.xaxis.get_major_ticks():\n",
    "    tick.label.set_fontsize(12) \n",
    "    \n",
    "for tick in ax.yaxis.get_major_ticks():\n",
    "    tick.label.set_fontsize(12) \n",
    "    \n",
    "ax.set_title('PC1 vs age\\n', fontsize=20)\n",
    "\n",
    "plt.show()"
   ]
  },
  {
   "cell_type": "markdown",
   "metadata": {
    "slideshow": {
     "slide_type": "slide"
    }
   },
   "source": [
    "### 9. Concatenate PC1 and PC2 to the dataset, then melt it with PC1 and PC2 and index variables\n",
    "\n",
    "```python\n",
    "melted_df = pd.melt(df, id_vars=['PC1','PC2'])\n",
    "```\n",
    "\n",
    "**This is all for the sake of making a nice plot!**\n"
   ]
  },
  {
   "cell_type": "code",
   "execution_count": 19,
   "metadata": {
    "slideshow": {
     "slide_type": "fragment"
    }
   },
   "outputs": [],
   "source": [
    "demo_pcs = demo_noage.copy()\n",
    "demo_pcs['PC1'] = Z.iloc[:,0]\n",
    "demo_pcs['PC2'] = Z.iloc[:,1]\n",
    "\n",
    "demo_pcs = pd.melt(demo_pcs, id_vars=['PC1','PC2'])"
   ]
  },
  {
   "cell_type": "code",
   "execution_count": 23,
   "metadata": {},
   "outputs": [
    {
     "data": {
      "text/plain": [
       "(75, 3)"
      ]
     },
     "execution_count": 23,
     "metadata": {},
     "output_type": "execute_result"
    }
   ],
   "source": [
    "demo_noage.shape"
   ]
  },
  {
   "cell_type": "code",
   "execution_count": 22,
   "metadata": {},
   "outputs": [
    {
     "data": {
      "text/html": [
       "<div>\n",
       "<style scoped>\n",
       "    .dataframe tbody tr th:only-of-type {\n",
       "        vertical-align: middle;\n",
       "    }\n",
       "\n",
       "    .dataframe tbody tr th {\n",
       "        vertical-align: top;\n",
       "    }\n",
       "\n",
       "    .dataframe thead th {\n",
       "        text-align: right;\n",
       "    }\n",
       "</style>\n",
       "<table border=\"1\" class=\"dataframe\">\n",
       "  <thead>\n",
       "    <tr style=\"text-align: right;\">\n",
       "      <th></th>\n",
       "      <th>health</th>\n",
       "      <th>income</th>\n",
       "      <th>stress</th>\n",
       "    </tr>\n",
       "  </thead>\n",
       "  <tbody>\n",
       "    <tr>\n",
       "      <th>0</th>\n",
       "      <td>1.163163</td>\n",
       "      <td>-0.894894</td>\n",
       "      <td>-0.084197</td>\n",
       "    </tr>\n",
       "    <tr>\n",
       "      <th>1</th>\n",
       "      <td>0.472995</td>\n",
       "      <td>-0.219508</td>\n",
       "      <td>-0.327072</td>\n",
       "    </tr>\n",
       "    <tr>\n",
       "      <th>2</th>\n",
       "      <td>1.439230</td>\n",
       "      <td>-0.188353</td>\n",
       "      <td>0.583710</td>\n",
       "    </tr>\n",
       "  </tbody>\n",
       "</table>\n",
       "</div>"
      ],
      "text/plain": [
       "     health    income    stress\n",
       "0  1.163163 -0.894894 -0.084197\n",
       "1  0.472995 -0.219508 -0.327072\n",
       "2  1.439230 -0.188353  0.583710"
      ]
     },
     "execution_count": 22,
     "metadata": {},
     "output_type": "execute_result"
    }
   ],
   "source": [
    "demo_noage.head(3)"
   ]
  },
  {
   "cell_type": "code",
   "execution_count": 24,
   "metadata": {},
   "outputs": [
    {
     "data": {
      "text/plain": [
       "(225, 4)"
      ]
     },
     "execution_count": 24,
     "metadata": {},
     "output_type": "execute_result"
    }
   ],
   "source": [
    "demo_pcs.shape\n",
    "\n"
   ]
  },
  {
   "cell_type": "code",
   "execution_count": 20,
   "metadata": {
    "slideshow": {
     "slide_type": "fragment"
    }
   },
   "outputs": [
    {
     "data": {
      "text/html": [
       "<div>\n",
       "<style scoped>\n",
       "    .dataframe tbody tr th:only-of-type {\n",
       "        vertical-align: middle;\n",
       "    }\n",
       "\n",
       "    .dataframe tbody tr th {\n",
       "        vertical-align: top;\n",
       "    }\n",
       "\n",
       "    .dataframe thead th {\n",
       "        text-align: right;\n",
       "    }\n",
       "</style>\n",
       "<table border=\"1\" class=\"dataframe\">\n",
       "  <thead>\n",
       "    <tr style=\"text-align: right;\">\n",
       "      <th></th>\n",
       "      <th>PC1</th>\n",
       "      <th>PC2</th>\n",
       "      <th>variable</th>\n",
       "      <th>value</th>\n",
       "    </tr>\n",
       "  </thead>\n",
       "  <tbody>\n",
       "    <tr>\n",
       "      <th>0</th>\n",
       "      <td>-0.882350</td>\n",
       "      <td>-0.150070</td>\n",
       "      <td>health</td>\n",
       "      <td>1.163163</td>\n",
       "    </tr>\n",
       "    <tr>\n",
       "      <th>1</th>\n",
       "      <td>-0.104542</td>\n",
       "      <td>0.102205</td>\n",
       "      <td>health</td>\n",
       "      <td>0.472995</td>\n",
       "    </tr>\n",
       "    <tr>\n",
       "      <th>2</th>\n",
       "      <td>-1.372329</td>\n",
       "      <td>0.496715</td>\n",
       "      <td>health</td>\n",
       "      <td>1.439230</td>\n",
       "    </tr>\n",
       "    <tr>\n",
       "      <th>3</th>\n",
       "      <td>-0.867671</td>\n",
       "      <td>0.797774</td>\n",
       "      <td>health</td>\n",
       "      <td>0.956113</td>\n",
       "    </tr>\n",
       "    <tr>\n",
       "      <th>4</th>\n",
       "      <td>1.566225</td>\n",
       "      <td>0.491018</td>\n",
       "      <td>health</td>\n",
       "      <td>-0.769307</td>\n",
       "    </tr>\n",
       "  </tbody>\n",
       "</table>\n",
       "</div>"
      ],
      "text/plain": [
       "        PC1       PC2 variable     value\n",
       "0 -0.882350 -0.150070   health  1.163163\n",
       "1 -0.104542  0.102205   health  0.472995\n",
       "2 -1.372329  0.496715   health  1.439230\n",
       "3 -0.867671  0.797774   health  0.956113\n",
       "4  1.566225  0.491018   health -0.769307"
      ]
     },
     "execution_count": 20,
     "metadata": {},
     "output_type": "execute_result"
    }
   ],
   "source": [
    "demo_pcs.head()"
   ]
  },
  {
   "cell_type": "markdown",
   "metadata": {
    "slideshow": {
     "slide_type": "slide"
    }
   },
   "source": [
    "### 10. Use lmplot to check out PC1 vs all 3 variables\n",
    "\n",
    "Make the `col` keyword argument \"variable\" and the `hue` keyword argument \"variable\" as well, assuming that's what you called them in the melt command (those are the defaults)."
   ]
  },
  {
   "cell_type": "code",
   "execution_count": 25,
   "metadata": {
    "slideshow": {
     "slide_type": "fragment"
    }
   },
   "outputs": [
    {
     "data": {
      "image/png": "[encoded data removed]",
      "text/plain": [
       "<Figure size 504x1512 with 3 Axes>"
      ]
     },
     "metadata": {},
     "output_type": "display_data"
    }
   ],
   "source": [
    "pc1 = sns.lmplot(x=\"PC1\", y=\"value\", row=\"variable\", hue=\"variable\", \n",
    "                 data=demo_pcs, size=7, scatter_kws={'s':50})"
   ]
  },
  {
   "cell_type": "markdown",
   "metadata": {
    "slideshow": {
     "slide_type": "slide"
    }
   },
   "source": [
    "### 11. Use lmplot to do the same for PC2\n",
    "\n",
    "Notice how PC2 captures the variance of income, which was not captured well by PC1. This makes sense, as the variance each principal component captures has to be orthogonal to the other components.\n",
    "\n",
    "---"
   ]
  },
  {
   "cell_type": "code",
   "execution_count": 27,
   "metadata": {
    "slideshow": {
     "slide_type": "fragment"
    }
   },
   "outputs": [
    {
     "data": {
      "image/png": "[encoded data removed]",
      "text/plain": [
       "<Figure size 504x1512 with 3 Axes>"
      ]
     },
     "metadata": {},
     "output_type": "display_data"
    }
   ],
   "source": [
    "pc2 = sns.lmplot(x=\"PC2\", y=\"value\", row=\"variable\", hue=\"variable\", \n",
    "                 data=demo_pcs, size=7, scatter_kws={'s':50})"
   ]
  },
  {
   "cell_type": "markdown",
   "metadata": {},
   "source": [
    "### 12. Putting it all together"
   ]
  },
  {
   "cell_type": "markdown",
   "metadata": {},
   "source": [
    "Now build out a base-line linear regression model predicting `age` from `health`, `income` and `stress`."
   ]
  },
  {
   "cell_type": "code",
   "execution_count": 28,
   "metadata": {},
   "outputs": [
    {
     "name": "stdout",
     "output_type": "stream",
     "text": [
      "0.8555974451281412\n"
     ]
    }
   ],
   "source": [
    "from sklearn.preprocessing import StandardScaler\n",
    "from sklearn.linear_model import LinearRegression\n",
    "from sklearn.model_selection import cross_val_score\n",
    "\n",
    "features = ['health', 'income', 'stress']\n",
    "\n",
    "# A:\n",
    "X = demo[features]\n",
    "y = demo['age']\n",
    "\n",
    "ss = StandardScaler()\n",
    "Xs = ss.fit_transform(X)\n",
    "\n",
    "lr = LinearRegression()\n",
    "\n",
    "print(cross_val_score(lr, Xs, y, cv=5).mean())"
   ]
  },
  {
   "cell_type": "markdown",
   "metadata": {},
   "source": [
    "Repeat the above model, but reduce the dimensionality to 2 (instead of 3) using PCA.  \n",
    "- How does your $R^2$ compare?\n",
    "- How were the principal components chosen?"
   ]
  },
  {
   "cell_type": "code",
   "execution_count": 30,
   "metadata": {},
   "outputs": [
    {
     "name": "stdout",
     "output_type": "stream",
     "text": [
      "(75, 2)\n",
      "0.7224046717460783\n"
     ]
    }
   ],
   "source": [
    "from sklearn.decomposition import PCA\n",
    "\n",
    "features = ['health', 'income', 'stress']\n",
    "\n",
    "# A:\n",
    "\n",
    "features = ['health', 'income', 'stress']\n",
    "\n",
    "# A:\n",
    "X = demo[features]\n",
    "y = demo['age']\n",
    "\n",
    "ss = StandardScaler()\n",
    "Xs = ss.fit_transform(X)\n",
    "\n",
    "pca=PCA(n_components=2) # two componants \n",
    "Xt=pca.fit_transform(Xs) # scaling the PCA\n",
    "\n",
    "lr = LinearRegression()\n",
    "\n",
    "print(Xt.shape)\n",
    "print(cross_val_score(lr, Xt, y, cv=5).mean()) # scaled data "
   ]
  },
  {
   "cell_type": "code",
   "execution_count": 31,
   "metadata": {},
   "outputs": [
    {
     "name": "stdout",
     "output_type": "stream",
     "text": [
      "(75, 1)\n",
      "0.6991520916716726\n"
     ]
    }
   ],
   "source": [
    "from sklearn.decomposition import PCA\n",
    "\n",
    "features = ['health', 'income', 'stress']\n",
    "\n",
    "# A:\n",
    "\n",
    "features = ['health', 'income', 'stress']\n",
    "\n",
    "# A:\n",
    "X = demo[features]\n",
    "y = demo['age']\n",
    "\n",
    "ss = StandardScaler()\n",
    "Xs = ss.fit_transform(X)\n",
    "\n",
    "pca=PCA(n_components=1) # one componants \n",
    "Xt=pca.fit_transform(Xs) # scaling the PCA\n",
    "\n",
    "lr = LinearRegression()\n",
    "\n",
    "print(Xt.shape)\n",
    "print(cross_val_score(lr, Xt, y, cv=5).mean()) # scaled data "
   ]
  },
  {
   "cell_type": "code",
   "execution_count": null,
   "metadata": {},
   "outputs": [],
   "source": []
  },
  {
   "cell_type": "code",
   "execution_count": 34,
   "metadata": {},
   "outputs": [
    {
     "name": "stdout",
     "output_type": "stream",
     "text": [
      "(75, 2)\n",
      "0.7224046717460783\n"
     ]
    },
    {
     "data": {
      "text/html": [
       "<div>\n",
       "<style scoped>\n",
       "    .dataframe tbody tr th:only-of-type {\n",
       "        vertical-align: middle;\n",
       "    }\n",
       "\n",
       "    .dataframe tbody tr th {\n",
       "        vertical-align: top;\n",
       "    }\n",
       "\n",
       "    .dataframe thead th {\n",
       "        text-align: right;\n",
       "    }\n",
       "</style>\n",
       "<table border=\"1\" class=\"dataframe\">\n",
       "  <thead>\n",
       "    <tr style=\"text-align: right;\">\n",
       "      <th></th>\n",
       "      <th>PC1</th>\n",
       "      <th>PC2</th>\n",
       "    </tr>\n",
       "  </thead>\n",
       "  <tbody>\n",
       "    <tr>\n",
       "      <th>health</th>\n",
       "      <td>-0.618766</td>\n",
       "      <td>0.512645</td>\n",
       "    </tr>\n",
       "    <tr>\n",
       "      <th>income</th>\n",
       "      <td>0.251739</td>\n",
       "      <td>0.847163</td>\n",
       "    </tr>\n",
       "    <tr>\n",
       "      <th>stress</th>\n",
       "      <td>-0.744148</td>\n",
       "      <td>-0.139681</td>\n",
       "    </tr>\n",
       "  </tbody>\n",
       "</table>\n",
       "</div>"
      ],
      "text/plain": [
       "             PC1       PC2\n",
       "health -0.618766  0.512645\n",
       "income  0.251739  0.847163\n",
       "stress -0.744148 -0.139681"
      ]
     },
     "execution_count": 34,
     "metadata": {},
     "output_type": "execute_result"
    }
   ],
   "source": [
    "from sklearn.decomposition import PCA\n",
    "\n",
    "features = ['health', 'income', 'stress']\n",
    "\n",
    "# A:\n",
    "\n",
    "features = ['health', 'income', 'stress']\n",
    "\n",
    "# A:\n",
    "X = demo[features]\n",
    "y = demo['age']\n",
    "\n",
    "ss = StandardScaler()\n",
    "Xs = ss.fit_transform(X)\n",
    "\n",
    "pca=PCA(n_components=2) # three componants \n",
    "Xt=pca.fit_transform(Xs) # scaling the PCA\n",
    "\n",
    "lr = LinearRegression()\n",
    "\n",
    "print(Xt.shape)\n",
    "print(cross_val_score(lr, Xt, y, cv=5).mean()) # scaled data \n",
    "pd.DataFrame(pca.components_.T, columns=['PC1', 'PC2'], index=features)"
   ]
  },
  {
   "cell_type": "code",
   "execution_count": 35,
   "metadata": {},
   "outputs": [
    {
     "name": "stdout",
     "output_type": "stream",
     "text": [
      "(75, 3)\n",
      "0.8555974451281412\n"
     ]
    },
    {
     "data": {
      "text/html": [
       "<div>\n",
       "<style scoped>\n",
       "    .dataframe tbody tr th:only-of-type {\n",
       "        vertical-align: middle;\n",
       "    }\n",
       "\n",
       "    .dataframe tbody tr th {\n",
       "        vertical-align: top;\n",
       "    }\n",
       "\n",
       "    .dataframe thead th {\n",
       "        text-align: right;\n",
       "    }\n",
       "</style>\n",
       "<table border=\"1\" class=\"dataframe\">\n",
       "  <thead>\n",
       "    <tr style=\"text-align: right;\">\n",
       "      <th></th>\n",
       "      <th>PC1</th>\n",
       "      <th>PC2</th>\n",
       "      <th>PC3</th>\n",
       "    </tr>\n",
       "  </thead>\n",
       "  <tbody>\n",
       "    <tr>\n",
       "      <th>health</th>\n",
       "      <td>-0.618766</td>\n",
       "      <td>0.512645</td>\n",
       "      <td>-0.595251</td>\n",
       "    </tr>\n",
       "    <tr>\n",
       "      <th>income</th>\n",
       "      <td>0.251739</td>\n",
       "      <td>0.847163</td>\n",
       "      <td>0.467914</td>\n",
       "    </tr>\n",
       "    <tr>\n",
       "      <th>stress</th>\n",
       "      <td>-0.744148</td>\n",
       "      <td>-0.139681</td>\n",
       "      <td>0.653248</td>\n",
       "    </tr>\n",
       "  </tbody>\n",
       "</table>\n",
       "</div>"
      ],
      "text/plain": [
       "             PC1       PC2       PC3\n",
       "health -0.618766  0.512645 -0.595251\n",
       "income  0.251739  0.847163  0.467914\n",
       "stress -0.744148 -0.139681  0.653248"
      ]
     },
     "execution_count": 35,
     "metadata": {},
     "output_type": "execute_result"
    }
   ],
   "source": [
    "from sklearn.decomposition import PCA\n",
    "\n",
    "features = ['health', 'income', 'stress']\n",
    "\n",
    "# A:\n",
    "\n",
    "features = ['health', 'income', 'stress']\n",
    "\n",
    "# A:\n",
    "X = demo[features]\n",
    "y = demo['age']\n",
    "\n",
    "ss = StandardScaler()\n",
    "Xs = ss.fit_transform(X)\n",
    "\n",
    "pca=PCA(n_components=3) # three componants \n",
    "Xt=pca.fit_transform(Xs) # scaling the PCA\n",
    "\n",
    "lr = LinearRegression()\n",
    "\n",
    "print(Xt.shape)\n",
    "print(cross_val_score(lr, Xt, y, cv=5).mean()) # scaled data \n",
    "pd.DataFrame(pca.components_.T, columns=['PC1', 'PC2','PC3'], index=features)"
   ]
  },
  {
   "cell_type": "markdown",
   "metadata": {},
   "source": [
    "### 13. PCA Variants\n",
    "\n",
    "What we have covered is _linear_ PCA on _dense_ matrices.  There are some other useful variants, however:\n",
    "\n",
    "- [`IncrementalPCA`](http://scikit-learn.org/stable/modules/generated/sklearn.decomposition.IncrementalPCA.html) is a variant of PCA that does not require to store all of your data in memory.  This is good for when you have tons of data!\n",
    "- [`KernelPCA`](http://scikit-learn.org/stable/modules/generated/sklearn.decomposition.KernelPCA.html) marries the kernel trick you saw with SVM's to PCA.  This means that you can effectively apply dimensionality reduction to nonlinear data!\n",
    "- When working with text data, [`TruncatedSVD`](http://scikit-learn.org/stable/modules/generated/sklearn.decomposition.TruncatedSVD.html) serves a similar role as PCA (i.e., dimensionality reduction).\n",
    "  - `TruncatedSVD` _will not_ standardize your data (this is fundamentally what makes it different than PCA).\n",
    "  - `TruncatedSVD` _will_ work directly with sparse matrices, like those you get back from NLP vectorizers.\n",
    "  - Applying `TruncatedSVD` to text counts or tf-idf matrices is called [Latent Semantic Analysis (LSA)](https://en.wikipedia.org/wiki/Latent_semantic_analysis).  A variant of LSA called [Probabilistic Latent Semantic Analysis(PLSA)](https://en.wikipedia.org/wiki/Probabilistic_latent_semantic_analysis) is the none-Bayesian version of Latent Dirichlet Allocation (LDA) that you saw earlier this week!"
   ]
  },
  {
   "cell_type": "markdown",
   "metadata": {
    "slideshow": {
     "slide_type": "slide"
    }
   },
   "source": [
    "<a id=\"more-reading\"></a>\n",
    "### More useful links, reading, and references for images\n",
    "\n",
    "---\n",
    "\n",
    "[PCA 4 dummies](https://georgemdallas.wordpress.com/2013/10/30/principal-component-analysis-4-dummies-eigenvectors-eigenvalues-and-dimension-reduction/)\n",
    "\n",
    "[Stackoverflow making sense of PCA](http://stats.stackexchange.com/questions/2691/making-sense-of-principal-component-analysis-eigenvectors-eigenvalues)\n",
    "\n",
    "[PCA and spectral theorem](http://stats.stackexchange.com/questions/217995/what-is-an-intuitive-explanation-for-how-pca-turns-from-a-geometric-problem-wit)\n",
    "\n",
    "[PCA in 3 steps: eigendecomposition and SVD](http://sebastianraschka.com/Articles/2015_pca_in_3_steps.html#pca-vs-lda)\n",
    "\n",
    "[Tutorial on PCA](http://arxiv.org/pdf/1404.1100.pdf)\n",
    "\n",
    "[PCA math and examples](http://www.stat.cmu.edu/~cshalizi/uADA/12/lectures/ch18.pdf)"
   ]
  },
  {
   "cell_type": "markdown",
   "metadata": {},
   "source": [
    "### Easter Egg.  Like math?\n",
    "\n",
    "PCA works by taking the singular value decomposition (SVD) of the data matrix, $X$.  This is equivalent to the eigen-decomposition of the matrix $X^T X$.  \n",
    "\n",
    "Well... if the data are centered/standardized, then the matrix $X^T X$ is nothing more than the *covariance matrix*.  Therefore PCA is really the eigenvalue decomposition of the covariance matrix!\n",
    "\n",
    "From this perspecive, the *eigenvalues* of $X^T X$ are the variances of the principal components.  The *eigenvectors* of $X^T X$ contain the weights (aka loadings) needed to tranform the original data into principal components.\n",
    "\n",
    "So by defining a matrix $W$ whose columns are the eigenvectors of $X^T X$ (arranged in order of decreasing eigenvalue), you can transform your original data $X$ into the *transformed* principal components by\n",
    "\n",
    "$$Z = XW.$$\n",
    "\n",
    "> This is what `sklearn`'s `PCA` does \"under the hood.\"  There is another module called `TruncatedSVD` that essentially does the same thing.  `TruncatedSVD`, however, can handle sparse matrices and plays a little nicer with memory, features that can be important in natural language processing!\n",
    "\n",
    "Now let's do this using `numpy`!"
   ]
  },
  {
   "cell_type": "code",
   "execution_count": 36,
   "metadata": {},
   "outputs": [],
   "source": [
    "import numpy as np\n",
    "import pandas as pd\n",
    "import seaborn as sns\n",
    "import matplotlib.pyplot as plt\n",
    "\n",
    "%matplotlib inline\n",
    "\n",
    "sns.set_style('white')\n",
    "\n",
    "demo = pd.read_csv('./datasets/simple_demographics.csv')\n",
    "\n",
    "demo_noage = demo[['health','income','stress']]\n",
    "demo_noage = (demo_noage - demo_noage.mean()) / demo_noage.std()"
   ]
  },
  {
   "cell_type": "markdown",
   "metadata": {},
   "source": [
    "### Start by getting the correlation matrix, $X^T X$"
   ]
  },
  {
   "cell_type": "code",
   "execution_count": 37,
   "metadata": {},
   "outputs": [
    {
     "data": {
      "text/plain": [
       "array([[ 1.        ,  0.19203672,  0.52766325],\n",
       "       [ 0.19203672,  1.        , -0.3479248 ],\n",
       "       [ 0.52766325, -0.3479248 ,  1.        ]])"
      ]
     },
     "execution_count": 37,
     "metadata": {},
     "output_type": "execute_result"
    }
   ],
   "source": [
    "demo_noage_corr = np.corrcoef(demo_noage.values.T)\n",
    "demo_noage_corr"
   ]
  },
  {
   "cell_type": "markdown",
   "metadata": {},
   "source": [
    "### Calculate the eigenvalues and eigenvectors from the correlation matrix\n",
    "\n",
    "numpy has a convenient function to calculate this:\n",
    "\n",
    "    eigenvalues, eigenvectors = np.linalg.eig(correlation_matrix)\n"
   ]
  },
  {
   "cell_type": "code",
   "execution_count": 38,
   "metadata": {},
   "outputs": [
    {
     "name": "stdout",
     "output_type": "stream",
     "text": [
      "[0.26996948 1.55645677 1.17357375]\n",
      "[[ 0.59525118 -0.6187659  -0.5126449 ]\n",
      " [-0.46791364  0.25173885 -0.84716255]\n",
      " [-0.65324793 -0.74414804  0.13968116]]\n"
     ]
    }
   ],
   "source": [
    "eig_vals, eig_vecs = np.linalg.eig(demo_noage_corr)\n",
    "\n",
    "print(eig_vals)\n",
    "print(eig_vecs)"
   ]
  },
  {
   "cell_type": "markdown",
   "metadata": {},
   "source": [
    "### Calculate the explained variance\n",
    "\n",
    "A useful measure is the **explained variance**, which is calculated from the eigenvalues. \n",
    "\n",
    "The explained variance tells us how much information (variance) is captured by each principal component.\n",
    "\n",
    "### $$ ExpVar_i = \\bigg(\\frac{eigenvalue_i}{\\sum_j^n{eigenvalue_j}}\\bigg)$$\n"
   ]
  },
  {
   "cell_type": "code",
   "execution_count": 39,
   "metadata": {},
   "outputs": [
    {
     "name": "stdout",
     "output_type": "stream",
     "text": [
      "Explained variance:             [0.5188189227607145, 0.39119125069425753, 0.08998982654502799]\n",
      "Cumulative explained variance:  [0.51881892 0.91001017 1.        ]\n"
     ]
    }
   ],
   "source": [
    "tot = sum(eig_vals)\n",
    "\n",
    "var_exp = [(i / tot) for i in sorted(eig_vals, reverse=True)]\n",
    "print('Explained variance:            ', var_exp)\n",
    "\n",
    "cum_var_exp = np.cumsum(var_exp)\n",
    "print('Cumulative explained variance: ', cum_var_exp)"
   ]
  },
  {
   "cell_type": "markdown",
   "metadata": {},
   "source": [
    "<a id=\"projection\"></a>\n",
    "### Construct the Projection Matrix $W$\n",
    "\n",
    "This is simply a matrix of our top 2 eigenvectors (assuming we only want 2 principal components.)\n",
    "\n",
    "The eigenvectors are concatenated as columns.\n",
    "\n",
    "1. Start by ordering the eigenvectors by their corresponding eigenvalues biggest to smallest.\n",
    "- Concatenate the eigenvectors together. `np.stack()` is useful for this.\n"
   ]
  },
  {
   "cell_type": "code",
   "execution_count": 40,
   "metadata": {},
   "outputs": [
    {
     "data": {
      "text/plain": [
       "[[1.5564567682821437, array([-0.6187659 ,  0.25173885, -0.74414804])],\n",
       " [1.1735737520827727, array([-0.5126449 , -0.84716255,  0.13968116])],\n",
       " [0.269969479635084, array([ 0.59525118, -0.46791364, -0.65324793])]]"
      ]
     },
     "execution_count": 40,
     "metadata": {},
     "output_type": "execute_result"
    }
   ],
   "source": [
    "# With numpy\n",
    "\n",
    "value_vector_pairs = [[eig_vals[i], eig_vecs[:,i]] for i in range(len(eig_vals))]\n",
    "value_vector_pairs.sort(reverse=True)\n",
    "value_vector_pairs"
   ]
  },
  {
   "cell_type": "code",
   "execution_count": 41,
   "metadata": {},
   "outputs": [
    {
     "name": "stdout",
     "output_type": "stream",
     "text": [
      "Weight data 2d PCA projection matrix:\n",
      " [[-0.6187659  -0.5126449 ]\n",
      " [ 0.25173885 -0.84716255]\n",
      " [-0.74414804  0.13968116]]\n"
     ]
    }
   ],
   "source": [
    "eig_vec_1 = value_vector_pairs[0][1]\n",
    "eig_vec_2 = value_vector_pairs[1][1]\n",
    "weight_2d_projection = np.stack((eig_vec_1, eig_vec_2), \n",
    "                                axis=1)\n",
    "\n",
    "print('Weight data 2d PCA projection matrix:\\n', weight_2d_projection)"
   ]
  },
  {
   "cell_type": "markdown",
   "metadata": {},
   "source": [
    "### Construct the Transformed 2D Matrix $Z$\n",
    "\n",
    "To do this, we take the dot product of our 3D demographic matrix $X$ with the projection matrix $W$\n"
   ]
  },
  {
   "cell_type": "code",
   "execution_count": 42,
   "metadata": {},
   "outputs": [],
   "source": [
    "Z = demo_noage.dot(weight_2d_projection)"
   ]
  },
  {
   "cell_type": "code",
   "execution_count": 43,
   "metadata": {},
   "outputs": [
    {
     "data": {
      "text/html": [
       "<div>\n",
       "<style scoped>\n",
       "    .dataframe tbody tr th:only-of-type {\n",
       "        vertical-align: middle;\n",
       "    }\n",
       "\n",
       "    .dataframe tbody tr th {\n",
       "        vertical-align: top;\n",
       "    }\n",
       "\n",
       "    .dataframe thead th {\n",
       "        text-align: right;\n",
       "    }\n",
       "</style>\n",
       "<table border=\"1\" class=\"dataframe\">\n",
       "  <thead>\n",
       "    <tr style=\"text-align: right;\">\n",
       "      <th></th>\n",
       "      <th>0</th>\n",
       "      <th>1</th>\n",
       "    </tr>\n",
       "  </thead>\n",
       "  <tbody>\n",
       "    <tr>\n",
       "      <th>0</th>\n",
       "      <td>-0.882350</td>\n",
       "      <td>0.150070</td>\n",
       "    </tr>\n",
       "    <tr>\n",
       "      <th>1</th>\n",
       "      <td>-0.104542</td>\n",
       "      <td>-0.102205</td>\n",
       "    </tr>\n",
       "    <tr>\n",
       "      <th>2</th>\n",
       "      <td>-1.372329</td>\n",
       "      <td>-0.496715</td>\n",
       "    </tr>\n",
       "    <tr>\n",
       "      <th>3</th>\n",
       "      <td>-0.867671</td>\n",
       "      <td>-0.797774</td>\n",
       "    </tr>\n",
       "    <tr>\n",
       "      <th>4</th>\n",
       "      <td>1.566225</td>\n",
       "      <td>-0.491018</td>\n",
       "    </tr>\n",
       "    <tr>\n",
       "      <th>5</th>\n",
       "      <td>-1.191162</td>\n",
       "      <td>0.469946</td>\n",
       "    </tr>\n",
       "    <tr>\n",
       "      <th>6</th>\n",
       "      <td>0.370695</td>\n",
       "      <td>-0.267250</td>\n",
       "    </tr>\n",
       "    <tr>\n",
       "      <th>7</th>\n",
       "      <td>0.775634</td>\n",
       "      <td>-1.484910</td>\n",
       "    </tr>\n",
       "    <tr>\n",
       "      <th>8</th>\n",
       "      <td>0.168786</td>\n",
       "      <td>-0.270120</td>\n",
       "    </tr>\n",
       "    <tr>\n",
       "      <th>9</th>\n",
       "      <td>-0.799486</td>\n",
       "      <td>0.478053</td>\n",
       "    </tr>\n",
       "    <tr>\n",
       "      <th>10</th>\n",
       "      <td>-0.009582</td>\n",
       "      <td>-3.037145</td>\n",
       "    </tr>\n",
       "    <tr>\n",
       "      <th>11</th>\n",
       "      <td>-0.450498</td>\n",
       "      <td>-1.408298</td>\n",
       "    </tr>\n",
       "    <tr>\n",
       "      <th>12</th>\n",
       "      <td>1.271894</td>\n",
       "      <td>-0.717175</td>\n",
       "    </tr>\n",
       "    <tr>\n",
       "      <th>13</th>\n",
       "      <td>-0.576296</td>\n",
       "      <td>-0.061395</td>\n",
       "    </tr>\n",
       "    <tr>\n",
       "      <th>14</th>\n",
       "      <td>0.920274</td>\n",
       "      <td>-0.182197</td>\n",
       "    </tr>\n",
       "    <tr>\n",
       "      <th>15</th>\n",
       "      <td>-0.488573</td>\n",
       "      <td>0.290220</td>\n",
       "    </tr>\n",
       "    <tr>\n",
       "      <th>16</th>\n",
       "      <td>-0.985282</td>\n",
       "      <td>0.167847</td>\n",
       "    </tr>\n",
       "    <tr>\n",
       "      <th>17</th>\n",
       "      <td>-0.336468</td>\n",
       "      <td>-1.688445</td>\n",
       "    </tr>\n",
       "    <tr>\n",
       "      <th>18</th>\n",
       "      <td>-0.483129</td>\n",
       "      <td>-1.587120</td>\n",
       "    </tr>\n",
       "    <tr>\n",
       "      <th>19</th>\n",
       "      <td>0.399871</td>\n",
       "      <td>-0.223348</td>\n",
       "    </tr>\n",
       "    <tr>\n",
       "      <th>20</th>\n",
       "      <td>1.604315</td>\n",
       "      <td>0.489403</td>\n",
       "    </tr>\n",
       "    <tr>\n",
       "      <th>21</th>\n",
       "      <td>-0.236015</td>\n",
       "      <td>0.836049</td>\n",
       "    </tr>\n",
       "    <tr>\n",
       "      <th>22</th>\n",
       "      <td>-1.367378</td>\n",
       "      <td>-0.085629</td>\n",
       "    </tr>\n",
       "    <tr>\n",
       "      <th>23</th>\n",
       "      <td>-1.260751</td>\n",
       "      <td>0.878764</td>\n",
       "    </tr>\n",
       "    <tr>\n",
       "      <th>24</th>\n",
       "      <td>-0.515888</td>\n",
       "      <td>0.062445</td>\n",
       "    </tr>\n",
       "    <tr>\n",
       "      <th>25</th>\n",
       "      <td>2.362720</td>\n",
       "      <td>-0.409496</td>\n",
       "    </tr>\n",
       "    <tr>\n",
       "      <th>26</th>\n",
       "      <td>0.803427</td>\n",
       "      <td>1.571247</td>\n",
       "    </tr>\n",
       "    <tr>\n",
       "      <th>27</th>\n",
       "      <td>1.013387</td>\n",
       "      <td>0.758116</td>\n",
       "    </tr>\n",
       "    <tr>\n",
       "      <th>28</th>\n",
       "      <td>1.146493</td>\n",
       "      <td>-1.907025</td>\n",
       "    </tr>\n",
       "    <tr>\n",
       "      <th>29</th>\n",
       "      <td>0.004151</td>\n",
       "      <td>-1.545525</td>\n",
       "    </tr>\n",
       "    <tr>\n",
       "      <th>...</th>\n",
       "      <td>...</td>\n",
       "      <td>...</td>\n",
       "    </tr>\n",
       "    <tr>\n",
       "      <th>45</th>\n",
       "      <td>1.007241</td>\n",
       "      <td>-1.334814</td>\n",
       "    </tr>\n",
       "    <tr>\n",
       "      <th>46</th>\n",
       "      <td>-1.844389</td>\n",
       "      <td>-0.559952</td>\n",
       "    </tr>\n",
       "    <tr>\n",
       "      <th>47</th>\n",
       "      <td>2.138628</td>\n",
       "      <td>2.561835</td>\n",
       "    </tr>\n",
       "    <tr>\n",
       "      <th>48</th>\n",
       "      <td>-0.658592</td>\n",
       "      <td>0.681794</td>\n",
       "    </tr>\n",
       "    <tr>\n",
       "      <th>49</th>\n",
       "      <td>0.598903</td>\n",
       "      <td>-0.962696</td>\n",
       "    </tr>\n",
       "    <tr>\n",
       "      <th>50</th>\n",
       "      <td>2.325690</td>\n",
       "      <td>2.471098</td>\n",
       "    </tr>\n",
       "    <tr>\n",
       "      <th>51</th>\n",
       "      <td>-1.424472</td>\n",
       "      <td>-0.217649</td>\n",
       "    </tr>\n",
       "    <tr>\n",
       "      <th>52</th>\n",
       "      <td>0.948322</td>\n",
       "      <td>-1.243105</td>\n",
       "    </tr>\n",
       "    <tr>\n",
       "      <th>53</th>\n",
       "      <td>-1.048983</td>\n",
       "      <td>0.596832</td>\n",
       "    </tr>\n",
       "    <tr>\n",
       "      <th>54</th>\n",
       "      <td>1.254440</td>\n",
       "      <td>0.020932</td>\n",
       "    </tr>\n",
       "    <tr>\n",
       "      <th>55</th>\n",
       "      <td>-0.056106</td>\n",
       "      <td>0.414167</td>\n",
       "    </tr>\n",
       "    <tr>\n",
       "      <th>56</th>\n",
       "      <td>-1.539851</td>\n",
       "      <td>-0.258604</td>\n",
       "    </tr>\n",
       "    <tr>\n",
       "      <th>57</th>\n",
       "      <td>-1.188876</td>\n",
       "      <td>0.533296</td>\n",
       "    </tr>\n",
       "    <tr>\n",
       "      <th>58</th>\n",
       "      <td>0.939804</td>\n",
       "      <td>-0.250893</td>\n",
       "    </tr>\n",
       "    <tr>\n",
       "      <th>59</th>\n",
       "      <td>-0.253835</td>\n",
       "      <td>0.577810</td>\n",
       "    </tr>\n",
       "    <tr>\n",
       "      <th>60</th>\n",
       "      <td>-2.637743</td>\n",
       "      <td>0.315959</td>\n",
       "    </tr>\n",
       "    <tr>\n",
       "      <th>61</th>\n",
       "      <td>-0.600380</td>\n",
       "      <td>0.741980</td>\n",
       "    </tr>\n",
       "    <tr>\n",
       "      <th>62</th>\n",
       "      <td>-1.493654</td>\n",
       "      <td>-0.412580</td>\n",
       "    </tr>\n",
       "    <tr>\n",
       "      <th>63</th>\n",
       "      <td>-1.867780</td>\n",
       "      <td>0.272153</td>\n",
       "    </tr>\n",
       "    <tr>\n",
       "      <th>64</th>\n",
       "      <td>0.747842</td>\n",
       "      <td>0.719260</td>\n",
       "    </tr>\n",
       "    <tr>\n",
       "      <th>65</th>\n",
       "      <td>-0.953530</td>\n",
       "      <td>0.778858</td>\n",
       "    </tr>\n",
       "    <tr>\n",
       "      <th>66</th>\n",
       "      <td>1.074073</td>\n",
       "      <td>0.160184</td>\n",
       "    </tr>\n",
       "    <tr>\n",
       "      <th>67</th>\n",
       "      <td>1.251278</td>\n",
       "      <td>-1.436706</td>\n",
       "    </tr>\n",
       "    <tr>\n",
       "      <th>68</th>\n",
       "      <td>0.421391</td>\n",
       "      <td>0.672233</td>\n",
       "    </tr>\n",
       "    <tr>\n",
       "      <th>69</th>\n",
       "      <td>-1.385755</td>\n",
       "      <td>0.691104</td>\n",
       "    </tr>\n",
       "    <tr>\n",
       "      <th>70</th>\n",
       "      <td>2.742096</td>\n",
       "      <td>0.571000</td>\n",
       "    </tr>\n",
       "    <tr>\n",
       "      <th>71</th>\n",
       "      <td>2.254055</td>\n",
       "      <td>3.104389</td>\n",
       "    </tr>\n",
       "    <tr>\n",
       "      <th>72</th>\n",
       "      <td>1.658417</td>\n",
       "      <td>0.521953</td>\n",
       "    </tr>\n",
       "    <tr>\n",
       "      <th>73</th>\n",
       "      <td>1.205166</td>\n",
       "      <td>1.293866</td>\n",
       "    </tr>\n",
       "    <tr>\n",
       "      <th>74</th>\n",
       "      <td>-1.374443</td>\n",
       "      <td>0.333343</td>\n",
       "    </tr>\n",
       "  </tbody>\n",
       "</table>\n",
       "<p>75 rows × 2 columns</p>\n",
       "</div>"
      ],
      "text/plain": [
       "           0         1\n",
       "0  -0.882350  0.150070\n",
       "1  -0.104542 -0.102205\n",
       "2  -1.372329 -0.496715\n",
       "3  -0.867671 -0.797774\n",
       "4   1.566225 -0.491018\n",
       "5  -1.191162  0.469946\n",
       "6   0.370695 -0.267250\n",
       "7   0.775634 -1.484910\n",
       "8   0.168786 -0.270120\n",
       "9  -0.799486  0.478053\n",
       "10 -0.009582 -3.037145\n",
       "11 -0.450498 -1.408298\n",
       "12  1.271894 -0.717175\n",
       "13 -0.576296 -0.061395\n",
       "14  0.920274 -0.182197\n",
       "15 -0.488573  0.290220\n",
       "16 -0.985282  0.167847\n",
       "17 -0.336468 -1.688445\n",
       "18 -0.483129 -1.587120\n",
       "19  0.399871 -0.223348\n",
       "20  1.604315  0.489403\n",
       "21 -0.236015  0.836049\n",
       "22 -1.367378 -0.085629\n",
       "23 -1.260751  0.878764\n",
       "24 -0.515888  0.062445\n",
       "25  2.362720 -0.409496\n",
       "26  0.803427  1.571247\n",
       "27  1.013387  0.758116\n",
       "28  1.146493 -1.907025\n",
       "29  0.004151 -1.545525\n",
       "..       ...       ...\n",
       "45  1.007241 -1.334814\n",
       "46 -1.844389 -0.559952\n",
       "47  2.138628  2.561835\n",
       "48 -0.658592  0.681794\n",
       "49  0.598903 -0.962696\n",
       "50  2.325690  2.471098\n",
       "51 -1.424472 -0.217649\n",
       "52  0.948322 -1.243105\n",
       "53 -1.048983  0.596832\n",
       "54  1.254440  0.020932\n",
       "55 -0.056106  0.414167\n",
       "56 -1.539851 -0.258604\n",
       "57 -1.188876  0.533296\n",
       "58  0.939804 -0.250893\n",
       "59 -0.253835  0.577810\n",
       "60 -2.637743  0.315959\n",
       "61 -0.600380  0.741980\n",
       "62 -1.493654 -0.412580\n",
       "63 -1.867780  0.272153\n",
       "64  0.747842  0.719260\n",
       "65 -0.953530  0.778858\n",
       "66  1.074073  0.160184\n",
       "67  1.251278 -1.436706\n",
       "68  0.421391  0.672233\n",
       "69 -1.385755  0.691104\n",
       "70  2.742096  0.571000\n",
       "71  2.254055  3.104389\n",
       "72  1.658417  0.521953\n",
       "73  1.205166  1.293866\n",
       "74 -1.374443  0.333343\n",
       "\n",
       "[75 rows x 2 columns]"
      ]
     },
     "execution_count": 43,
     "metadata": {},
     "output_type": "execute_result"
    }
   ],
   "source": [
    "Z\n"
   ]
  },
  {
   "cell_type": "markdown",
   "metadata": {},
   "source": [
    "*And now you know the **rest** of the story.  Good day!*  (Bonus points if you can correctly attribute this once-popular radio sign-off.)"
   ]
  },
  {
   "cell_type": "markdown",
   "metadata": {},
   "source": [
    "## Best Practice for PCA\n",
    "1. Choose your dimension e.g. 4 to 2 \n",
    "\n",
    "2. Choose your % var \n",
    "\n",
    "3. Use a Scree Plot / Elbow Method  to identify the point of inflexion for marginal returns\n",
    "\n"
   ]
  },
  {
   "cell_type": "code",
   "execution_count": null,
   "metadata": {},
   "outputs": [],
   "source": []
  }
 ],
 "metadata": {
  "kernelspec": {
   "display_name": "Python 3",
   "language": "python",
   "name": "python3"
  },
  "language_info": {
   "codemirror_mode": {
    "name": "ipython",
    "version": 3
   },
   "file_extension": ".py",
   "mimetype": "text/x-python",
   "name": "python",
   "nbconvert_exporter": "python",
   "pygments_lexer": "ipython3",
   "version": "3.6.5"
  }
 },
 "nbformat": 4,
 "nbformat_minor": 1
}
