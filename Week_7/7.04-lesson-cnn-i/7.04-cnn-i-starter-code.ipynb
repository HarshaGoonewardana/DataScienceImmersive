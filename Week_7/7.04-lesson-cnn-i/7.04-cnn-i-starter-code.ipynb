{
 "cells": [
  {
   "cell_type": "markdown",
   "metadata": {},
   "source": [
    "## ![](https://ga-dash.s3.amazonaws.com/production/assets/logo-9f88ae6c9c3871690e33280fcf557f33.png) Convolutional Neural Networks I\n",
    "\n",
    "### LEARNING OBJECTIVES\n",
    "_By the end of this lesson, students should be able to:_\n",
    "- Build convolutional neural networks in Keras."
   ]
  },
  {
   "cell_type": "markdown",
   "metadata": {},
   "source": [
    "We'll recreate a very similar neural network to the example provided at the end of the notes."
   ]
  },
  {
   "cell_type": "code",
   "execution_count": 1,
   "metadata": {
    "scrolled": true
   },
   "outputs": [
    {
     "name": "stderr",
     "output_type": "stream",
     "text": [
      "Using TensorFlow backend.\n"
     ]
    },
    {
     "name": "stdout",
     "output_type": "stream",
     "text": [
      "Couldn't import dot_parser, loading of dot files will not be possible.\n"
     ]
    }
   ],
   "source": [
    "# 1. Import libraries and modules\n",
    "import numpy as np\n",
    "np.random.seed(123)  # for reproducibility\n",
    "\n",
    "from keras.models import Sequential\n",
    "from keras.layers import Dense, Dropout, Activation, Flatten\n",
    "from keras.layers import Convolution2D, MaxPooling2D\n",
    "from keras.utils import np_utils\n",
    "from keras.datasets import mnist\n",
    " \n",
    "# 2. Load pre-shuffled MNIST data into train and test sets\n",
    "(X_train, y_train), (X_test, y_test) = mnist.load_data()"
   ]
  },
  {
   "cell_type": "code",
   "execution_count": 2,
   "metadata": {},
   "outputs": [],
   "source": [
    "#  3. Preprocess our nput data.\n",
    "X_train=X_train.reshape(X_train.shape[0],28,28,1) # to preserve the preserve the dimensions of the image so that we can pass a filter over the image. \n",
    "#So our data dimensions would be `(num_samples, 28, 28)`.\n",
    "X_test=X_test.reshape(X_test.shape[0],28,28,1)\n",
    "X_train =X_train.astype('float32')\n",
    "X_test =X_test.astype('float32')\n",
    "X_train/=255 # to change the values from 0-255 is changed to 0 and 1\n",
    "X_test/=255 # 255 is how they code colors"
   ]
  },
  {
   "cell_type": "code",
   "execution_count": 4,
   "metadata": {},
   "outputs": [
    {
     "data": {
      "text/plain": [
       "array([5, 0, 4, 1, 9], dtype=uint8)"
      ]
     },
     "execution_count": 4,
     "metadata": {},
     "output_type": "execute_result"
    }
   ],
   "source": [
    "#4.Preprocess the class labels.\n",
    "y_train[0:5]"
   ]
  },
  {
   "cell_type": "code",
   "execution_count": 5,
   "metadata": {},
   "outputs": [],
   "source": [
    "#Convert individual numbers in y_train to categorical output.\n",
    "Y_train=np_utils.to_categorical(y_train,10)\n",
    "Y_test=np_utils.to_categorical(y_test,10)"
   ]
  },
  {
   "cell_type": "code",
   "execution_count": 6,
   "metadata": {},
   "outputs": [
    {
     "data": {
      "text/plain": [
       "array([[0., 0., 0., 0., 0., 1., 0., 0., 0., 0.],\n",
       "       [1., 0., 0., 0., 0., 0., 0., 0., 0., 0.],\n",
       "       [0., 0., 0., 0., 1., 0., 0., 0., 0., 0.],\n",
       "       [0., 1., 0., 0., 0., 0., 0., 0., 0., 0.],\n",
       "       [0., 0., 0., 0., 0., 0., 0., 0., 0., 1.],\n",
       "       [0., 0., 1., 0., 0., 0., 0., 0., 0., 0.],\n",
       "       [0., 1., 0., 0., 0., 0., 0., 0., 0., 0.],\n",
       "       [0., 0., 0., 1., 0., 0., 0., 0., 0., 0.],\n",
       "       [0., 1., 0., 0., 0., 0., 0., 0., 0., 0.],\n",
       "       [0., 0., 0., 0., 1., 0., 0., 0., 0., 0.]], dtype=float32)"
      ]
     },
     "execution_count": 6,
     "metadata": {},
     "output_type": "execute_result"
    }
   ],
   "source": [
    "Y_train[0:10]"
   ]
  },
  {
   "cell_type": "markdown",
   "metadata": {},
   "source": [
    "60 parameters (in Conv2D layer)\n",
    "\n",
    "each filter was 3x3. <-- 9 parameters\n",
    "6 filters <-- 6 filters x 9 parameters per filter = 54 parameters\n",
    "\n",
    "for each channel (a.k.a. result from filter), we have 1 bias parameter <-- 1 parameter per filter x 6 filters = 6 parameters\n",
    "\n",
    "Answer: 54 parameters (within filters) + 6 parameters (bias) = 60 parameters"
   ]
  },
  {
   "cell_type": "code",
   "execution_count": 7,
   "metadata": {},
   "outputs": [],
   "source": [
    "## 5. Define model architecture.\n",
    "\n",
    "model = Sequential() # Instantiate our NN in the same way.\n",
    "\n",
    "model.add(Convolution2D(filters = 6,     # number of filters/channels\n",
    "                        kernel_size = 3, # filters are 3x3\n",
    "                        activation = 'relu',\n",
    "                        input_shape = (28, 28, 1))) # (height, width, depth)\n",
    "\n",
    "model.add(MaxPooling2D(pool_size = (2,2))) # 2x2 filter\n",
    "# by default, MaxPooling2D will pool over non-overlapping regions\n",
    "\n",
    "model.add(Convolution2D(filters = 16,\n",
    "                        kernel_size = 3,\n",
    "                        activation = 'relu'))\n",
    "\n",
    "model.add(MaxPooling2D(pool_size = (2,2)))\n",
    "\n",
    "model.add(Flatten()) # converts \"box\" to vertical array of nodes\n",
    "\n",
    "model.add(Dense(128, activation = 'relu')) # finally at the FC layer(s)\n",
    "\n",
    "model.add(Dropout(0.5)) # randomly dropping out 50% of \n",
    "                        # nodes during training\n",
    "\n",
    "model.add(Dense(10, activation = 'softmax'))\n",
    "\n",
    "# 10 nodes because 10 possible outputs/values for Y {0, 1, ..., 9}\n",
    "# softmax activation because it ensures my predictions are\n",
    "# non-negative and they sum to 100% for a given observation"
   ]
  },
  {
   "cell_type": "code",
   "execution_count": 9,
   "metadata": {},
   "outputs": [],
   "source": [
    "# 6. Compile model.\n",
    "\n",
    "model.compile(loss = 'categorical_crossentropy',\n",
    "              # common choice for unordered discrete predictions\n",
    "              optimizer = 'adam',\n",
    "              # more sophisticated version of gradient descent\n",
    "              metrics = ['accuracy'])"
   ]
  },
  {
   "cell_type": "code",
   "execution_count": 10,
   "metadata": {},
   "outputs": [
    {
     "name": "stdout",
     "output_type": "stream",
     "text": [
      "Epoch 1/10\n",
      "60000/60000 [==============================] - 28s 462us/step - loss: 0.2951 - acc: 0.9099\n",
      "Epoch 2/10\n",
      "60000/60000 [==============================] - 24s 407us/step - loss: 0.1083 - acc: 0.9676\n",
      "Epoch 3/10\n",
      "60000/60000 [==============================] - 24s 406us/step - loss: 0.0828 - acc: 0.9751\n",
      "Epoch 4/10\n",
      "60000/60000 [==============================] - 24s 405us/step - loss: 0.0707 - acc: 0.9789\n",
      "Epoch 5/10\n",
      "60000/60000 [==============================] - 24s 406us/step - loss: 0.0631 - acc: 0.9812\n",
      "Epoch 6/10\n",
      "60000/60000 [==============================] - 25s 410us/step - loss: 0.0562 - acc: 0.9831\n",
      "Epoch 7/10\n",
      "60000/60000 [==============================] - 25s 411us/step - loss: 0.0502 - acc: 0.9849\n",
      "Epoch 8/10\n",
      "60000/60000 [==============================] - 26s 439us/step - loss: 0.0478 - acc: 0.9855\n",
      "Epoch 9/10\n",
      "60000/60000 [==============================] - 27s 453us/step - loss: 0.0418 - acc: 0.9872\n",
      "Epoch 10/10\n",
      "60000/60000 [==============================] - 28s 469us/step - loss: 0.0416 - acc: 0.9869\n"
     ]
    },
    {
     "data": {
      "text/plain": [
       "<keras.callbacks.History at 0xb1f6685f8>"
      ]
     },
     "execution_count": 10,
     "metadata": {},
     "output_type": "execute_result"
    }
   ],
   "source": [
    "# 7. Fit model on the training data.\n",
    "\n",
    "model.fit(X_train,\n",
    "          Y_train,\n",
    "          batch_size = 32, \n",
    "          epochs = 10,\n",
    "          verbose = 1)"
   ]
  },
  {
   "cell_type": "code",
   "execution_count": 11,
   "metadata": {},
   "outputs": [
    {
     "name": "stdout",
     "output_type": "stream",
     "text": [
      "10000/10000 [==============================] - 2s 198us/step\n",
      "loss: 0.032125405359922664\n",
      "acc: 0.9904\n"
     ]
    }
   ],
   "source": [
    "# 8. Evaluate model on test data.\n",
    "\n",
    "score = model.evaluate(X_test, Y_test, verbose = 1)\n",
    "labels = model.metrics_names\n",
    "\n",
    "print(str(labels[0]) + \": \" + str(score[0]))\n",
    "print(str(labels[1]) + \": \" + str(score[1]))"
   ]
  },
  {
   "cell_type": "code",
   "execution_count": 12,
   "metadata": {},
   "outputs": [
    {
     "name": "stdout",
     "output_type": "stream",
     "text": [
      "_________________________________________________________________\n",
      "Layer (type)                 Output Shape              Param #   \n",
      "=================================================================\n",
      "conv2d_1 (Conv2D)            (None, 26, 26, 6)         60        \n",
      "_________________________________________________________________\n",
      "max_pooling2d_1 (MaxPooling2 (None, 13, 13, 6)         0         \n",
      "_________________________________________________________________\n",
      "conv2d_2 (Conv2D)            (None, 11, 11, 16)        880       \n",
      "_________________________________________________________________\n",
      "max_pooling2d_2 (MaxPooling2 (None, 5, 5, 16)          0         \n",
      "_________________________________________________________________\n",
      "flatten_1 (Flatten)          (None, 400)               0         \n",
      "_________________________________________________________________\n",
      "dense_1 (Dense)              (None, 128)               51328     \n",
      "_________________________________________________________________\n",
      "dropout_1 (Dropout)          (None, 128)               0         \n",
      "_________________________________________________________________\n",
      "dense_2 (Dense)              (None, 10)                1290      \n",
      "=================================================================\n",
      "Total params: 53,558\n",
      "Trainable params: 53,558\n",
      "Non-trainable params: 0\n",
      "_________________________________________________________________\n"
     ]
    }
   ],
   "source": [
    "model.summary()"
   ]
  },
  {
   "cell_type": "markdown",
   "metadata": {},
   "source": [
    "60 parameters (in Conv2D layer)\n",
    "\n",
    "each filter was 3x3. <-- 9 parameters\n",
    "\n",
    "6 filters <-- 6 filters x 9 parameters per filter = 54 parameters\n",
    "\n",
    "for each channel (a.k.a. result from filter), we have 1 bias parameter <-- 1 parameter per filter x 6 filters = 6 parameters\n",
    "\n",
    "Answer: 54 parameters (within filters) + 6 parameters (bias) = 60 parameter"
   ]
  },
  {
   "cell_type": "markdown",
   "metadata": {},
   "source": [
    "## Conclusion\n",
    "\n",
    "<details><summary>Why are neural networks better equipped to handle image data than non-neural networks?\n",
    "</summary>\n",
    "```\n",
    "Neural networks are naturally set up to consider interactions among features.\n",
    "```\n",
    "</details>\n",
    "\n",
    "<details><summary>Why are **convolutional neural networks** better equipped to handle image data than non-CNNs?\n",
    "</summary>\n",
    "```\n",
    "CNNs are naturally set up to consider interactions among \"close pixels\" only and drastically cuts down the number of parameters needed to learn through parameter sharing.\n",
    "```\n",
    "</details>\n",
    "\n"
   ]
  }
 ],
 "metadata": {
  "kernelspec": {
   "display_name": "Python 3",
   "language": "python",
   "name": "python3"
  },
  "language_info": {
   "codemirror_mode": {
    "name": "ipython",
    "version": 3
   },
   "file_extension": ".py",
   "mimetype": "text/x-python",
   "name": "python",
   "nbconvert_exporter": "python",
   "pygments_lexer": "ipython3",
   "version": "3.6.5"
  }
 },
 "nbformat": 4,
 "nbformat_minor": 2
}
