{
 "cells": [
  {
   "cell_type": "code",
   "execution_count": 1,
   "metadata": {},
   "outputs": [
    {
     "name": "stderr",
     "output_type": "stream",
     "text": [
      "Using TensorFlow backend.\n"
     ]
    },
    {
     "name": "stdout",
     "output_type": "stream",
     "text": [
      "Couldn't import dot_parser, loading of dot files will not be possible.\n"
     ]
    }
   ],
   "source": [
    "from sklearn.datasets import make_regression, make_classification, load_iris\n",
    "from sklearn.preprocessing import StandardScaler\n",
    "from sklearn.model_selection import train_test_split\n",
    "import matplotlib.pyplot as plt\n",
    "\n",
    "from keras.models import Sequential\n",
    "from keras.layers import Dense\n",
    "from keras.utils import to_categorical\n",
    "\n",
    "%matplotlib inline"
   ]
  },
  {
   "cell_type": "markdown",
   "metadata": {},
   "source": [
    "# Regression\n",
    "\n",
    "## Setting up X and y"
   ]
  },
  {
   "cell_type": "code",
   "execution_count": 2,
   "metadata": {},
   "outputs": [],
   "source": [
    "X,y= make_regression(n_samples=10000, n_features=20,random_state=42) # create a fake regression"
   ]
  },
  {
   "cell_type": "markdown",
   "metadata": {},
   "source": [
    "## Train/Test Split"
   ]
  },
  {
   "cell_type": "code",
   "execution_count": 3,
   "metadata": {},
   "outputs": [],
   "source": [
    "X_train,X_test,y_train,y_test = train_test_split(X,y,random_state=42)"
   ]
  },
  {
   "cell_type": "markdown",
   "metadata": {},
   "source": [
    "## `StandardScaler`"
   ]
  },
  {
   "cell_type": "code",
   "execution_count": null,
   "metadata": {},
   "outputs": [],
   "source": []
  },
  {
   "cell_type": "code",
   "execution_count": 4,
   "metadata": {},
   "outputs": [],
   "source": [
    "ss = StandardScaler()\n",
    "X_train = ss.fit_transform(X_train)\n",
    "X_test = ss.fit_transform(X_test)"
   ]
  },
  {
   "cell_type": "markdown",
   "metadata": {},
   "source": [
    "## Keras Model"
   ]
  },
  {
   "cell_type": "code",
   "execution_count": 5,
   "metadata": {},
   "outputs": [
    {
     "data": {
      "text/plain": [
       "(7500, 20)"
      ]
     },
     "execution_count": 5,
     "metadata": {},
     "output_type": "execute_result"
    }
   ],
   "source": [
    "X_train.shape"
   ]
  },
  {
   "cell_type": "code",
   "execution_count": 24,
   "metadata": {},
   "outputs": [],
   "source": [
    "model=Sequential()\n",
    "model.add(Dense(20,activation='relu',input_dim=X_train.shape[1])) # sets up the hidden layer\n",
    "model.add(Dense(10,activation='relu'))\n",
    "model.add(Dense(1)) # output layer"
   ]
  },
  {
   "cell_type": "markdown",
   "metadata": {},
   "source": [
    "## Compiling\n",
    "\n",
    "- loss function\n",
    "- optimizer"
   ]
  },
  {
   "cell_type": "code",
   "execution_count": 25,
   "metadata": {},
   "outputs": [],
   "source": [
    "model.compile(loss='mean_squared_error',optimizer='adam') # alwasy pick adam"
   ]
  },
  {
   "cell_type": "markdown",
   "metadata": {},
   "source": [
    "## Fitting"
   ]
  },
  {
   "cell_type": "code",
   "execution_count": 26,
   "metadata": {
    "scrolled": true
   },
   "outputs": [
    {
     "name": "stdout",
     "output_type": "stream",
     "text": [
      "Train on 7500 samples, validate on 2500 samples\n",
      "Epoch 1/30\n",
      "7500/7500 [==============================] - 0s 59us/step - loss: 0.7646 - val_loss: 0.3400\n",
      "Epoch 2/30\n",
      "7500/7500 [==============================] - 0s 23us/step - loss: 0.2612 - val_loss: 0.2112\n",
      "Epoch 3/30\n",
      "7500/7500 [==============================] - 0s 22us/step - loss: 0.1833 - val_loss: 0.1637\n",
      "Epoch 4/30\n",
      "7500/7500 [==============================] - 0s 22us/step - loss: 0.1491 - val_loss: 0.1400\n",
      "Epoch 5/30\n",
      "7500/7500 [==============================] - 0s 21us/step - loss: 0.1312 - val_loss: 0.1258\n",
      "Epoch 6/30\n",
      "7500/7500 [==============================] - 0s 19us/step - loss: 0.1207 - val_loss: 0.1169\n",
      "Epoch 7/30\n",
      "7500/7500 [==============================] - 0s 20us/step - loss: 0.1136 - val_loss: 0.1103\n",
      "Epoch 8/30\n",
      "7500/7500 [==============================] - 0s 20us/step - loss: 0.1079 - val_loss: 0.1054\n",
      "Epoch 9/30\n",
      "7500/7500 [==============================] - 0s 21us/step - loss: 0.1035 - val_loss: 0.1016\n",
      "Epoch 10/30\n",
      "7500/7500 [==============================] - 0s 20us/step - loss: 0.0995 - val_loss: 0.0979\n",
      "Epoch 11/30\n",
      "7500/7500 [==============================] - 0s 21us/step - loss: 0.0960 - val_loss: 0.0945\n",
      "Epoch 12/30\n",
      "7500/7500 [==============================] - 0s 22us/step - loss: 0.0923 - val_loss: 0.0910\n",
      "Epoch 13/30\n",
      "7500/7500 [==============================] - 0s 20us/step - loss: 0.0888 - val_loss: 0.0876\n",
      "Epoch 14/30\n",
      "7500/7500 [==============================] - 0s 19us/step - loss: 0.0854 - val_loss: 0.0844\n",
      "Epoch 15/30\n",
      "7500/7500 [==============================] - 0s 19us/step - loss: 0.0822 - val_loss: 0.0815\n",
      "Epoch 16/30\n",
      "7500/7500 [==============================] - 0s 18us/step - loss: 0.0794 - val_loss: 0.0788\n",
      "Epoch 17/30\n",
      "7500/7500 [==============================] - 0s 19us/step - loss: 0.0767 - val_loss: 0.0759\n",
      "Epoch 18/30\n",
      "7500/7500 [==============================] - 0s 18us/step - loss: 0.0745 - val_loss: 0.0741\n",
      "Epoch 19/30\n",
      "7500/7500 [==============================] - 0s 19us/step - loss: 0.0721 - val_loss: 0.0717\n",
      "Epoch 20/30\n",
      "7500/7500 [==============================] - 0s 19us/step - loss: 0.0701 - val_loss: 0.0700\n",
      "Epoch 21/30\n",
      "7500/7500 [==============================] - 0s 19us/step - loss: 0.0684 - val_loss: 0.0684\n",
      "Epoch 22/30\n",
      "7500/7500 [==============================] - 0s 19us/step - loss: 0.0668 - val_loss: 0.0670\n",
      "Epoch 23/30\n",
      "7500/7500 [==============================] - 0s 26us/step - loss: 0.0655 - val_loss: 0.0657\n",
      "Epoch 24/30\n",
      "7500/7500 [==============================] - 0s 20us/step - loss: 0.0641 - val_loss: 0.0644\n",
      "Epoch 25/30\n",
      "7500/7500 [==============================] - 0s 19us/step - loss: 0.0629 - val_loss: 0.0635\n",
      "Epoch 26/30\n",
      "7500/7500 [==============================] - 0s 19us/step - loss: 0.0619 - val_loss: 0.0629\n",
      "Epoch 27/30\n",
      "7500/7500 [==============================] - 0s 20us/step - loss: 0.0610 - val_loss: 0.0621\n",
      "Epoch 28/30\n",
      "7500/7500 [==============================] - 0s 19us/step - loss: 0.0603 - val_loss: 0.0613\n",
      "Epoch 29/30\n",
      "7500/7500 [==============================] - 0s 23us/step - loss: 0.0593 - val_loss: 0.0612\n",
      "Epoch 30/30\n",
      "7500/7500 [==============================] - 0s 23us/step - loss: 0.0586 - val_loss: 0.0603\n"
     ]
    },
    {
     "data": {
      "text/plain": [
       "<keras.callbacks.History at 0x1a296feac8>"
      ]
     },
     "execution_count": 26,
     "metadata": {},
     "output_type": "execute_result"
    }
   ],
   "source": [
    "model.fit(X_train,y_train,validation_data=(X_test,y_test),epochs=30,batch_size=100) # added the test sets to validate  "
   ]
  },
  {
   "cell_type": "markdown",
   "metadata": {},
   "source": [
    "## Making predictions"
   ]
  },
  {
   "cell_type": "code",
   "execution_count": 9,
   "metadata": {},
   "outputs": [
    {
     "data": {
      "text/plain": [
       "array([[  46.290806],\n",
       "       [ 120.41779 ],\n",
       "       [ 340.58105 ],\n",
       "       ...,\n",
       "       [ 220.00803 ],\n",
       "       [ 166.45573 ],\n",
       "       [-287.46686 ]], dtype=float32)"
      ]
     },
     "execution_count": 9,
     "metadata": {},
     "output_type": "execute_result"
    }
   ],
   "source": [
    "model.predict(X_test)"
   ]
  },
  {
   "cell_type": "markdown",
   "metadata": {},
   "source": [
    "# Binary Classification"
   ]
  },
  {
   "cell_type": "markdown",
   "metadata": {},
   "source": [
    "## Train/Test Split + Scaling"
   ]
  },
  {
   "cell_type": "code",
   "execution_count": 10,
   "metadata": {},
   "outputs": [],
   "source": [
    "X, y = make_classification(n_samples=10000, n_features=20, random_state=42)"
   ]
  },
  {
   "cell_type": "code",
   "execution_count": 11,
   "metadata": {},
   "outputs": [],
   "source": [
    "X_train,X_test,y_train,y_test = train_test_split(X,y,random_state=42)"
   ]
  },
  {
   "cell_type": "code",
   "execution_count": 12,
   "metadata": {},
   "outputs": [
    {
     "data": {
      "text/plain": [
       "0.49946666666666667"
      ]
     },
     "execution_count": 12,
     "metadata": {},
     "output_type": "execute_result"
    }
   ],
   "source": [
    "y_train.mean()"
   ]
  },
  {
   "cell_type": "code",
   "execution_count": 13,
   "metadata": {},
   "outputs": [
    {
     "data": {
      "text/plain": [
       "array([[ 0.69357038,  0.84641096,  1.56192168, ..., -1.68764223,\n",
       "         1.46785723,  0.54732138],\n",
       "       [ 0.65175054,  0.34222599, -2.19955382, ...,  0.52890499,\n",
       "        -0.7367943 , -0.93352669],\n",
       "       [ 1.31481216,  0.87106596,  0.37190012, ...,  0.05495774,\n",
       "         0.26208964, -1.30598539],\n",
       "       ...,\n",
       "       [ 0.88937402,  0.9544647 , -1.27872492, ...,  2.02849079,\n",
       "         0.57431893,  0.2836058 ],\n",
       "       [ 0.01266585, -0.00662172,  0.36479828, ...,  1.65873752,\n",
       "         2.18107233, -0.0605481 ],\n",
       "       [ 1.12601047,  1.41427483, -0.01254065, ...,  0.34362974,\n",
       "         0.92245779,  1.0167871 ]])"
      ]
     },
     "execution_count": 13,
     "metadata": {},
     "output_type": "execute_result"
    }
   ],
   "source": [
    "SS=StandardScaler()\n",
    "ss.fit_transform(X_train)\n",
    "ss.transform(X_test)"
   ]
  },
  {
   "cell_type": "markdown",
   "metadata": {},
   "source": [
    "## Creating your model"
   ]
  },
  {
   "cell_type": "code",
   "execution_count": 29,
   "metadata": {},
   "outputs": [],
   "source": [
    "model=Sequential()\n",
    "model.add(Dense(20,activation='relu',input_dim=X_train.shape[1])) \n",
    "model.add(Dense(10,activation='relu'))\n",
    "model.add(Dense(1,activation='sigmoid')) # output layer # in classification models sigmoid needs to be used "
   ]
  },
  {
   "cell_type": "markdown",
   "metadata": {},
   "source": [
    "## Compiling\n",
    "\n",
    "- loss\n",
    "- optimizer\n",
    "- optional: metrics"
   ]
  },
  {
   "cell_type": "code",
   "execution_count": 30,
   "metadata": {},
   "outputs": [],
   "source": [
    "model.compile(loss='binary_crossentropy',optimizer='adam',metrics=['accuracy'])"
   ]
  },
  {
   "cell_type": "code",
   "execution_count": 31,
   "metadata": {},
   "outputs": [
    {
     "name": "stdout",
     "output_type": "stream",
     "text": [
      "Train on 7500 samples, validate on 2500 samples\n",
      "Epoch 1/40\n",
      "7500/7500 [==============================] - 1s 77us/step - loss: 0.6236 - acc: 0.6617 - val_loss: 0.5268 - val_acc: 0.7968\n",
      "Epoch 2/40\n",
      "7500/7500 [==============================] - 0s 22us/step - loss: 0.4319 - acc: 0.8340 - val_loss: 0.3496 - val_acc: 0.8696\n",
      "Epoch 3/40\n",
      "7500/7500 [==============================] - 0s 25us/step - loss: 0.3215 - acc: 0.8721 - val_loss: 0.2992 - val_acc: 0.8876\n",
      "Epoch 4/40\n",
      "7500/7500 [==============================] - 0s 23us/step - loss: 0.2960 - acc: 0.8845 - val_loss: 0.2836 - val_acc: 0.8936\n",
      "Epoch 5/40\n",
      "7500/7500 [==============================] - 0s 25us/step - loss: 0.2854 - acc: 0.8912 - val_loss: 0.2741 - val_acc: 0.8960\n",
      "Epoch 6/40\n",
      "7500/7500 [==============================] - 0s 21us/step - loss: 0.2765 - acc: 0.8956 - val_loss: 0.2649 - val_acc: 0.9016\n",
      "Epoch 7/40\n",
      "7500/7500 [==============================] - 0s 21us/step - loss: 0.2677 - acc: 0.9028 - val_loss: 0.2569 - val_acc: 0.9056\n",
      "Epoch 8/40\n",
      "7500/7500 [==============================] - 0s 21us/step - loss: 0.2591 - acc: 0.9093 - val_loss: 0.2486 - val_acc: 0.9132\n",
      "Epoch 9/40\n",
      "7500/7500 [==============================] - 0s 24us/step - loss: 0.2510 - acc: 0.9156 - val_loss: 0.2410 - val_acc: 0.9164\n",
      "Epoch 10/40\n",
      "7500/7500 [==============================] - 0s 23us/step - loss: 0.2441 - acc: 0.9203 - val_loss: 0.2360 - val_acc: 0.9204\n",
      "Epoch 11/40\n",
      "7500/7500 [==============================] - 0s 22us/step - loss: 0.2387 - acc: 0.9248 - val_loss: 0.2318 - val_acc: 0.9232\n",
      "Epoch 12/40\n",
      "7500/7500 [==============================] - 0s 21us/step - loss: 0.2344 - acc: 0.9268 - val_loss: 0.2286 - val_acc: 0.9240\n",
      "Epoch 13/40\n",
      "7500/7500 [==============================] - 0s 21us/step - loss: 0.2312 - acc: 0.9295 - val_loss: 0.2258 - val_acc: 0.9272\n",
      "Epoch 14/40\n",
      "7500/7500 [==============================] - 0s 22us/step - loss: 0.2281 - acc: 0.9300 - val_loss: 0.2239 - val_acc: 0.9288\n",
      "Epoch 15/40\n",
      "7500/7500 [==============================] - 0s 22us/step - loss: 0.2257 - acc: 0.9323 - val_loss: 0.2222 - val_acc: 0.9272\n",
      "Epoch 16/40\n",
      "7500/7500 [==============================] - 0s 22us/step - loss: 0.2241 - acc: 0.9320 - val_loss: 0.2217 - val_acc: 0.9276\n",
      "Epoch 17/40\n",
      "7500/7500 [==============================] - 0s 21us/step - loss: 0.2225 - acc: 0.9345 - val_loss: 0.2207 - val_acc: 0.9272\n",
      "Epoch 18/40\n",
      "7500/7500 [==============================] - 0s 22us/step - loss: 0.2209 - acc: 0.9344 - val_loss: 0.2202 - val_acc: 0.9296\n",
      "Epoch 19/40\n",
      "7500/7500 [==============================] - 0s 25us/step - loss: 0.2195 - acc: 0.9349 - val_loss: 0.2201 - val_acc: 0.9288\n",
      "Epoch 20/40\n",
      "7500/7500 [==============================] - 0s 22us/step - loss: 0.2181 - acc: 0.9359 - val_loss: 0.2189 - val_acc: 0.9292\n",
      "Epoch 21/40\n",
      "7500/7500 [==============================] - 0s 22us/step - loss: 0.2172 - acc: 0.9357 - val_loss: 0.2184 - val_acc: 0.9308\n",
      "Epoch 22/40\n",
      "7500/7500 [==============================] - 0s 22us/step - loss: 0.2161 - acc: 0.9367 - val_loss: 0.2180 - val_acc: 0.9292\n",
      "Epoch 23/40\n",
      "7500/7500 [==============================] - 0s 22us/step - loss: 0.2151 - acc: 0.9365 - val_loss: 0.2174 - val_acc: 0.9296\n",
      "Epoch 24/40\n",
      "7500/7500 [==============================] - 0s 25us/step - loss: 0.2142 - acc: 0.9377 - val_loss: 0.2172 - val_acc: 0.9304\n",
      "Epoch 25/40\n",
      "7500/7500 [==============================] - 0s 30us/step - loss: 0.2135 - acc: 0.9371 - val_loss: 0.2181 - val_acc: 0.9308\n",
      "Epoch 26/40\n",
      "7500/7500 [==============================] - 0s 24us/step - loss: 0.2127 - acc: 0.9377 - val_loss: 0.2167 - val_acc: 0.9308\n",
      "Epoch 27/40\n",
      "7500/7500 [==============================] - 0s 23us/step - loss: 0.2117 - acc: 0.9381 - val_loss: 0.2163 - val_acc: 0.9312\n",
      "Epoch 28/40\n",
      "7500/7500 [==============================] - 0s 22us/step - loss: 0.2109 - acc: 0.9380 - val_loss: 0.2158 - val_acc: 0.9312\n",
      "Epoch 29/40\n",
      "7500/7500 [==============================] - 0s 22us/step - loss: 0.2103 - acc: 0.9377 - val_loss: 0.2157 - val_acc: 0.9312\n",
      "Epoch 30/40\n",
      "7500/7500 [==============================] - 0s 22us/step - loss: 0.2094 - acc: 0.9381 - val_loss: 0.2153 - val_acc: 0.9308\n",
      "Epoch 31/40\n",
      "7500/7500 [==============================] - 0s 21us/step - loss: 0.2089 - acc: 0.9389 - val_loss: 0.2150 - val_acc: 0.9304\n",
      "Epoch 32/40\n",
      "7500/7500 [==============================] - 0s 21us/step - loss: 0.2080 - acc: 0.9385 - val_loss: 0.2142 - val_acc: 0.9312\n",
      "Epoch 33/40\n",
      "7500/7500 [==============================] - 0s 23us/step - loss: 0.2076 - acc: 0.9383 - val_loss: 0.2140 - val_acc: 0.9308\n",
      "Epoch 34/40\n",
      "7500/7500 [==============================] - 0s 22us/step - loss: 0.2070 - acc: 0.9385 - val_loss: 0.2136 - val_acc: 0.9304\n",
      "Epoch 35/40\n",
      "7500/7500 [==============================] - 0s 21us/step - loss: 0.2060 - acc: 0.9395 - val_loss: 0.2137 - val_acc: 0.9308\n",
      "Epoch 36/40\n",
      "7500/7500 [==============================] - 0s 22us/step - loss: 0.2055 - acc: 0.9396 - val_loss: 0.2132 - val_acc: 0.9320\n",
      "Epoch 37/40\n",
      "7500/7500 [==============================] - 0s 21us/step - loss: 0.2050 - acc: 0.9399 - val_loss: 0.2125 - val_acc: 0.9320\n",
      "Epoch 38/40\n",
      "7500/7500 [==============================] - 0s 21us/step - loss: 0.2044 - acc: 0.9397 - val_loss: 0.2121 - val_acc: 0.9324\n",
      "Epoch 39/40\n",
      "7500/7500 [==============================] - 0s 21us/step - loss: 0.2036 - acc: 0.9387 - val_loss: 0.2122 - val_acc: 0.9320\n",
      "Epoch 40/40\n",
      "7500/7500 [==============================] - 0s 21us/step - loss: 0.2027 - acc: 0.9395 - val_loss: 0.2115 - val_acc: 0.9320\n"
     ]
    },
    {
     "data": {
      "text/plain": [
       "<keras.callbacks.History at 0x1a2a9ad780>"
      ]
     },
     "execution_count": 31,
     "metadata": {},
     "output_type": "execute_result"
    }
   ],
   "source": [
    "model.fit(X_train,y_train,validation_data=(X_test,y_test),epochs=40,batch_size=100) # added the test sets to validate  "
   ]
  },
  {
   "cell_type": "markdown",
   "metadata": {},
   "source": [
    "## Fitting"
   ]
  },
  {
   "cell_type": "code",
   "execution_count": 32,
   "metadata": {},
   "outputs": [
    {
     "name": "stdout",
     "output_type": "stream",
     "text": [
      "Train on 7500 samples, validate on 2500 samples\n",
      "Epoch 1/40\n",
      "7500/7500 [==============================] - 0s 22us/step - loss: 0.2023 - acc: 0.9392 - val_loss: 0.2116 - val_acc: 0.9312\n",
      "Epoch 2/40\n",
      "7500/7500 [==============================] - 0s 22us/step - loss: 0.2015 - acc: 0.9397 - val_loss: 0.2119 - val_acc: 0.9320\n",
      "Epoch 3/40\n",
      "7500/7500 [==============================] - 0s 21us/step - loss: 0.2008 - acc: 0.9395 - val_loss: 0.2106 - val_acc: 0.9332\n",
      "Epoch 4/40\n",
      "7500/7500 [==============================] - 0s 22us/step - loss: 0.2000 - acc: 0.9396 - val_loss: 0.2108 - val_acc: 0.9316\n",
      "Epoch 5/40\n",
      "7500/7500 [==============================] - 0s 22us/step - loss: 0.1993 - acc: 0.9404 - val_loss: 0.2109 - val_acc: 0.9328\n",
      "Epoch 6/40\n",
      "7500/7500 [==============================] - 0s 20us/step - loss: 0.1988 - acc: 0.9401 - val_loss: 0.2107 - val_acc: 0.9324\n",
      "Epoch 7/40\n",
      "7500/7500 [==============================] - 0s 22us/step - loss: 0.1982 - acc: 0.9389 - val_loss: 0.2108 - val_acc: 0.9316\n",
      "Epoch 8/40\n",
      "7500/7500 [==============================] - 0s 22us/step - loss: 0.1976 - acc: 0.9397 - val_loss: 0.2109 - val_acc: 0.9320\n",
      "Epoch 9/40\n",
      "7500/7500 [==============================] - 0s 22us/step - loss: 0.1970 - acc: 0.9408 - val_loss: 0.2106 - val_acc: 0.9324\n",
      "Epoch 10/40\n",
      "7500/7500 [==============================] - 0s 22us/step - loss: 0.1969 - acc: 0.9408 - val_loss: 0.2108 - val_acc: 0.9332\n",
      "Epoch 11/40\n",
      "7500/7500 [==============================] - 0s 22us/step - loss: 0.1960 - acc: 0.9411 - val_loss: 0.2103 - val_acc: 0.9328\n",
      "Epoch 12/40\n",
      "7500/7500 [==============================] - 0s 21us/step - loss: 0.1952 - acc: 0.9411 - val_loss: 0.2108 - val_acc: 0.9332\n",
      "Epoch 13/40\n",
      "7500/7500 [==============================] - 0s 22us/step - loss: 0.1949 - acc: 0.9412 - val_loss: 0.2102 - val_acc: 0.9336\n",
      "Epoch 14/40\n",
      "7500/7500 [==============================] - 0s 22us/step - loss: 0.1943 - acc: 0.9407 - val_loss: 0.2107 - val_acc: 0.9340\n",
      "Epoch 15/40\n",
      "7500/7500 [==============================] - 0s 22us/step - loss: 0.1945 - acc: 0.9411 - val_loss: 0.2099 - val_acc: 0.9324\n",
      "Epoch 16/40\n",
      "7500/7500 [==============================] - 0s 22us/step - loss: 0.1933 - acc: 0.9407 - val_loss: 0.2101 - val_acc: 0.9336\n",
      "Epoch 17/40\n",
      "7500/7500 [==============================] - 0s 22us/step - loss: 0.1930 - acc: 0.9419 - val_loss: 0.2105 - val_acc: 0.9336\n",
      "Epoch 18/40\n",
      "7500/7500 [==============================] - 0s 21us/step - loss: 0.1919 - acc: 0.9409 - val_loss: 0.2116 - val_acc: 0.9336\n",
      "Epoch 19/40\n",
      "7500/7500 [==============================] - 0s 24us/step - loss: 0.1919 - acc: 0.9423 - val_loss: 0.2111 - val_acc: 0.9340\n",
      "Epoch 20/40\n",
      "7500/7500 [==============================] - 0s 25us/step - loss: 0.1914 - acc: 0.9423 - val_loss: 0.2127 - val_acc: 0.9336\n",
      "Epoch 21/40\n",
      "7500/7500 [==============================] - 0s 22us/step - loss: 0.1907 - acc: 0.9420 - val_loss: 0.2107 - val_acc: 0.9336\n",
      "Epoch 22/40\n",
      "7500/7500 [==============================] - 0s 21us/step - loss: 0.1899 - acc: 0.9421 - val_loss: 0.2115 - val_acc: 0.9336\n",
      "Epoch 23/40\n",
      "7500/7500 [==============================] - 0s 21us/step - loss: 0.1899 - acc: 0.9419 - val_loss: 0.2113 - val_acc: 0.9332\n",
      "Epoch 24/40\n",
      "7500/7500 [==============================] - 0s 22us/step - loss: 0.1898 - acc: 0.9409 - val_loss: 0.2116 - val_acc: 0.9324\n",
      "Epoch 25/40\n",
      "7500/7500 [==============================] - 0s 22us/step - loss: 0.1880 - acc: 0.9427 - val_loss: 0.2119 - val_acc: 0.9336\n",
      "Epoch 26/40\n",
      "7500/7500 [==============================] - 0s 22us/step - loss: 0.1880 - acc: 0.9416 - val_loss: 0.2112 - val_acc: 0.9328\n",
      "Epoch 27/40\n",
      "7500/7500 [==============================] - 0s 22us/step - loss: 0.1874 - acc: 0.9420 - val_loss: 0.2119 - val_acc: 0.9332\n",
      "Epoch 28/40\n",
      "7500/7500 [==============================] - 0s 21us/step - loss: 0.1867 - acc: 0.9427 - val_loss: 0.2121 - val_acc: 0.9332\n",
      "Epoch 29/40\n",
      "7500/7500 [==============================] - 0s 22us/step - loss: 0.1859 - acc: 0.9431 - val_loss: 0.2113 - val_acc: 0.9324\n",
      "Epoch 30/40\n",
      "7500/7500 [==============================] - 0s 23us/step - loss: 0.1858 - acc: 0.9428 - val_loss: 0.2122 - val_acc: 0.9320\n",
      "Epoch 31/40\n",
      "7500/7500 [==============================] - 0s 25us/step - loss: 0.1850 - acc: 0.9429 - val_loss: 0.2121 - val_acc: 0.9340\n",
      "Epoch 32/40\n",
      "7500/7500 [==============================] - 0s 22us/step - loss: 0.1846 - acc: 0.9428 - val_loss: 0.2117 - val_acc: 0.9336\n",
      "Epoch 33/40\n",
      "7500/7500 [==============================] - 0s 21us/step - loss: 0.1836 - acc: 0.9424 - val_loss: 0.2133 - val_acc: 0.9336\n",
      "Epoch 34/40\n",
      "7500/7500 [==============================] - 0s 21us/step - loss: 0.1837 - acc: 0.9433 - val_loss: 0.2121 - val_acc: 0.9340\n",
      "Epoch 35/40\n",
      "7500/7500 [==============================] - 0s 21us/step - loss: 0.1831 - acc: 0.9439 - val_loss: 0.2131 - val_acc: 0.9336\n",
      "Epoch 36/40\n",
      "7500/7500 [==============================] - 0s 22us/step - loss: 0.1823 - acc: 0.9437 - val_loss: 0.2128 - val_acc: 0.9332\n",
      "Epoch 37/40\n",
      "7500/7500 [==============================] - 0s 22us/step - loss: 0.1818 - acc: 0.9448 - val_loss: 0.2125 - val_acc: 0.9344\n",
      "Epoch 38/40\n",
      "7500/7500 [==============================] - 0s 22us/step - loss: 0.1815 - acc: 0.9435 - val_loss: 0.2131 - val_acc: 0.9344\n",
      "Epoch 39/40\n",
      "7500/7500 [==============================] - 0s 21us/step - loss: 0.1815 - acc: 0.9429 - val_loss: 0.2134 - val_acc: 0.9332\n",
      "Epoch 40/40\n",
      "7500/7500 [==============================] - 0s 21us/step - loss: 0.1807 - acc: 0.9441 - val_loss: 0.2128 - val_acc: 0.9340\n"
     ]
    }
   ],
   "source": [
    "history=model.fit(X_train,y_train,validation_data=(X_test,y_test),epochs=40,batch_size=100)"
   ]
  },
  {
   "cell_type": "markdown",
   "metadata": {},
   "source": [
    "## Using `history` to plot losses"
   ]
  },
  {
   "cell_type": "code",
   "execution_count": 62,
   "metadata": {},
   "outputs": [
    {
     "data": {
      "image/png": "[encoded data removed]",
      "text/plain": [
       "<Figure size 432x288 with 1 Axes>"
      ]
     },
     "metadata": {},
     "output_type": "display_data"
    }
   ],
   "source": [
    "plt.plot(history.history['val_loss'], label='Test loss')\n",
    "plt.plot(history.history['loss'], label='Train loss')\n",
    "plt.legend();"
   ]
  },
  {
   "cell_type": "code",
   "execution_count": 63,
   "metadata": {},
   "outputs": [
    {
     "data": {
      "image/png": "[encoded data removed]",
      "text/plain": [
       "<Figure size 432x288 with 1 Axes>"
      ]
     },
     "metadata": {},
     "output_type": "display_data"
    }
   ],
   "source": [
    "plt.plot(history.history['val_acc'], label='Test Accuracy')\n",
    "plt.plot(history.history['acc'], label='Train Accuracy')\n",
    "plt.legend();"
   ]
  },
  {
   "cell_type": "markdown",
   "metadata": {},
   "source": [
    "# Multiclass Classification"
   ]
  },
  {
   "cell_type": "markdown",
   "metadata": {},
   "source": [
    "## Data Prep"
   ]
  },
  {
   "cell_type": "code",
   "execution_count": 34,
   "metadata": {},
   "outputs": [],
   "source": [
    "data = load_iris()\n",
    "X_train, X_test, y_train, y_test = train_test_split(data.data, data.target)"
   ]
  },
  {
   "cell_type": "code",
   "execution_count": 35,
   "metadata": {},
   "outputs": [
    {
     "data": {
      "text/plain": [
       "array([[-9.93540349e-01,  1.01010609e+00, -1.16732019e+00,\n",
       "        -7.30734879e-01],\n",
       "       [ 2.35219018e+00, -6.16019524e-01,  1.74562560e+00,\n",
       "         1.07650848e+00],\n",
       "       [ 3.69535052e-01, -1.51412206e-01,  7.17527088e-01,\n",
       "         8.18330858e-01],\n",
       "       [ 4.93450997e-01, -2.00984148e+00,  4.89060752e-01,\n",
       "         4.31064424e-01],\n",
       "       [ 1.98044234e+00, -6.16019524e-01,  1.40292610e+00,\n",
       "         9.47419669e-01],\n",
       "       [ 2.35219018e+00,  1.70701706e+00,  1.74562560e+00,\n",
       "         1.33468610e+00],\n",
       "       [ 2.60002207e+00,  1.70701706e+00,  1.57427585e+00,\n",
       "         1.07650848e+00],\n",
       "       [ 1.23694667e+00,  3.13195111e-01,  1.28869293e+00,\n",
       "         1.46377491e+00],\n",
       "       [-2.21278474e-03, -8.48323182e-01,  1.46361247e-01,\n",
       "         4.37979896e-02],\n",
       "       [ 1.11303073e+00, -1.51412206e-01,  7.74643672e-01,\n",
       "         6.89242047e-01],\n",
       "       [-3.73960621e-01, -1.77753782e+00,  2.03477831e-01,\n",
       "         1.72886801e-01],\n",
       "       [-8.69624403e-01,  1.01010609e+00, -1.28155336e+00,\n",
       "        -1.11800131e+00],\n",
       "       [ 7.41282888e-01,  8.08914526e-02,  1.06022659e+00,\n",
       "         8.18330858e-01],\n",
       "       [ 6.17366943e-01, -3.83715865e-01,  1.11734318e+00,\n",
       "         8.18330858e-01],\n",
       "       [ 1.73261045e+00,  1.24240975e+00,  1.40292610e+00,\n",
       "         1.72195254e+00],\n",
       "       [ 9.89114780e-01, -3.83715865e-01,  5.46177336e-01,\n",
       "         1.72886801e-01],\n",
       "       [-1.11745629e+00, -1.54523416e+00, -1.96338258e-01,\n",
       "        -2.14379633e-01],\n",
       "       [-2.50044676e-01, -6.16019524e-01,  7.17527088e-01,\n",
       "         1.07650848e+00],\n",
       "       [-1.26128730e-01, -1.51412206e-01,  3.17710999e-01,\n",
       "         4.37979896e-02],\n",
       "       [-8.69624403e-01,  1.01010609e+00, -1.28155336e+00,\n",
       "        -1.24709012e+00],\n",
       "       [-8.69624403e-01,  1.47471341e+00, -1.22443677e+00,\n",
       "        -9.88912502e-01],\n",
       "       [ 6.17366943e-01, -1.31293050e+00,  7.74643672e-01,\n",
       "         9.47419669e-01],\n",
       "       [ 9.89114780e-01, -1.51412206e-01,  4.31944168e-01,\n",
       "         3.01975612e-01],\n",
       "       [-1.24137224e+00,  7.77802429e-01, -9.95970436e-01,\n",
       "        -1.24709012e+00],\n",
       "       [ 1.21703161e-01, -1.51412206e-01,  8.31760257e-01,\n",
       "         8.18330858e-01],\n",
       "       [ 3.69535052e-01, -1.08062684e+00,  1.11734318e+00,\n",
       "         3.01975612e-01],\n",
       "       [ 6.17366943e-01, -6.16019524e-01,  8.31760257e-01,\n",
       "         4.31064424e-01],\n",
       "       [-7.45708458e-01,  1.01010609e+00, -1.22443677e+00,\n",
       "        -1.24709012e+00],\n",
       "       [-8.69624403e-01,  1.70701706e+00, -1.22443677e+00,\n",
       "        -1.11800131e+00],\n",
       "       [-2.21278474e-03, -8.48323182e-01,  2.60594415e-01,\n",
       "        -2.14379633e-01],\n",
       "       [ 8.65198834e-01, -1.51412206e-01,  1.23157635e+00,\n",
       "         1.33468610e+00],\n",
       "       [-3.73960621e-01,  1.01010609e+00, -1.33866994e+00,\n",
       "        -1.24709012e+00],\n",
       "       [-1.73703602e+00, -3.83715865e-01, -1.28155336e+00,\n",
       "        -1.24709012e+00],\n",
       "       [-3.73960621e-01, -1.54523416e+00,  3.21280786e-02,\n",
       "        -2.14379633e-01],\n",
       "       [ 3.69535052e-01, -3.83715865e-01,  6.03293920e-01,\n",
       "         3.01975612e-01],\n",
       "       [-1.11745629e+00,  8.08914526e-02, -1.22443677e+00,\n",
       "        -1.37617894e+00],\n",
       "       [-1.26128730e-01, -1.31293050e+00,  7.74643672e-01,\n",
       "         1.07650848e+00],\n",
       "       [-7.45708458e-01, -8.48323182e-01,  1.46361247e-01,\n",
       "         3.01975612e-01]])"
      ]
     },
     "execution_count": 35,
     "metadata": {},
     "output_type": "execute_result"
    }
   ],
   "source": [
    "ss=StandardScaler()\n",
    "ss.fit_transform(X_train)\n",
    "ss.transform(X_test)"
   ]
  },
  {
   "cell_type": "code",
   "execution_count": 36,
   "metadata": {},
   "outputs": [],
   "source": [
    "y_train=to_categorical(y_train)\n",
    "y_test=to_categorical(y_test)"
   ]
  },
  {
   "cell_type": "markdown",
   "metadata": {},
   "source": [
    "## Creating your model"
   ]
  },
  {
   "cell_type": "code",
   "execution_count": 37,
   "metadata": {},
   "outputs": [
    {
     "data": {
      "text/plain": [
       "(112, 4)"
      ]
     },
     "execution_count": 37,
     "metadata": {},
     "output_type": "execute_result"
    }
   ],
   "source": [
    "X_train.shape"
   ]
  },
  {
   "cell_type": "code",
   "execution_count": 56,
   "metadata": {},
   "outputs": [],
   "source": [
    "model3 = Sequential()\n",
    "model3.add(Dense(4, activation='relu', input_dim=4))\n",
    "model3.add(Dense(8, activation='relu'))\n",
    "model3.add(Dense(3, activation='softmax'))  # one output neuron per class for multiclass"
   ]
  },
  {
   "cell_type": "markdown",
   "metadata": {},
   "source": [
    "## Compiling your model"
   ]
  },
  {
   "cell_type": "code",
   "execution_count": 58,
   "metadata": {},
   "outputs": [],
   "source": [
    "model3.compile(loss='categorical_crossentropy',optimizer='adam',metrics=['accuracy'])"
   ]
  },
  {
   "cell_type": "markdown",
   "metadata": {},
   "source": [
    "## Fitting"
   ]
  },
  {
   "cell_type": "code",
   "execution_count": 59,
   "metadata": {},
   "outputs": [
    {
     "name": "stdout",
     "output_type": "stream",
     "text": [
      "Train on 112 samples, validate on 38 samples\n",
      "Epoch 1/50\n",
      "112/112 [==============================] - 0s 4ms/step - loss: 3.2286 - acc: 0.3036 - val_loss: 2.7077 - val_acc: 0.4211\n",
      "Epoch 2/50\n",
      "112/112 [==============================] - 0s 106us/step - loss: 2.9952 - acc: 0.3036 - val_loss: 2.5109 - val_acc: 0.4211\n",
      "Epoch 3/50\n",
      "112/112 [==============================] - 0s 137us/step - loss: 2.7634 - acc: 0.3036 - val_loss: 2.3238 - val_acc: 0.4211\n",
      "Epoch 4/50\n",
      "112/112 [==============================] - 0s 128us/step - loss: 2.5526 - acc: 0.3036 - val_loss: 2.1423 - val_acc: 0.4211\n",
      "Epoch 5/50\n",
      "112/112 [==============================] - 0s 142us/step - loss: 2.3491 - acc: 0.3036 - val_loss: 1.9661 - val_acc: 0.4211\n",
      "Epoch 6/50\n",
      "112/112 [==============================] - 0s 137us/step - loss: 2.1524 - acc: 0.3036 - val_loss: 1.7963 - val_acc: 0.4211\n",
      "Epoch 7/50\n",
      "112/112 [==============================] - 0s 136us/step - loss: 1.9578 - acc: 0.3036 - val_loss: 1.6317 - val_acc: 0.4211\n",
      "Epoch 8/50\n",
      "112/112 [==============================] - 0s 135us/step - loss: 1.7741 - acc: 0.3036 - val_loss: 1.4705 - val_acc: 0.4211\n",
      "Epoch 9/50\n",
      "112/112 [==============================] - 0s 151us/step - loss: 1.5961 - acc: 0.3036 - val_loss: 1.3156 - val_acc: 0.4211\n",
      "Epoch 10/50\n",
      "112/112 [==============================] - 0s 124us/step - loss: 1.4258 - acc: 0.3304 - val_loss: 1.1685 - val_acc: 0.4737\n",
      "Epoch 11/50\n",
      "112/112 [==============================] - 0s 111us/step - loss: 1.2613 - acc: 0.5089 - val_loss: 1.0336 - val_acc: 0.6842\n",
      "Epoch 12/50\n",
      "112/112 [==============================] - 0s 156us/step - loss: 1.1102 - acc: 0.6429 - val_loss: 0.9156 - val_acc: 0.6842\n",
      "Epoch 13/50\n",
      "112/112 [==============================] - 0s 120us/step - loss: 0.9865 - acc: 0.6518 - val_loss: 0.8211 - val_acc: 0.6842\n",
      "Epoch 14/50\n",
      "112/112 [==============================] - 0s 139us/step - loss: 0.8775 - acc: 0.6607 - val_loss: 0.7579 - val_acc: 0.6842\n",
      "Epoch 15/50\n",
      "112/112 [==============================] - 0s 142us/step - loss: 0.8071 - acc: 0.6607 - val_loss: 0.7227 - val_acc: 0.6842\n",
      "Epoch 16/50\n",
      "112/112 [==============================] - 0s 155us/step - loss: 0.7506 - acc: 0.6607 - val_loss: 0.7115 - val_acc: 0.6842\n",
      "Epoch 17/50\n",
      "112/112 [==============================] - 0s 125us/step - loss: 0.7268 - acc: 0.6429 - val_loss: 0.7144 - val_acc: 0.5526\n",
      "Epoch 18/50\n",
      "112/112 [==============================] - 0s 139us/step - loss: 0.7189 - acc: 0.4375 - val_loss: 0.7229 - val_acc: 0.5526\n",
      "Epoch 19/50\n",
      "112/112 [==============================] - 0s 167us/step - loss: 0.7114 - acc: 0.6696 - val_loss: 0.7261 - val_acc: 0.5526\n",
      "Epoch 20/50\n",
      "112/112 [==============================] - 0s 130us/step - loss: 0.7055 - acc: 0.6875 - val_loss: 0.7219 - val_acc: 0.5789\n",
      "Epoch 21/50\n",
      "112/112 [==============================] - 0s 135us/step - loss: 0.6975 - acc: 0.6875 - val_loss: 0.7103 - val_acc: 0.5526\n",
      "Epoch 22/50\n",
      "112/112 [==============================] - 0s 143us/step - loss: 0.6866 - acc: 0.6875 - val_loss: 0.6997 - val_acc: 0.5526\n",
      "Epoch 23/50\n",
      "112/112 [==============================] - 0s 116us/step - loss: 0.6769 - acc: 0.6607 - val_loss: 0.6878 - val_acc: 0.5789\n",
      "Epoch 24/50\n",
      "112/112 [==============================] - 0s 141us/step - loss: 0.6693 - acc: 0.5089 - val_loss: 0.6751 - val_acc: 0.4211\n",
      "Epoch 25/50\n",
      "112/112 [==============================] - 0s 129us/step - loss: 0.6597 - acc: 0.4375 - val_loss: 0.6657 - val_acc: 0.5526\n",
      "Epoch 26/50\n",
      "112/112 [==============================] - 0s 135us/step - loss: 0.6543 - acc: 0.4732 - val_loss: 0.6571 - val_acc: 0.5789\n",
      "Epoch 27/50\n",
      "112/112 [==============================] - 0s 135us/step - loss: 0.6486 - acc: 0.5179 - val_loss: 0.6512 - val_acc: 0.6316\n",
      "Epoch 28/50\n",
      "112/112 [==============================] - 0s 130us/step - loss: 0.6426 - acc: 0.5268 - val_loss: 0.6465 - val_acc: 0.6316\n",
      "Epoch 29/50\n",
      "112/112 [==============================] - 0s 126us/step - loss: 0.6378 - acc: 0.5357 - val_loss: 0.6424 - val_acc: 0.6316\n",
      "Epoch 30/50\n",
      "112/112 [==============================] - 0s 106us/step - loss: 0.6332 - acc: 0.5268 - val_loss: 0.6399 - val_acc: 0.6316\n",
      "Epoch 31/50\n",
      "112/112 [==============================] - 0s 143us/step - loss: 0.6293 - acc: 0.5268 - val_loss: 0.6383 - val_acc: 0.5526\n",
      "Epoch 32/50\n",
      "112/112 [==============================] - 0s 125us/step - loss: 0.6248 - acc: 0.4821 - val_loss: 0.6354 - val_acc: 0.5526\n",
      "Epoch 33/50\n",
      "112/112 [==============================] - 0s 131us/step - loss: 0.6206 - acc: 0.4821 - val_loss: 0.6322 - val_acc: 0.5526\n",
      "Epoch 34/50\n",
      "112/112 [==============================] - 0s 117us/step - loss: 0.6168 - acc: 0.4732 - val_loss: 0.6305 - val_acc: 0.5526\n",
      "Epoch 35/50\n",
      "112/112 [==============================] - 0s 105us/step - loss: 0.6136 - acc: 0.4554 - val_loss: 0.6267 - val_acc: 0.5526\n",
      "Epoch 36/50\n",
      "112/112 [==============================] - 0s 152us/step - loss: 0.6097 - acc: 0.4643 - val_loss: 0.6263 - val_acc: 0.5526\n",
      "Epoch 37/50\n",
      "112/112 [==============================] - 0s 108us/step - loss: 0.6062 - acc: 0.4732 - val_loss: 0.6249 - val_acc: 0.5000\n",
      "Epoch 38/50\n",
      "112/112 [==============================] - 0s 184us/step - loss: 0.6026 - acc: 0.4821 - val_loss: 0.6222 - val_acc: 0.5000\n",
      "Epoch 39/50\n",
      "112/112 [==============================] - 0s 119us/step - loss: 0.5991 - acc: 0.4732 - val_loss: 0.6173 - val_acc: 0.5526\n",
      "Epoch 40/50\n",
      "112/112 [==============================] - 0s 115us/step - loss: 0.5956 - acc: 0.4643 - val_loss: 0.6146 - val_acc: 0.5526\n",
      "Epoch 41/50\n",
      "112/112 [==============================] - 0s 161us/step - loss: 0.5924 - acc: 0.4732 - val_loss: 0.6102 - val_acc: 0.6316\n",
      "Epoch 42/50\n",
      "112/112 [==============================] - 0s 126us/step - loss: 0.5893 - acc: 0.5089 - val_loss: 0.6068 - val_acc: 0.6316\n",
      "Epoch 43/50\n",
      "112/112 [==============================] - 0s 117us/step - loss: 0.5862 - acc: 0.5000 - val_loss: 0.6052 - val_acc: 0.6316\n",
      "Epoch 44/50\n",
      "112/112 [==============================] - 0s 157us/step - loss: 0.5834 - acc: 0.4821 - val_loss: 0.6027 - val_acc: 0.6316\n",
      "Epoch 45/50\n",
      "112/112 [==============================] - 0s 126us/step - loss: 0.5801 - acc: 0.5179 - val_loss: 0.5983 - val_acc: 0.6316\n",
      "Epoch 46/50\n",
      "112/112 [==============================] - 0s 155us/step - loss: 0.5785 - acc: 0.5982 - val_loss: 0.5939 - val_acc: 0.6579\n",
      "Epoch 47/50\n",
      "112/112 [==============================] - 0s 147us/step - loss: 0.5749 - acc: 0.6429 - val_loss: 0.5929 - val_acc: 0.6316\n",
      "Epoch 48/50\n",
      "112/112 [==============================] - 0s 149us/step - loss: 0.5722 - acc: 0.6339 - val_loss: 0.5917 - val_acc: 0.6316\n",
      "Epoch 49/50\n",
      "112/112 [==============================] - 0s 188us/step - loss: 0.5691 - acc: 0.5536 - val_loss: 0.5930 - val_acc: 0.6316\n",
      "Epoch 50/50\n",
      "112/112 [==============================] - 0s 120us/step - loss: 0.5672 - acc: 0.4821 - val_loss: 0.5948 - val_acc: 0.5000\n"
     ]
    }
   ],
   "source": [
    "history=model3.fit(X_train,y_train,validation_data=(X_test,y_test),epochs=50)"
   ]
  },
  {
   "cell_type": "code",
   "execution_count": 60,
   "metadata": {},
   "outputs": [
    {
     "data": {
      "image/png": "[encoded data removed]",
      "text/plain": [
       "<Figure size 432x288 with 1 Axes>"
      ]
     },
     "metadata": {},
     "output_type": "display_data"
    }
   ],
   "source": [
    "plt.plot(history.history['val_acc'], label='Test Accuracy')\n",
    "plt.plot(history.history['acc'], label='Train Accuracy')\n",
    "plt.legend();"
   ]
  },
  {
   "cell_type": "code",
   "execution_count": 61,
   "metadata": {},
   "outputs": [
    {
     "data": {
      "image/png": "[encoded data removed]",
      "text/plain": [
       "<Figure size 432x288 with 1 Axes>"
      ]
     },
     "metadata": {},
     "output_type": "display_data"
    }
   ],
   "source": [
    "plt.plot(history.history['val_loss'], label='Test loss')\n",
    "plt.plot(history.history['loss'], label='Train loss')\n",
    "plt.legend();"
   ]
  },
  {
   "cell_type": "code",
   "execution_count": null,
   "metadata": {},
   "outputs": [],
   "source": []
  }
 ],
 "metadata": {
  "kernelspec": {
   "display_name": "Python [default]",
   "language": "python",
   "name": "python3"
  },
  "language_info": {
   "codemirror_mode": {
    "name": "ipython",
    "version": 3
   },
   "file_extension": ".py",
   "mimetype": "text/x-python",
   "name": "python",
   "nbconvert_exporter": "python",
   "pygments_lexer": "ipython3",
   "version": "3.6.4"
  }
 },
 "nbformat": 4,
 "nbformat_minor": 2
}
