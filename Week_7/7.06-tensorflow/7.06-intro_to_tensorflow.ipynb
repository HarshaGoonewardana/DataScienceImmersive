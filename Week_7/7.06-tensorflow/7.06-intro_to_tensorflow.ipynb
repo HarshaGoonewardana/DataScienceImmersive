{
 "cells": [
  {
   "cell_type": "markdown",
   "metadata": {},
   "source": [
    "<img src=\"http://imgur.com/1ZcRyrc.png\" style=\"float: left; margin: 20px; height: 55px\">\n",
    "\n",
    "# Neural Networks with TensorFlow\n",
    "\n",
    "_Authors: Justin Pounders (ATL) and Riley Dalles (ATX)_\n",
    "\n",
    "---\n",
    "\n",
    "<a id=\"learning-objectives\"></a>\n",
    "### Learning Objectives\n",
    "- Describe the basic `tensorflow` workflow.\n",
    "- Create computational graphs representing basic feed-forward neural networks.\n",
    "- Train neural networks using `tensorflow`\n",
    "- Create and train neural networks for both regression and classification"
   ]
  },
  {
   "cell_type": "code",
   "execution_count": 1,
   "metadata": {},
   "outputs": [],
   "source": [
    "import tensorflow as tf\n",
    "\n",
    "from sklearn.model_selection import train_test_split\n",
    "from sklearn.preprocessing import StandardScaler\n",
    "from sklearn import metrics\n",
    "\n",
    "import matplotlib.pyplot as plt\n",
    "import seaborn as sns\n",
    "\n",
    "%matplotlib inline"
   ]
  },
  {
   "cell_type": "markdown",
   "metadata": {},
   "source": [
    "## Computational Graphs\n",
    "\n",
    "---\n",
    "\n",
    "Tensorflow is fundamentally a library for creating **computational graphs**.\n",
    "\n",
    "![](assets/comp_graph.png)\n",
    "\n",
    "Let's define and evaluate this \"computational graph.\""
   ]
  },
  {
   "cell_type": "markdown",
   "metadata": {},
   "source": [
    "**There are two phases to building a `tensorflow` model.**\n",
    "\n",
    "1. Graph construction\n",
    "2. Training/evaluation"
   ]
  },
  {
   "cell_type": "code",
   "execution_count": 2,
   "metadata": {},
   "outputs": [],
   "source": [
    "# Build the graph\n",
    "a=tf.Variable(3,name='a')\n",
    "b=tf.Variable(4,name='b')\n",
    "c=a+b\n",
    "d=b+1\n",
    "e=c*d\n"
   ]
  },
  {
   "cell_type": "code",
   "execution_count": 3,
   "metadata": {},
   "outputs": [
    {
     "data": {
      "text/plain": [
       "<tf.Tensor 'mul:0' shape=() dtype=int32>"
      ]
     },
     "execution_count": 3,
     "metadata": {},
     "output_type": "execute_result"
    }
   ],
   "source": [
    "e"
   ]
  },
  {
   "cell_type": "code",
   "execution_count": 4,
   "metadata": {},
   "outputs": [
    {
     "name": "stdout",
     "output_type": "stream",
     "text": [
      "35\n"
     ]
    }
   ],
   "source": [
    "# Evaluate the graph\n",
    "init=tf.global_variables_initializer() # load the tensorflow \n",
    "# running tensorflow session as sess:\n",
    "with tf.Session() as sess:\n",
    "    init.run()\n",
    "    \n",
    "    result=sess.run(e)\n",
    "    print(result)"
   ]
  },
  {
   "cell_type": "markdown",
   "metadata": {},
   "source": [
    "## Building a Neural Network for Regression\n",
    "\n",
    "---"
   ]
  },
  {
   "cell_type": "markdown",
   "metadata": {},
   "source": [
    "Let's start by building a neural net for _regression_.  These are the steps we will follow:\n",
    "\n",
    "1. Load the data.\n",
    "2. Data cleaning/munging, feature engineering (will not do today)\n",
    "3. Make test/train splits. (Should we use cross validation?)\n",
    "4. Standardize the data.\n",
    "5. Build the computational graph for the neural network.\n",
    "6. Train the network using gradient descent a.k.a. back propogation.\n",
    "7. Evaluate performance and iterate.\n",
    "\n",
    "For regression, we will have one output unit (neuron) with _no_ activation function.  The value of this outpu unit will be prediction of the network given whatever input values went into the input layer."
   ]
  },
  {
   "cell_type": "markdown",
   "metadata": {},
   "source": [
    "### Steps 1-4"
   ]
  },
  {
   "cell_type": "code",
   "execution_count": 5,
   "metadata": {},
   "outputs": [],
   "source": [
    "from sklearn.datasets import fetch_california_housing\n",
    "data = fetch_california_housing()\n",
    "# data.data is the data matrix (input features)\n",
    "# data.target is the label vector\n",
    "X_train, X_test, y_train, y_test = train_test_split(data.data, data.target)\n",
    "ss = StandardScaler()\n",
    "X_train = ss.fit_transform(X_train)\n",
    "X_test = ss.transform(X_test)"
   ]
  },
  {
   "cell_type": "code",
   "execution_count": 6,
   "metadata": {},
   "outputs": [],
   "source": [
    "y_train=y_train.reshape(-1,1)\n",
    "y_test=y_test.reshape(-1,1)"
   ]
  },
  {
   "cell_type": "markdown",
   "metadata": {},
   "source": [
    "### Step 5: Build the network/graph"
   ]
  },
  {
   "cell_type": "code",
   "execution_count": 7,
   "metadata": {},
   "outputs": [
    {
     "data": {
      "text/plain": [
       "(5160, 8)"
      ]
     },
     "execution_count": 7,
     "metadata": {},
     "output_type": "execute_result"
    }
   ],
   "source": [
    "X_test.shape #placeholder step:Our network will save a set of instructions for what types of computations to do\n",
    "#For this to work, the computer needs to know what the data will look like\n",
    "#i.e. will it be a 2D array, or 1D?, how many rows? etc.\n",
    "#the placeholder layer provides this information for the network\n",
    "#without actually passing in the data"
   ]
  },
  {
   "cell_type": "code",
   "execution_count": 8,
   "metadata": {},
   "outputs": [
    {
     "data": {
      "text/plain": [
       "(15480, 8)"
      ]
     },
     "execution_count": 8,
     "metadata": {},
     "output_type": "execute_result"
    }
   ],
   "source": [
    "X_train.shape"
   ]
  },
  {
   "cell_type": "code",
   "execution_count": 9,
   "metadata": {},
   "outputs": [
    {
     "data": {
      "text/plain": [
       "(15480, 1)"
      ]
     },
     "execution_count": 9,
     "metadata": {},
     "output_type": "execute_result"
    }
   ],
   "source": [
    "y_train.shape"
   ]
  },
  {
   "cell_type": "code",
   "execution_count": 10,
   "metadata": {},
   "outputs": [],
   "source": [
    "# create a place holder , have to specify the type\n",
    "tf.reset_default_graph() # reset the graph\n",
    "\n",
    "X = tf.placeholder(dtype=tf.float32, \n",
    "                   shape=(None,X_train.shape[1]), # set the shape as shape \n",
    "                   name='X')\n",
    "y = tf.placeholder(dtype=tf.float32,\n",
    "                   shape=(None),\n",
    "                   name='y')\n",
    "#setting up the hidden \n",
    "h1=tf.layers.dense(X,8,activation=tf.nn.relu,name='hidden1') # lowercase #activation function\n",
    "y_hat=tf.layers.dense(h1,1,activation=None,name='y_hat')\n",
    "\n",
    "loss =tf.losses.mean_squared_error(y,y_hat)\n",
    "optimizer=tf.train.AdamOptimizer(0.1)\n",
    "\n",
    "training_run=optimizer.minimize(loss)\n"
   ]
  },
  {
   "cell_type": "markdown",
   "metadata": {},
   "source": [
    "### Step 6: Train the network"
   ]
  },
  {
   "cell_type": "code",
   "execution_count": 11,
   "metadata": {},
   "outputs": [
    {
     "name": "stdout",
     "output_type": "stream",
     "text": [
      "epoch 0 train loss 2.1022387 test loss 2.0575085\n",
      "epoch 1 train loss 1.1596892 test loss 1.1822075\n",
      "epoch 2 train loss 1.2396127 test loss 1.2007258\n",
      "epoch 3 train loss 1.3814819 test loss 1.2530305\n",
      "epoch 4 train loss 1.1900164 test loss 1.0663164\n",
      "epoch 5 train loss 0.93822044 test loss 0.87662685\n",
      "epoch 6 train loss 0.7839898 test loss 0.7839278\n",
      "epoch 7 train loss 0.7140315 test loss 0.7365127\n",
      "epoch 8 train loss 0.6959278 test loss 0.7083939\n",
      "epoch 9 train loss 0.7242731 test loss 0.7172313\n",
      "epoch 10 train loss 0.76511896 test loss 0.73228383\n",
      "epoch 11 train loss 0.7759912 test loss 0.72221434\n",
      "epoch 12 train loss 0.74108326 test loss 0.68379647\n",
      "epoch 13 train loss 0.6771135 test loss 0.6371141\n",
      "epoch 14 train loss 0.6060588 test loss 0.5927881\n",
      "epoch 15 train loss 0.55431163 test loss 0.5592253\n",
      "epoch 16 train loss 0.53357774 test loss 0.5447464\n",
      "epoch 17 train loss 0.53809035 test loss 0.5443949\n",
      "epoch 18 train loss 0.55299366 test loss 0.5490985\n",
      "epoch 19 train loss 0.5651873 test loss 0.5519407\n",
      "epoch 20 train loss 0.5681295 test loss 0.5510124\n",
      "epoch 21 train loss 0.561575 test loss 0.54605484\n",
      "epoch 22 train loss 0.54645604 test loss 0.5363789\n",
      "epoch 23 train loss 0.5259579 test loss 0.5230115\n",
      "epoch 24 train loss 0.50625783 test loss 0.5101343\n",
      "epoch 25 train loss 0.49330872 test loss 0.50244606\n",
      "epoch 26 train loss 0.48858014 test loss 0.5007666\n",
      "epoch 27 train loss 0.4889215 test loss 0.50200677\n",
      "epoch 28 train loss 0.4901096 test loss 0.5021351\n",
      "epoch 29 train loss 0.48992997 test loss 0.4997379\n",
      "epoch 30 train loss 0.4878317 test loss 0.4951961\n",
      "epoch 31 train loss 0.48330146 test loss 0.48894468\n",
      "epoch 32 train loss 0.47614998 test loss 0.481295\n",
      "epoch 33 train loss 0.4676892 test loss 0.47337875\n",
      "epoch 34 train loss 0.46030626 test loss 0.4670528\n",
      "epoch 35 train loss 0.45537364 test loss 0.46285367\n",
      "epoch 36 train loss 0.45241156 test loss 0.45982927\n",
      "epoch 37 train loss 0.45056114 test loss 0.45706597\n",
      "epoch 38 train loss 0.4495969 test loss 0.45442253\n",
      "epoch 39 train loss 0.44880232 test loss 0.4538762\n",
      "epoch 40 train loss 0.44718927 test loss 0.45266217\n",
      "epoch 41 train loss 0.44444376 test loss 0.45087078\n",
      "epoch 42 train loss 0.44151485 test loss 0.44855145\n",
      "epoch 43 train loss 0.43902674 test loss 0.44588274\n",
      "epoch 44 train loss 0.43712187 test loss 0.44310373\n",
      "epoch 45 train loss 0.4357381 test loss 0.4411237\n",
      "epoch 46 train loss 0.43503425 test loss 0.43950838\n",
      "epoch 47 train loss 0.43448022 test loss 0.43809304\n",
      "epoch 48 train loss 0.43323725 test loss 0.43645018\n",
      "epoch 49 train loss 0.4311512 test loss 0.43449512\n",
      "epoch 50 train loss 0.4287719 test loss 0.43251914\n",
      "epoch 51 train loss 0.42651922 test loss 0.43062234\n",
      "epoch 52 train loss 0.42468962 test loss 0.4289071\n",
      "epoch 53 train loss 0.42356277 test loss 0.4278554\n",
      "epoch 54 train loss 0.4230485 test loss 0.42753088\n",
      "epoch 55 train loss 0.42252716 test loss 0.4273551\n",
      "epoch 56 train loss 0.42156854 test loss 0.42681694\n",
      "epoch 57 train loss 0.42021158 test loss 0.42573914\n",
      "epoch 58 train loss 0.41858655 test loss 0.4241349\n",
      "epoch 59 train loss 0.4169462 test loss 0.4221215\n",
      "epoch 60 train loss 0.41565654 test loss 0.42030016\n",
      "epoch 61 train loss 0.41483113 test loss 0.419091\n",
      "epoch 62 train loss 0.4141954 test loss 0.41837886\n",
      "epoch 63 train loss 0.4134775 test loss 0.4177825\n",
      "epoch 64 train loss 0.41258937 test loss 0.4170955\n",
      "epoch 65 train loss 0.41152528 test loss 0.41618747\n",
      "epoch 66 train loss 0.41037035 test loss 0.4150824\n",
      "epoch 67 train loss 0.4093936 test loss 0.41413575\n",
      "epoch 68 train loss 0.4086612 test loss 0.41351053\n",
      "epoch 69 train loss 0.40803793 test loss 0.4131683\n",
      "epoch 70 train loss 0.40740788 test loss 0.41290188\n",
      "epoch 71 train loss 0.40669438 test loss 0.41252133\n",
      "epoch 72 train loss 0.40585464 test loss 0.41188827\n",
      "epoch 73 train loss 0.405037 test loss 0.41112807\n",
      "epoch 74 train loss 0.4044156 test loss 0.41045925\n",
      "epoch 75 train loss 0.40393198 test loss 0.40993464\n",
      "epoch 76 train loss 0.40351894 test loss 0.4095913\n",
      "epoch 77 train loss 0.40308753 test loss 0.40930343\n",
      "epoch 78 train loss 0.40257004 test loss 0.40894133\n",
      "epoch 79 train loss 0.40201166 test loss 0.40852076\n",
      "epoch 80 train loss 0.40152586 test loss 0.40820143\n",
      "epoch 81 train loss 0.4011259 test loss 0.40798992\n",
      "epoch 82 train loss 0.4007618 test loss 0.40779132\n",
      "epoch 83 train loss 0.40039226 test loss 0.4075042\n",
      "epoch 84 train loss 0.3999918 test loss 0.4070516\n",
      "epoch 85 train loss 0.39956996 test loss 0.4064791\n",
      "epoch 86 train loss 0.39918193 test loss 0.405945\n",
      "epoch 87 train loss 0.39883116 test loss 0.40554196\n",
      "epoch 88 train loss 0.39850068 test loss 0.40525556\n",
      "epoch 89 train loss 0.39815533 test loss 0.4050008\n",
      "epoch 90 train loss 0.39777574 test loss 0.40470117\n",
      "epoch 91 train loss 0.39738783 test loss 0.4043582\n",
      "epoch 92 train loss 0.39702147 test loss 0.40401247\n",
      "epoch 93 train loss 0.3966812 test loss 0.40369296\n",
      "epoch 94 train loss 0.39635316 test loss 0.40336177\n",
      "epoch 95 train loss 0.39601928 test loss 0.4029608\n",
      "epoch 96 train loss 0.39567092 test loss 0.4024731\n",
      "epoch 97 train loss 0.39532018 test loss 0.4019623\n",
      "epoch 98 train loss 0.3949857 test loss 0.4014916\n",
      "epoch 99 train loss 0.39465818 test loss 0.40109494\n",
      "epoch 100 train loss 0.39432004 test loss 0.40073758\n",
      "epoch 101 train loss 0.393965 test loss 0.40035284\n",
      "epoch 102 train loss 0.39361015 test loss 0.39992988\n",
      "epoch 103 train loss 0.39326444 test loss 0.399543\n",
      "epoch 104 train loss 0.39293197 test loss 0.39921847\n",
      "epoch 105 train loss 0.39259845 test loss 0.39892513\n",
      "epoch 106 train loss 0.39224502 test loss 0.398659\n",
      "epoch 107 train loss 0.39187926 test loss 0.3983632\n",
      "epoch 108 train loss 0.39151034 test loss 0.39804587\n",
      "epoch 109 train loss 0.39114627 test loss 0.39769435\n",
      "epoch 110 train loss 0.39078218 test loss 0.39729175\n",
      "epoch 111 train loss 0.3904117 test loss 0.39693668\n",
      "epoch 112 train loss 0.39003772 test loss 0.39659688\n",
      "epoch 113 train loss 0.38966358 test loss 0.3962192\n",
      "epoch 114 train loss 0.38929608 test loss 0.3958041\n",
      "epoch 115 train loss 0.38892436 test loss 0.3953627\n",
      "epoch 116 train loss 0.38854447 test loss 0.39489084\n",
      "epoch 117 train loss 0.3881657 test loss 0.39437947\n",
      "epoch 118 train loss 0.38777122 test loss 0.3938872\n",
      "epoch 119 train loss 0.38736475 test loss 0.39344525\n",
      "epoch 120 train loss 0.3869357 test loss 0.39302438\n",
      "epoch 121 train loss 0.3864864 test loss 0.39265364\n",
      "epoch 122 train loss 0.38603193 test loss 0.39237306\n",
      "epoch 123 train loss 0.3855332 test loss 0.39202318\n",
      "epoch 124 train loss 0.38503453 test loss 0.39167607\n",
      "epoch 125 train loss 0.38450742 test loss 0.391402\n",
      "epoch 126 train loss 0.38397148 test loss 0.3910533\n",
      "epoch 127 train loss 0.38341054 test loss 0.39056784\n",
      "epoch 128 train loss 0.3828329 test loss 0.39002848\n",
      "epoch 129 train loss 0.38223383 test loss 0.38953942\n",
      "epoch 130 train loss 0.3816337 test loss 0.3890371\n",
      "epoch 131 train loss 0.3810185 test loss 0.388518\n",
      "epoch 132 train loss 0.38039076 test loss 0.3881103\n",
      "epoch 133 train loss 0.37975937 test loss 0.38777375\n",
      "epoch 134 train loss 0.37911943 test loss 0.38733822\n",
      "epoch 135 train loss 0.37847018 test loss 0.3867665\n",
      "epoch 136 train loss 0.37781557 test loss 0.38613576\n",
      "epoch 137 train loss 0.3771447 test loss 0.38563862\n",
      "epoch 138 train loss 0.37646922 test loss 0.38529372\n",
      "epoch 139 train loss 0.37578216 test loss 0.38500077\n",
      "epoch 140 train loss 0.375081 test loss 0.3846089\n",
      "epoch 141 train loss 0.37438124 test loss 0.38404632\n",
      "epoch 142 train loss 0.3736849 test loss 0.3834782\n",
      "epoch 143 train loss 0.37301177 test loss 0.38296854\n",
      "epoch 144 train loss 0.3723479 test loss 0.38238633\n",
      "epoch 145 train loss 0.37168851 test loss 0.3816785\n",
      "epoch 146 train loss 0.371031 test loss 0.38095334\n",
      "epoch 147 train loss 0.37039533 test loss 0.38025793\n",
      "epoch 148 train loss 0.36977327 test loss 0.37952977\n",
      "epoch 149 train loss 0.36915514 test loss 0.37879342\n",
      "epoch 150 train loss 0.36854452 test loss 0.37816447\n",
      "epoch 151 train loss 0.36795354 test loss 0.3776552\n",
      "epoch 152 train loss 0.3673834 test loss 0.3772765\n",
      "epoch 153 train loss 0.36681548 test loss 0.37710217\n",
      "epoch 154 train loss 0.36626124 test loss 0.37692815\n",
      "epoch 155 train loss 0.36573204 test loss 0.37683964\n",
      "epoch 156 train loss 0.3652334 test loss 0.37678856\n",
      "epoch 157 train loss 0.36474976 test loss 0.37639984\n",
      "epoch 158 train loss 0.3642722 test loss 0.37579283\n",
      "epoch 159 train loss 0.3638176 test loss 0.37522498\n",
      "epoch 160 train loss 0.36338723 test loss 0.37468237\n"
     ]
    },
    {
     "name": "stdout",
     "output_type": "stream",
     "text": [
      "epoch 161 train loss 0.36297232 test loss 0.37403262\n",
      "epoch 162 train loss 0.3625738 test loss 0.37374952\n",
      "epoch 163 train loss 0.36218122 test loss 0.3732648\n",
      "epoch 164 train loss 0.361812 test loss 0.37268072\n",
      "epoch 165 train loss 0.36145675 test loss 0.3720692\n",
      "epoch 166 train loss 0.36111578 test loss 0.37176725\n",
      "epoch 167 train loss 0.36077762 test loss 0.37156177\n",
      "epoch 168 train loss 0.36044317 test loss 0.37117592\n",
      "epoch 169 train loss 0.36011234 test loss 0.37076408\n",
      "epoch 170 train loss 0.35978067 test loss 0.3705982\n",
      "epoch 171 train loss 0.3594462 test loss 0.37038985\n",
      "epoch 172 train loss 0.3591257 test loss 0.37025398\n",
      "epoch 173 train loss 0.35880697 test loss 0.37029412\n",
      "epoch 174 train loss 0.35849926 test loss 0.36979452\n",
      "epoch 175 train loss 0.3581929 test loss 0.36926278\n",
      "epoch 176 train loss 0.357893 test loss 0.3689547\n",
      "epoch 177 train loss 0.3575992 test loss 0.36848164\n",
      "epoch 178 train loss 0.35730484 test loss 0.36791912\n",
      "epoch 179 train loss 0.3570103 test loss 0.36764303\n",
      "epoch 180 train loss 0.35671982 test loss 0.36776522\n",
      "epoch 181 train loss 0.35645372 test loss 0.3677409\n",
      "epoch 182 train loss 0.35621023 test loss 0.3681227\n",
      "epoch 183 train loss 0.35595906 test loss 0.36737785\n",
      "epoch 184 train loss 0.35570374 test loss 0.36731148\n",
      "epoch 185 train loss 0.35547164 test loss 0.36741605\n",
      "epoch 186 train loss 0.35523868 test loss 0.36710185\n",
      "epoch 187 train loss 0.35501432 test loss 0.3671561\n",
      "epoch 188 train loss 0.35478497 test loss 0.36665443\n",
      "epoch 189 train loss 0.35455278 test loss 0.36619025\n",
      "epoch 190 train loss 0.35432753 test loss 0.36607194\n",
      "epoch 191 train loss 0.35410312 test loss 0.3660706\n",
      "epoch 192 train loss 0.35388222 test loss 0.36516246\n",
      "epoch 193 train loss 0.35365498 test loss 0.365467\n",
      "epoch 194 train loss 0.35342833 test loss 0.3645744\n",
      "epoch 195 train loss 0.35322985 test loss 0.36505497\n",
      "epoch 196 train loss 0.35302973 test loss 0.36410642\n",
      "epoch 197 train loss 0.3528331 test loss 0.36445674\n",
      "epoch 198 train loss 0.35264543 test loss 0.3638517\n",
      "epoch 199 train loss 0.35247415 test loss 0.36430132\n"
     ]
    }
   ],
   "source": [
    "init = tf.global_variables_initializer()\n",
    "\n",
    "train_errs = []\n",
    "test_errs = []\n",
    "with tf.Session() as sess:\n",
    "    init.run()\n",
    "    \n",
    "    for epoch in range(200):\n",
    "        sess.run(training_run, feed_dict={X: X_train, y: y_train})\n",
    "        \n",
    "        # Calculate train loss\n",
    "        train_loss = sess.run(loss, feed_dict={X: X_train, y: y_train})\n",
    "        train_errs.append(train_loss)\n",
    "        \n",
    "        # Calculate test loss\n",
    "        test_loss = sess.run(loss, feed_dict={X: X_test, y: y_test})\n",
    "        test_errs.append(test_loss)\n",
    "        \n",
    "        # Print losses\n",
    "        print('epoch', epoch, 'train loss', train_loss, 'test loss', test_loss)\n",
    "    pred = sess.run(y_hat, feed_dict={X: X_test})"
   ]
  },
  {
   "cell_type": "code",
   "execution_count": 12,
   "metadata": {},
   "outputs": [
    {
     "data": {
      "image/png": "[encoded data removed]",
      "text/plain": [
       "<Figure size 432x288 with 1 Axes>"
      ]
     },
     "metadata": {},
     "output_type": "display_data"
    }
   ],
   "source": [
    "# Plot the learning curves\n",
    "plt.plot(train_errs, label='Train loss')\n",
    "plt.plot(test_errs, label='Test loss')\n",
    "plt.legend();"
   ]
  },
  {
   "cell_type": "code",
   "execution_count": 13,
   "metadata": {},
   "outputs": [
    {
     "data": {
      "text/plain": [
       "0.7365309223358643"
      ]
     },
     "execution_count": 13,
     "metadata": {},
     "output_type": "execute_result"
    }
   ],
   "source": [
    "# Evaluate r^2\n",
    "metrics.r2_score(y_test, pred)\n"
   ]
  },
  {
   "cell_type": "code",
   "execution_count": 14,
   "metadata": {},
   "outputs": [],
   "source": [
    "# Plot the learning curves\n"
   ]
  },
  {
   "cell_type": "markdown",
   "metadata": {},
   "source": [
    "## Building a Neural Network for Binary Classification\n",
    "\n",
    "---"
   ]
  },
  {
   "cell_type": "markdown",
   "metadata": {},
   "source": [
    "Now we'll build a neural net for _classification_.  We will follow the same steps as for regression:\n",
    "\n",
    "1. Load the data.\n",
    "2. Data cleaning/munging, feature engineering (will not do today)\n",
    "3. Make test/train splits. (Should we use cross validation?)\n",
    "4. Standardize the data.\n",
    "5. Build the computational graph for the neural network.\n",
    "6. Train the network using gradient descent a.k.a. back propogation.\n",
    "7. Evaluate performance and iterate.\n",
    "\n",
    "For _binary classification_ we will have one output unit that will represent the **probability** of \"class 1.\"  Because we want a probability as output, we need to select an activation function that yields values between 0 and 1, i.e., sigmoid function or similar."
   ]
  },
  {
   "cell_type": "code",
   "execution_count": 21,
   "metadata": {},
   "outputs": [],
   "source": [
    "from sklearn.datasets import make_classification\n",
    "\n",
    "data = make_classification(n_samples=10000, n_features=20, random_state=42)\n",
    "# in data.target...\n",
    "#  1 = benign\n",
    "#  0 = malignant\n",
    "features, labels = make_classification(n_samples=10000, n_features=20, random_state=42)\n",
    "# in data.target...\n",
    "#  1 = benign\n",
    "#  0 = malignant\n",
    "X_train, X_test, y_train, y_test = train_test_split(features, labels)\n",
    "ss= StandardScaler()\n",
    "X_train = ss.fit_transform(X_train)\n",
    "X_test = ss.transform(X_test)"
   ]
  },
  {
   "cell_type": "code",
   "execution_count": 30,
   "metadata": {},
   "outputs": [],
   "source": [
    "y_train=y_train.reshape(-1,1)\n",
    "y_test=y_test.reshape(-1,1)"
   ]
  },
  {
   "cell_type": "code",
   "execution_count": 31,
   "metadata": {},
   "outputs": [],
   "source": [
    "tf.reset_default_graph()\n",
    "\n",
    "X = tf.placeholder(dtype=tf.float32, shape=(None, X_train.shape[1]), name='X')\n",
    "y = tf.placeholder(dtype=tf.float32, shape=(None, 1), name='y')\n",
    "\n",
    "h1 = tf.layers.dense(X, 20, activation=tf.nn.relu, name='hidden1')\n",
    "# adding another layer\n",
    "h2 = tf.layers.dense(h1, 10, activation=tf.nn.relu, name='hidden2')\n",
    "y_hat = tf.layers.dense(h2, 1, activation=tf.nn.sigmoid, name='y_hat')\n",
    "\n",
    "loss = tf.losses.log_loss(y, y_hat)\n",
    "optimizer = tf.train.AdamOptimizer(.01)\n",
    "training_run = optimizer.minimize(loss)"
   ]
  },
  {
   "cell_type": "code",
   "execution_count": 32,
   "metadata": {},
   "outputs": [
    {
     "name": "stdout",
     "output_type": "stream",
     "text": [
      "epoch 0 train loss 0.73798627 test loss 0.740544\n",
      "epoch 10 train loss 0.44768167 test loss 0.4714464\n",
      "epoch 20 train loss 0.3041889 test loss 0.3337019\n",
      "epoch 30 train loss 0.28197545 test loss 0.30885085\n",
      "epoch 40 train loss 0.25892663 test loss 0.28745264\n"
     ]
    }
   ],
   "source": [
    "init = tf.global_variables_initializer()\n",
    "\n",
    "with tf.Session() as sess:\n",
    "    init.run()\n",
    "    for epoch in range(50):\n",
    "        sess.run(training_run, feed_dict={X: X_train, y: y_train})\n",
    "        \n",
    "        if epoch % 10 == 0:\n",
    "            train_loss = sess.run(loss, feed_dict={X: X_train, y: y_train})\n",
    "            test_loss = sess.run(loss, feed_dict={X: X_test, y: y_test})\n",
    "            print('epoch', epoch, 'train loss', train_loss, 'test loss', test_loss)"
   ]
  },
  {
   "cell_type": "markdown",
   "metadata": {},
   "source": [
    "Before moving on, let's go back and add a new hidden layer to our network..."
   ]
  },
  {
   "cell_type": "code",
   "execution_count": 35,
   "metadata": {},
   "outputs": [
    {
     "data": {
      "image/png": "[encoded data removed]",
      "text/plain": [
       "<Figure size 432x288 with 1 Axes>"
      ]
     },
     "metadata": {},
     "output_type": "display_data"
    }
   ],
   "source": [
    "# Plot the learning curves\n",
    "plt.plot(train_loss, label='Train loss')\n",
    "plt.plot(test_loss, label='Test loss')\n",
    "plt.legend();"
   ]
  },
  {
   "cell_type": "markdown",
   "metadata": {},
   "source": [
    "### Batching the input\n",
    "\n",
    "What if we can't store all of the training data in memory?\n",
    "\n",
    "We can split the data up into \"batches\" and feed them to the network one at a time.  This just means that we splitting up the data and feeding it to the network one piece at a time.\n",
    "\n",
    "You could write your own function to dole out subsets of the data one at a time, or you could use this creative hack to get `sklearn` to do it for you.  (Thanks, Riley, for showing me this!)"
   ]
  },
  {
   "cell_type": "code",
   "execution_count": 36,
   "metadata": {},
   "outputs": [],
   "source": [
    "from sklearn.model_selection import train_test_split, KFold\n"
   ]
  },
  {
   "cell_type": "code",
   "execution_count": 38,
   "metadata": {},
   "outputs": [],
   "source": [
    "batch_size = 100\n",
    "batches = round(X_train.shape[0] / batch_size)\n",
    "batches\n",
    "\n",
    "kf = KFold(n_splits=batches, shuffle=True)\n",
    "\n",
    "batch_list = []\n",
    "for train, test in kf.split(X_train, y_train):\n",
    "    batch_list.append(test_fold)\n",
    "    \n",
    "# batch_list = [y for _, y in kf.split(X_train, y_train)]"
   ]
  },
  {
   "cell_type": "code",
   "execution_count": 45,
   "metadata": {},
   "outputs": [],
   "source": [
    "Saver=tf.train.Saver()"
   ]
  },
  {
   "cell_type": "code",
   "execution_count": 41,
   "metadata": {},
   "outputs": [
    {
     "data": {
      "text/plain": [
       "75"
      ]
     },
     "execution_count": 41,
     "metadata": {},
     "output_type": "execute_result"
    }
   ],
   "source": [
    "len(batch_list)"
   ]
  },
  {
   "cell_type": "code",
   "execution_count": 46,
   "metadata": {},
   "outputs": [
    {
     "name": "stdout",
     "output_type": "stream",
     "text": [
      "epoch 0 train 0.25990275\n",
      "epoch 1 train 0.22426528\n",
      "epoch 2 train 0.21548931\n",
      "epoch 3 train 0.21087152\n",
      "epoch 4 train 0.20720808\n",
      "epoch 5 train 0.20385271\n",
      "epoch 6 train 0.20112607\n",
      "epoch 7 train 0.19824308\n",
      "epoch 8 train 0.19493145\n",
      "epoch 9 train 0.19278729\n",
      "epoch 10 train 0.18985556\n",
      "epoch 11 train 0.1865451\n",
      "epoch 12 train 0.1841415\n",
      "epoch 13 train 0.18207574\n",
      "epoch 14 train 0.17858686\n",
      "epoch 15 train 0.17523755\n",
      "epoch 16 train 0.1728377\n",
      "epoch 17 train 0.17040236\n",
      "epoch 18 train 0.1690107\n",
      "epoch 19 train 0.16739334\n",
      "epoch 20 train 0.16547397\n",
      "epoch 21 train 0.16367903\n",
      "epoch 22 train 0.16092895\n",
      "epoch 23 train 0.15953508\n",
      "epoch 24 train 0.15715726\n",
      "epoch 25 train 0.157494\n",
      "epoch 26 train 0.15654033\n",
      "epoch 27 train 0.15489145\n",
      "epoch 28 train 0.15465556\n",
      "epoch 29 train 0.15367319\n",
      "epoch 30 train 0.15200156\n",
      "epoch 31 train 0.15233368\n",
      "epoch 32 train 0.15054938\n",
      "epoch 33 train 0.15079094\n",
      "epoch 34 train 0.14976798\n",
      "epoch 35 train 0.15015757\n",
      "epoch 36 train 0.14941536\n",
      "epoch 37 train 0.14829178\n",
      "epoch 38 train 0.14747877\n",
      "epoch 39 train 0.14714986\n",
      "epoch 40 train 0.1466927\n",
      "epoch 41 train 0.14487676\n",
      "epoch 42 train 0.14518611\n",
      "epoch 43 train 0.14441007\n",
      "epoch 44 train 0.14176285\n",
      "epoch 45 train 0.14232081\n",
      "epoch 46 train 0.1410617\n",
      "epoch 47 train 0.14093885\n",
      "epoch 48 train 0.1401835\n",
      "epoch 49 train 0.1402783\n"
     ]
    }
   ],
   "source": [
    "init = tf.global_variables_initializer()\n",
    "\n",
    "with tf.Session() as sess:\n",
    "    init.run()\n",
    "    \n",
    "    for epoch in range(50):\n",
    "        for batch in batch_list:\n",
    "            X_batch = X_train[batch]\n",
    "            y_batch = y_train[batch]\n",
    "            sess.run(training_run, feed_dict={X: X_batch, y: y_batch})\n",
    "        train_loss = sess.run(loss, feed_dict={X: X_train, y: y_train})\n",
    "        print('epoch', epoch, 'train', train_loss)\n",
    "    Saver.save(sess,'./classification.ckpt')"
   ]
  },
  {
   "cell_type": "code",
   "execution_count": 49,
   "metadata": {},
   "outputs": [
    {
     "name": "stdout",
     "output_type": "stream",
     "text": [
      "INFO:tensorflow:Restoring parameters from ./classification.ckpt\n"
     ]
    }
   ],
   "source": [
    "with tf.Session() as sess:\n",
    "    Saver.restore(sess,'./classification.ckpt')\n",
    "    pred=sess.run(y_hat,feed_dict={X:X_test})"
   ]
  },
  {
   "cell_type": "code",
   "execution_count": 50,
   "metadata": {},
   "outputs": [],
   "source": [
    "# What are youre actual predicted classes?\n",
    "classes=(pred>0.5).astype(int)"
   ]
  },
  {
   "cell_type": "code",
   "execution_count": 51,
   "metadata": {},
   "outputs": [
    {
     "data": {
      "text/plain": [
       "0.9196"
      ]
     },
     "execution_count": 51,
     "metadata": {},
     "output_type": "execute_result"
    }
   ],
   "source": [
    "# What is your accuracy score?\n",
    "metrics.accuracy_score(y_test,classes)"
   ]
  },
  {
   "cell_type": "code",
   "execution_count": 52,
   "metadata": {},
   "outputs": [
    {
     "data": {
      "text/plain": [
       "array([[1181,   98],\n",
       "       [ 103, 1118]])"
      ]
     },
     "execution_count": 52,
     "metadata": {},
     "output_type": "execute_result"
    }
   ],
   "source": [
    "# What about your confusion matrix?\n",
    "metrics.confusion_matrix(y_test,classes)"
   ]
  },
  {
   "cell_type": "markdown",
   "metadata": {},
   "source": [
    "## Building a Neural Network for Multi-Class Classification\n",
    "\n",
    "---\n",
    "\n",
    "In _multi-class_ classification (i.e., more than 2 classes), we typically setup on output unit **per class** and use a \"softmax\" activation function to normalize all values between 0 and 1 so that they look like probabilities.  The output unit with the largest value corresponds to the class prediction.  (I.e., unit 3 had the highest value, so I will predict class 3.)"
   ]
  },
  {
   "cell_type": "code",
   "execution_count": 20,
   "metadata": {},
   "outputs": [],
   "source": [
    "from sklearn.datasets import load_iris\n",
    "import pandas as pd"
   ]
  },
  {
   "cell_type": "code",
   "execution_count": 55,
   "metadata": {},
   "outputs": [],
   "source": [
    "data = load_iris()\n",
    "X_train,X_test,y_train,y_test=train_test_split(data.data,data.target)\n",
    "\n",
    "ss=StandardScaler()\n",
    "X_train=ss.fit_transform(X_train)\n",
    "X_test=ss.transform(X_test)"
   ]
  },
  {
   "cell_type": "code",
   "execution_count": 56,
   "metadata": {},
   "outputs": [],
   "source": [
    "from keras.utils import to_categorical"
   ]
  },
  {
   "cell_type": "code",
   "execution_count": 57,
   "metadata": {},
   "outputs": [],
   "source": [
    "y_train=to_categorical(y_train)\n",
    "y_test=to_categorical(y_test)"
   ]
  },
  {
   "cell_type": "code",
   "execution_count": 59,
   "metadata": {},
   "outputs": [
    {
     "data": {
      "text/plain": [
       "array([[1., 0., 0.],\n",
       "       [0., 1., 0.],\n",
       "       [0., 0., 1.],\n",
       "       [0., 0., 1.],\n",
       "       [1., 0., 0.]], dtype=float32)"
      ]
     },
     "execution_count": 59,
     "metadata": {},
     "output_type": "execute_result"
    }
   ],
   "source": [
    "y_train[:5]"
   ]
  },
  {
   "cell_type": "code",
   "execution_count": 61,
   "metadata": {},
   "outputs": [],
   "source": [
    "tf.reset_default_graph()\n",
    "X=tf.placeholder(dtype=tf.float32,shape=(None,4),name='X')\n",
    "y=tf.placeholder(dtype=tf.float32,shape=(None,3),name='X')\n",
    "\n",
    "h1=tf.layers.dense(X,4,activation=tf.nn.relu, name='h1')\n",
    "y_hat=tf.layers.dense(h1,3,activation=None, name='y_hat') # soft_max is auto\n",
    "\n",
    "loss =tf.losses.softmax_cross_entropy(y,y_hat)\n",
    "optimizer=tf.train.AdamOptimizer(0.01)\n",
    "training_run=optimizer.minimize(loss)"
   ]
  },
  {
   "cell_type": "code",
   "execution_count": 63,
   "metadata": {},
   "outputs": [
    {
     "name": "stdout",
     "output_type": "stream",
     "text": [
      "epoch 0 train 1.0417844\n",
      "epoch 10 train 0.8250141\n",
      "epoch 20 train 0.6223268\n",
      "epoch 30 train 0.49209303\n",
      "epoch 40 train 0.42149705\n"
     ]
    }
   ],
   "source": [
    "init = tf.global_variables_initializer()\n",
    "\n",
    "with tf.Session() as sess:\n",
    "    init.run()\n",
    "    for epoch in range(50):\n",
    "        sess.run(training_run, feed_dict={X: X_train, y: y_train})\n",
    "        if epoch % 10 == 0:\n",
    "            train_loss = sess.run(loss, feed_dict={X: X_train, y: y_train})\n",
    "            print('epoch', epoch, 'train', train_loss)\n",
    "    pred = sess.run(y_hat, feed_dict={X: X_test})"
   ]
  },
  {
   "cell_type": "code",
   "execution_count": 64,
   "metadata": {},
   "outputs": [
    {
     "data": {
      "text/plain": [
       "array([1, 2, 1, 0, 1, 0, 2, 2, 2, 2, 2, 2, 2, 0, 0, 2, 2, 0, 2, 2, 0, 1,\n",
       "       0, 0, 0, 0, 0, 2, 2, 0, 1, 0, 2, 1, 2, 0, 2, 2])"
      ]
     },
     "execution_count": 64,
     "metadata": {},
     "output_type": "execute_result"
    }
   ],
   "source": [
    "# which class has the largest number\n",
    "pred.argmax(axis=1)"
   ]
  },
  {
   "cell_type": "code",
   "execution_count": 65,
   "metadata": {},
   "outputs": [],
   "source": [
    "#for each input this is the classification output per row\n"
   ]
  },
  {
   "cell_type": "markdown",
   "metadata": {},
   "source": [
    "## Saving Your Model\n",
    "\n",
    "---"
   ]
  },
  {
   "cell_type": "code",
   "execution_count": null,
   "metadata": {},
   "outputs": [],
   "source": []
  },
  {
   "cell_type": "code",
   "execution_count": null,
   "metadata": {},
   "outputs": [],
   "source": []
  },
  {
   "cell_type": "code",
   "execution_count": null,
   "metadata": {},
   "outputs": [],
   "source": []
  },
  {
   "cell_type": "markdown",
   "metadata": {},
   "source": [
    "## Practical Suggestions\n",
    "\n",
    "---\n",
    "\n",
    "- In binary classification, start with a single output node with a sigmoid activation function.\n",
    "- For multi-class classification, have one output node for each class and use the softmax activation function.\n",
    "- For hidden layers, the ReLU and hyperbolic tangent (tanh) activation functions often work well.  Start with the ReLU as your first trial.\n",
    "- Start with one hidden layer, then trying adding another if performance is not good.\n",
    "- For simplicity, start with the same number of units in each hidden layer, then increase this number for all hidden layers simultaneously if the performance is not good.\n",
    "- Alternatively, you can use the \"stretchy pants\" approach and through a lot of hidden nodes into your network, but then stop training as soon as you detect the onset of overfitting.\n",
    "\n",
    "> These suggestions are largely adapted from the book _Hands-on Machine Learning with Scikit-Learn & Tensorflow_ by Aurelien Geron, a book I highly recommend!"
   ]
  }
 ],
 "metadata": {
  "kernelspec": {
   "display_name": "Python 3",
   "language": "python",
   "name": "python3"
  },
  "language_info": {
   "codemirror_mode": {
    "name": "ipython",
    "version": 3
   },
   "file_extension": ".py",
   "mimetype": "text/x-python",
   "name": "python",
   "nbconvert_exporter": "python",
   "pygments_lexer": "ipython3",
   "version": "3.6.5"
  }
 },
 "nbformat": 4,
 "nbformat_minor": 2
}
